{
 "cells": [
  {
   "cell_type": "code",
   "execution_count": 259,
   "metadata": {},
   "outputs": [],
   "source": [
    "import geojson\n",
    "import csv\n",
    "from collections import defaultdict\n",
    "import json"
   ]
  },
  {
   "cell_type": "markdown",
   "metadata": {},
   "source": [
    "# PARAMETERS\n",
    "## Define path of data source file:\n",
    "- SIRI_EXPORTED_FROM_SPLUNK -> siri data about real time bus locations\n",
    "- GTFS_STAT_EXPORTED_FROM_SPLUNK -> static data about the route and the trip\n",
    "- SHAPE_FILE_7716 -> data about the shape of the bus route"
   ]
  },
  {
   "cell_type": "code",
   "execution_count": 260,
   "metadata": {},
   "outputs": [],
   "source": [
    "SIRI_EXPORTED_FROM_SPLUNK = '/home/aviv/Downloads/siri_149_two_directions_30_days.csv'\n",
    "GTFS_STAT_EXPORTED_FROM_SPLUNK = '/home/aviv/Downloads/gtfs_stat_149_two_directions_30_days.csv'\n",
    "SHAPE_FILE_7716 = '/home/aviv/Downloads/route_id_7716_shape_id_93603.csv'"
   ]
  },
  {
   "cell_type": "markdown",
   "metadata": {},
   "source": [
    "# SIRI Objects "
   ]
  },
  {
   "cell_type": "code",
   "execution_count": 261,
   "metadata": {},
   "outputs": [],
   "source": [
    "## SIRI\n",
    "\n",
    "class SiriKey():\n",
    "    def __init__(self, date, planned_start_time, route_id, route_short_name):\n",
    "        self.date = date\n",
    "        self.planned_start_time = planned_start_time\n",
    "        self.route_id = route_id\n",
    "        self.route_short_name = route_short_name\n",
    "    \n",
    "    def _tuple(self):\n",
    "        return (self.date, self.planned_start_time, self.route_id, self.route_short_name)\n",
    "        \n",
    "    def __eq__(self, other):\n",
    "        return self._tuple() == other._tuple()\n",
    "    \n",
    "    def __lt__(self, other):\n",
    "        return (self.date, self.route_id) < (other.date, other.route_id)\n",
    "        \n",
    "    def __hash__(self):\n",
    "        return self._tuple().__hash__()\n",
    "         \n",
    "    def __repr__(self):\n",
    "        return 'SiriKey: ' + \"@\".join(self._tuple())\n",
    "    \n",
    "    @staticmethod\n",
    "    def of_csv_row(csv_row_dict):\n",
    "        return SiriKey(csv_row_dict['timestamp'][:10], csv_row_dict['planned_start_time'],\n",
    "                       csv_row_dict['route_id'], csv_row_dict['route_short_name'])\n",
    "\n",
    "class SiriTrip():\n",
    "    def __init__(self,key,geojson_feature_collection):\n",
    "        self.key = key\n",
    "        self.geojson_feature_collection = geojson_feature_collection\n",
    "    def __repr__(self):\n",
    "        return 'SiriTrip: ' + str(self.key)\n",
    "        \n",
    "    @staticmethod\n",
    "    def of_csv_rows(key, rows):\n",
    "        features = [geojson.Feature(geometry=geojson.Point([float(row['lat']), float(row['lon'])]), \n",
    "                                    properties={'time_recorded':row['time_recorded']})\n",
    "                for row in rows if float(row['lat']) > 0]\n",
    "        \n",
    "        return SiriTrip(key=key, geojson_feature_collection = geojson.FeatureCollection(features))    "
   ]
  },
  {
   "cell_type": "code",
   "execution_count": 262,
   "metadata": {},
   "outputs": [],
   "source": [
    "def groupby(iterable, projection):\n",
    "    result = defaultdict(list)\n",
    "    for item in iterable:\n",
    "        result[projection(item)].append(item)\n",
    "    return result\n",
    "        \n",
    "def read_siri_trips_from_exported_file(f):\n",
    "    return [SiriTrip.of_csv_rows(siri_key, siri_csv_rows) \n",
    "            for siri_key, siri_csv_rows \n",
    "            in groupby(csv.DictReader(f), SiriKey.of_csv_row).items()]"
   ]
  },
  {
   "cell_type": "markdown",
   "metadata": {},
   "source": [
    "# GTFS Objects "
   ]
  },
  {
   "cell_type": "code",
   "execution_count": 263,
   "metadata": {},
   "outputs": [],
   "source": [
    "# GTFS_STAT\n",
    "\n",
    "class Route():\n",
    "    def __init__(self, route_id, date, route_short_name, agency_name, stops,\n",
    "                route_long_name, is_loop, route_type, start_zone, end_zone, \n",
    "                 service_duration, speed, start_times, trip_ids):\n",
    "        self.route_id = route_id\n",
    "        self.date = date\n",
    "        self.route_short_name = route_short_name\n",
    "        self.agency_name = agency_name\n",
    "        self.stops = stops\n",
    "        self.route_long_name = route_long_name\n",
    "        self.is_loop = is_loop\n",
    "        self.route_type = route_type\n",
    "        self.start_zone = start_zone\n",
    "        self.end_zone = end_zone\n",
    "        self.service_duration = service_duration\n",
    "        self.speed = speed\n",
    "        self.start_times = start_times\n",
    "        self.trip_ids = trip_ids\n",
    "        \n",
    "        \n",
    "    \n",
    "    def __repr__(self):\n",
    "        return \"Route: \"+\"@\".join([self.route_id, self.date, self.route_short_name, self.agency_name])\n",
    "        \n",
    "    @staticmethod\n",
    "    def parse(csv_row):\n",
    "        stops = [geojson.Feature(geometry=geojson.Point((float(itr[0][0]),float(itr[0][1]))), \n",
    "                     properties=dict(stop_code=itr[1],\n",
    "                                     stop_id=itr[2])) \n",
    "                 for itr in zip ([i.split(',') for i in csv_row['all_stop_latlon'].split(';')], \n",
    "                                 csv_row['all_stop_code'].split(';'), csv_row['all_stop_id'].split(';'))]\n",
    "        \n",
    "        return Route(route_id=csv_row['route_id'], \n",
    "                     date=csv_row['date'],\n",
    "                     route_short_name=csv_row['route_short_name'], \n",
    "                     agency_name=csv_row['agency_name'], \n",
    "                     stops=stops,\n",
    "                     route_long_name=csv_row['route_long_name'],\n",
    "                     is_loop=csv_row['is_loop'],\n",
    "                     route_type=csv_row['route_type'],\n",
    "                     start_zone=csv_row['start_zone'],\n",
    "                     end_zone=csv_row['end_zone'],\n",
    "                     service_duration=csv_row['service_duration'],\n",
    "                     speed=csv_row['service_speed'],\n",
    "                     start_times= csv_row['all_start_time'].split(';'),\n",
    "                     trip_ids = csv_row['all_trip_id'].split(';')) "
   ]
  },
  {
   "cell_type": "markdown",
   "metadata": {},
   "source": [
    "# Handle SHAPE FIle"
   ]
  },
  {
   "cell_type": "code",
   "execution_count": 272,
   "metadata": {},
   "outputs": [],
   "source": [
    "# SHAPE\n",
    "    \n",
    "def create_line_string_from_shape_file(path):\n",
    "    coordinates = [tuple([float(i['shape_pt_lat']), float(i['shape_pt_lon'])])\n",
    "                   for i in csv.DictReader(open(path))]\n",
    "\n",
    "    return geojson.LineString(coordinates=coordinates)"
   ]
  },
  {
   "cell_type": "markdown",
   "metadata": {},
   "source": [
    "# Combine the data as one structure"
   ]
  },
  {
   "cell_type": "code",
   "execution_count": 264,
   "metadata": {},
   "outputs": [],
   "source": [
    "siri_data = read_siri_trips_from_exported_file(open(SIRI_EXPORTED_FROM_SPLUNK))        "
   ]
  },
  {
   "cell_type": "code",
   "execution_count": 265,
   "metadata": {},
   "outputs": [],
   "source": [
    "gtfs_stat_data = [Route.parse(row) for row in csv.DictReader(open(GTFS_STAT_EXPORTED_FROM_SPLUNK))]\n",
    "gtfs_stat_data_dict = {(i.date,i.route_id):i for i in gtfs_stat_data}"
   ]
  },
  {
   "cell_type": "code",
   "execution_count": 266,
   "metadata": {},
   "outputs": [],
   "source": [
    "shape = create_line_string_from_shape_file(SHAPE_FILE_7716)"
   ]
  },
  {
   "cell_type": "code",
   "execution_count": 270,
   "metadata": {},
   "outputs": [
    {
     "name": "stdout",
     "output_type": "stream",
     "text": [
      "None\n"
     ]
    }
   ],
   "source": [
    "results = []\n",
    "\n",
    "for siri_itm in filter(lambda x: x.key.route_id == '7716', siri_data):\n",
    "    gtfs_itm = gtfs_stat_data_dict[(siri_itm.key.date,siri_itm.key.route_id)]\n",
    "    curr_shape = shape\n",
    "    \n",
    "    tripId = None\n",
    "    if siri_itm.key.planned_start_time in gtfs_itm.start_times:\n",
    "        tripId = gtfs_itm.trip_ids[gtfs_itm.start_times.index(siri_itm.key.planned_start_time)] \n",
    "    \n",
    "    res = dict(tripId=tripId,\n",
    "               planned_time=siri_itm.key.planned_start_time,\n",
    "               date=gtfs_itm.date,\n",
    "               routeId=gtfs_itm.route_id,\n",
    "               routeShortName=gtfs_itm.route_short_name,\n",
    "               routeLongName=gtfs_itm.route_long_name, \n",
    "               agencyName=gtfs_itm.agency_name, \n",
    "               routeType=gtfs_itm.route_type, \n",
    "               stops=gtfs_itm.stops, \n",
    "               startZone=gtfs_itm.start_zone, \n",
    "               endZone=gtfs_itm.end_zone, \n",
    "               isLoop=gtfs_itm.is_loop, \n",
    "               distance=None, \n",
    "               duration=gtfs_itm.service_duration, \n",
    "               speed=gtfs_itm.speed,\n",
    "               shape=curr_shape, \n",
    "               siri=siri_itm.geojson_feature_collection)\n",
    "    \n",
    "    \n",
    "    results.append(res)"
   ]
  },
  {
   "cell_type": "code",
   "execution_count": 271,
   "metadata": {},
   "outputs": [],
   "source": [
    "json.dump(results, open('out', 'w'),ensure_ascii=False)"
   ]
  }
 ],
 "metadata": {
  "kernelspec": {
   "display_name": "Python 3",
   "language": "python",
   "name": "python3"
  },
  "language_info": {
   "codemirror_mode": {
    "name": "ipython",
    "version": 3
   },
   "file_extension": ".py",
   "mimetype": "text/x-python",
   "name": "python",
   "nbconvert_exporter": "python",
   "pygments_lexer": "ipython3",
   "version": "3.6.7"
  }
 },
 "nbformat": 4,
 "nbformat_minor": 2
}
