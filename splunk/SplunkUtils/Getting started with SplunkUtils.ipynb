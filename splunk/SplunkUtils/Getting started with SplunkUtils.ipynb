{
 "cells": [
  {
   "cell_type": "markdown",
   "metadata": {},
   "source": [
    "# Getting started with SplunkUtils\n",
    "\n",
    "SplunkUtils is an API for Splunk database, which can be used for querying SIRI and GTFS data into Pandas DataFrame. "
   ]
  },
  {
   "cell_type": "markdown",
   "metadata": {},
   "source": [
    "## Step 1: Install  splunk-sdk\n",
    "\n",
    "SplunkUtils requires installing splunk-sdk package.\n",
    "\n",
    "You can use pip for installation."
   ]
  },
  {
   "cell_type": "code",
   "execution_count": 1,
   "metadata": {
    "ExecuteTime": {
     "end_time": "2020-03-04T21:15:25.337544Z",
     "start_time": "2020-03-04T21:15:18.458509Z"
    }
   },
   "outputs": [
    {
     "name": "stdout",
     "output_type": "stream",
     "text": [
      "Requirement already satisfied: splunk-sdk in c:\\users\\eyal berger\\anaconda3\\lib\\site-packages (1.6.6)\n"
     ]
    }
   ],
   "source": [
    "!pip install splunk-sdk"
   ]
  },
  {
   "cell_type": "markdown",
   "metadata": {},
   "source": [
    "## Step 2:  Set Splunk credentials\n",
    "\n",
    "One must have Splunk credentials (host, port, username, password) to set a connection to Splunk using SplunkUtils.\n",
    "\n",
    "Note that the port is Splunk management port and not web port.\n",
    "\n",
    "You can save your credentials in json file as in the following example or simply hard-coded them."
   ]
  },
  {
   "cell_type": "code",
   "execution_count": 2,
   "metadata": {
    "ExecuteTime": {
     "end_time": "2020-03-04T21:15:25.351539Z",
     "start_time": "2020-03-04T21:15:25.341542Z"
    }
   },
   "outputs": [],
   "source": [
    "import json\n",
    "\n",
    "with open('credentials.json', 'r') as f:\n",
    "    credentials = json.load(f)\n",
    "    \n",
    "HOST, PORT, USERNAME, PASSWORD = credentials.values()"
   ]
  },
  {
   "cell_type": "markdown",
   "metadata": {},
   "source": [
    "## Step 3: Download & import SplunkUtils\n",
    "\n",
    "Download SplunkUtils.py (needs to be located at the same folder as this notebook).\n",
    "\n",
    "Then import **splunk_query_builder**, **read_splunk** and **loop_over_splunk** from SplunkUtils."
   ]
  },
  {
   "cell_type": "code",
   "execution_count": 3,
   "metadata": {
    "ExecuteTime": {
     "end_time": "2020-03-04T21:15:26.668800Z",
     "start_time": "2020-03-04T21:15:25.356534Z"
    }
   },
   "outputs": [],
   "source": [
    "from SplunkUtils import splunk_query_builder, read_splunk, loop_over_splunk"
   ]
  },
  {
   "cell_type": "markdown",
   "metadata": {},
   "source": [
    "## Step 4: Read Splunk function \n",
    "\n",
    "Args:\n",
    "   * query (str): SPL query.\n",
    "   * username (str): Splunk username.\n",
    "   * password (str): Splunk password.\n",
    "   * host (str): Splunk host.\n",
    "   * port (int): Splunk management port.\n",
    "   * time_limit (int): time limit (minutes) for the query (default: 5).\n",
    "   \n",
    "Returns:\n",
    "    DataFrame: query results.\n",
    "    \n",
    "**For example lets query the GTFS (route_stats) using Splunk's Search Processing Language (SPL).**"
   ]
  },
  {
   "cell_type": "code",
   "execution_count": 4,
   "metadata": {
    "ExecuteTime": {
     "end_time": "2020-03-04T21:15:30.416715Z",
     "start_time": "2020-03-04T21:15:26.673779Z"
    }
   },
   "outputs": [
    {
     "name": "stdout",
     "output_type": "stream",
     "text": [
      "start..\n",
      "\n",
      "your query:\n",
      " search index=route_stats earliest=-12d latest=-10d route_id=5189|\n",
      "\n",
      "        fields agency_id, route_short_name, route_id, date, all_start_time |\n",
      " \n",
      "\n",
      "connection succeed\n",
      "\n",
      "query status: 100.0%   13 scanned   2 matched   2 results\n",
      "\n",
      "Done!\n",
      "\n",
      "query succeed\n",
      "\n",
      "read results succeed\n",
      "\n",
      "job finished and canceled\n",
      "\n",
      "finished! number of rows: 2\n",
      "\n",
      "Wall time: 3.74 s\n"
     ]
    }
   ],
   "source": [
    "%%time\n",
    "\n",
    "query = '''search index=route_stats earliest=-12d latest=-10d route_id=5189|\n",
    "        fields agency_id, route_short_name, route_id, date, all_start_time | '''\n",
    "\n",
    "GTFS_data = read_splunk(query,\n",
    "          host =  HOST, port = PORT, username = USERNAME, password = PASSWORD)"
   ]
  },
  {
   "cell_type": "code",
   "execution_count": 5,
   "metadata": {
    "ExecuteTime": {
     "end_time": "2020-03-04T21:15:30.456687Z",
     "start_time": "2020-03-04T21:15:30.420695Z"
    }
   },
   "outputs": [
    {
     "data": {
      "text/html": [
       "<div>\n",
       "<style scoped>\n",
       "    .dataframe tbody tr th:only-of-type {\n",
       "        vertical-align: middle;\n",
       "    }\n",
       "\n",
       "    .dataframe tbody tr th {\n",
       "        vertical-align: top;\n",
       "    }\n",
       "\n",
       "    .dataframe thead th {\n",
       "        text-align: right;\n",
       "    }\n",
       "</style>\n",
       "<table border=\"1\" class=\"dataframe\">\n",
       "  <thead>\n",
       "    <tr style=\"text-align: right;\">\n",
       "      <th></th>\n",
       "      <th>agency_id</th>\n",
       "      <th>route_short_name</th>\n",
       "      <th>route_id</th>\n",
       "      <th>date</th>\n",
       "      <th>all_start_time</th>\n",
       "    </tr>\n",
       "  </thead>\n",
       "  <tbody>\n",
       "    <tr>\n",
       "      <th>0</th>\n",
       "      <td>15</td>\n",
       "      <td>501</td>\n",
       "      <td>5189</td>\n",
       "      <td>2020-02-23</td>\n",
       "      <td>05:00:00;05:15:00;05:45:00;06:05:00;06:23:00;0...</td>\n",
       "    </tr>\n",
       "    <tr>\n",
       "      <th>1</th>\n",
       "      <td>15</td>\n",
       "      <td>501</td>\n",
       "      <td>5189</td>\n",
       "      <td>2020-02-22</td>\n",
       "      <td>20:00:00;20:00:00;20:15:00;20:30:00;20:45:00;2...</td>\n",
       "    </tr>\n",
       "  </tbody>\n",
       "</table>\n",
       "</div>"
      ],
      "text/plain": [
       "   agency_id  route_short_name  route_id        date  \\\n",
       "0         15               501      5189  2020-02-23   \n",
       "1         15               501      5189  2020-02-22   \n",
       "\n",
       "                                      all_start_time  \n",
       "0  05:00:00;05:15:00;05:45:00;06:05:00;06:23:00;0...  \n",
       "1  20:00:00;20:00:00;20:15:00;20:30:00;20:45:00;2...  "
      ]
     },
     "execution_count": 5,
     "metadata": {},
     "output_type": "execute_result"
    }
   ],
   "source": [
    "GTFS_data.head()"
   ]
  },
  {
   "cell_type": "markdown",
   "metadata": {},
   "source": [
    "**Note that read_splunk function runs a Splunk job. One might send a very heavy query/ies which can fail the connection.\n",
    "You can stop and delete jobs using Splunk app Job Manager.**"
   ]
  },
  {
   "cell_type": "markdown",
   "metadata": {},
   "source": [
    "## Step 5:  Splunk Query Builder function\n",
    "\n",
    "To save time of learning the SPL syntax, you can use this function, which creates SPL query from Dictionary of query Kwargs.\n",
    "\n",
    "**For example lets query SIRI using splunk_query_builder function.**\n",
    "\n",
    "\n",
    "**First, we will need to set our query_kwargs for filtering by columns values.**"
   ]
  },
  {
   "cell_type": "code",
   "execution_count": 6,
   "metadata": {
    "ExecuteTime": {
     "end_time": "2020-03-04T21:15:30.469673Z",
     "start_time": "2020-03-04T21:15:30.460674Z"
    }
   },
   "outputs": [],
   "source": [
    "query_kwargs = {\n",
    "                'index': 'siri',\n",
    "                'earliest': '-10d', #=last 10 days\n",
    "                #'latest': '-8d',\n",
    "                #'agency_id': 3,\n",
    "                'route_short_name': 501,\n",
    "                'route_id': 5189,\n",
    "                'planned_start_time': '22:00:00',\n",
    "               #'max_columns': 100000,\n",
    "               'columns': ['timestamp','agency_id','route_id','route_short_name','service_id',\n",
    "                           'planned_start_date', 'planned_start_time',\n",
    "                            'bus_id','predicted_end_time','time_recorded','lat','lon']\n",
    "                }"
   ]
  },
  {
   "cell_type": "code",
   "execution_count": 7,
   "metadata": {
    "ExecuteTime": {
     "end_time": "2020-03-04T21:15:34.886255Z",
     "start_time": "2020-03-04T21:15:30.473663Z"
    }
   },
   "outputs": [
    {
     "name": "stdout",
     "output_type": "stream",
     "text": [
      "start..\n",
      "\n",
      "your query:\n",
      " search index=siri earliest=-10d route_short_name=501 route_id=5189 planned_start_time=22:00:00 |\n",
      " fields timestamp, agency_id, route_id, route_short_name, service_id, planned_start_date, planned_start_time, bus_id, predicted_end_time, time_recorded, lat, lon |\n",
      "\n",
      "\n",
      "connection succeed\n",
      "\n",
      "query status: 100.0%   2390 scanned   45 matched   45 results\n",
      "\n",
      "Done!\n",
      "\n",
      "query succeed\n",
      "\n",
      "read results succeed\n",
      "\n",
      "job finished and canceled\n",
      "\n",
      "finished! number of rows: 45\n",
      "\n",
      "Wall time: 4.4 s\n"
     ]
    }
   ],
   "source": [
    "%%time\n",
    "\n",
    "SIRI_data = read_splunk(splunk_query_builder(**query_kwargs),\n",
    "          host =  HOST, port = PORT, username = USERNAME, password = PASSWORD)"
   ]
  },
  {
   "cell_type": "code",
   "execution_count": 8,
   "metadata": {
    "ExecuteTime": {
     "end_time": "2020-03-04T21:15:34.952187Z",
     "start_time": "2020-03-04T21:15:34.904215Z"
    },
    "scrolled": true
   },
   "outputs": [
    {
     "data": {
      "text/html": [
       "<div>\n",
       "<style scoped>\n",
       "    .dataframe tbody tr th:only-of-type {\n",
       "        vertical-align: middle;\n",
       "    }\n",
       "\n",
       "    .dataframe tbody tr th {\n",
       "        vertical-align: top;\n",
       "    }\n",
       "\n",
       "    .dataframe thead th {\n",
       "        text-align: right;\n",
       "    }\n",
       "</style>\n",
       "<table border=\"1\" class=\"dataframe\">\n",
       "  <thead>\n",
       "    <tr style=\"text-align: right;\">\n",
       "      <th></th>\n",
       "      <th>timestamp</th>\n",
       "      <th>agency_id</th>\n",
       "      <th>route_id</th>\n",
       "      <th>route_short_name</th>\n",
       "      <th>service_id</th>\n",
       "      <th>planned_start_date</th>\n",
       "      <th>planned_start_time</th>\n",
       "      <th>bus_id</th>\n",
       "      <th>predicted_end_time</th>\n",
       "      <th>time_recorded</th>\n",
       "      <th>lat</th>\n",
       "      <th>lon</th>\n",
       "    </tr>\n",
       "  </thead>\n",
       "  <tbody>\n",
       "    <tr>\n",
       "      <th>0</th>\n",
       "      <td>2020-02-29T22:56:09</td>\n",
       "      <td>15</td>\n",
       "      <td>5189</td>\n",
       "      <td>501</td>\n",
       "      <td>43319863</td>\n",
       "      <td>2020-02-29</td>\n",
       "      <td>22:00:00</td>\n",
       "      <td>86344401</td>\n",
       "      <td>23:00:00</td>\n",
       "      <td>22:46:23</td>\n",
       "      <td>32.073746</td>\n",
       "      <td>34.790249</td>\n",
       "    </tr>\n",
       "    <tr>\n",
       "      <th>1</th>\n",
       "      <td>2020-02-29T22:55:09</td>\n",
       "      <td>15</td>\n",
       "      <td>5189</td>\n",
       "      <td>501</td>\n",
       "      <td>43319863</td>\n",
       "      <td>2020-02-29</td>\n",
       "      <td>22:00:00</td>\n",
       "      <td>86344401</td>\n",
       "      <td>22:59:00</td>\n",
       "      <td>22:46:23</td>\n",
       "      <td>32.073746</td>\n",
       "      <td>34.790249</td>\n",
       "    </tr>\n",
       "    <tr>\n",
       "      <th>2</th>\n",
       "      <td>2020-02-29T22:54:09</td>\n",
       "      <td>15</td>\n",
       "      <td>5189</td>\n",
       "      <td>501</td>\n",
       "      <td>43319863</td>\n",
       "      <td>2020-02-29</td>\n",
       "      <td>22:00:00</td>\n",
       "      <td>86344401</td>\n",
       "      <td>22:58:00</td>\n",
       "      <td>22:46:23</td>\n",
       "      <td>32.073746</td>\n",
       "      <td>34.790249</td>\n",
       "    </tr>\n",
       "    <tr>\n",
       "      <th>3</th>\n",
       "      <td>2020-02-29T22:53:09</td>\n",
       "      <td>15</td>\n",
       "      <td>5189</td>\n",
       "      <td>501</td>\n",
       "      <td>43319863</td>\n",
       "      <td>2020-02-29</td>\n",
       "      <td>22:00:00</td>\n",
       "      <td>86344401</td>\n",
       "      <td>22:57:00</td>\n",
       "      <td>22:46:23</td>\n",
       "      <td>32.073746</td>\n",
       "      <td>34.790249</td>\n",
       "    </tr>\n",
       "    <tr>\n",
       "      <th>4</th>\n",
       "      <td>2020-02-29T22:52:09</td>\n",
       "      <td>15</td>\n",
       "      <td>5189</td>\n",
       "      <td>501</td>\n",
       "      <td>43319863</td>\n",
       "      <td>2020-02-29</td>\n",
       "      <td>22:00:00</td>\n",
       "      <td>86344401</td>\n",
       "      <td>22:56:00</td>\n",
       "      <td>22:46:23</td>\n",
       "      <td>32.073746</td>\n",
       "      <td>34.790249</td>\n",
       "    </tr>\n",
       "  </tbody>\n",
       "</table>\n",
       "</div>"
      ],
      "text/plain": [
       "             timestamp  agency_id  route_id  route_short_name  service_id  \\\n",
       "0  2020-02-29T22:56:09         15      5189               501    43319863   \n",
       "1  2020-02-29T22:55:09         15      5189               501    43319863   \n",
       "2  2020-02-29T22:54:09         15      5189               501    43319863   \n",
       "3  2020-02-29T22:53:09         15      5189               501    43319863   \n",
       "4  2020-02-29T22:52:09         15      5189               501    43319863   \n",
       "\n",
       "  planned_start_date planned_start_time    bus_id predicted_end_time  \\\n",
       "0         2020-02-29           22:00:00  86344401           23:00:00   \n",
       "1         2020-02-29           22:00:00  86344401           22:59:00   \n",
       "2         2020-02-29           22:00:00  86344401           22:58:00   \n",
       "3         2020-02-29           22:00:00  86344401           22:57:00   \n",
       "4         2020-02-29           22:00:00  86344401           22:56:00   \n",
       "\n",
       "  time_recorded        lat        lon  \n",
       "0      22:46:23  32.073746  34.790249  \n",
       "1      22:46:23  32.073746  34.790249  \n",
       "2      22:46:23  32.073746  34.790249  \n",
       "3      22:46:23  32.073746  34.790249  \n",
       "4      22:46:23  32.073746  34.790249  "
      ]
     },
     "execution_count": 8,
     "metadata": {},
     "output_type": "execute_result"
    }
   ],
   "source": [
    "SIRI_data.head()"
   ]
  },
  {
   "cell_type": "markdown",
   "metadata": {},
   "source": [
    "**Some tips for splunk_query_builder function:**\n",
    "\n",
    "* Splunk search works better when using indexes for filtering. As for now, the function gets only one value per filter column (index), so you can't pass lists in query_kwargs.\n",
    "\n",
    "* Use 'earliest' & 'latest' time modifiers to customize the time range of your search. You can specify an exact time such as earliest=\"10/5/2019:20:00:00\", or a relative time such as earliest=-1h or latest=@w6. To learn more about SPL TimeMoidifers see: https://docs.splunk.com/Documentation/Splunk/7.2.6/SearchReference/SearchTimeModifiers.\n",
    "\n",
    "* It's recommended to declare selected columns in query_kwargs ('columns').\n",
    "\n",
    "* You can limit the results number in query_kwargs ('max_columns').\n",
    "\n",
    "* Note that no results might be a result of a syntax error in column name/filter value.   \n"
   ]
  },
  {
   "cell_type": "markdown",
   "metadata": {},
   "source": [
    "## Step 6: loop_over_splunk function (Using loop for getting more the 50,000 results) \n",
    "\n",
    "Splunk API limits the number of results per query to 50,000.\n",
    "\n",
    "As for now, we created a function that using loop to overcome this limitation.\n",
    "\n",
    "**First, we will need to set a base query_kwargs dict and a loop_kwargs list.**\n",
    "\n",
    "query_kwargs dict sets the default query kwargs for all sub queries, and loop_kwargs is a list of query kwargs dicts in which each element sets different sub query.   \n",
    "\n",
    "For this example, lets query SIRI for two high frequency bus routes in Jerusaelm (Line Routes 15 & 19 of Egged)."
   ]
  },
  {
   "cell_type": "code",
   "execution_count": 9,
   "metadata": {
    "ExecuteTime": {
     "end_time": "2020-03-04T21:15:34.966180Z",
     "start_time": "2020-03-04T21:15:34.959181Z"
    }
   },
   "outputs": [],
   "source": [
    "query_kwargs = {'index': 'siri',\n",
    "                'agency_id': 3,\n",
    "               'columns': ['timestamp','agency_id','route_id','route_short_name','service_id','planned_start_time',\n",
    "                        'planned_start_date', 'bus_id','predicted_end_time','time_recorded','lat','lon']\n",
    "                }"
   ]
  },
  {
   "cell_type": "code",
   "execution_count": 10,
   "metadata": {
    "ExecuteTime": {
     "end_time": "2020-03-04T21:15:34.979170Z",
     "start_time": "2020-03-04T21:15:34.970175Z"
    }
   },
   "outputs": [],
   "source": [
    "loop_kwargs = [{\"route_id\": 12405},\n",
    "                {\"route_id\": 23823}\n",
    "              ]"
   ]
  },
  {
   "cell_type": "markdown",
   "metadata": {},
   "source": [
    "**Second, lets define time gaps (e.g days, hours, minutes) for the loop**.\n",
    "\n",
    "The time gap need to be small enough for collecting no more then 50,000 results per run, and big enough for better performance.\n",
    "\n",
    "See example of quering 8 days data using time gaps of 5 days."
   ]
  },
  {
   "cell_type": "code",
   "execution_count": 11,
   "metadata": {
    "ExecuteTime": {
     "end_time": "2020-03-04T21:15:34.988164Z",
     "start_time": "2020-03-04T21:15:34.983168Z"
    }
   },
   "outputs": [],
   "source": [
    "time_args =  {\"start_time\": \"11/01/2019 04:00\",\n",
    "            \"end_time\": \"11/09/2019 04:00\",\n",
    "            \"freq\": \"120h\"}"
   ]
  },
  {
   "cell_type": "code",
   "execution_count": 12,
   "metadata": {
    "ExecuteTime": {
     "end_time": "2020-03-04T21:16:09.980328Z",
     "start_time": "2020-03-04T21:15:34.992161Z"
    }
   },
   "outputs": [
    {
     "name": "stdout",
     "output_type": "stream",
     "text": [
      "start..\n",
      "\n",
      "your query:\n",
      " search index=siri earliest=\"11/01/2019:04:00:00\" latest=\"11/06/2019:04:00:00\" agency_id=3 route_id=12405 |\n",
      " fields timestamp, agency_id, route_id, route_short_name, service_id, planned_start_time, planned_start_date, bus_id, predicted_end_time, time_recorded, lat, lon |\n",
      "\n",
      "\n",
      "connection succeed\n",
      "\n",
      "query status: 100.0%   30343 scanned   30343 matched   30343 results\n",
      "\n",
      "Done!\n",
      "\n",
      "query succeed\n",
      "\n",
      "read results succeed\n",
      "\n",
      "job finished and canceled\n",
      "\n",
      "finished! number of rows: 30343\n",
      "\n",
      "start..\n",
      "\n",
      "your query:\n",
      " search index=siri earliest=\"11/06/2019:04:00:00\" latest=\"11/09/2019:04:00:00\" agency_id=3 route_id=12405 |\n",
      " fields timestamp, agency_id, route_id, route_short_name, service_id, planned_start_time, planned_start_date, bus_id, predicted_end_time, time_recorded, lat, lon |\n",
      "\n",
      "\n",
      "connection succeed\n",
      "\n",
      "query status: 100.0%   21463 scanned   21463 matched   21463 results\n",
      "\n",
      "Done!\n",
      "\n",
      "query succeed\n",
      "\n",
      "read results succeed\n",
      "\n",
      "job finished and canceled\n",
      "\n",
      "finished! number of rows: 21463\n",
      "\n",
      "start..\n",
      "\n",
      "your query:\n",
      " search index=siri earliest=\"11/01/2019:04:00:00\" latest=\"11/06/2019:04:00:00\" agency_id=3 route_id=23823 |\n",
      " fields timestamp, agency_id, route_id, route_short_name, service_id, planned_start_time, planned_start_date, bus_id, predicted_end_time, time_recorded, lat, lon |\n",
      "\n",
      "\n",
      "connection succeed\n",
      "\n",
      "query status: 100.0%   1965 scanned   1965 matched   1965 results\n",
      "\n",
      "Done!\n",
      "\n",
      "query succeed\n",
      "\n",
      "read results succeed\n",
      "\n",
      "job finished and canceled\n",
      "\n",
      "finished! number of rows: 1965\n",
      "\n",
      "start..\n",
      "\n",
      "your query:\n",
      " search index=siri earliest=\"11/06/2019:04:00:00\" latest=\"11/09/2019:04:00:00\" agency_id=3 route_id=23823 |\n",
      " fields timestamp, agency_id, route_id, route_short_name, service_id, planned_start_time, planned_start_date, bus_id, predicted_end_time, time_recorded, lat, lon |\n",
      "\n",
      "\n",
      "connection succeed\n",
      "\n",
      "query status: 100.0%   1241 scanned   1241 matched   1241 results\n",
      "\n",
      "Done!\n",
      "\n",
      "query succeed\n",
      "\n",
      "read results succeed\n",
      "\n",
      "job finished and canceled\n",
      "\n",
      "finished! number of rows: 1241\n",
      "\n"
     ]
    }
   ],
   "source": [
    "SIRI_loop = loop_over_splunk(host=HOST, port=PORT, username=USERNAME, password=PASSWORD,\n",
    "                                    query_kwargs=query_kwargs,\n",
    "                                    time_args=time_args, \n",
    "                                    loop_kwargs=loop_kwargs)"
   ]
  },
  {
   "cell_type": "code",
   "execution_count": 13,
   "metadata": {
    "ExecuteTime": {
     "end_time": "2020-03-04T21:16:09.992322Z",
     "start_time": "2020-03-04T21:16:09.984325Z"
    }
   },
   "outputs": [
    {
     "data": {
      "text/plain": [
       "55012"
      ]
     },
     "execution_count": 13,
     "metadata": {},
     "output_type": "execute_result"
    }
   ],
   "source": [
    "len(SIRI_loop)"
   ]
  },
  {
   "cell_type": "markdown",
   "metadata": {},
   "source": [
    "In this example we used loop_kwargs and time_args but when needed you can also set only one of them.    "
   ]
  },
  {
   "cell_type": "code",
   "execution_count": null,
   "metadata": {
    "ExecuteTime": {
     "end_time": "2020-03-02T13:49:13.238868Z",
     "start_time": "2020-03-02T13:49:13.235870Z"
    }
   },
   "outputs": [],
   "source": []
  },
  {
   "cell_type": "code",
   "execution_count": null,
   "metadata": {},
   "outputs": [],
   "source": []
  }
 ],
 "metadata": {
  "kernelspec": {
   "display_name": "Python 3",
   "language": "python",
   "name": "python3"
  },
  "language_info": {
   "codemirror_mode": {
    "name": "ipython",
    "version": 3
   },
   "file_extension": ".py",
   "mimetype": "text/x-python",
   "name": "python",
   "nbconvert_exporter": "python",
   "pygments_lexer": "ipython3",
   "version": "3.7.3"
  }
 },
 "nbformat": 4,
 "nbformat_minor": 2
}
