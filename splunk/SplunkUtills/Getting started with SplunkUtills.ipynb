{
 "cells": [
  {
   "cell_type": "markdown",
   "metadata": {},
   "source": [
    "# Getting started with SplunkUtills\n",
    "\n",
    "SplunkUtills is an API for Splunk database, which can be used for querying SIRI and GTFS data into Pandas DataFrame. "
   ]
  },
  {
   "cell_type": "markdown",
   "metadata": {},
   "source": [
    "## Step 1: Install  splunk-sdk\n",
    "\n",
    "SplunkUtills requires installing splunk-sdk package.\n",
    "\n",
    "You can use pip for installation."
   ]
  },
  {
   "cell_type": "code",
   "execution_count": 1,
   "metadata": {},
   "outputs": [
    {
     "name": "stdout",
     "output_type": "stream",
     "text": [
      "Requirement already satisfied: splunk-sdk in c:\\users\\eyal berger\\anaconda3\\lib\\site-packages (1.6.6)\n"
     ]
    }
   ],
   "source": [
    "!pip install splunk-sdk"
   ]
  },
  {
   "cell_type": "markdown",
   "metadata": {},
   "source": [
    "## Step 2:  Set Splunk credentials\n",
    "\n",
    "One must have Splunk credentials (host, port, username, password) to set a connection to Splunk using SplunkUtills.\n",
    "\n",
    "Note that the port is Splunk management port and not web port.\n",
    "\n",
    "You can save your credentials in json file as in the following example or simply hard-coded them."
   ]
  },
  {
   "cell_type": "code",
   "execution_count": 2,
   "metadata": {},
   "outputs": [],
   "source": [
    "import json\n",
    "\n",
    "with open('credentials.json', 'r') as f:\n",
    "    credentials = json.load(f)\n",
    "    \n",
    "HOST, PORT, USERNAME, PASSWORD = credentials.values()"
   ]
  },
  {
   "cell_type": "markdown",
   "metadata": {},
   "source": [
    "## Step 3: Download & import SplunkUtills\n",
    "\n",
    "Download SplunkUtills.py (needs to be located at the same folder as this notebook).\n",
    "\n",
    "Then import **splunk_query_builder** and **read_splunk** from SplunkUtills."
   ]
  },
  {
   "cell_type": "code",
   "execution_count": 3,
   "metadata": {},
   "outputs": [],
   "source": [
    "from SplunkUtills import splunk_query_builder, read_splunk"
   ]
  },
  {
   "cell_type": "markdown",
   "metadata": {},
   "source": [
    "## Step 4: Read Splunk function \n",
    "\n",
    "Args:\n",
    "   * query (str): SPL query.\n",
    "   * username (str): Splunk username.\n",
    "   * password (str): Splunk password.\n",
    "   * host (str): Splunk host.\n",
    "   * port (int): Splunk management port.\n",
    "   * time_limit (int): time limit (minutes) for the query (default: 5).\n",
    "   \n",
    "Returns:\n",
    "    DataFrame: query results.\n",
    "    \n",
    "**For example lets query the GTFS (route_stats) using Splunk's Search Processing Language (SPL).**"
   ]
  },
  {
   "cell_type": "code",
   "execution_count": 4,
   "metadata": {},
   "outputs": [
    {
     "name": "stdout",
     "output_type": "stream",
     "text": [
      "start..\n",
      "\n",
      "your query:\n",
      " search index=route_stats earliest=-12d latest=-10d route_id=5189|\n",
      "\n",
      "        fields agency_id, route_short_name, route_id, date, all_start_time |\n",
      " \n",
      "\n",
      "connection succeed\n",
      "\n",
      "query status: 100.0%   13 scanned   2 matched   2 results\n",
      "\n",
      "Done!\n",
      "\n",
      "query succeed\n",
      "\n",
      "read results succeed\n",
      "\n",
      "job finished and canceled\n",
      "\n",
      "finished! number of rows: 2\n",
      "\n",
      "Wall time: 4.55 s\n"
     ]
    }
   ],
   "source": [
    "%%time\n",
    "\n",
    "query = '''search index=route_stats earliest=-12d latest=-10d route_id=5189|\n",
    "        fields agency_id, route_short_name, route_id, date, all_start_time | '''\n",
    "\n",
    "GTFS_data = read_splunk(query,\n",
    "          host =  HOST, port = PORT, username = USERNAME, password = PASSWORD)"
   ]
  },
  {
   "cell_type": "code",
   "execution_count": 5,
   "metadata": {},
   "outputs": [
    {
     "data": {
      "text/html": [
       "<div>\n",
       "<style scoped>\n",
       "    .dataframe tbody tr th:only-of-type {\n",
       "        vertical-align: middle;\n",
       "    }\n",
       "\n",
       "    .dataframe tbody tr th {\n",
       "        vertical-align: top;\n",
       "    }\n",
       "\n",
       "    .dataframe thead th {\n",
       "        text-align: right;\n",
       "    }\n",
       "</style>\n",
       "<table border=\"1\" class=\"dataframe\">\n",
       "  <thead>\n",
       "    <tr style=\"text-align: right;\">\n",
       "      <th></th>\n",
       "      <th>agency_id</th>\n",
       "      <th>route_short_name</th>\n",
       "      <th>route_id</th>\n",
       "      <th>date</th>\n",
       "      <th>all_start_time</th>\n",
       "    </tr>\n",
       "  </thead>\n",
       "  <tbody>\n",
       "    <tr>\n",
       "      <th>0</th>\n",
       "      <td>3</td>\n",
       "      <td>501</td>\n",
       "      <td>5189</td>\n",
       "      <td>2019-05-24</td>\n",
       "      <td>05:30:00;05:45:00;05:55:00;06:05:00;06:15:00;0...</td>\n",
       "    </tr>\n",
       "    <tr>\n",
       "      <th>1</th>\n",
       "      <td>3</td>\n",
       "      <td>501</td>\n",
       "      <td>5189</td>\n",
       "      <td>2019-05-23</td>\n",
       "      <td>05:15:00;05:56:00;06:40:00;07:10:00;07:40:00;0...</td>\n",
       "    </tr>\n",
       "  </tbody>\n",
       "</table>\n",
       "</div>"
      ],
      "text/plain": [
       "   agency_id  route_short_name  route_id        date  \\\n",
       "0          3               501      5189  2019-05-24   \n",
       "1          3               501      5189  2019-05-23   \n",
       "\n",
       "                                      all_start_time  \n",
       "0  05:30:00;05:45:00;05:55:00;06:05:00;06:15:00;0...  \n",
       "1  05:15:00;05:56:00;06:40:00;07:10:00;07:40:00;0...  "
      ]
     },
     "execution_count": 5,
     "metadata": {},
     "output_type": "execute_result"
    }
   ],
   "source": [
    "GTFS_data.head()"
   ]
  },
  {
   "cell_type": "markdown",
   "metadata": {},
   "source": [
    "**Note that read_splunk function runs a Splunk job. One might send a very heavy query/ies which can fail the connection.\n",
    "You can stop and delete jobs using Splunk app Job Manager.**"
   ]
  },
  {
   "cell_type": "markdown",
   "metadata": {},
   "source": [
    "## Step 5:  Splunk Query Builder function\n",
    "\n",
    "To save time of learning the SPL syntax, you can use this function, which creates SPL query from Dictionary of query Kwargs.\n",
    "\n",
    "**For example lets query SIRI using splunk_query_builder function.**\n",
    "\n",
    "\n",
    "**First, we will need to set our query_kwargs for filtering by columns values.**"
   ]
  },
  {
   "cell_type": "code",
   "execution_count": 6,
   "metadata": {},
   "outputs": [],
   "source": [
    "query_kwargs = {\n",
    "                'index': 'siri',\n",
    "                'earliest': '-10d', #=last 10 days\n",
    "                #'latest': '-8d',\n",
    "                #'agency_id': 3,\n",
    "                'route_short_name': 501,\n",
    "                'route_id': 5189,\n",
    "                'planned_start_time': '22:00:00',\n",
    "               #'max_columns': 100000,\n",
    "               'columns': ['timestamp','agency_id','route_id','route_short_name','service_id','planned_start_time',\n",
    "                        'bus_id','predicted_end_time','time_recorded','lat','lon']\n",
    "                }"
   ]
  },
  {
   "cell_type": "code",
   "execution_count": 7,
   "metadata": {},
   "outputs": [
    {
     "name": "stdout",
     "output_type": "stream",
     "text": [
      "start..\n",
      "\n",
      "your query:\n",
      " search index=siri earliest=-10d route_short_name=501 route_id=5189 planned_start_time=22:00:00 |\n",
      " fields timestamp, agency_id, route_id, route_short_name, service_id, planned_start_time, bus_id, predicted_end_time, time_recorded, lat, lon |\n",
      "\n",
      "\n",
      "connection succeed\n",
      "\n",
      "query status: 100.0%   9739 scanned   938 matched   938 results\n",
      "\n",
      "Done!\n",
      "\n",
      "query succeed\n",
      "\n",
      "read results succeed\n",
      "\n",
      "job finished and canceled\n",
      "\n",
      "finished! number of rows: 938\n",
      "\n",
      "Wall time: 5.52 s\n"
     ]
    }
   ],
   "source": [
    "%%time\n",
    "\n",
    "SIRI_data = read_splunk(splunk_query_builder(**query_kwargs),\n",
    "          host =  HOST, port = PORT, username = USERNAME, password = PASSWORD)"
   ]
  },
  {
   "cell_type": "code",
   "execution_count": 8,
   "metadata": {
    "scrolled": true
   },
   "outputs": [
    {
     "data": {
      "text/html": [
       "<div>\n",
       "<style scoped>\n",
       "    .dataframe tbody tr th:only-of-type {\n",
       "        vertical-align: middle;\n",
       "    }\n",
       "\n",
       "    .dataframe tbody tr th {\n",
       "        vertical-align: top;\n",
       "    }\n",
       "\n",
       "    .dataframe thead th {\n",
       "        text-align: right;\n",
       "    }\n",
       "</style>\n",
       "<table border=\"1\" class=\"dataframe\">\n",
       "  <thead>\n",
       "    <tr style=\"text-align: right;\">\n",
       "      <th></th>\n",
       "      <th>timestamp</th>\n",
       "      <th>agency_id</th>\n",
       "      <th>route_id</th>\n",
       "      <th>route_short_name</th>\n",
       "      <th>service_id</th>\n",
       "      <th>planned_start_time</th>\n",
       "      <th>bus_id</th>\n",
       "      <th>predicted_end_time</th>\n",
       "      <th>time_recorded</th>\n",
       "      <th>lat</th>\n",
       "      <th>lon</th>\n",
       "    </tr>\n",
       "  </thead>\n",
       "  <tbody>\n",
       "    <tr>\n",
       "      <th>0</th>\n",
       "      <td>2019-06-02T23:01:17.058</td>\n",
       "      <td>3</td>\n",
       "      <td>5189</td>\n",
       "      <td>501</td>\n",
       "      <td>39061043</td>\n",
       "      <td>22:00:00</td>\n",
       "      <td>7647969</td>\n",
       "      <td>23:02:00</td>\n",
       "      <td>23:01:26</td>\n",
       "      <td>32.177559</td>\n",
       "      <td>34.887798</td>\n",
       "    </tr>\n",
       "    <tr>\n",
       "      <th>1</th>\n",
       "      <td>2019-06-02T23:00:17.06</td>\n",
       "      <td>3</td>\n",
       "      <td>5189</td>\n",
       "      <td>501</td>\n",
       "      <td>39061043</td>\n",
       "      <td>22:00:00</td>\n",
       "      <td>7647969</td>\n",
       "      <td>23:02:00</td>\n",
       "      <td>23:00:42</td>\n",
       "      <td>32.178257</td>\n",
       "      <td>34.884609</td>\n",
       "    </tr>\n",
       "    <tr>\n",
       "      <th>2</th>\n",
       "      <td>2019-06-02T22:59:17.062</td>\n",
       "      <td>3</td>\n",
       "      <td>5189</td>\n",
       "      <td>501</td>\n",
       "      <td>39061043</td>\n",
       "      <td>22:00:00</td>\n",
       "      <td>7647969</td>\n",
       "      <td>23:02:00</td>\n",
       "      <td>22:59:43</td>\n",
       "      <td>32.179039</td>\n",
       "      <td>34.881069</td>\n",
       "    </tr>\n",
       "    <tr>\n",
       "      <th>3</th>\n",
       "      <td>2019-06-02T22:58:17.061</td>\n",
       "      <td>3</td>\n",
       "      <td>5189</td>\n",
       "      <td>501</td>\n",
       "      <td>39061043</td>\n",
       "      <td>22:00:00</td>\n",
       "      <td>7647969</td>\n",
       "      <td>23:01:00</td>\n",
       "      <td>22:58:20</td>\n",
       "      <td>32.179661</td>\n",
       "      <td>34.878082</td>\n",
       "    </tr>\n",
       "    <tr>\n",
       "      <th>4</th>\n",
       "      <td>2019-06-02T22:57:17.069</td>\n",
       "      <td>3</td>\n",
       "      <td>5189</td>\n",
       "      <td>501</td>\n",
       "      <td>39061043</td>\n",
       "      <td>22:00:00</td>\n",
       "      <td>7647969</td>\n",
       "      <td>23:01:00</td>\n",
       "      <td>22:57:44</td>\n",
       "      <td>32.179974</td>\n",
       "      <td>34.876816</td>\n",
       "    </tr>\n",
       "  </tbody>\n",
       "</table>\n",
       "</div>"
      ],
      "text/plain": [
       "                 timestamp  agency_id  route_id  route_short_name  service_id  \\\n",
       "0  2019-06-02T23:01:17.058          3      5189               501    39061043   \n",
       "1   2019-06-02T23:00:17.06          3      5189               501    39061043   \n",
       "2  2019-06-02T22:59:17.062          3      5189               501    39061043   \n",
       "3  2019-06-02T22:58:17.061          3      5189               501    39061043   \n",
       "4  2019-06-02T22:57:17.069          3      5189               501    39061043   \n",
       "\n",
       "  planned_start_time   bus_id predicted_end_time time_recorded        lat  \\\n",
       "0           22:00:00  7647969           23:02:00      23:01:26  32.177559   \n",
       "1           22:00:00  7647969           23:02:00      23:00:42  32.178257   \n",
       "2           22:00:00  7647969           23:02:00      22:59:43  32.179039   \n",
       "3           22:00:00  7647969           23:01:00      22:58:20  32.179661   \n",
       "4           22:00:00  7647969           23:01:00      22:57:44  32.179974   \n",
       "\n",
       "         lon  \n",
       "0  34.887798  \n",
       "1  34.884609  \n",
       "2  34.881069  \n",
       "3  34.878082  \n",
       "4  34.876816  "
      ]
     },
     "execution_count": 8,
     "metadata": {},
     "output_type": "execute_result"
    }
   ],
   "source": [
    "SIRI_data.head()"
   ]
  },
  {
   "cell_type": "markdown",
   "metadata": {},
   "source": [
    "**Some tips for splunk_query_builder function:**\n",
    "\n",
    "* Splunk search works better when using indexes for filtering. As for now, the function gets only one value per filter column (index), so you can't pass lists in query_kwargs.\n",
    "\n",
    "* Use 'earliest' & 'latest' time modifiers to customize the time range of your search. You can specify an exact time such as earliest=\"10/5/2019:20:00:00\", or a relative time such as earliest=-1h or latest=@w6. To learn more about SPL TimeMoidifers see: https://docs.splunk.com/Documentation/Splunk/7.2.6/SearchReference/SearchTimeModifiers.\n",
    "\n",
    "* It's recommended to declare selected columns in query_kwargs ('columns').\n",
    "\n",
    "* You can limit the results number in query_kwargs ('max_columns').\n",
    "\n",
    "* Note that no results might be a result of a syntax error in column name/filter value.   \n"
   ]
  },
  {
   "cell_type": "markdown",
   "metadata": {},
   "source": [
    "## Step 6: Using loop for getting more the 50,000 results \n",
    "\n",
    "Splunk API limits the number of results per query to 50,000.\n",
    "\n",
    "As for now, to overcome this limitation you can use the following 'for' loop.\n",
    "\n",
    "**First, we will need to set a base query_kwargs.**\n",
    "\n",
    "For this example, lets query SIRI for one high frequency bus route in Jerusaelm (Line Route 15 of Egged)."
   ]
  },
  {
   "cell_type": "code",
   "execution_count": 9,
   "metadata": {},
   "outputs": [],
   "source": [
    "query_kwargs = {'index': 'siri',\n",
    "                'agency_id': 3,\n",
    "                'route_id': 12405,\n",
    "               'columns': ['timestamp','agency_id','route_id','route_short_name','service_id','planned_start_time',\n",
    "                        'bus_id','predicted_end_time','time_recorded','lat','lon']\n",
    "                }"
   ]
  },
  {
   "cell_type": "markdown",
   "metadata": {},
   "source": [
    "**Second, define time gaps (e.g days, hours, minutes) for the loop. The time gap need to be small enough for collecting no more then 50,000 results per run, and big enough for better performance.**\n",
    "\n",
    "See example of quering for last 30 days data using time gaps of 6 days."
   ]
  },
  {
   "cell_type": "code",
   "execution_count": 10,
   "metadata": {},
   "outputs": [
    {
     "name": "stdout",
     "output_type": "stream",
     "text": [
      "search from ('-6d', '-0d') to ('-30d', '-24d')\n"
     ]
    }
   ],
   "source": [
    "time_unit = 'd'\n",
    "earliest_time_units = 30\n",
    "latest_time_units = 0\n",
    "time_units_gap = 6\n",
    "\n",
    "earliest_latest =\\\n",
    "    [(\"-{}{}\".format(u+time_units_gap, time_unit), \"-{}{}\".format(u, time_unit)) for u in range(int(round(latest_time_units,0)),\n",
    "                                                                                               int(round(earliest_time_units,0)),\n",
    "                                                                                                int(round(time_units_gap,0)))] \n",
    "\n",
    "print (\"search from {} to {}\".format(earliest_latest[0], earliest_latest[-1]))"
   ]
  },
  {
   "cell_type": "code",
   "execution_count": 11,
   "metadata": {},
   "outputs": [
    {
     "name": "stdout",
     "output_type": "stream",
     "text": [
      "start..\n",
      "\n",
      "your query:\n",
      " search index=siri earliest=-6d latest=-0d agency_id=3 route_id=12405 |\n",
      " fields timestamp, agency_id, route_id, route_short_name, service_id, planned_start_time, bus_id, predicted_end_time, time_recorded, lat, lon |\n",
      "\n",
      "\n",
      "connection succeed\n",
      "\n",
      "query status: 100.0%   30906 scanned   30906 matched   30906 results\n",
      "\n",
      "Done!\n",
      "\n",
      "query succeed\n",
      "\n",
      "read results succeed\n",
      "\n",
      "job finished and canceled\n",
      "\n",
      "finished! number of rows: 30906\n",
      "\n",
      "start..\n",
      "\n",
      "your query:\n",
      " search index=siri earliest=-12d latest=-6d agency_id=3 route_id=12405 |\n",
      " fields timestamp, agency_id, route_id, route_short_name, service_id, planned_start_time, bus_id, predicted_end_time, time_recorded, lat, lon |\n",
      "\n",
      "\n",
      "connection succeed\n",
      "\n",
      "query status: 100.0%   41201 scanned   41201 matched   41201 results\n",
      "\n",
      "Done!\n",
      "\n",
      "query succeed\n",
      "\n",
      "read results succeed\n",
      "\n",
      "job finished and canceled\n",
      "\n",
      "finished! number of rows: 41201\n",
      "\n",
      "start..\n",
      "\n",
      "your query:\n",
      " search index=siri earliest=-18d latest=-12d agency_id=3 route_id=12405 |\n",
      " fields timestamp, agency_id, route_id, route_short_name, service_id, planned_start_time, bus_id, predicted_end_time, time_recorded, lat, lon |\n",
      "\n",
      "\n",
      "connection succeed\n",
      "\n",
      "query status: 100.0%   41423 scanned   41423 matched   41423 results\n",
      "\n",
      "Done!\n",
      "\n",
      "query succeed\n",
      "\n",
      "read results succeed\n",
      "\n",
      "job finished and canceled\n",
      "\n",
      "finished! number of rows: 41423\n",
      "\n",
      "start..\n",
      "\n",
      "your query:\n",
      " search index=siri earliest=-24d latest=-18d agency_id=3 route_id=12405 |\n",
      " fields timestamp, agency_id, route_id, route_short_name, service_id, planned_start_time, bus_id, predicted_end_time, time_recorded, lat, lon |\n",
      "\n",
      "\n",
      "connection succeed\n",
      "\n",
      "query status: 100.0%   44497 scanned   44497 matched   44497 results\n",
      "\n",
      "Done!\n",
      "\n",
      "query succeed\n",
      "\n",
      "read results succeed\n",
      "\n",
      "job finished and canceled\n",
      "\n",
      "finished! number of rows: 44497\n",
      "\n",
      "start..\n",
      "\n",
      "your query:\n",
      " search index=siri earliest=-30d latest=-24d agency_id=3 route_id=12405 |\n",
      " fields timestamp, agency_id, route_id, route_short_name, service_id, planned_start_time, bus_id, predicted_end_time, time_recorded, lat, lon |\n",
      "\n",
      "\n",
      "connection succeed\n",
      "\n",
      "query status: 100.0%   46559 scanned   46559 matched   46559 results\n",
      "\n",
      "Done!\n",
      "\n",
      "query succeed\n",
      "\n",
      "read results succeed\n",
      "\n",
      "job finished and canceled\n",
      "\n",
      "finished! number of rows: 46559\n",
      "\n",
      "Wall time: 3min 1s\n"
     ]
    }
   ],
   "source": [
    "%%time\n",
    "\n",
    "import pandas as pd\n",
    "\n",
    "SIRI_data = pd.DataFrame()\n",
    "\n",
    "for earliest, latest in earliest_latest:\n",
    "    \n",
    "    query_kwargs['earliest'] = earliest\n",
    "    query_kwargs['latest'] = latest\n",
    "    \n",
    "    data = read_splunk(splunk_query_builder(**query_kwargs),\n",
    "                host =  HOST, port = PORT, username = USERNAME, password = PASSWORD)\n",
    "        \n",
    "    if isinstance(data, pd.DataFrame) and len(data)==50000:\n",
    "        print ('\\n\\nCollecting results stopped!\\n\\n')\n",
    "        break\n",
    "\n",
    "    else:\n",
    "        SIRI_data = SIRI_data.append(data)\n",
    "            \n",
    "SIRI_data.drop_duplicates(inplace=True)"
   ]
  },
  {
   "cell_type": "code",
   "execution_count": 12,
   "metadata": {},
   "outputs": [
    {
     "data": {
      "text/html": [
       "<div>\n",
       "<style scoped>\n",
       "    .dataframe tbody tr th:only-of-type {\n",
       "        vertical-align: middle;\n",
       "    }\n",
       "\n",
       "    .dataframe tbody tr th {\n",
       "        vertical-align: top;\n",
       "    }\n",
       "\n",
       "    .dataframe thead th {\n",
       "        text-align: right;\n",
       "    }\n",
       "</style>\n",
       "<table border=\"1\" class=\"dataframe\">\n",
       "  <thead>\n",
       "    <tr style=\"text-align: right;\">\n",
       "      <th></th>\n",
       "      <th>timestamp</th>\n",
       "      <th>agency_id</th>\n",
       "      <th>route_id</th>\n",
       "      <th>route_short_name</th>\n",
       "      <th>service_id</th>\n",
       "      <th>planned_start_time</th>\n",
       "      <th>bus_id</th>\n",
       "      <th>predicted_end_time</th>\n",
       "      <th>time_recorded</th>\n",
       "      <th>lat</th>\n",
       "      <th>lon</th>\n",
       "    </tr>\n",
       "  </thead>\n",
       "  <tbody>\n",
       "    <tr>\n",
       "      <th>0</th>\n",
       "      <td>2019-06-02T23:59:24.776</td>\n",
       "      <td>3</td>\n",
       "      <td>12405</td>\n",
       "      <td>15</td>\n",
       "      <td>39071029</td>\n",
       "      <td>23:58:00</td>\n",
       "      <td>7721969</td>\n",
       "      <td>00:19:00</td>\n",
       "      <td>23:56:45</td>\n",
       "      <td>31.784912</td>\n",
       "      <td>35.200710</td>\n",
       "    </tr>\n",
       "    <tr>\n",
       "      <th>1</th>\n",
       "      <td>2019-06-02T23:59:24.776</td>\n",
       "      <td>3</td>\n",
       "      <td>12405</td>\n",
       "      <td>15</td>\n",
       "      <td>39071028</td>\n",
       "      <td>23:45:00</td>\n",
       "      <td>7794669</td>\n",
       "      <td>00:19:00</td>\n",
       "      <td>23:58:57</td>\n",
       "      <td>31.786530</td>\n",
       "      <td>35.198864</td>\n",
       "    </tr>\n",
       "    <tr>\n",
       "      <th>2</th>\n",
       "      <td>2019-06-02T23:58:19.452</td>\n",
       "      <td>3</td>\n",
       "      <td>12405</td>\n",
       "      <td>15</td>\n",
       "      <td>39071029</td>\n",
       "      <td>23:58:00</td>\n",
       "      <td>7721969</td>\n",
       "      <td>00:19:00</td>\n",
       "      <td>23:56:45</td>\n",
       "      <td>31.784912</td>\n",
       "      <td>35.200710</td>\n",
       "    </tr>\n",
       "    <tr>\n",
       "      <th>3</th>\n",
       "      <td>2019-06-02T23:58:19.452</td>\n",
       "      <td>3</td>\n",
       "      <td>12405</td>\n",
       "      <td>15</td>\n",
       "      <td>39071028</td>\n",
       "      <td>23:45:00</td>\n",
       "      <td>7794669</td>\n",
       "      <td>00:19:00</td>\n",
       "      <td>23:58:36</td>\n",
       "      <td>31.786503</td>\n",
       "      <td>35.198841</td>\n",
       "    </tr>\n",
       "    <tr>\n",
       "      <th>4</th>\n",
       "      <td>2019-06-02T23:57:16.845</td>\n",
       "      <td>3</td>\n",
       "      <td>12405</td>\n",
       "      <td>15</td>\n",
       "      <td>39071029</td>\n",
       "      <td>23:58:00</td>\n",
       "      <td>7721969</td>\n",
       "      <td>00:19:00</td>\n",
       "      <td>23:56:45</td>\n",
       "      <td>31.784912</td>\n",
       "      <td>35.200710</td>\n",
       "    </tr>\n",
       "  </tbody>\n",
       "</table>\n",
       "</div>"
      ],
      "text/plain": [
       "                 timestamp  agency_id  route_id  route_short_name  service_id  \\\n",
       "0  2019-06-02T23:59:24.776          3     12405                15    39071029   \n",
       "1  2019-06-02T23:59:24.776          3     12405                15    39071028   \n",
       "2  2019-06-02T23:58:19.452          3     12405                15    39071029   \n",
       "3  2019-06-02T23:58:19.452          3     12405                15    39071028   \n",
       "4  2019-06-02T23:57:16.845          3     12405                15    39071029   \n",
       "\n",
       "  planned_start_time   bus_id predicted_end_time time_recorded        lat  \\\n",
       "0           23:58:00  7721969           00:19:00      23:56:45  31.784912   \n",
       "1           23:45:00  7794669           00:19:00      23:58:57  31.786530   \n",
       "2           23:58:00  7721969           00:19:00      23:56:45  31.784912   \n",
       "3           23:45:00  7794669           00:19:00      23:58:36  31.786503   \n",
       "4           23:58:00  7721969           00:19:00      23:56:45  31.784912   \n",
       "\n",
       "         lon  \n",
       "0  35.200710  \n",
       "1  35.198864  \n",
       "2  35.200710  \n",
       "3  35.198841  \n",
       "4  35.200710  "
      ]
     },
     "execution_count": 12,
     "metadata": {},
     "output_type": "execute_result"
    }
   ],
   "source": [
    "SIRI_data.head()"
   ]
  },
  {
   "cell_type": "code",
   "execution_count": 13,
   "metadata": {},
   "outputs": [
    {
     "data": {
      "text/plain": [
       "204579"
      ]
     },
     "execution_count": 13,
     "metadata": {},
     "output_type": "execute_result"
    }
   ],
   "source": [
    "len(SIRI_data)"
   ]
  },
  {
   "cell_type": "code",
   "execution_count": null,
   "metadata": {},
   "outputs": [],
   "source": []
  },
  {
   "cell_type": "code",
   "execution_count": null,
   "metadata": {},
   "outputs": [],
   "source": []
  }
 ],
 "metadata": {
  "kernelspec": {
   "display_name": "Python 3",
   "language": "python",
   "name": "python3"
  },
  "language_info": {
   "codemirror_mode": {
    "name": "ipython",
    "version": 3
   },
   "file_extension": ".py",
   "mimetype": "text/x-python",
   "name": "python",
   "nbconvert_exporter": "python",
   "pygments_lexer": "ipython3",
   "version": "3.6.5"
  }
 },
 "nbformat": 4,
 "nbformat_minor": 2
}
