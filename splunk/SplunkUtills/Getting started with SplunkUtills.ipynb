{
 "cells": [
  {
   "cell_type": "markdown",
   "metadata": {},
   "source": [
    "# Getting started with SplunkUtills\n",
    "\n",
    "SplunkUtills is an API for Splunk database, which can be used for querying SIRI and GTFS data into Pandas DataFrame. "
   ]
  },
  {
   "cell_type": "markdown",
   "metadata": {},
   "source": [
    "## Step 1: Install  splunk-sdk\n",
    "\n",
    "SplunkUtills requires installing splunk-sdk package.\n",
    "\n",
    "You can use pip for installation."
   ]
  },
  {
   "cell_type": "code",
   "execution_count": 1,
   "metadata": {},
   "outputs": [
    {
     "name": "stdout",
     "output_type": "stream",
     "text": [
      "Requirement already satisfied: splunk-sdk in c:\\users\\eyal berger\\anaconda3\\lib\\site-packages (1.6.6)\n"
     ]
    },
    {
     "name": "stderr",
     "output_type": "stream",
     "text": [
      "You are using pip version 18.0, however version 19.1.1 is available.\n",
      "You should consider upgrading via the 'python -m pip install --upgrade pip' command.\n"
     ]
    }
   ],
   "source": [
    "!pip install splunk-sdk"
   ]
  },
  {
   "cell_type": "markdown",
   "metadata": {},
   "source": [
    "## Step 2:  Set Splunk credentials\n",
    "\n",
    "One must have Splunk credentials (host, port, username, password) to set a connection to Splunk using SplunkUtills.\n",
    "\n",
    "You can save your credentials in json file as in the following example or simply hard-coded them."
   ]
  },
  {
   "cell_type": "code",
   "execution_count": 2,
   "metadata": {},
   "outputs": [],
   "source": [
    "import json\n",
    "\n",
    "with open('credentials.json', 'r') as f:\n",
    "    credentials = json.load(f)\n",
    "    \n",
    "HOST, PORT, USERNAME, PASSWORD = credentials.values()"
   ]
  },
  {
   "cell_type": "markdown",
   "metadata": {},
   "source": [
    "## Step 3: Download & import SplunkUtills\n",
    "\n",
    "Download SplunkUtills.py (needs to be located at the same folder as this notebook).\n",
    "\n",
    "Then import **splunk_query_builder** and **read_splunk** from SplunkUtills."
   ]
  },
  {
   "cell_type": "code",
   "execution_count": 3,
   "metadata": {},
   "outputs": [],
   "source": [
    "from SplunkUtills import splunk_query_builder, read_splunk"
   ]
  },
  {
   "cell_type": "markdown",
   "metadata": {},
   "source": [
    "## Step 4: Read Splunk function \n",
    "\n",
    "Args:\n",
    "   * query (str): SPL query.\n",
    "   * username (str): Splunk username.\n",
    "   * password (str): Splunk password.\n",
    "   * host (str): Splunk host.\n",
    "   * port (int): Splunk port.\n",
    "   \n",
    "Returns:\n",
    "    DataFrame: query results.\n",
    "    \n",
    "**For example lets query the GTFS (route_stats) using Splunk's Search Processing Language (SPL).**"
   ]
  },
  {
   "cell_type": "code",
   "execution_count": 4,
   "metadata": {},
   "outputs": [
    {
     "name": "stdout",
     "output_type": "stream",
     "text": [
      "start..\n",
      "\n",
      "your query:\n",
      " search index=route_stats earliest=-12d latest=-10d route_id=5189|\n",
      "\n",
      "        fields agency_id, route_short_name, route_id, date, all_start_time |\n",
      " \n",
      "\n",
      "imports completed\n",
      "\n",
      "connection succeed\n",
      "\n",
      "query status: 100.0%   14 scanned   2 matched   2 results\n",
      "\n",
      "Done!\n",
      "\n",
      "query succeed\n",
      "\n",
      "read results succeed\n",
      "\n",
      "job_canceled\n",
      "\n",
      "finished! number of rows: 2\n",
      "\n",
      "Wall time: 4.9 s\n"
     ]
    }
   ],
   "source": [
    "%%time\n",
    "\n",
    "query = '''search index=route_stats earliest=-12d latest=-10d route_id=5189|\n",
    "        fields agency_id, route_short_name, route_id, date, all_start_time | '''\n",
    "\n",
    "GTFS_data = read_splunk(query,\n",
    "          host =  HOST, port = PORT, username = USERNAME, password = PASSWORD)"
   ]
  },
  {
   "cell_type": "code",
   "execution_count": 5,
   "metadata": {},
   "outputs": [
    {
     "data": {
      "text/html": [
       "<div>\n",
       "<style scoped>\n",
       "    .dataframe tbody tr th:only-of-type {\n",
       "        vertical-align: middle;\n",
       "    }\n",
       "\n",
       "    .dataframe tbody tr th {\n",
       "        vertical-align: top;\n",
       "    }\n",
       "\n",
       "    .dataframe thead th {\n",
       "        text-align: right;\n",
       "    }\n",
       "</style>\n",
       "<table border=\"1\" class=\"dataframe\">\n",
       "  <thead>\n",
       "    <tr style=\"text-align: right;\">\n",
       "      <th></th>\n",
       "      <th>agency_id</th>\n",
       "      <th>route_short_name</th>\n",
       "      <th>route_id</th>\n",
       "      <th>date</th>\n",
       "      <th>all_start_time</th>\n",
       "    </tr>\n",
       "  </thead>\n",
       "  <tbody>\n",
       "    <tr>\n",
       "      <th>0</th>\n",
       "      <td>3</td>\n",
       "      <td>501</td>\n",
       "      <td>5189</td>\n",
       "      <td>2019-05-02</td>\n",
       "      <td>05:15:00;05:30:00;05:45:00;05:55:00;06:03:00;0...</td>\n",
       "    </tr>\n",
       "    <tr>\n",
       "      <th>1</th>\n",
       "      <td>3</td>\n",
       "      <td>501</td>\n",
       "      <td>5189</td>\n",
       "      <td>2019-05-01</td>\n",
       "      <td>05:15:00;05:30:00;05:45:00;05:55:00;06:03:00;0...</td>\n",
       "    </tr>\n",
       "  </tbody>\n",
       "</table>\n",
       "</div>"
      ],
      "text/plain": [
       "   agency_id  route_short_name  route_id        date  \\\n",
       "0          3               501      5189  2019-05-02   \n",
       "1          3               501      5189  2019-05-01   \n",
       "\n",
       "                                      all_start_time  \n",
       "0  05:15:00;05:30:00;05:45:00;05:55:00;06:03:00;0...  \n",
       "1  05:15:00;05:30:00;05:45:00;05:55:00;06:03:00;0...  "
      ]
     },
     "execution_count": 5,
     "metadata": {},
     "output_type": "execute_result"
    }
   ],
   "source": [
    "GTFS_data.head()"
   ]
  },
  {
   "cell_type": "markdown",
   "metadata": {},
   "source": [
    "**Note that read_splunk function runs a Splunk job. One might send a very heavy query/ies which can fail the connection.\n",
    "You can stop and delete jobs using Splunk app Job Manager.**"
   ]
  },
  {
   "cell_type": "markdown",
   "metadata": {},
   "source": [
    "## Step 5:  Splunk Query Builder function\n",
    "\n",
    "To save time of learning the SPL syntax, you can use this function, which creates SPL query from Dictionary of query Kwargs.\n",
    "\n",
    "**For example lets query SIRI using splunk_query_builder function.**\n",
    "\n",
    "\n",
    "**First, we will need to set our query_kwargs for filtering by columns values.**"
   ]
  },
  {
   "cell_type": "code",
   "execution_count": 6,
   "metadata": {},
   "outputs": [],
   "source": [
    "query_kwargs = {\n",
    "                'index': 'siri',\n",
    "                'earliest': '-10d', #=last 10 days\n",
    "                #'latest': '-8d',\n",
    "                #'agency_id': 3,\n",
    "                'route_short_name': 501,\n",
    "                'route_id': 5189,\n",
    "                'planned_start_time': '22:00:00',\n",
    "               #'max_columns': 100000,\n",
    "               'columns': ['timestamp','agency_id','route_id','route_short_name','service_id','planned_start_time',\n",
    "                        'bus_id','predicted_end_time','time_recorded','lat','lon']\n",
    "                }"
   ]
  },
  {
   "cell_type": "code",
   "execution_count": 7,
   "metadata": {},
   "outputs": [
    {
     "name": "stdout",
     "output_type": "stream",
     "text": [
      "start..\n",
      "\n",
      "your query:\n",
      " search index=siri earliest=-10d route_short_name=501 route_id=5189 planned_start_time=22:00:00 |\n",
      " fields timestamp, agency_id, route_id, route_short_name, service_id, planned_start_time, bus_id, predicted_end_time, time_recorded, lat, lon |\n",
      "\n",
      "\n",
      "imports completed\n",
      "\n",
      "connection succeed\n",
      "\n",
      "query status: 100.0%   10395 scanned   786 matched   786 results\n",
      "\n",
      "Done!\n",
      "\n",
      "query succeed\n",
      "\n",
      "read results succeed\n",
      "\n",
      "job_canceled\n",
      "\n",
      "finished! number of rows: 786\n",
      "\n",
      "Wall time: 5.99 s\n"
     ]
    }
   ],
   "source": [
    "%%time\n",
    "\n",
    "SIRI_data = read_splunk(splunk_query_builder(**query_kwargs),\n",
    "          host =  HOST, port = PORT, username = USERNAME, password = PASSWORD)"
   ]
  },
  {
   "cell_type": "code",
   "execution_count": 8,
   "metadata": {
    "scrolled": true
   },
   "outputs": [
    {
     "data": {
      "text/html": [
       "<div>\n",
       "<style scoped>\n",
       "    .dataframe tbody tr th:only-of-type {\n",
       "        vertical-align: middle;\n",
       "    }\n",
       "\n",
       "    .dataframe tbody tr th {\n",
       "        vertical-align: top;\n",
       "    }\n",
       "\n",
       "    .dataframe thead th {\n",
       "        text-align: right;\n",
       "    }\n",
       "</style>\n",
       "<table border=\"1\" class=\"dataframe\">\n",
       "  <thead>\n",
       "    <tr style=\"text-align: right;\">\n",
       "      <th></th>\n",
       "      <th>timestamp</th>\n",
       "      <th>agency_id</th>\n",
       "      <th>route_id</th>\n",
       "      <th>route_short_name</th>\n",
       "      <th>service_id</th>\n",
       "      <th>planned_start_time</th>\n",
       "      <th>bus_id</th>\n",
       "      <th>predicted_end_time</th>\n",
       "      <th>time_recorded</th>\n",
       "      <th>lat</th>\n",
       "      <th>lon</th>\n",
       "    </tr>\n",
       "  </thead>\n",
       "  <tbody>\n",
       "    <tr>\n",
       "      <th>0</th>\n",
       "      <td>2019-05-11T22:59:47.932</td>\n",
       "      <td>3</td>\n",
       "      <td>5189</td>\n",
       "      <td>501</td>\n",
       "      <td>38418529</td>\n",
       "      <td>22:00:00</td>\n",
       "      <td>7646969</td>\n",
       "      <td>23:02:00</td>\n",
       "      <td>23:00:09</td>\n",
       "      <td>32.178764</td>\n",
       "      <td>34.882263</td>\n",
       "    </tr>\n",
       "    <tr>\n",
       "      <th>1</th>\n",
       "      <td>2019-05-11T22:58:46.931</td>\n",
       "      <td>3</td>\n",
       "      <td>5189</td>\n",
       "      <td>501</td>\n",
       "      <td>38418529</td>\n",
       "      <td>22:00:00</td>\n",
       "      <td>7646969</td>\n",
       "      <td>23:01:00</td>\n",
       "      <td>22:58:51</td>\n",
       "      <td>32.179638</td>\n",
       "      <td>34.878040</td>\n",
       "    </tr>\n",
       "    <tr>\n",
       "      <th>2</th>\n",
       "      <td>2019-05-11T22:57:46.934</td>\n",
       "      <td>3</td>\n",
       "      <td>5189</td>\n",
       "      <td>501</td>\n",
       "      <td>38418529</td>\n",
       "      <td>22:00:00</td>\n",
       "      <td>7646969</td>\n",
       "      <td>23:03:00</td>\n",
       "      <td>22:57:54</td>\n",
       "      <td>32.180546</td>\n",
       "      <td>34.874229</td>\n",
       "    </tr>\n",
       "    <tr>\n",
       "      <th>3</th>\n",
       "      <td>2019-05-11T22:56:46.939</td>\n",
       "      <td>3</td>\n",
       "      <td>5189</td>\n",
       "      <td>501</td>\n",
       "      <td>38418529</td>\n",
       "      <td>22:00:00</td>\n",
       "      <td>7646969</td>\n",
       "      <td>23:02:00</td>\n",
       "      <td>22:57:03</td>\n",
       "      <td>32.181194</td>\n",
       "      <td>34.871098</td>\n",
       "    </tr>\n",
       "    <tr>\n",
       "      <th>4</th>\n",
       "      <td>2019-05-11T22:55:46.942</td>\n",
       "      <td>3</td>\n",
       "      <td>5189</td>\n",
       "      <td>501</td>\n",
       "      <td>38418529</td>\n",
       "      <td>22:00:00</td>\n",
       "      <td>7646969</td>\n",
       "      <td>23:02:00</td>\n",
       "      <td>22:56:10</td>\n",
       "      <td>32.182110</td>\n",
       "      <td>34.867115</td>\n",
       "    </tr>\n",
       "  </tbody>\n",
       "</table>\n",
       "</div>"
      ],
      "text/plain": [
       "                 timestamp  agency_id  route_id  route_short_name  service_id  \\\n",
       "0  2019-05-11T22:59:47.932          3      5189               501    38418529   \n",
       "1  2019-05-11T22:58:46.931          3      5189               501    38418529   \n",
       "2  2019-05-11T22:57:46.934          3      5189               501    38418529   \n",
       "3  2019-05-11T22:56:46.939          3      5189               501    38418529   \n",
       "4  2019-05-11T22:55:46.942          3      5189               501    38418529   \n",
       "\n",
       "  planned_start_time   bus_id predicted_end_time time_recorded        lat  \\\n",
       "0           22:00:00  7646969           23:02:00      23:00:09  32.178764   \n",
       "1           22:00:00  7646969           23:01:00      22:58:51  32.179638   \n",
       "2           22:00:00  7646969           23:03:00      22:57:54  32.180546   \n",
       "3           22:00:00  7646969           23:02:00      22:57:03  32.181194   \n",
       "4           22:00:00  7646969           23:02:00      22:56:10  32.182110   \n",
       "\n",
       "         lon  \n",
       "0  34.882263  \n",
       "1  34.878040  \n",
       "2  34.874229  \n",
       "3  34.871098  \n",
       "4  34.867115  "
      ]
     },
     "execution_count": 8,
     "metadata": {},
     "output_type": "execute_result"
    }
   ],
   "source": [
    "SIRI_data.head()"
   ]
  },
  {
   "cell_type": "markdown",
   "metadata": {},
   "source": [
    "**Some tips for splunk_query_builder function:**\n",
    "\n",
    "* Splunk search works better when using indexes for filtering. As for now, the function gets only one value per filter column (index), so you can't pass lists in query_kwargs.\n",
    "\n",
    "* indexex order is matter and can affect your performance. The best is to start with 'index', 'earliest' & 'latest'. This function will set the query accroding to query_kwargs keys order, except for this 3 indexes which will be placed in the start of the query regardless of query_kwargs order. \n",
    "\n",
    "* Use 'earliest' & 'latest' time modifiers to customize the time range of your search. You can specify an exact time such as earliest=\"10/5/2019:20:00:00\", or a relative time such as earliest=-1h or latest=@w6. To learn more about SPL TimeMoidifers see: https://docs.splunk.com/Documentation/Splunk/7.2.6/SearchReference/SearchTimeModifiers.\n",
    "\n",
    "* It's recommended to declare selected columns in query_kwargs ('columns').\n",
    "\n",
    "* You can limit the results number in query_kwargs ('max_columns').\n",
    "\n",
    "* Note that no results might be a result of a syntax error in column name/filter value.   \n"
   ]
  },
  {
   "cell_type": "markdown",
   "metadata": {},
   "source": [
    "## Step 6: Using loop for getting more the 50,000 results \n",
    "\n",
    "Splunk API limits the number of results per query to 50,000.\n",
    "\n",
    "As for now, to overcome this limitation you can use the following 'for' loop.\n",
    "\n",
    "**First, we will need to set a base query_kwargs.**\n",
    "\n",
    "For this example, lets query SIRI for one high frequency bus route in Jerusaelm (Line Route 15 of Egged)."
   ]
  },
  {
   "cell_type": "code",
   "execution_count": 9,
   "metadata": {},
   "outputs": [],
   "source": [
    "query_kwargs = {'index': 'siri',\n",
    "                'agency_id': 3,\n",
    "                'route_id': 12405,\n",
    "               'columns': ['timestamp','agency_id','route_id','route_short_name','service_id','planned_start_time',\n",
    "                        'bus_id','predicted_end_time','time_recorded','lat','lon']\n",
    "                }"
   ]
  },
  {
   "cell_type": "markdown",
   "metadata": {},
   "source": [
    "**Second, define time gaps (e.g days, hours, minutes) for the loop. The time gap need to be small enough for collecting no more then 50,000 results per run, and big enough for better performance.**\n",
    "\n",
    "See example of quering for last 30 days data using time gaps of 6 days."
   ]
  },
  {
   "cell_type": "code",
   "execution_count": 10,
   "metadata": {},
   "outputs": [
    {
     "name": "stdout",
     "output_type": "stream",
     "text": [
      "search from ('-6d', '-0d') to ('-30d', '-24d')\n"
     ]
    }
   ],
   "source": [
    "time_unit = 'd'\n",
    "earliest_time_units = 30\n",
    "latest_time_units = 0\n",
    "time_units_gap = 6\n",
    "\n",
    "earliest_latest =\\\n",
    "    [(\"-{}{}\".format(u+time_units_gap, time_unit), \"-{}{}\".format(u, time_unit)) for u in range(int(round(latest_time_units,0)),\n",
    "                                                                                               int(round(earliest_time_units,0)),\n",
    "                                                                                                int(round(time_units_gap,0)))] \n",
    "\n",
    "print (\"search from {} to {}\".format(earliest_latest[0], earliest_latest[-1]))"
   ]
  },
  {
   "cell_type": "code",
   "execution_count": 11,
   "metadata": {},
   "outputs": [
    {
     "name": "stdout",
     "output_type": "stream",
     "text": [
      "start..\n",
      "\n",
      "your query:\n",
      " search index=siri earliest=-6d latest=-0d agency_id=3 route_id=12405 |\n",
      " fields timestamp, agency_id, route_id, route_short_name, service_id, planned_start_time, bus_id, predicted_end_time, time_recorded, lat, lon |\n",
      "\n",
      "\n",
      "imports completed\n",
      "\n",
      "connection succeed\n",
      "\n",
      "query status: 100.0%   29979 scanned   29979 matched   29979 results\n",
      "\n",
      "Done!\n",
      "\n",
      "query succeed\n",
      "\n",
      "read results succeed\n",
      "\n",
      "job_canceled\n",
      "\n",
      "finished! number of rows: 29979\n",
      "\n",
      "start..\n",
      "\n",
      "your query:\n",
      " search index=siri earliest=-12d latest=-6d agency_id=3 route_id=12405 |\n",
      " fields timestamp, agency_id, route_id, route_short_name, service_id, planned_start_time, bus_id, predicted_end_time, time_recorded, lat, lon |\n",
      "\n",
      "\n",
      "imports completed\n",
      "\n",
      "connection succeed\n",
      "\n",
      "query status: 100.0%   41080 scanned   41080 matched   41080 results\n",
      "\n",
      "Done!\n",
      "\n",
      "query succeed\n",
      "\n",
      "read results succeed\n",
      "\n",
      "job_canceled\n",
      "\n",
      "finished! number of rows: 41080\n",
      "\n",
      "start..\n",
      "\n",
      "your query:\n",
      " search index=siri earliest=-18d latest=-12d agency_id=3 route_id=12405 |\n",
      " fields timestamp, agency_id, route_id, route_short_name, service_id, planned_start_time, bus_id, predicted_end_time, time_recorded, lat, lon |\n",
      "\n",
      "\n",
      "imports completed\n",
      "\n",
      "connection succeed\n",
      "\n",
      "query status: 100.0%   31435 scanned   31435 matched   31435 results\n",
      "\n",
      "Done!\n",
      "\n",
      "query succeed\n",
      "\n",
      "read results succeed\n",
      "\n",
      "job_canceled\n",
      "\n",
      "finished! number of rows: 31435\n",
      "\n",
      "start..\n",
      "\n",
      "your query:\n",
      " search index=siri earliest=-24d latest=-18d agency_id=3 route_id=12405 |\n",
      " fields timestamp, agency_id, route_id, route_short_name, service_id, planned_start_time, bus_id, predicted_end_time, time_recorded, lat, lon |\n",
      "\n",
      "\n",
      "imports completed\n",
      "\n",
      "connection succeed\n",
      "\n",
      "query status: 100.0%   34864 scanned   34864 matched   34864 results\n",
      "\n",
      "Done!\n",
      "\n",
      "query succeed\n",
      "\n",
      "read results succeed\n",
      "\n",
      "job_canceled\n",
      "\n",
      "finished! number of rows: 34864\n",
      "\n",
      "start..\n",
      "\n",
      "your query:\n",
      " search index=siri earliest=-30d latest=-24d agency_id=3 route_id=12405 |\n",
      " fields timestamp, agency_id, route_id, route_short_name, service_id, planned_start_time, bus_id, predicted_end_time, time_recorded, lat, lon |\n",
      "\n",
      "\n",
      "imports completed\n",
      "\n",
      "connection succeed\n",
      "\n",
      "query status: 100.0%   36049 scanned   36049 matched   36049 results\n",
      "\n",
      "Done!\n",
      "\n",
      "query succeed\n",
      "\n",
      "read results succeed\n",
      "\n",
      "job_canceled\n",
      "\n",
      "finished! number of rows: 36049\n",
      "\n",
      "Wall time: 59.7 s\n"
     ]
    }
   ],
   "source": [
    "%%time\n",
    "\n",
    "import pandas as pd\n",
    "\n",
    "SIRI_data = pd.DataFrame()\n",
    "\n",
    "for earliest, latest in earliest_latest:\n",
    "    \n",
    "    query_kwargs['earliest'] = earliest\n",
    "    query_kwargs['latest'] = latest\n",
    "    \n",
    "    data = read_splunk(splunk_query_builder(**query_kwargs),\n",
    "                host =  HOST, port = PORT, username = USERNAME, password = PASSWORD)\n",
    "        \n",
    "    if isinstance(data, pd.DataFrame) and len(data)==50000:\n",
    "        raise ValueError('')\n",
    "        break\n",
    "\n",
    "    else:\n",
    "        SIRI_data = SIRI_data.append(data)\n",
    "            \n",
    "SIRI_data.drop_duplicates(inplace=True)"
   ]
  },
  {
   "cell_type": "code",
   "execution_count": 12,
   "metadata": {},
   "outputs": [
    {
     "data": {
      "text/html": [
       "<div>\n",
       "<style scoped>\n",
       "    .dataframe tbody tr th:only-of-type {\n",
       "        vertical-align: middle;\n",
       "    }\n",
       "\n",
       "    .dataframe tbody tr th {\n",
       "        vertical-align: top;\n",
       "    }\n",
       "\n",
       "    .dataframe thead th {\n",
       "        text-align: right;\n",
       "    }\n",
       "</style>\n",
       "<table border=\"1\" class=\"dataframe\">\n",
       "  <thead>\n",
       "    <tr style=\"text-align: right;\">\n",
       "      <th></th>\n",
       "      <th>timestamp</th>\n",
       "      <th>agency_id</th>\n",
       "      <th>route_id</th>\n",
       "      <th>route_short_name</th>\n",
       "      <th>service_id</th>\n",
       "      <th>planned_start_time</th>\n",
       "      <th>bus_id</th>\n",
       "      <th>predicted_end_time</th>\n",
       "      <th>time_recorded</th>\n",
       "      <th>lat</th>\n",
       "      <th>lon</th>\n",
       "    </tr>\n",
       "  </thead>\n",
       "  <tbody>\n",
       "    <tr>\n",
       "      <th>0</th>\n",
       "      <td>2019-05-11T23:59:00.404</td>\n",
       "      <td>3</td>\n",
       "      <td>12405</td>\n",
       "      <td>15</td>\n",
       "      <td>38433040</td>\n",
       "      <td>00:00:00</td>\n",
       "      <td>7560969</td>\n",
       "      <td>00:25:00</td>\n",
       "      <td>23:58:10</td>\n",
       "      <td>31.785391</td>\n",
       "      <td>35.200584</td>\n",
       "    </tr>\n",
       "    <tr>\n",
       "      <th>1</th>\n",
       "      <td>2019-05-11T23:59:00.404</td>\n",
       "      <td>3</td>\n",
       "      <td>12405</td>\n",
       "      <td>15</td>\n",
       "      <td>38433039</td>\n",
       "      <td>23:48:00</td>\n",
       "      <td>7560869</td>\n",
       "      <td>00:14:00</td>\n",
       "      <td>23:59:22</td>\n",
       "      <td>31.785318</td>\n",
       "      <td>35.207443</td>\n",
       "    </tr>\n",
       "    <tr>\n",
       "      <th>2</th>\n",
       "      <td>2019-05-11T23:58:00.328</td>\n",
       "      <td>3</td>\n",
       "      <td>12405</td>\n",
       "      <td>15</td>\n",
       "      <td>38433040</td>\n",
       "      <td>00:00:00</td>\n",
       "      <td>7560969</td>\n",
       "      <td>00:25:00</td>\n",
       "      <td>23:58:10</td>\n",
       "      <td>31.785391</td>\n",
       "      <td>35.200584</td>\n",
       "    </tr>\n",
       "    <tr>\n",
       "      <th>3</th>\n",
       "      <td>2019-05-11T23:58:00.328</td>\n",
       "      <td>3</td>\n",
       "      <td>12405</td>\n",
       "      <td>15</td>\n",
       "      <td>38433039</td>\n",
       "      <td>23:48:00</td>\n",
       "      <td>7560869</td>\n",
       "      <td>00:14:00</td>\n",
       "      <td>23:58:10</td>\n",
       "      <td>31.786251</td>\n",
       "      <td>35.205868</td>\n",
       "    </tr>\n",
       "    <tr>\n",
       "      <th>4</th>\n",
       "      <td>2019-05-11T23:57:00.338</td>\n",
       "      <td>3</td>\n",
       "      <td>12405</td>\n",
       "      <td>15</td>\n",
       "      <td>38433040</td>\n",
       "      <td>00:00:00</td>\n",
       "      <td>7560969</td>\n",
       "      <td>00:25:00</td>\n",
       "      <td>03:39:58</td>\n",
       "      <td>0.000000</td>\n",
       "      <td>0.000000</td>\n",
       "    </tr>\n",
       "  </tbody>\n",
       "</table>\n",
       "</div>"
      ],
      "text/plain": [
       "                 timestamp  agency_id  route_id  route_short_name  service_id  \\\n",
       "0  2019-05-11T23:59:00.404          3     12405                15    38433040   \n",
       "1  2019-05-11T23:59:00.404          3     12405                15    38433039   \n",
       "2  2019-05-11T23:58:00.328          3     12405                15    38433040   \n",
       "3  2019-05-11T23:58:00.328          3     12405                15    38433039   \n",
       "4  2019-05-11T23:57:00.338          3     12405                15    38433040   \n",
       "\n",
       "  planned_start_time   bus_id predicted_end_time time_recorded        lat  \\\n",
       "0           00:00:00  7560969           00:25:00      23:58:10  31.785391   \n",
       "1           23:48:00  7560869           00:14:00      23:59:22  31.785318   \n",
       "2           00:00:00  7560969           00:25:00      23:58:10  31.785391   \n",
       "3           23:48:00  7560869           00:14:00      23:58:10  31.786251   \n",
       "4           00:00:00  7560969           00:25:00      03:39:58   0.000000   \n",
       "\n",
       "         lon  \n",
       "0  35.200584  \n",
       "1  35.207443  \n",
       "2  35.200584  \n",
       "3  35.205868  \n",
       "4   0.000000  "
      ]
     },
     "execution_count": 12,
     "metadata": {},
     "output_type": "execute_result"
    }
   ],
   "source": [
    "SIRI_data.head()"
   ]
  },
  {
   "cell_type": "code",
   "execution_count": 13,
   "metadata": {},
   "outputs": [
    {
     "data": {
      "text/plain": [
       "173407"
      ]
     },
     "execution_count": 13,
     "metadata": {},
     "output_type": "execute_result"
    }
   ],
   "source": [
    "len(SIRI_data)"
   ]
  },
  {
   "cell_type": "code",
   "execution_count": null,
   "metadata": {},
   "outputs": [],
   "source": []
  },
  {
   "cell_type": "code",
   "execution_count": null,
   "metadata": {},
   "outputs": [],
   "source": []
  }
 ],
 "metadata": {
  "kernelspec": {
   "display_name": "Python 3",
   "language": "python",
   "name": "python3"
  },
  "language_info": {
   "codemirror_mode": {
    "name": "ipython",
    "version": 3
   },
   "file_extension": ".py",
   "mimetype": "text/x-python",
   "name": "python",
   "nbconvert_exporter": "python",
   "pygments_lexer": "ipython3",
   "version": "3.6.5"
  }
 },
 "nbformat": 4,
 "nbformat_minor": 2
}
