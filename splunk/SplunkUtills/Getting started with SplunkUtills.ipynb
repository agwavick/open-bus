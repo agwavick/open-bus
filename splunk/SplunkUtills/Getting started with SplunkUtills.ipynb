{
 "cells": [
  {
   "cell_type": "markdown",
   "metadata": {},
   "source": [
    "# Getting started with SplunkUtills\n",
    "\n",
    "SplunkUtills is an API for Splunk database, which can be used for querying SIRI and GTFS data into Pandas DataFrame. "
   ]
  },
  {
   "cell_type": "markdown",
   "metadata": {},
   "source": [
    "## Step 1: Install  splunk-sdk\n",
    "\n",
    "SplunkUtills requires installing splunk-sdk package.\n",
    "\n",
    "You can use pip for installation."
   ]
  },
  {
   "cell_type": "code",
   "execution_count": 1,
   "metadata": {},
   "outputs": [
    {
     "name": "stdout",
     "output_type": "stream",
     "text": [
      "Requirement already satisfied: splunk-sdk in c:\\users\\eyal berger\\anaconda3\\lib\\site-packages (1.6.6)\n"
     ]
    },
    {
     "name": "stderr",
     "output_type": "stream",
     "text": [
      "You are using pip version 18.0, however version 19.1.1 is available.\n",
      "You should consider upgrading via the 'python -m pip install --upgrade pip' command.\n"
     ]
    }
   ],
   "source": [
    "!pip install splunk-sdk"
   ]
  },
  {
   "cell_type": "markdown",
   "metadata": {},
   "source": [
    "## Step 2:  Set Splunk credentials\n",
    "\n",
    "One must have Splunk credentials (host, port, username, password) to set a connection to Splunk using SplunkUtills.\n",
    "\n",
    "Note that the port is Splunk management port and not web port.\n",
    "\n",
    "You can save your credentials in json file as in the following example or simply hard-coded them."
   ]
  },
  {
   "cell_type": "code",
   "execution_count": 2,
   "metadata": {},
   "outputs": [],
   "source": [
    "import json\n",
    "\n",
    "with open('credentials.json', 'r') as f:\n",
    "    credentials = json.load(f)\n",
    "    \n",
    "HOST, PORT, USERNAME, PASSWORD = credentials.values()"
   ]
  },
  {
   "cell_type": "markdown",
   "metadata": {},
   "source": [
    "## Step 3: Download & import SplunkUtills\n",
    "\n",
    "Download SplunkUtills.py (needs to be located at the same folder as this notebook).\n",
    "\n",
    "Then import **splunk_query_builder** and **read_splunk** from SplunkUtills."
   ]
  },
  {
   "cell_type": "code",
   "execution_count": 3,
   "metadata": {},
   "outputs": [],
   "source": [
    "from SplunkUtills import splunk_query_builder, read_splunk"
   ]
  },
  {
   "cell_type": "markdown",
   "metadata": {},
   "source": [
    "## Step 4: Read Splunk function \n",
    "\n",
    "Args:\n",
    "   * query (str): SPL query.\n",
    "   * username (str): Splunk username.\n",
    "   * password (str): Splunk password.\n",
    "   * host (str): Splunk host.\n",
    "   * port (int): Splunk management port.\n",
    "   * time_limit (int): time limit (minutes) for the query (default: 5).\n",
    "   \n",
    "Returns:\n",
    "    DataFrame: query results.\n",
    "    \n",
    "**For example lets query the GTFS (route_stats) using Splunk's Search Processing Language (SPL).**"
   ]
  },
  {
   "cell_type": "code",
   "execution_count": 4,
   "metadata": {},
   "outputs": [
    {
     "name": "stdout",
     "output_type": "stream",
     "text": [
      "start..\n",
      "\n",
      "your query:\n",
      " search index=route_stats earliest=-12d latest=-10d route_id=5189|\n",
      "\n",
      "        fields agency_id, route_short_name, route_id, date, all_start_time |\n",
      " \n",
      "\n",
      "connection succeed\n",
      "\n",
      "query status: 100.0%   11 scanned   2 matched   2 results\n",
      "\n",
      "Done!\n",
      "\n",
      "query succeed\n",
      "\n",
      "read results succeed\n",
      "\n",
      "job finished and canceled\n",
      "\n",
      "finished! number of rows: 2\n",
      "\n",
      "Wall time: 4.17 s\n"
     ]
    }
   ],
   "source": [
    "%%time\n",
    "\n",
    "query = '''search index=route_stats earliest=-12d latest=-10d route_id=5189|\n",
    "        fields agency_id, route_short_name, route_id, date, all_start_time | '''\n",
    "\n",
    "GTFS_data = read_splunk(query,\n",
    "          host =  HOST, port = PORT, username = USERNAME, password = PASSWORD)"
   ]
  },
  {
   "cell_type": "code",
   "execution_count": 5,
   "metadata": {},
   "outputs": [
    {
     "data": {
      "text/html": [
       "<div>\n",
       "<style scoped>\n",
       "    .dataframe tbody tr th:only-of-type {\n",
       "        vertical-align: middle;\n",
       "    }\n",
       "\n",
       "    .dataframe tbody tr th {\n",
       "        vertical-align: top;\n",
       "    }\n",
       "\n",
       "    .dataframe thead th {\n",
       "        text-align: right;\n",
       "    }\n",
       "</style>\n",
       "<table border=\"1\" class=\"dataframe\">\n",
       "  <thead>\n",
       "    <tr style=\"text-align: right;\">\n",
       "      <th></th>\n",
       "      <th>agency_id</th>\n",
       "      <th>route_short_name</th>\n",
       "      <th>route_id</th>\n",
       "      <th>date</th>\n",
       "      <th>all_start_time</th>\n",
       "    </tr>\n",
       "  </thead>\n",
       "  <tbody>\n",
       "    <tr>\n",
       "      <th>0</th>\n",
       "      <td>3</td>\n",
       "      <td>501</td>\n",
       "      <td>5189</td>\n",
       "      <td>2019-05-18</td>\n",
       "      <td>20:50:00;20:50:00;21:00:00;21:15:00;21:30:00;2...</td>\n",
       "    </tr>\n",
       "    <tr>\n",
       "      <th>1</th>\n",
       "      <td>3</td>\n",
       "      <td>501</td>\n",
       "      <td>5189</td>\n",
       "      <td>2019-05-17</td>\n",
       "      <td>05:30:00;05:45:00;05:55:00;06:05:00;06:15:00;0...</td>\n",
       "    </tr>\n",
       "  </tbody>\n",
       "</table>\n",
       "</div>"
      ],
      "text/plain": [
       "   agency_id  route_short_name  route_id        date  \\\n",
       "0          3               501      5189  2019-05-18   \n",
       "1          3               501      5189  2019-05-17   \n",
       "\n",
       "                                      all_start_time  \n",
       "0  20:50:00;20:50:00;21:00:00;21:15:00;21:30:00;2...  \n",
       "1  05:30:00;05:45:00;05:55:00;06:05:00;06:15:00;0...  "
      ]
     },
     "execution_count": 5,
     "metadata": {},
     "output_type": "execute_result"
    }
   ],
   "source": [
    "GTFS_data.head()"
   ]
  },
  {
   "cell_type": "markdown",
   "metadata": {},
   "source": [
    "**Note that read_splunk function runs a Splunk job. One might send a very heavy query/ies which can fail the connection.\n",
    "You can stop and delete jobs using Splunk app Job Manager.**"
   ]
  },
  {
   "cell_type": "markdown",
   "metadata": {},
   "source": [
    "## Step 5:  Splunk Query Builder function\n",
    "\n",
    "To save time of learning the SPL syntax, you can use this function, which creates SPL query from Dictionary of query Kwargs.\n",
    "\n",
    "**For example lets query SIRI using splunk_query_builder function.**\n",
    "\n",
    "\n",
    "**First, we will need to set our query_kwargs for filtering by columns values.**"
   ]
  },
  {
   "cell_type": "code",
   "execution_count": 6,
   "metadata": {},
   "outputs": [],
   "source": [
    "query_kwargs = {\n",
    "                'index': 'siri',\n",
    "                'earliest': '-10d', #=last 10 days\n",
    "                #'latest': '-8d',\n",
    "                #'agency_id': 3,\n",
    "                'route_short_name': 501,\n",
    "                'route_id': 5189,\n",
    "                'planned_start_time': '22:00:00',\n",
    "               #'max_columns': 100000,\n",
    "               'columns': ['timestamp','agency_id','route_id','route_short_name','service_id','planned_start_time',\n",
    "                        'bus_id','predicted_end_time','time_recorded','lat','lon']\n",
    "                }"
   ]
  },
  {
   "cell_type": "code",
   "execution_count": 7,
   "metadata": {},
   "outputs": [
    {
     "name": "stdout",
     "output_type": "stream",
     "text": [
      "start..\n",
      "\n",
      "your query:\n",
      " search index=siri earliest=-10d route_short_name=501 route_id=5189 planned_start_time=22:00:00 |\n",
      " fields timestamp, agency_id, route_id, route_short_name, service_id, planned_start_time, bus_id, predicted_end_time, time_recorded, lat, lon |\n",
      "\n",
      "\n",
      "connection succeed\n",
      "\n",
      "query status: 100.0%   22263 scanned   909 matched   909 results\n",
      "\n",
      "Done!\n",
      "\n",
      "query succeed\n",
      "\n",
      "read results succeed\n",
      "\n",
      "job finished and canceled\n",
      "\n",
      "finished! number of rows: 909\n",
      "\n",
      "Wall time: 6.02 s\n"
     ]
    }
   ],
   "source": [
    "%%time\n",
    "\n",
    "SIRI_data = read_splunk(splunk_query_builder(**query_kwargs),\n",
    "          host =  HOST, port = PORT, username = USERNAME, password = PASSWORD)"
   ]
  },
  {
   "cell_type": "code",
   "execution_count": 8,
   "metadata": {
    "scrolled": true
   },
   "outputs": [
    {
     "data": {
      "text/html": [
       "<div>\n",
       "<style scoped>\n",
       "    .dataframe tbody tr th:only-of-type {\n",
       "        vertical-align: middle;\n",
       "    }\n",
       "\n",
       "    .dataframe tbody tr th {\n",
       "        vertical-align: top;\n",
       "    }\n",
       "\n",
       "    .dataframe thead th {\n",
       "        text-align: right;\n",
       "    }\n",
       "</style>\n",
       "<table border=\"1\" class=\"dataframe\">\n",
       "  <thead>\n",
       "    <tr style=\"text-align: right;\">\n",
       "      <th></th>\n",
       "      <th>timestamp</th>\n",
       "      <th>agency_id</th>\n",
       "      <th>route_id</th>\n",
       "      <th>route_short_name</th>\n",
       "      <th>service_id</th>\n",
       "      <th>planned_start_time</th>\n",
       "      <th>bus_id</th>\n",
       "      <th>predicted_end_time</th>\n",
       "      <th>time_recorded</th>\n",
       "      <th>lat</th>\n",
       "      <th>lon</th>\n",
       "    </tr>\n",
       "  </thead>\n",
       "  <tbody>\n",
       "    <tr>\n",
       "      <th>0</th>\n",
       "      <td>2019-05-27T23:01:41.087</td>\n",
       "      <td>3</td>\n",
       "      <td>5189</td>\n",
       "      <td>501</td>\n",
       "      <td>38805321</td>\n",
       "      <td>22:00:00</td>\n",
       "      <td>7647969</td>\n",
       "      <td>23:03:00</td>\n",
       "      <td>23:01:38</td>\n",
       "      <td>32.178345</td>\n",
       "      <td>34.884399</td>\n",
       "    </tr>\n",
       "    <tr>\n",
       "      <th>1</th>\n",
       "      <td>2019-05-27T23:00:41.093</td>\n",
       "      <td>3</td>\n",
       "      <td>5189</td>\n",
       "      <td>501</td>\n",
       "      <td>38805321</td>\n",
       "      <td>22:00:00</td>\n",
       "      <td>7647969</td>\n",
       "      <td>23:03:00</td>\n",
       "      <td>23:00:39</td>\n",
       "      <td>32.179306</td>\n",
       "      <td>34.879978</td>\n",
       "    </tr>\n",
       "    <tr>\n",
       "      <th>2</th>\n",
       "      <td>2019-05-27T22:59:41.098</td>\n",
       "      <td>3</td>\n",
       "      <td>5189</td>\n",
       "      <td>501</td>\n",
       "      <td>38805321</td>\n",
       "      <td>22:00:00</td>\n",
       "      <td>7647969</td>\n",
       "      <td>23:03:00</td>\n",
       "      <td>22:59:17</td>\n",
       "      <td>32.179943</td>\n",
       "      <td>34.877132</td>\n",
       "    </tr>\n",
       "    <tr>\n",
       "      <th>3</th>\n",
       "      <td>2019-05-27T22:58:41.096</td>\n",
       "      <td>3</td>\n",
       "      <td>5189</td>\n",
       "      <td>501</td>\n",
       "      <td>38805321</td>\n",
       "      <td>22:00:00</td>\n",
       "      <td>7647969</td>\n",
       "      <td>23:03:00</td>\n",
       "      <td>22:58:40</td>\n",
       "      <td>32.180897</td>\n",
       "      <td>34.872967</td>\n",
       "    </tr>\n",
       "    <tr>\n",
       "      <th>4</th>\n",
       "      <td>2019-05-27T22:57:41.107</td>\n",
       "      <td>3</td>\n",
       "      <td>5189</td>\n",
       "      <td>501</td>\n",
       "      <td>38805321</td>\n",
       "      <td>22:00:00</td>\n",
       "      <td>7647969</td>\n",
       "      <td>23:02:00</td>\n",
       "      <td>22:57:14</td>\n",
       "      <td>32.181488</td>\n",
       "      <td>34.870110</td>\n",
       "    </tr>\n",
       "  </tbody>\n",
       "</table>\n",
       "</div>"
      ],
      "text/plain": [
       "                 timestamp  agency_id  route_id  route_short_name  service_id  \\\n",
       "0  2019-05-27T23:01:41.087          3      5189               501    38805321   \n",
       "1  2019-05-27T23:00:41.093          3      5189               501    38805321   \n",
       "2  2019-05-27T22:59:41.098          3      5189               501    38805321   \n",
       "3  2019-05-27T22:58:41.096          3      5189               501    38805321   \n",
       "4  2019-05-27T22:57:41.107          3      5189               501    38805321   \n",
       "\n",
       "  planned_start_time   bus_id predicted_end_time time_recorded        lat  \\\n",
       "0           22:00:00  7647969           23:03:00      23:01:38  32.178345   \n",
       "1           22:00:00  7647969           23:03:00      23:00:39  32.179306   \n",
       "2           22:00:00  7647969           23:03:00      22:59:17  32.179943   \n",
       "3           22:00:00  7647969           23:03:00      22:58:40  32.180897   \n",
       "4           22:00:00  7647969           23:02:00      22:57:14  32.181488   \n",
       "\n",
       "         lon  \n",
       "0  34.884399  \n",
       "1  34.879978  \n",
       "2  34.877132  \n",
       "3  34.872967  \n",
       "4  34.870110  "
      ]
     },
     "execution_count": 8,
     "metadata": {},
     "output_type": "execute_result"
    }
   ],
   "source": [
    "SIRI_data.head()"
   ]
  },
  {
   "cell_type": "markdown",
   "metadata": {},
   "source": [
    "**Some tips for splunk_query_builder function:**\n",
    "\n",
    "* Splunk search works better when using indexes for filtering. As for now, the function gets only one value per filter column (index), so you can't pass lists in query_kwargs.\n",
    "\n",
    "* Use 'earliest' & 'latest' time modifiers to customize the time range of your search. You can specify an exact time such as earliest=\"10/5/2019:20:00:00\", or a relative time such as earliest=-1h or latest=@w6. To learn more about SPL TimeMoidifers see: https://docs.splunk.com/Documentation/Splunk/7.2.6/SearchReference/SearchTimeModifiers.\n",
    "\n",
    "* It's recommended to declare selected columns in query_kwargs ('columns').\n",
    "\n",
    "* You can limit the results number in query_kwargs ('max_columns').\n",
    "\n",
    "* Note that no results might be a result of a syntax error in column name/filter value.   \n"
   ]
  },
  {
   "cell_type": "markdown",
   "metadata": {},
   "source": [
    "## Step 6: Using loop for getting more the 50,000 results \n",
    "\n",
    "Splunk API limits the number of results per query to 50,000.\n",
    "\n",
    "As for now, to overcome this limitation you can use the following 'for' loop.\n",
    "\n",
    "**First, we will need to set a base query_kwargs.**\n",
    "\n",
    "For this example, lets query SIRI for one high frequency bus route in Jerusaelm (Line Route 15 of Egged)."
   ]
  },
  {
   "cell_type": "code",
   "execution_count": 9,
   "metadata": {},
   "outputs": [],
   "source": [
    "query_kwargs = {'index': 'siri',\n",
    "                'agency_id': 3,\n",
    "                'route_id': 12405,\n",
    "               'columns': ['timestamp','agency_id','route_id','route_short_name','service_id','planned_start_time',\n",
    "                        'bus_id','predicted_end_time','time_recorded','lat','lon']\n",
    "                }"
   ]
  },
  {
   "cell_type": "markdown",
   "metadata": {},
   "source": [
    "**Second, define time gaps (e.g days, hours, minutes) for the loop. The time gap need to be small enough for collecting no more then 50,000 results per run, and big enough for better performance.**\n",
    "\n",
    "See example of quering for last 30 days data using time gaps of 6 days."
   ]
  },
  {
   "cell_type": "code",
   "execution_count": 10,
   "metadata": {},
   "outputs": [
    {
     "name": "stdout",
     "output_type": "stream",
     "text": [
      "search from ('-6d', '-0d') to ('-30d', '-24d')\n"
     ]
    }
   ],
   "source": [
    "time_unit = 'd'\n",
    "earliest_time_units = 30\n",
    "latest_time_units = 0\n",
    "time_units_gap = 6\n",
    "\n",
    "earliest_latest =\\\n",
    "    [(\"-{}{}\".format(u+time_units_gap, time_unit), \"-{}{}\".format(u, time_unit)) for u in range(int(round(latest_time_units,0)),\n",
    "                                                                                               int(round(earliest_time_units,0)),\n",
    "                                                                                                int(round(time_units_gap,0)))] \n",
    "\n",
    "print (\"search from {} to {}\".format(earliest_latest[0], earliest_latest[-1]))"
   ]
  },
  {
   "cell_type": "code",
   "execution_count": 11,
   "metadata": {},
   "outputs": [
    {
     "name": "stdout",
     "output_type": "stream",
     "text": [
      "start..\n",
      "\n",
      "your query:\n",
      " search index=siri earliest=-6d latest=-0d agency_id=3 route_id=12405 |\n",
      " fields timestamp, agency_id, route_id, route_short_name, service_id, planned_start_time, bus_id, predicted_end_time, time_recorded, lat, lon |\n",
      "\n",
      "\n",
      "connection succeed\n",
      "\n",
      "query status: 100.0%   32483 scanned   32483 matched   32483 results\n",
      "\n",
      "Done!\n",
      "\n",
      "query succeed\n",
      "\n",
      "read results succeed\n",
      "\n",
      "job finished and canceled\n",
      "\n",
      "finished! number of rows: 32483\n",
      "\n",
      "start..\n",
      "\n",
      "your query:\n",
      " search index=siri earliest=-12d latest=-6d agency_id=3 route_id=12405 |\n",
      " fields timestamp, agency_id, route_id, route_short_name, service_id, planned_start_time, bus_id, predicted_end_time, time_recorded, lat, lon |\n",
      "\n",
      "\n",
      "connection succeed\n",
      "\n",
      "query status: 100.0%   41462 scanned   41462 matched   41462 results\n",
      "\n",
      "Done!\n",
      "\n",
      "query succeed\n",
      "\n",
      "read results succeed\n",
      "\n",
      "job finished and canceled\n",
      "\n",
      "finished! number of rows: 41462\n",
      "\n",
      "start..\n",
      "\n",
      "your query:\n",
      " search index=siri earliest=-18d latest=-12d agency_id=3 route_id=12405 |\n",
      " fields timestamp, agency_id, route_id, route_short_name, service_id, planned_start_time, bus_id, predicted_end_time, time_recorded, lat, lon |\n",
      "\n",
      "\n",
      "connection succeed\n",
      "\n",
      "query status: 100.0%   45486 scanned   45486 matched   45486 results\n",
      "\n",
      "Done!\n",
      "\n",
      "query succeed\n",
      "\n",
      "read results succeed\n",
      "\n",
      "job finished and canceled\n",
      "\n",
      "finished! number of rows: 45486\n",
      "\n",
      "start..\n",
      "\n",
      "your query:\n",
      " search index=siri earliest=-24d latest=-18d agency_id=3 route_id=12405 |\n",
      " fields timestamp, agency_id, route_id, route_short_name, service_id, planned_start_time, bus_id, predicted_end_time, time_recorded, lat, lon |\n",
      "\n",
      "\n",
      "connection succeed\n",
      "\n",
      "query status: 100.0%   45406 scanned   45406 matched   45406 results\n",
      "\n",
      "Done!\n",
      "\n",
      "query succeed\n",
      "\n",
      "read results succeed\n",
      "\n",
      "job finished and canceled\n",
      "\n",
      "finished! number of rows: 45406\n",
      "\n",
      "start..\n",
      "\n",
      "your query:\n",
      " search index=siri earliest=-30d latest=-24d agency_id=3 route_id=12405 |\n",
      " fields timestamp, agency_id, route_id, route_short_name, service_id, planned_start_time, bus_id, predicted_end_time, time_recorded, lat, lon |\n",
      "\n",
      "\n",
      "connection succeed\n",
      "\n",
      "query status: 100.0%   40967 scanned   40967 matched   40967 results\n",
      "\n",
      "Done!\n",
      "\n",
      "query succeed\n",
      "\n",
      "read results succeed\n",
      "\n",
      "job finished and canceled\n",
      "\n",
      "finished! number of rows: 40967\n",
      "\n",
      "Wall time: 1min 23s\n"
     ]
    }
   ],
   "source": [
    "%%time\n",
    "\n",
    "import pandas as pd\n",
    "\n",
    "SIRI_data = pd.DataFrame()\n",
    "\n",
    "for earliest, latest in earliest_latest:\n",
    "    \n",
    "    query_kwargs['earliest'] = earliest\n",
    "    query_kwargs['latest'] = latest\n",
    "    \n",
    "    data = read_splunk(splunk_query_builder(**query_kwargs),\n",
    "                host =  HOST, port = PORT, username = USERNAME, password = PASSWORD)\n",
    "        \n",
    "    if isinstance(data, pd.DataFrame) and len(data)==50000:\n",
    "        print ('\\n\\nCollecting results stopped!\\n\\n')\n",
    "        break\n",
    "\n",
    "    else:\n",
    "        SIRI_data = SIRI_data.append(data)\n",
    "            \n",
    "SIRI_data.drop_duplicates(inplace=True)"
   ]
  },
  {
   "cell_type": "code",
   "execution_count": 12,
   "metadata": {},
   "outputs": [
    {
     "data": {
      "text/html": [
       "<div>\n",
       "<style scoped>\n",
       "    .dataframe tbody tr th:only-of-type {\n",
       "        vertical-align: middle;\n",
       "    }\n",
       "\n",
       "    .dataframe tbody tr th {\n",
       "        vertical-align: top;\n",
       "    }\n",
       "\n",
       "    .dataframe thead th {\n",
       "        text-align: right;\n",
       "    }\n",
       "</style>\n",
       "<table border=\"1\" class=\"dataframe\">\n",
       "  <thead>\n",
       "    <tr style=\"text-align: right;\">\n",
       "      <th></th>\n",
       "      <th>timestamp</th>\n",
       "      <th>agency_id</th>\n",
       "      <th>route_id</th>\n",
       "      <th>route_short_name</th>\n",
       "      <th>service_id</th>\n",
       "      <th>planned_start_time</th>\n",
       "      <th>bus_id</th>\n",
       "      <th>predicted_end_time</th>\n",
       "      <th>time_recorded</th>\n",
       "      <th>lat</th>\n",
       "      <th>lon</th>\n",
       "    </tr>\n",
       "  </thead>\n",
       "  <tbody>\n",
       "    <tr>\n",
       "      <th>0</th>\n",
       "      <td>2019-05-27T23:59:50.121</td>\n",
       "      <td>3</td>\n",
       "      <td>12405</td>\n",
       "      <td>15</td>\n",
       "      <td>38788210</td>\n",
       "      <td>00:05:00</td>\n",
       "      <td>7545669</td>\n",
       "      <td>00:24:00</td>\n",
       "      <td>23:23:51</td>\n",
       "      <td>0.000000</td>\n",
       "      <td>0.000000</td>\n",
       "    </tr>\n",
       "    <tr>\n",
       "      <th>1</th>\n",
       "      <td>2019-05-27T23:59:50.121</td>\n",
       "      <td>3</td>\n",
       "      <td>12405</td>\n",
       "      <td>15</td>\n",
       "      <td>38788209</td>\n",
       "      <td>23:45:00</td>\n",
       "      <td>7795269</td>\n",
       "      <td>00:11:00</td>\n",
       "      <td>23:59:50</td>\n",
       "      <td>31.771980</td>\n",
       "      <td>35.208755</td>\n",
       "    </tr>\n",
       "    <tr>\n",
       "      <th>2</th>\n",
       "      <td>2019-05-27T23:58:48.68</td>\n",
       "      <td>3</td>\n",
       "      <td>12405</td>\n",
       "      <td>15</td>\n",
       "      <td>38788210</td>\n",
       "      <td>00:05:00</td>\n",
       "      <td>7545669</td>\n",
       "      <td>00:24:00</td>\n",
       "      <td>23:23:51</td>\n",
       "      <td>0.000000</td>\n",
       "      <td>0.000000</td>\n",
       "    </tr>\n",
       "    <tr>\n",
       "      <th>3</th>\n",
       "      <td>2019-05-27T23:58:48.68</td>\n",
       "      <td>3</td>\n",
       "      <td>12405</td>\n",
       "      <td>15</td>\n",
       "      <td>38788209</td>\n",
       "      <td>23:45:00</td>\n",
       "      <td>7795269</td>\n",
       "      <td>00:11:00</td>\n",
       "      <td>23:58:43</td>\n",
       "      <td>31.776648</td>\n",
       "      <td>35.209023</td>\n",
       "    </tr>\n",
       "    <tr>\n",
       "      <th>4</th>\n",
       "      <td>2019-05-27T23:57:47.229</td>\n",
       "      <td>3</td>\n",
       "      <td>12405</td>\n",
       "      <td>15</td>\n",
       "      <td>38788210</td>\n",
       "      <td>00:05:00</td>\n",
       "      <td>7545669</td>\n",
       "      <td>00:24:00</td>\n",
       "      <td>23:23:51</td>\n",
       "      <td>0.000000</td>\n",
       "      <td>0.000000</td>\n",
       "    </tr>\n",
       "  </tbody>\n",
       "</table>\n",
       "</div>"
      ],
      "text/plain": [
       "                 timestamp  agency_id  route_id  route_short_name  service_id  \\\n",
       "0  2019-05-27T23:59:50.121          3     12405                15    38788210   \n",
       "1  2019-05-27T23:59:50.121          3     12405                15    38788209   \n",
       "2   2019-05-27T23:58:48.68          3     12405                15    38788210   \n",
       "3   2019-05-27T23:58:48.68          3     12405                15    38788209   \n",
       "4  2019-05-27T23:57:47.229          3     12405                15    38788210   \n",
       "\n",
       "  planned_start_time   bus_id predicted_end_time time_recorded        lat  \\\n",
       "0           00:05:00  7545669           00:24:00      23:23:51   0.000000   \n",
       "1           23:45:00  7795269           00:11:00      23:59:50  31.771980   \n",
       "2           00:05:00  7545669           00:24:00      23:23:51   0.000000   \n",
       "3           23:45:00  7795269           00:11:00      23:58:43  31.776648   \n",
       "4           00:05:00  7545669           00:24:00      23:23:51   0.000000   \n",
       "\n",
       "         lon  \n",
       "0   0.000000  \n",
       "1  35.208755  \n",
       "2   0.000000  \n",
       "3  35.209023  \n",
       "4   0.000000  "
      ]
     },
     "execution_count": 12,
     "metadata": {},
     "output_type": "execute_result"
    }
   ],
   "source": [
    "SIRI_data.head()"
   ]
  },
  {
   "cell_type": "code",
   "execution_count": 13,
   "metadata": {},
   "outputs": [
    {
     "data": {
      "text/plain": [
       "205804"
      ]
     },
     "execution_count": 13,
     "metadata": {},
     "output_type": "execute_result"
    }
   ],
   "source": [
    "len(SIRI_data)"
   ]
  },
  {
   "cell_type": "code",
   "execution_count": null,
   "metadata": {},
   "outputs": [],
   "source": []
  },
  {
   "cell_type": "code",
   "execution_count": null,
   "metadata": {},
   "outputs": [],
   "source": []
  }
 ],
 "metadata": {
  "kernelspec": {
   "display_name": "Python 3",
   "language": "python",
   "name": "python3"
  },
  "language_info": {
   "codemirror_mode": {
    "name": "ipython",
    "version": 3
   },
   "file_extension": ".py",
   "mimetype": "text/x-python",
   "name": "python",
   "nbconvert_exporter": "python",
   "pygments_lexer": "ipython3",
   "version": "3.6.5"
  }
 },
 "nbformat": 4,
 "nbformat_minor": 2
}
