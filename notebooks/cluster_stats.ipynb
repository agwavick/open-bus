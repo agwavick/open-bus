{
 "cells": [
  {
   "cell_type": "markdown",
   "metadata": {},
   "source": [
    "# GTSF Cluster stats\n",
    "\n",
    "Get basic statistics of the different cluster in the israeli transportation system"
   ]
  },
  {
   "cell_type": "code",
   "execution_count": null,
   "metadata": {},
   "outputs": [],
   "source": [
    "# Download files\n",
    "\n",
    "import os\n",
    "\n",
    "from gtfs_utils import get_cluster_to_line_df, get_ftp_file\n",
    "\n",
    "FILES_DIR = \"/tmp/openbus\"\n",
    "CLUSTER_FILE = \"ClusterToLine.zip\"\n",
    "GTFS_FILE = \"gtfs.zip\"\n",
    "\n",
    "os.makedirs(FILES_DIR, exist_ok=True)\n",
    "cluster_path = os.path.join(FILES_DIR, CLUSTER_FILE)\n",
    "try:\n",
    "    get_ftp_file(file_name=CLUSTER_FILE, local_path=cluster_path)\n",
    "except FileExistsError:\n",
    "    pass\n",
    "gtfs_path = os.path.join(FILES_DIR, GTFS_FILE)\n",
    "try:\n",
    "    get_ftp_file(local_path=gtfs_path)\n",
    "except FileExistsError:\n",
    "    pass\n"
   ]
  },
  {
   "cell_type": "code",
   "execution_count": null,
   "metadata": {},
   "outputs": [],
   "source": [
    "pd_cluster = get_cluster_to_line_df(cluster_path)\n",
    "clusters = pd_cluster.groupby(by=\"route_type_desc\")\n",
    "\n",
    "print(clusters.size())"
   ]
  },
  {
   "cell_type": "code",
   "execution_count": null,
   "metadata": {},
   "outputs": [],
   "source": [
    "import calendar\n",
    "\n",
    "import partridge as ptg\n",
    "\n",
    "pd = ptg.feed(gtfs_path)\n",
    "\n",
    "trips_data = pd.trips.merge(pd.routes, on='route_id').merge(pd.calendar, on='service_id')\n",
    "\n",
    "print(\"Trips count per day:\")\n",
    "for day in calendar.day_name:\n",
    "    print(f\"{day}: {len(trips_data[trips_data[day.lower()] == 1])}\")"
   ]
  },
  {
   "cell_type": "code",
   "execution_count": null,
   "metadata": {},
   "outputs": [],
   "source": [
    "CITY = \"עירוני\"\n",
    "INTER_CITY = \"אזורי\"\n",
    "LOCAL = \"בינעירוני\"\n",
    "\n",
    "trips_data['short_route_desc'] = trips_data['route_desc'].map(lambda x: str(x).split(\"-\")[0])\n",
    "pd_cluster['short_route_desc'] = pd_cluster['route_id'].map(lambda x: str(x))\n",
    "trips_data = trips_data.merge(pd_cluster, on='short_route_desc')\n",
    "print(\"Trips count per day by cluster:\")\n",
    "for day in calendar.day_name:\n",
    "    print(f\"{day}:\")\n",
    "    for route_type in [CITY, INTER_CITY, LOCAL]:\n",
    "        print(f\"    {route_type}: \"\n",
    "              f\"{len(trips_data[(trips_data[day.lower()] == 1) & (trips_data['route_type_desc'] == route_type)])}\")"
   ]
  },
  {
   "cell_type": "code",
   "execution_count": null,
   "metadata": {},
   "outputs": [],
   "source": []
  }
 ],
 "metadata": {
  "kernelspec": {
   "display_name": "Python 3",
   "language": "python",
   "name": "python3"
  },
  "language_info": {
   "codemirror_mode": {
    "name": "ipython",
    "version": 3
   },
   "file_extension": ".py",
   "mimetype": "text/x-python",
   "name": "python",
   "nbconvert_exporter": "python",
   "pygments_lexer": "ipython3",
   "version": "3.6.7"
  }
 },
 "nbformat": 4,
 "nbformat_minor": 1
}
