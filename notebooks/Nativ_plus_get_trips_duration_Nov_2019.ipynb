{
 "cells": [
  {
   "cell_type": "markdown",
   "metadata": {},
   "source": [
    "Adi Watzman   \n",
    "Nov. 2019    \n",
    "The goal of this notebook is to develop tools to measure trip time end-to-end.   \n",
    "The specific use-case now is to compare trip durations before and after \"Nativ +\" initiative and analyze the differences (if any).\n",
    "\n",
    "\n",
    "The main steps:\n",
    "1. Pick route ids and dates.  \n",
    "* Query the \"Open Bus\" splunk database and retrieve siri real time data for these routes in the chosen dates.  \n",
    "* Query the \"Open Bus\" splunk database and retrieve GTFS stops locations for these routes.  \n",
    "* Estimate the time the bus passed in the second** stop and the time it arrived to the last stop, and report their   difference as the trip approximate duration.  \n",
    "\n",
    "** We use the second stop because it is easier to estimate when a bus passes a stop than estimate the time a bus started its trip. For the first stop there can be many cases such as - bus is very late and drives towards the first stop at the time it was suppose to depart, which can cause false departure time estimation.\n",
    "\n",
    "\n",
    "In order to retrieve data from our splunk database, I use the [splunk utils](https://github.com/hasadna/open-bus/tree/master/splunk/SplunkUtills) module"
   ]
  },
  {
   "cell_type": "markdown",
   "metadata": {},
   "source": [
    "# Imports and setup"
   ]
  },
  {
   "cell_type": "code",
   "execution_count": 1,
   "metadata": {
    "ExecuteTime": {
     "end_time": "2019-12-23T18:30:01.447639Z",
     "start_time": "2019-12-23T18:30:00.428862Z"
    }
   },
   "outputs": [],
   "source": [
    "import getpass\n",
    "import json\n",
    "import pandas as pd\n",
    "import matplotlib.pyplot as plt\n",
    "import numpy as np\n",
    "import sys\n",
    "\n",
    "relative_splunk_utils_path = \"../splunk/SplunkUtills\"\n",
    "if relative_splunk_utils_path not in sys.path:\n",
    "    sys.path.append(relative_splunk_utils_path)\n",
    "\n",
    "from SplunkUtills import splunk_query_builder, read_splunk"
   ]
  },
  {
   "cell_type": "markdown",
   "metadata": {},
   "source": [
    "## credentials"
   ]
  },
  {
   "cell_type": "code",
   "execution_count": 2,
   "metadata": {
    "ExecuteTime": {
     "end_time": "2019-12-23T18:30:01.702733Z",
     "start_time": "2019-12-23T18:30:01.697865Z"
    }
   },
   "outputs": [],
   "source": [
    "with open('/Users/awatzman/Documents/OpenBusDocuments/__credentials.json', 'r') as f:\n",
    "    credentials = json.load(f)\n",
    "    \n",
    "HOST = credentials['host']\n",
    "PORT = credentials['port']\n",
    "USERNAME = credentials['username']"
   ]
  },
  {
   "cell_type": "code",
   "execution_count": 3,
   "metadata": {
    "ExecuteTime": {
     "end_time": "2019-12-23T18:30:05.104207Z",
     "start_time": "2019-12-23T18:30:02.318472Z"
    }
   },
   "outputs": [
    {
     "name": "stdout",
     "output_type": "stream",
     "text": [
      "········\n"
     ]
    }
   ],
   "source": [
    "# avoid saving the password in a file:\n",
    "PASSWORD = getpass.getpass()"
   ]
  },
  {
   "cell_type": "markdown",
   "metadata": {
    "heading_collapsed": true
   },
   "source": [
    "# Templates - Splunk query demo - used for query templates"
   ]
  },
  {
   "cell_type": "code",
   "execution_count": 4,
   "metadata": {
    "hidden": true
   },
   "outputs": [
    {
     "name": "stdout",
     "output_type": "stream",
     "text": [
      "start..\n",
      "\n",
      "your query:\n",
      " search index=route_stats earliest=-20d latest=-10d route_id=5189|\n",
      "\n",
      "        fields agency_id, route_short_name, route_id, date, all_start_time |\n",
      " \n",
      "\n",
      "connection succeed\n",
      "\n",
      "query status: 100.0%   66 scanned   10 matched   10 results\n",
      "\n",
      "Done!\n",
      "\n",
      "query succeed\n",
      "\n",
      "read results succeed\n",
      "\n",
      "job finished and canceled\n",
      "\n",
      "finished! number of rows: 10\n",
      "\n"
     ]
    }
   ],
   "source": [
    "query = '''search index=route_stats earliest=-20d latest=-10d route_id=5189|\n",
    "        fields agency_id, route_short_name, route_id, date, all_start_time | '''\n",
    "\n",
    "GTFS_data = read_splunk(query,\n",
    "          host =  HOST, port = PORT, username = USERNAME, password = PASSWORD)\n"
   ]
  },
  {
   "cell_type": "code",
   "execution_count": 11,
   "metadata": {
    "collapsed": true,
    "hidden": true
   },
   "outputs": [
    {
     "data": {
      "text/html": [
       "<div>\n",
       "<style scoped>\n",
       "    .dataframe tbody tr th:only-of-type {\n",
       "        vertical-align: middle;\n",
       "    }\n",
       "\n",
       "    .dataframe tbody tr th {\n",
       "        vertical-align: top;\n",
       "    }\n",
       "\n",
       "    .dataframe thead th {\n",
       "        text-align: right;\n",
       "    }\n",
       "</style>\n",
       "<table border=\"1\" class=\"dataframe\">\n",
       "  <thead>\n",
       "    <tr style=\"text-align: right;\">\n",
       "      <th></th>\n",
       "      <th>agency_id</th>\n",
       "      <th>route_short_name</th>\n",
       "      <th>route_id</th>\n",
       "      <th>date</th>\n",
       "      <th>all_start_time</th>\n",
       "    </tr>\n",
       "  </thead>\n",
       "  <tbody>\n",
       "    <tr>\n",
       "      <td>0</td>\n",
       "      <td>15</td>\n",
       "      <td>501</td>\n",
       "      <td>5189</td>\n",
       "      <td>2019-10-30</td>\n",
       "      <td>05:00:00;05:15:00;05:45:00;06:05:00;06:23:00;0...</td>\n",
       "    </tr>\n",
       "    <tr>\n",
       "      <td>1</td>\n",
       "      <td>15</td>\n",
       "      <td>501</td>\n",
       "      <td>5189</td>\n",
       "      <td>2019-10-29</td>\n",
       "      <td>05:00:00;05:15:00;05:45:00;06:05:00;06:23:00;0...</td>\n",
       "    </tr>\n",
       "    <tr>\n",
       "      <td>2</td>\n",
       "      <td>15</td>\n",
       "      <td>501</td>\n",
       "      <td>5189</td>\n",
       "      <td>2019-10-28</td>\n",
       "      <td>05:00:00;05:15:00;05:45:00;06:05:00;06:23:00;0...</td>\n",
       "    </tr>\n",
       "    <tr>\n",
       "      <td>3</td>\n",
       "      <td>15</td>\n",
       "      <td>501</td>\n",
       "      <td>5189</td>\n",
       "      <td>2019-10-27</td>\n",
       "      <td>05:00:00;05:15:00;05:45:00;06:05:00;06:23:00;0...</td>\n",
       "    </tr>\n",
       "    <tr>\n",
       "      <td>4</td>\n",
       "      <td>15</td>\n",
       "      <td>501</td>\n",
       "      <td>5189</td>\n",
       "      <td>2019-10-26</td>\n",
       "      <td>20:00:00;20:01:00;20:15:00;20:30:00;20:45:00;2...</td>\n",
       "    </tr>\n",
       "    <tr>\n",
       "      <td>5</td>\n",
       "      <td>15</td>\n",
       "      <td>501</td>\n",
       "      <td>5189</td>\n",
       "      <td>2019-10-25</td>\n",
       "      <td>05:00:00;05:30:00;05:45:00;06:00:00;06:15:00;0...</td>\n",
       "    </tr>\n",
       "    <tr>\n",
       "      <td>6</td>\n",
       "      <td>3</td>\n",
       "      <td>501</td>\n",
       "      <td>5189</td>\n",
       "      <td>2019-10-24</td>\n",
       "      <td>05:15:00;05:30:00;05:45:00;05:55:00;06:03:00;0...</td>\n",
       "    </tr>\n",
       "    <tr>\n",
       "      <td>7</td>\n",
       "      <td>3</td>\n",
       "      <td>501</td>\n",
       "      <td>5189</td>\n",
       "      <td>2019-10-23</td>\n",
       "      <td>05:15:00;05:30:00;05:45:00;05:55:00;06:03:00;0...</td>\n",
       "    </tr>\n",
       "  </tbody>\n",
       "</table>\n",
       "</div>"
      ],
      "text/plain": [
       "   agency_id  route_short_name  route_id        date  \\\n",
       "0         15               501      5189  2019-10-30   \n",
       "1         15               501      5189  2019-10-29   \n",
       "2         15               501      5189  2019-10-28   \n",
       "3         15               501      5189  2019-10-27   \n",
       "4         15               501      5189  2019-10-26   \n",
       "5         15               501      5189  2019-10-25   \n",
       "6          3               501      5189  2019-10-24   \n",
       "7          3               501      5189  2019-10-23   \n",
       "\n",
       "                                      all_start_time  \n",
       "0  05:00:00;05:15:00;05:45:00;06:05:00;06:23:00;0...  \n",
       "1  05:00:00;05:15:00;05:45:00;06:05:00;06:23:00;0...  \n",
       "2  05:00:00;05:15:00;05:45:00;06:05:00;06:23:00;0...  \n",
       "3  05:00:00;05:15:00;05:45:00;06:05:00;06:23:00;0...  \n",
       "4  20:00:00;20:01:00;20:15:00;20:30:00;20:45:00;2...  \n",
       "5  05:00:00;05:30:00;05:45:00;06:00:00;06:15:00;0...  \n",
       "6  05:15:00;05:30:00;05:45:00;05:55:00;06:03:00;0...  \n",
       "7  05:15:00;05:30:00;05:45:00;05:55:00;06:03:00;0...  "
      ]
     },
     "execution_count": 11,
     "metadata": {},
     "output_type": "execute_result"
    }
   ],
   "source": [
    "GTFS_data"
   ]
  },
  {
   "cell_type": "code",
   "execution_count": 12,
   "metadata": {
    "collapsed": true,
    "hidden": true
   },
   "outputs": [
    {
     "name": "stdout",
     "output_type": "stream",
     "text": [
      "start..\n",
      "\n",
      "your query:\n",
      " search index=siri earliest=-10d latest=-7d route_short_name=501 route_id=5189 planned_start_time=22:00:00 |\n",
      " fields timestamp, agency_id, route_id, route_short_name, service_id, planned_start_time, bus_id, predicted_end_time, time_recorded, lat, lon |\n",
      "\n",
      "\n",
      "connection succeed\n",
      "\n",
      "query status: 100.0%   1769 scanned   87 matched   87 results\n",
      "\n",
      "Done!\n",
      "\n",
      "query succeed\n",
      "\n",
      "read results succeed\n",
      "\n",
      "job finished and canceled\n",
      "\n",
      "finished! number of rows: 87\n",
      "\n"
     ]
    }
   ],
   "source": [
    "query_kwargs = {\n",
    "                'index': 'siri',\n",
    "                'earliest': '-10d', #=last 10 days\n",
    "                'latest': '-7d',\n",
    "                #'agency_id': 3,\n",
    "                'route_short_name': 501,\n",
    "                'route_id': 5189,\n",
    "                'planned_start_time': '22:00:00',\n",
    "               #'max_columns': 100000,\n",
    "               'columns': ['timestamp','agency_id','route_id','route_short_name','service_id','planned_start_time',\n",
    "                        'bus_id','predicted_end_time','time_recorded','lat','lon']\n",
    "                }\n",
    "\n",
    "SIRI_data = read_splunk(splunk_query_builder(**query_kwargs),\n",
    "          host =  HOST, port = PORT, username = USERNAME, password = PASSWORD)\n"
   ]
  },
  {
   "cell_type": "code",
   "execution_count": 13,
   "metadata": {
    "collapsed": true,
    "hidden": true
   },
   "outputs": [
    {
     "data": {
      "text/html": [
       "<div>\n",
       "<style scoped>\n",
       "    .dataframe tbody tr th:only-of-type {\n",
       "        vertical-align: middle;\n",
       "    }\n",
       "\n",
       "    .dataframe tbody tr th {\n",
       "        vertical-align: top;\n",
       "    }\n",
       "\n",
       "    .dataframe thead th {\n",
       "        text-align: right;\n",
       "    }\n",
       "</style>\n",
       "<table border=\"1\" class=\"dataframe\">\n",
       "  <thead>\n",
       "    <tr style=\"text-align: right;\">\n",
       "      <th></th>\n",
       "      <th>timestamp</th>\n",
       "      <th>agency_id</th>\n",
       "      <th>route_id</th>\n",
       "      <th>route_short_name</th>\n",
       "      <th>service_id</th>\n",
       "      <th>planned_start_time</th>\n",
       "      <th>bus_id</th>\n",
       "      <th>predicted_end_time</th>\n",
       "      <th>time_recorded</th>\n",
       "      <th>lat</th>\n",
       "      <th>lon</th>\n",
       "    </tr>\n",
       "  </thead>\n",
       "  <tbody>\n",
       "    <tr>\n",
       "      <td>0</td>\n",
       "      <td>2019-11-02T22:26:42</td>\n",
       "      <td>15</td>\n",
       "      <td>5189</td>\n",
       "      <td>501</td>\n",
       "      <td>42135488</td>\n",
       "      <td>22:00:00</td>\n",
       "      <td>86343101</td>\n",
       "      <td>22:45:00</td>\n",
       "      <td>22:26:39</td>\n",
       "      <td>32.168880</td>\n",
       "      <td>34.928661</td>\n",
       "    </tr>\n",
       "    <tr>\n",
       "      <td>1</td>\n",
       "      <td>2019-11-02T22:25:42</td>\n",
       "      <td>15</td>\n",
       "      <td>5189</td>\n",
       "      <td>501</td>\n",
       "      <td>42135488</td>\n",
       "      <td>22:00:00</td>\n",
       "      <td>86343101</td>\n",
       "      <td>22:44:00</td>\n",
       "      <td>22:25:34</td>\n",
       "      <td>32.168278</td>\n",
       "      <td>34.928368</td>\n",
       "    </tr>\n",
       "    <tr>\n",
       "      <td>2</td>\n",
       "      <td>2019-11-02T22:24:42</td>\n",
       "      <td>15</td>\n",
       "      <td>5189</td>\n",
       "      <td>501</td>\n",
       "      <td>42135488</td>\n",
       "      <td>22:00:00</td>\n",
       "      <td>86343101</td>\n",
       "      <td>22:43:00</td>\n",
       "      <td>22:24:20</td>\n",
       "      <td>32.167198</td>\n",
       "      <td>34.927765</td>\n",
       "    </tr>\n",
       "    <tr>\n",
       "      <td>3</td>\n",
       "      <td>2019-11-02T22:23:42</td>\n",
       "      <td>15</td>\n",
       "      <td>5189</td>\n",
       "      <td>501</td>\n",
       "      <td>42135488</td>\n",
       "      <td>22:00:00</td>\n",
       "      <td>86343101</td>\n",
       "      <td>22:42:00</td>\n",
       "      <td>22:23:32</td>\n",
       "      <td>32.165466</td>\n",
       "      <td>34.926895</td>\n",
       "    </tr>\n",
       "    <tr>\n",
       "      <td>4</td>\n",
       "      <td>2019-11-02T22:22:42</td>\n",
       "      <td>15</td>\n",
       "      <td>5189</td>\n",
       "      <td>501</td>\n",
       "      <td>42135488</td>\n",
       "      <td>22:00:00</td>\n",
       "      <td>86343101</td>\n",
       "      <td>22:45:00</td>\n",
       "      <td>22:22:10</td>\n",
       "      <td>32.164654</td>\n",
       "      <td>34.924950</td>\n",
       "    </tr>\n",
       "    <tr>\n",
       "      <td>...</td>\n",
       "      <td>...</td>\n",
       "      <td>...</td>\n",
       "      <td>...</td>\n",
       "      <td>...</td>\n",
       "      <td>...</td>\n",
       "      <td>...</td>\n",
       "      <td>...</td>\n",
       "      <td>...</td>\n",
       "      <td>...</td>\n",
       "      <td>...</td>\n",
       "      <td>...</td>\n",
       "    </tr>\n",
       "    <tr>\n",
       "      <td>82</td>\n",
       "      <td>2019-11-02T21:04:42</td>\n",
       "      <td>15</td>\n",
       "      <td>5189</td>\n",
       "      <td>501</td>\n",
       "      <td>42135488</td>\n",
       "      <td>22:00:00</td>\n",
       "      <td>86343101</td>\n",
       "      <td>22:45:00</td>\n",
       "      <td>20:11:31</td>\n",
       "      <td>0.000000</td>\n",
       "      <td>0.000000</td>\n",
       "    </tr>\n",
       "    <tr>\n",
       "      <td>83</td>\n",
       "      <td>2019-11-02T21:03:42</td>\n",
       "      <td>15</td>\n",
       "      <td>5189</td>\n",
       "      <td>501</td>\n",
       "      <td>42135488</td>\n",
       "      <td>22:00:00</td>\n",
       "      <td>86343101</td>\n",
       "      <td>22:45:00</td>\n",
       "      <td>20:11:31</td>\n",
       "      <td>0.000000</td>\n",
       "      <td>0.000000</td>\n",
       "    </tr>\n",
       "    <tr>\n",
       "      <td>84</td>\n",
       "      <td>2019-11-02T21:02:42</td>\n",
       "      <td>15</td>\n",
       "      <td>5189</td>\n",
       "      <td>501</td>\n",
       "      <td>42135488</td>\n",
       "      <td>22:00:00</td>\n",
       "      <td>86343101</td>\n",
       "      <td>22:45:00</td>\n",
       "      <td>20:11:31</td>\n",
       "      <td>0.000000</td>\n",
       "      <td>0.000000</td>\n",
       "    </tr>\n",
       "    <tr>\n",
       "      <td>85</td>\n",
       "      <td>2019-11-02T21:01:42</td>\n",
       "      <td>15</td>\n",
       "      <td>5189</td>\n",
       "      <td>501</td>\n",
       "      <td>42135488</td>\n",
       "      <td>22:00:00</td>\n",
       "      <td>86343101</td>\n",
       "      <td>22:45:00</td>\n",
       "      <td>20:11:31</td>\n",
       "      <td>0.000000</td>\n",
       "      <td>0.000000</td>\n",
       "    </tr>\n",
       "    <tr>\n",
       "      <td>86</td>\n",
       "      <td>2019-11-02T21:00:42</td>\n",
       "      <td>15</td>\n",
       "      <td>5189</td>\n",
       "      <td>501</td>\n",
       "      <td>42135488</td>\n",
       "      <td>22:00:00</td>\n",
       "      <td>86343101</td>\n",
       "      <td>22:45:00</td>\n",
       "      <td>20:11:31</td>\n",
       "      <td>0.000000</td>\n",
       "      <td>0.000000</td>\n",
       "    </tr>\n",
       "  </tbody>\n",
       "</table>\n",
       "<p>87 rows × 11 columns</p>\n",
       "</div>"
      ],
      "text/plain": [
       "              timestamp  agency_id  route_id  route_short_name  service_id  \\\n",
       "0   2019-11-02T22:26:42         15      5189               501    42135488   \n",
       "1   2019-11-02T22:25:42         15      5189               501    42135488   \n",
       "2   2019-11-02T22:24:42         15      5189               501    42135488   \n",
       "3   2019-11-02T22:23:42         15      5189               501    42135488   \n",
       "4   2019-11-02T22:22:42         15      5189               501    42135488   \n",
       "..                  ...        ...       ...               ...         ...   \n",
       "82  2019-11-02T21:04:42         15      5189               501    42135488   \n",
       "83  2019-11-02T21:03:42         15      5189               501    42135488   \n",
       "84  2019-11-02T21:02:42         15      5189               501    42135488   \n",
       "85  2019-11-02T21:01:42         15      5189               501    42135488   \n",
       "86  2019-11-02T21:00:42         15      5189               501    42135488   \n",
       "\n",
       "   planned_start_time    bus_id predicted_end_time time_recorded        lat  \\\n",
       "0            22:00:00  86343101           22:45:00      22:26:39  32.168880   \n",
       "1            22:00:00  86343101           22:44:00      22:25:34  32.168278   \n",
       "2            22:00:00  86343101           22:43:00      22:24:20  32.167198   \n",
       "3            22:00:00  86343101           22:42:00      22:23:32  32.165466   \n",
       "4            22:00:00  86343101           22:45:00      22:22:10  32.164654   \n",
       "..                ...       ...                ...           ...        ...   \n",
       "82           22:00:00  86343101           22:45:00      20:11:31   0.000000   \n",
       "83           22:00:00  86343101           22:45:00      20:11:31   0.000000   \n",
       "84           22:00:00  86343101           22:45:00      20:11:31   0.000000   \n",
       "85           22:00:00  86343101           22:45:00      20:11:31   0.000000   \n",
       "86           22:00:00  86343101           22:45:00      20:11:31   0.000000   \n",
       "\n",
       "          lon  \n",
       "0   34.928661  \n",
       "1   34.928368  \n",
       "2   34.927765  \n",
       "3   34.926895  \n",
       "4   34.924950  \n",
       "..        ...  \n",
       "82   0.000000  \n",
       "83   0.000000  \n",
       "84   0.000000  \n",
       "85   0.000000  \n",
       "86   0.000000  \n",
       "\n",
       "[87 rows x 11 columns]"
      ]
     },
     "execution_count": 13,
     "metadata": {},
     "output_type": "execute_result"
    }
   ],
   "source": [
    "SIRI_data"
   ]
  },
  {
   "cell_type": "markdown",
   "metadata": {},
   "source": [
    "# Get Data"
   ]
  },
  {
   "cell_type": "markdown",
   "metadata": {},
   "source": [
    "## Pick route ids and dates\n",
    "\n",
    "Use the route_stats and trip_stats [docs](https://open-bus-gtfs-utils.readthedocs.io/en/latest/trip_stats.html) to find relevant data fields."
   ]
  },
  {
   "cell_type": "code",
   "execution_count": 4,
   "metadata": {
    "ExecuteTime": {
     "end_time": "2019-12-23T18:30:09.439977Z",
     "start_time": "2019-12-23T18:30:09.437073Z"
    }
   },
   "outputs": [],
   "source": [
    "# human-friendly settings:\n",
    "route_short_name = '601'\n",
    "earliest = \"10/30/2019:00:00:00\"\n",
    "latest = \"10/31/2019:23:59:59\""
   ]
  },
  {
   "cell_type": "code",
   "execution_count": 5,
   "metadata": {
    "ExecuteTime": {
     "end_time": "2019-12-23T18:30:13.726565Z",
     "start_time": "2019-12-23T18:30:09.991448Z"
    }
   },
   "outputs": [
    {
     "name": "stdout",
     "output_type": "stream",
     "text": [
      "start..\n",
      "\n",
      "your query:\n",
      " \n",
      "search \n",
      "    index=route_stats \n",
      "    earliest=\"10/30/2019:00:00:00\"\n",
      "    latest=\"10/31/2019:23:59:59\" \n",
      "    route_short_name=601 |\n",
      "\n",
      "fields \n",
      "    date, \n",
      "    agency_id, \n",
      "    route_short_name, \n",
      "    route_id,\n",
      "    start_stop_city,\n",
      "    start_stop_name,\n",
      "    end_stop_city,\n",
      "    end_stop_name,\n",
      "    all_start_time |\n",
      " \n",
      "\n",
      "\n",
      "connection succeed\n",
      "\n",
      "query status: 100.0%   102 scanned   6 matched   6 results\n",
      "\n",
      "Done!\n",
      "\n",
      "query succeed\n",
      "\n",
      "read results succeed\n",
      "\n",
      "job finished and canceled\n",
      "\n",
      "finished! number of rows: 6\n",
      "\n"
     ]
    }
   ],
   "source": [
    "# find relevant route ids:\n",
    "\n",
    "get_route_ids_q = '''\n",
    "search \n",
    "    index=route_stats \n",
    "    earliest=\"{earliest}\"\n",
    "    latest=\"{latest}\" \n",
    "    route_short_name={route_short_name} |\n",
    "fields \n",
    "    date, \n",
    "    agency_id, \n",
    "    route_short_name, \n",
    "    route_id,\n",
    "    start_stop_city,\n",
    "    start_stop_name,\n",
    "    end_stop_city,\n",
    "    end_stop_name,\n",
    "    all_start_time | \n",
    "'''.format(earliest=earliest, latest=latest, route_short_name=route_short_name)\n",
    "\n",
    "route_ids = read_splunk(get_route_ids_q,\n",
    "                        host=HOST, port=PORT, username=USERNAME, password=PASSWORD)\n"
   ]
  },
  {
   "cell_type": "code",
   "execution_count": 6,
   "metadata": {
    "ExecuteTime": {
     "end_time": "2019-12-23T18:30:13.743829Z",
     "start_time": "2019-12-23T18:30:13.728560Z"
    }
   },
   "outputs": [
    {
     "data": {
      "text/html": [
       "<div>\n",
       "<style scoped>\n",
       "    .dataframe tbody tr th:only-of-type {\n",
       "        vertical-align: middle;\n",
       "    }\n",
       "\n",
       "    .dataframe tbody tr th {\n",
       "        vertical-align: top;\n",
       "    }\n",
       "\n",
       "    .dataframe thead th {\n",
       "        text-align: right;\n",
       "    }\n",
       "</style>\n",
       "<table border=\"1\" class=\"dataframe\">\n",
       "  <thead>\n",
       "    <tr style=\"text-align: right;\">\n",
       "      <th></th>\n",
       "      <th>date</th>\n",
       "      <th>agency_id</th>\n",
       "      <th>route_short_name</th>\n",
       "      <th>route_id</th>\n",
       "      <th>start_stop_city</th>\n",
       "      <th>start_stop_name</th>\n",
       "      <th>end_stop_city</th>\n",
       "      <th>end_stop_name</th>\n",
       "      <th>all_start_time</th>\n",
       "    </tr>\n",
       "  </thead>\n",
       "  <tbody>\n",
       "    <tr>\n",
       "      <td>0</td>\n",
       "      <td>2019-10-31</td>\n",
       "      <td>15</td>\n",
       "      <td>601</td>\n",
       "      <td>18077</td>\n",
       "      <td>תל אביב יפו</td>\n",
       "      <td>ת.מרכזית ת''א ק.6/רציפים</td>\n",
       "      <td>נתניה</td>\n",
       "      <td>ת. רכבת נתניה</td>\n",
       "      <td>19:35:00;20:05:00;20:40:00;21:20:00;21:35:00;2...</td>\n",
       "    </tr>\n",
       "    <tr>\n",
       "      <td>1</td>\n",
       "      <td>2019-10-31</td>\n",
       "      <td>15</td>\n",
       "      <td>601</td>\n",
       "      <td>700</td>\n",
       "      <td>תל אביב יפו</td>\n",
       "      <td>ת.מרכזית ת''א ק.6/רציפים</td>\n",
       "      <td>נתניה</td>\n",
       "      <td>ת. רכבת נתניה</td>\n",
       "      <td>05:40:00;06:00:00;06:15:00;06:30:00;06:40:00;0...</td>\n",
       "    </tr>\n",
       "    <tr>\n",
       "      <td>2</td>\n",
       "      <td>2019-10-31</td>\n",
       "      <td>15</td>\n",
       "      <td>601</td>\n",
       "      <td>698</td>\n",
       "      <td>נתניה</td>\n",
       "      <td>ת. רכבת נתניה</td>\n",
       "      <td>תל אביב יפו</td>\n",
       "      <td>ת. מרכזית ת''א ק. 6/הורדה</td>\n",
       "      <td>05:30:00;06:00:00;06:20:00;06:40:00;06:50:00;0...</td>\n",
       "    </tr>\n",
       "    <tr>\n",
       "      <td>3</td>\n",
       "      <td>2019-10-30</td>\n",
       "      <td>15</td>\n",
       "      <td>601</td>\n",
       "      <td>18077</td>\n",
       "      <td>תל אביב יפו</td>\n",
       "      <td>ת.מרכזית ת''א ק.6/רציפים</td>\n",
       "      <td>נתניה</td>\n",
       "      <td>ת. רכבת נתניה</td>\n",
       "      <td>19:35:00;20:05:00;20:40:00;21:20:00;21:35:00;2...</td>\n",
       "    </tr>\n",
       "    <tr>\n",
       "      <td>4</td>\n",
       "      <td>2019-10-30</td>\n",
       "      <td>15</td>\n",
       "      <td>601</td>\n",
       "      <td>700</td>\n",
       "      <td>תל אביב יפו</td>\n",
       "      <td>ת.מרכזית ת''א ק.6/רציפים</td>\n",
       "      <td>נתניה</td>\n",
       "      <td>ת. רכבת נתניה</td>\n",
       "      <td>05:40:00;06:00:00;06:15:00;06:30:00;06:40:00;0...</td>\n",
       "    </tr>\n",
       "    <tr>\n",
       "      <td>5</td>\n",
       "      <td>2019-10-30</td>\n",
       "      <td>15</td>\n",
       "      <td>601</td>\n",
       "      <td>698</td>\n",
       "      <td>נתניה</td>\n",
       "      <td>ת. רכבת נתניה</td>\n",
       "      <td>תל אביב יפו</td>\n",
       "      <td>ת. מרכזית ת''א ק. 6/הורדה</td>\n",
       "      <td>05:30:00;06:00:00;06:20:00;06:40:00;06:50:00;0...</td>\n",
       "    </tr>\n",
       "  </tbody>\n",
       "</table>\n",
       "</div>"
      ],
      "text/plain": [
       "         date  agency_id  route_short_name  route_id start_stop_city  \\\n",
       "0  2019-10-31         15               601     18077     תל אביב יפו   \n",
       "1  2019-10-31         15               601       700     תל אביב יפו   \n",
       "2  2019-10-31         15               601       698           נתניה   \n",
       "3  2019-10-30         15               601     18077     תל אביב יפו   \n",
       "4  2019-10-30         15               601       700     תל אביב יפו   \n",
       "5  2019-10-30         15               601       698           נתניה   \n",
       "\n",
       "            start_stop_name end_stop_city              end_stop_name  \\\n",
       "0  ת.מרכזית ת''א ק.6/רציפים         נתניה              ת. רכבת נתניה   \n",
       "1  ת.מרכזית ת''א ק.6/רציפים         נתניה              ת. רכבת נתניה   \n",
       "2             ת. רכבת נתניה   תל אביב יפו  ת. מרכזית ת''א ק. 6/הורדה   \n",
       "3  ת.מרכזית ת''א ק.6/רציפים         נתניה              ת. רכבת נתניה   \n",
       "4  ת.מרכזית ת''א ק.6/רציפים         נתניה              ת. רכבת נתניה   \n",
       "5             ת. רכבת נתניה   תל אביב יפו  ת. מרכזית ת''א ק. 6/הורדה   \n",
       "\n",
       "                                      all_start_time  \n",
       "0  19:35:00;20:05:00;20:40:00;21:20:00;21:35:00;2...  \n",
       "1  05:40:00;06:00:00;06:15:00;06:30:00;06:40:00;0...  \n",
       "2  05:30:00;06:00:00;06:20:00;06:40:00;06:50:00;0...  \n",
       "3  19:35:00;20:05:00;20:40:00;21:20:00;21:35:00;2...  \n",
       "4  05:40:00;06:00:00;06:15:00;06:30:00;06:40:00;0...  \n",
       "5  05:30:00;06:00:00;06:20:00;06:40:00;06:50:00;0...  "
      ]
     },
     "execution_count": 6,
     "metadata": {},
     "output_type": "execute_result"
    }
   ],
   "source": [
    "route_ids"
   ]
  },
  {
   "cell_type": "code",
   "execution_count": 17,
   "metadata": {
    "collapsed": true
   },
   "outputs": [
    {
     "data": {
      "text/plain": [
       "array([list(['19:35:00', '20:05:00', '20:40:00', '21:20:00', '21:35:00', '21:50:00', '22:10:00', '22:30:00', '22:50:00', '23:10:00', '23:35:00']),\n",
       "       list(['05:40:00', '06:00:00', '06:15:00', '06:30:00', '06:40:00', '06:50:00', '07:00:00', '07:10:00', '07:20:00', '07:40:00', '07:50:00', '08:00:00', '08:12:00', '08:24:00', '08:36:00', '08:50:00', '09:00:00', '09:10:00', '09:20:00', '09:30:00', '09:45:00', '10:00:00', '10:20:00', '10:40:00', '11:00:00', '11:20:00', '11:40:00', '12:00:00', '12:35:00', '13:00:00', '13:30:00', '14:00:00', '14:30:00', '14:45:00', '15:00:00', '15:20:00', '15:40:00', '16:00:00', '16:20:00', '16:40:00', '17:00:00', '17:25:00', '17:45:00', '18:00:00', '18:25:00', '18:45:00', '19:00:00']),\n",
       "       list(['05:30:00', '06:00:00', '06:20:00', '06:40:00', '06:50:00', '07:00:00', '07:10:00', '07:20:00', '07:30:00', '07:40:00', '07:50:00', '08:00:00', '08:20:00', '08:40:00', '09:00:00', '09:15:00', '09:30:00', '09:45:00', '10:05:00', '10:25:00', '10:45:00', '11:05:00', '11:35:00', '11:50:00', '12:05:00', '12:35:00', '13:05:00', '13:35:00', '14:05:00', '14:35:00', '14:50:00', '15:05:00', '15:35:00', '15:50:00', '16:05:00', '16:25:00', '16:45:00', '17:05:00', '17:35:00', '17:50:00', '18:10:00', '18:50:00', '19:20:00', '19:40:00', '20:00:00', '20:30:00', '21:00:00', '21:30:00', '22:05:00', '22:35:00'])],\n",
       "      dtype=object)"
      ]
     },
     "execution_count": 17,
     "metadata": {},
     "output_type": "execute_result"
    }
   ],
   "source": [
    "#route_ids.all_start_time.str.split(';').apply(lambda x: sorted(x)).values"
   ]
  },
  {
   "cell_type": "markdown",
   "metadata": {},
   "source": [
    "Choose the relevat route id and continue:"
   ]
  },
  {
   "cell_type": "code",
   "execution_count": 7,
   "metadata": {
    "ExecuteTime": {
     "end_time": "2019-12-23T18:30:18.269173Z",
     "start_time": "2019-12-23T18:30:18.266448Z"
    }
   },
   "outputs": [],
   "source": [
    "route_id = '698' # Netanya -> TLV"
   ]
  },
  {
   "cell_type": "markdown",
   "metadata": {},
   "source": [
    "## Retreive SIRI data"
   ]
  },
  {
   "cell_type": "code",
   "execution_count": 38,
   "metadata": {
    "ExecuteTime": {
     "end_time": "2019-12-23T18:44:48.682749Z",
     "start_time": "2019-12-23T18:44:40.144492Z"
    }
   },
   "outputs": [
    {
     "name": "stdout",
     "output_type": "stream",
     "text": [
      "start..\n",
      "\n",
      "your query:\n",
      " search index=siri earliest=10/30/2019:00:00:00 latest=10/31/2019:23:59:59 route_id=698 |\n",
      " fields timestamp, agency_id, route_id, route_short_name, service_id, planned_start_time, planned_start_date, bus_id, predicted_end_time, time_recorded, date_recorded, lat, lon |\n",
      "\n",
      "\n",
      "connection succeed\n",
      "\n",
      "query status: 100.0%   12844 scanned   11530 matched   11530 results\n",
      "\n",
      "Done!\n",
      "\n",
      "query succeed\n",
      "\n",
      "read results succeed\n",
      "\n",
      "job finished and canceled\n",
      "\n",
      "finished! number of rows: 11530\n",
      "\n"
     ]
    }
   ],
   "source": [
    "siri_cols = ['timestamp','agency_id','route_id','route_short_name','service_id','planned_start_time',\n",
    "             'planned_start_date', 'bus_id','predicted_end_time','time_recorded', 'date_recorded', 'lat', 'lon']\n",
    "query_kwargs = {\n",
    "                'index': 'siri',\n",
    "                'earliest': earliest, \n",
    "                'latest': latest,\n",
    "                'route_id': route_id,\n",
    "                'columns': siri_cols\n",
    "                }\n",
    "\n",
    "siri_data = read_splunk(splunk_query_builder(**query_kwargs),\n",
    "                        host=HOST, port=PORT, username=USERNAME, password=PASSWORD)"
   ]
  },
  {
   "cell_type": "code",
   "execution_count": 39,
   "metadata": {
    "ExecuteTime": {
     "end_time": "2019-12-23T18:44:51.505337Z",
     "start_time": "2019-12-23T18:44:51.493245Z"
    },
    "scrolled": true
   },
   "outputs": [
    {
     "name": "stdout",
     "output_type": "stream",
     "text": [
      "(11530, 13)\n"
     ]
    },
    {
     "data": {
      "text/html": [
       "<div>\n",
       "<style scoped>\n",
       "    .dataframe tbody tr th:only-of-type {\n",
       "        vertical-align: middle;\n",
       "    }\n",
       "\n",
       "    .dataframe tbody tr th {\n",
       "        vertical-align: top;\n",
       "    }\n",
       "\n",
       "    .dataframe thead th {\n",
       "        text-align: right;\n",
       "    }\n",
       "</style>\n",
       "<table border=\"1\" class=\"dataframe\">\n",
       "  <thead>\n",
       "    <tr style=\"text-align: right;\">\n",
       "      <th></th>\n",
       "      <th>timestamp</th>\n",
       "      <th>agency_id</th>\n",
       "      <th>route_id</th>\n",
       "      <th>route_short_name</th>\n",
       "      <th>service_id</th>\n",
       "      <th>planned_start_time</th>\n",
       "      <th>planned_start_date</th>\n",
       "      <th>bus_id</th>\n",
       "      <th>predicted_end_time</th>\n",
       "      <th>time_recorded</th>\n",
       "      <th>date_recorded</th>\n",
       "      <th>lat</th>\n",
       "      <th>lon</th>\n",
       "    </tr>\n",
       "  </thead>\n",
       "  <tbody>\n",
       "    <tr>\n",
       "      <td>0</td>\n",
       "      <td>2019-10-31T23:44:07</td>\n",
       "      <td>15</td>\n",
       "      <td>698</td>\n",
       "      <td>601</td>\n",
       "      <td>42325926</td>\n",
       "      <td>22:35:00</td>\n",
       "      <td>2019-10-31</td>\n",
       "      <td>47083401</td>\n",
       "      <td>23:45:00</td>\n",
       "      <td>23:44:08</td>\n",
       "      <td>2019-10-31</td>\n",
       "      <td>32.061356</td>\n",
       "      <td>34.784649</td>\n",
       "    </tr>\n",
       "    <tr>\n",
       "      <td>1</td>\n",
       "      <td>2019-10-31T23:43:07</td>\n",
       "      <td>15</td>\n",
       "      <td>698</td>\n",
       "      <td>601</td>\n",
       "      <td>42325926</td>\n",
       "      <td>22:35:00</td>\n",
       "      <td>2019-10-31</td>\n",
       "      <td>47083401</td>\n",
       "      <td>23:45:00</td>\n",
       "      <td>23:42:08</td>\n",
       "      <td>2019-10-31</td>\n",
       "      <td>32.065762</td>\n",
       "      <td>34.786476</td>\n",
       "    </tr>\n",
       "    <tr>\n",
       "      <td>2</td>\n",
       "      <td>2019-10-31T23:42:07</td>\n",
       "      <td>15</td>\n",
       "      <td>698</td>\n",
       "      <td>601</td>\n",
       "      <td>42325926</td>\n",
       "      <td>22:35:00</td>\n",
       "      <td>2019-10-31</td>\n",
       "      <td>47083401</td>\n",
       "      <td>23:44:00</td>\n",
       "      <td>23:42:08</td>\n",
       "      <td>2019-10-31</td>\n",
       "      <td>32.065762</td>\n",
       "      <td>34.786476</td>\n",
       "    </tr>\n",
       "    <tr>\n",
       "      <td>3</td>\n",
       "      <td>2019-10-31T23:41:07</td>\n",
       "      <td>15</td>\n",
       "      <td>698</td>\n",
       "      <td>601</td>\n",
       "      <td>42325926</td>\n",
       "      <td>22:35:00</td>\n",
       "      <td>2019-10-31</td>\n",
       "      <td>47083401</td>\n",
       "      <td>23:43:00</td>\n",
       "      <td>23:38:23</td>\n",
       "      <td>2019-10-31</td>\n",
       "      <td>32.075264</td>\n",
       "      <td>34.790920</td>\n",
       "    </tr>\n",
       "    <tr>\n",
       "      <td>4</td>\n",
       "      <td>2019-10-31T23:40:07</td>\n",
       "      <td>15</td>\n",
       "      <td>698</td>\n",
       "      <td>601</td>\n",
       "      <td>42325926</td>\n",
       "      <td>22:35:00</td>\n",
       "      <td>2019-10-31</td>\n",
       "      <td>47083401</td>\n",
       "      <td>23:43:00</td>\n",
       "      <td>23:38:21</td>\n",
       "      <td>2019-10-31</td>\n",
       "      <td>32.075264</td>\n",
       "      <td>34.790920</td>\n",
       "    </tr>\n",
       "  </tbody>\n",
       "</table>\n",
       "</div>"
      ],
      "text/plain": [
       "             timestamp  agency_id  route_id  route_short_name  service_id  \\\n",
       "0  2019-10-31T23:44:07         15       698               601    42325926   \n",
       "1  2019-10-31T23:43:07         15       698               601    42325926   \n",
       "2  2019-10-31T23:42:07         15       698               601    42325926   \n",
       "3  2019-10-31T23:41:07         15       698               601    42325926   \n",
       "4  2019-10-31T23:40:07         15       698               601    42325926   \n",
       "\n",
       "  planned_start_time planned_start_date    bus_id predicted_end_time  \\\n",
       "0           22:35:00         2019-10-31  47083401           23:45:00   \n",
       "1           22:35:00         2019-10-31  47083401           23:45:00   \n",
       "2           22:35:00         2019-10-31  47083401           23:44:00   \n",
       "3           22:35:00         2019-10-31  47083401           23:43:00   \n",
       "4           22:35:00         2019-10-31  47083401           23:43:00   \n",
       "\n",
       "  time_recorded date_recorded        lat        lon  \n",
       "0      23:44:08    2019-10-31  32.061356  34.784649  \n",
       "1      23:42:08    2019-10-31  32.065762  34.786476  \n",
       "2      23:42:08    2019-10-31  32.065762  34.786476  \n",
       "3      23:38:23    2019-10-31  32.075264  34.790920  \n",
       "4      23:38:21    2019-10-31  32.075264  34.790920  "
      ]
     },
     "execution_count": 39,
     "metadata": {},
     "output_type": "execute_result"
    }
   ],
   "source": [
    "print(siri_data.shape)\n",
    "siri_data.head()"
   ]
  },
  {
   "cell_type": "markdown",
   "metadata": {},
   "source": [
    "## Retreive stops locations (GTFS)\n",
    "\n",
    "Continue from here - get the all_stop_latlon from route_stats of the relevant route!.   \n",
    "https://open-bus-gtfs-utils.readthedocs.io/en/latest/index.html"
   ]
  },
  {
   "cell_type": "code",
   "execution_count": 10,
   "metadata": {
    "ExecuteTime": {
     "end_time": "2019-12-23T18:30:33.074020Z",
     "start_time": "2019-12-23T18:30:28.741767Z"
    }
   },
   "outputs": [
    {
     "name": "stdout",
     "output_type": "stream",
     "text": [
      "start..\n",
      "\n",
      "your query:\n",
      " search index=route_stats earliest=10/30/2019:00:00:00 latest=10/31/2019:23:59:59 route_id=698 |\n",
      " fields route_id, date, all_stop_id, all_stop_code, all_stop_latlon |\n",
      "\n",
      "\n",
      "connection succeed\n",
      "\n",
      "query status: 100.0%   24 scanned   2 matched   2 results\n",
      "\n",
      "Done!\n",
      "\n",
      "query succeed\n",
      "\n",
      "read results succeed\n",
      "\n",
      "job finished and canceled\n",
      "\n",
      "finished! number of rows: 2\n",
      "\n"
     ]
    }
   ],
   "source": [
    "stops_cols = ['route_id', 'date', 'all_stop_id', 'all_stop_code',  'all_stop_latlon']\n",
    "stops_query_kwargs = {\n",
    "                      'index': 'route_stats',\n",
    "                      'earliest': earliest, \n",
    "                      'latest': latest,\n",
    "                      'route_id': route_id,\n",
    "                      'columns': stops_cols\n",
    "                      }\n",
    "\n",
    "stops_data = read_splunk(splunk_query_builder(**stops_query_kwargs),\n",
    "                         host=HOST, port=PORT, username=USERNAME, password=PASSWORD)"
   ]
  },
  {
   "cell_type": "code",
   "execution_count": 11,
   "metadata": {
    "ExecuteTime": {
     "end_time": "2019-12-23T18:30:33.084095Z",
     "start_time": "2019-12-23T18:30:33.075912Z"
    }
   },
   "outputs": [
    {
     "data": {
      "text/html": [
       "<div>\n",
       "<style scoped>\n",
       "    .dataframe tbody tr th:only-of-type {\n",
       "        vertical-align: middle;\n",
       "    }\n",
       "\n",
       "    .dataframe tbody tr th {\n",
       "        vertical-align: top;\n",
       "    }\n",
       "\n",
       "    .dataframe thead th {\n",
       "        text-align: right;\n",
       "    }\n",
       "</style>\n",
       "<table border=\"1\" class=\"dataframe\">\n",
       "  <thead>\n",
       "    <tr style=\"text-align: right;\">\n",
       "      <th></th>\n",
       "      <th>route_id</th>\n",
       "      <th>date</th>\n",
       "      <th>all_stop_id</th>\n",
       "      <th>all_stop_code</th>\n",
       "      <th>all_stop_latlon</th>\n",
       "    </tr>\n",
       "  </thead>\n",
       "  <tbody>\n",
       "    <tr>\n",
       "      <td>0</td>\n",
       "      <td>698</td>\n",
       "      <td>2019-10-31</td>\n",
       "      <td>24323;333;358;42546;324;320;309;307;302;291;28...</td>\n",
       "      <td>36875;39247;39273;32196;39237;39233;39222;3922...</td>\n",
       "      <td>32.319671,34.868105;32.325694,34.864841;32.326...</td>\n",
       "    </tr>\n",
       "    <tr>\n",
       "      <td>1</td>\n",
       "      <td>698</td>\n",
       "      <td>2019-10-30</td>\n",
       "      <td>24323;333;358;42546;324;320;309;307;302;291;28...</td>\n",
       "      <td>36875;39247;39273;32196;39237;39233;39222;3922...</td>\n",
       "      <td>32.319671,34.868105;32.325694,34.864841;32.326...</td>\n",
       "    </tr>\n",
       "  </tbody>\n",
       "</table>\n",
       "</div>"
      ],
      "text/plain": [
       "   route_id        date                                        all_stop_id  \\\n",
       "0       698  2019-10-31  24323;333;358;42546;324;320;309;307;302;291;28...   \n",
       "1       698  2019-10-30  24323;333;358;42546;324;320;309;307;302;291;28...   \n",
       "\n",
       "                                       all_stop_code  \\\n",
       "0  36875;39247;39273;32196;39237;39233;39222;3922...   \n",
       "1  36875;39247;39273;32196;39237;39233;39222;3922...   \n",
       "\n",
       "                                     all_stop_latlon  \n",
       "0  32.319671,34.868105;32.325694,34.864841;32.326...  \n",
       "1  32.319671,34.868105;32.325694,34.864841;32.326...  "
      ]
     },
     "execution_count": 11,
     "metadata": {},
     "output_type": "execute_result"
    }
   ],
   "source": [
    "stops_data # one row per route id and date"
   ]
  },
  {
   "cell_type": "code",
   "execution_count": 12,
   "metadata": {
    "ExecuteTime": {
     "end_time": "2019-12-23T18:30:33.090207Z",
     "start_time": "2019-12-23T18:30:33.085805Z"
    }
   },
   "outputs": [],
   "source": [
    "def get_stops_df_per_route_date(row, stops_seq_cols=['all_stop_id', 'all_stop_code', 'all_stop_latlon']):\n",
    "    \"\"\" Create dataframe with a row for each stop\n",
    "    Input: row - a row of a df generated by the above splunk stops query.\n",
    "    \"\"\"\n",
    "    stops_dict = row.to_dict()\n",
    "    \n",
    "    # split each cell with stops sequence:\n",
    "    for col in stops_seq_cols:\n",
    "        stops_dict[col] = stops_dict[col].split(';')\n",
    "    \n",
    "    # enumerate the stops in the sequence:\n",
    "    seq_len = len(stops_dict[stops_seq_cols[0]])\n",
    "    stops_dict['stop_order'] = list(range(seq_len))\n",
    "    \n",
    "    return pd.DataFrame(stops_dict)"
   ]
  },
  {
   "cell_type": "code",
   "execution_count": 120,
   "metadata": {
    "ExecuteTime": {
     "end_time": "2019-12-23T20:38:54.283856Z",
     "start_time": "2019-12-23T20:38:54.258933Z"
    }
   },
   "outputs": [
    {
     "data": {
      "text/html": [
       "<div>\n",
       "<style scoped>\n",
       "    .dataframe tbody tr th:only-of-type {\n",
       "        vertical-align: middle;\n",
       "    }\n",
       "\n",
       "    .dataframe tbody tr th {\n",
       "        vertical-align: top;\n",
       "    }\n",
       "\n",
       "    .dataframe thead th {\n",
       "        text-align: right;\n",
       "    }\n",
       "</style>\n",
       "<table border=\"1\" class=\"dataframe\">\n",
       "  <thead>\n",
       "    <tr style=\"text-align: right;\">\n",
       "      <th></th>\n",
       "      <th>route_id</th>\n",
       "      <th>date</th>\n",
       "      <th>stop_id</th>\n",
       "      <th>stop_code</th>\n",
       "      <th>stop_latlon</th>\n",
       "      <th>stop_order</th>\n",
       "      <th>lat</th>\n",
       "      <th>lon</th>\n",
       "    </tr>\n",
       "  </thead>\n",
       "  <tbody>\n",
       "    <tr>\n",
       "      <td>0</td>\n",
       "      <td>698</td>\n",
       "      <td>2019-10-31</td>\n",
       "      <td>24323</td>\n",
       "      <td>36875</td>\n",
       "      <td>32.319671,34.868105</td>\n",
       "      <td>0</td>\n",
       "      <td>32.319671</td>\n",
       "      <td>34.868105</td>\n",
       "    </tr>\n",
       "    <tr>\n",
       "      <td>1</td>\n",
       "      <td>698</td>\n",
       "      <td>2019-10-31</td>\n",
       "      <td>333</td>\n",
       "      <td>39247</td>\n",
       "      <td>32.325694,34.864841</td>\n",
       "      <td>1</td>\n",
       "      <td>32.325694</td>\n",
       "      <td>34.864841</td>\n",
       "    </tr>\n",
       "    <tr>\n",
       "      <td>2</td>\n",
       "      <td>698</td>\n",
       "      <td>2019-10-31</td>\n",
       "      <td>358</td>\n",
       "      <td>39273</td>\n",
       "      <td>32.326819,34.862473</td>\n",
       "      <td>2</td>\n",
       "      <td>32.326819</td>\n",
       "      <td>34.862473</td>\n",
       "    </tr>\n",
       "    <tr>\n",
       "      <td>3</td>\n",
       "      <td>698</td>\n",
       "      <td>2019-10-31</td>\n",
       "      <td>42546</td>\n",
       "      <td>32196</td>\n",
       "      <td>32.326629,34.857538</td>\n",
       "      <td>3</td>\n",
       "      <td>32.326629</td>\n",
       "      <td>34.857538</td>\n",
       "    </tr>\n",
       "    <tr>\n",
       "      <td>4</td>\n",
       "      <td>698</td>\n",
       "      <td>2019-10-31</td>\n",
       "      <td>324</td>\n",
       "      <td>39237</td>\n",
       "      <td>32.324201,34.856548</td>\n",
       "      <td>4</td>\n",
       "      <td>32.324201</td>\n",
       "      <td>34.856548</td>\n",
       "    </tr>\n",
       "    <tr>\n",
       "      <td>...</td>\n",
       "      <td>...</td>\n",
       "      <td>...</td>\n",
       "      <td>...</td>\n",
       "      <td>...</td>\n",
       "      <td>...</td>\n",
       "      <td>...</td>\n",
       "      <td>...</td>\n",
       "      <td>...</td>\n",
       "    </tr>\n",
       "    <tr>\n",
       "      <td>42</td>\n",
       "      <td>698</td>\n",
       "      <td>2019-10-30</td>\n",
       "      <td>13103</td>\n",
       "      <td>21472</td>\n",
       "      <td>32.074914,34.790734</td>\n",
       "      <td>42</td>\n",
       "      <td>32.074914</td>\n",
       "      <td>34.790734</td>\n",
       "    </tr>\n",
       "    <tr>\n",
       "      <td>43</td>\n",
       "      <td>698</td>\n",
       "      <td>2019-10-30</td>\n",
       "      <td>13206</td>\n",
       "      <td>21675</td>\n",
       "      <td>32.07189,34.789291</td>\n",
       "      <td>43</td>\n",
       "      <td>32.071890</td>\n",
       "      <td>34.789291</td>\n",
       "    </tr>\n",
       "    <tr>\n",
       "      <td>44</td>\n",
       "      <td>698</td>\n",
       "      <td>2019-10-30</td>\n",
       "      <td>39960</td>\n",
       "      <td>20143</td>\n",
       "      <td>32.066005,34.786424</td>\n",
       "      <td>44</td>\n",
       "      <td>32.066005</td>\n",
       "      <td>34.786424</td>\n",
       "    </tr>\n",
       "    <tr>\n",
       "      <td>45</td>\n",
       "      <td>698</td>\n",
       "      <td>2019-10-30</td>\n",
       "      <td>13277</td>\n",
       "      <td>22947</td>\n",
       "      <td>32.061357,34.78463</td>\n",
       "      <td>45</td>\n",
       "      <td>32.061357</td>\n",
       "      <td>34.784630</td>\n",
       "    </tr>\n",
       "    <tr>\n",
       "      <td>46</td>\n",
       "      <td>698</td>\n",
       "      <td>2019-10-30</td>\n",
       "      <td>14595</td>\n",
       "      <td>28627</td>\n",
       "      <td>32.055512,34.780335</td>\n",
       "      <td>46</td>\n",
       "      <td>32.055512</td>\n",
       "      <td>34.780335</td>\n",
       "    </tr>\n",
       "  </tbody>\n",
       "</table>\n",
       "<p>94 rows × 8 columns</p>\n",
       "</div>"
      ],
      "text/plain": [
       "    route_id        date stop_id stop_code          stop_latlon  stop_order  \\\n",
       "0        698  2019-10-31   24323     36875  32.319671,34.868105           0   \n",
       "1        698  2019-10-31     333     39247  32.325694,34.864841           1   \n",
       "2        698  2019-10-31     358     39273  32.326819,34.862473           2   \n",
       "3        698  2019-10-31   42546     32196  32.326629,34.857538           3   \n",
       "4        698  2019-10-31     324     39237  32.324201,34.856548           4   \n",
       "..       ...         ...     ...       ...                  ...         ...   \n",
       "42       698  2019-10-30   13103     21472  32.074914,34.790734          42   \n",
       "43       698  2019-10-30   13206     21675   32.07189,34.789291          43   \n",
       "44       698  2019-10-30   39960     20143  32.066005,34.786424          44   \n",
       "45       698  2019-10-30   13277     22947   32.061357,34.78463          45   \n",
       "46       698  2019-10-30   14595     28627  32.055512,34.780335          46   \n",
       "\n",
       "          lat        lon  \n",
       "0   32.319671  34.868105  \n",
       "1   32.325694  34.864841  \n",
       "2   32.326819  34.862473  \n",
       "3   32.326629  34.857538  \n",
       "4   32.324201  34.856548  \n",
       "..        ...        ...  \n",
       "42  32.074914  34.790734  \n",
       "43  32.071890  34.789291  \n",
       "44  32.066005  34.786424  \n",
       "45  32.061357  34.784630  \n",
       "46  32.055512  34.780335  \n",
       "\n",
       "[94 rows x 8 columns]"
      ]
     },
     "execution_count": 120,
     "metadata": {},
     "output_type": "execute_result"
    }
   ],
   "source": [
    "# reshape the stops_data df to have one row per route_id, date and stop:\n",
    "stops_data2 = pd.concat([get_stops_df_per_route_date(row) for ind, row in stops_data.iterrows()], axis=0)\n",
    "stops_data2.columns = [col.replace('all_', '') for col in stops_data2.columns]\n",
    "stops_data2[['lat', 'lon']] = stops_data2.stop_latlon.str.split(',', expand=True).astype(float)\n",
    "stops_data2"
   ]
  },
  {
   "cell_type": "markdown",
   "metadata": {},
   "source": [
    "# TODO - Estimate trip time"
   ]
  },
  {
   "cell_type": "code",
   "execution_count": null,
   "metadata": {},
   "outputs": [],
   "source": [
    "# main flow:\n",
    "# group SIRI by trip. \n",
    "# for each trip - identify the closest time to second stop.\n",
    "# for each trip - identify the first closest time after (?) last stop.\n",
    "\n",
    "\n",
    "# for this, we need a function that gets a series of one trip + stop location and identifies:\n",
    "    # the closest GPS to this stop\n",
    "    # + with largest possible distance constraint\n",
    "    # + with option to only before or after the stop (this should also get the shape of the the route and identify direction.)\n",
    "    \n",
    "    "
   ]
  },
  {
   "cell_type": "markdown",
   "metadata": {},
   "source": [
    "Continue from here!!!!!!!   \n",
    "I need to take \"ogrp\", which is the ordered group of siri points for one trip, and extract the closest point to the 2nd and last stops. "
   ]
  },
  {
   "cell_type": "code",
   "execution_count": 124,
   "metadata": {
    "ExecuteTime": {
     "end_time": "2019-12-23T20:40:06.462393Z",
     "start_time": "2019-12-23T20:40:06.447871Z"
    }
   },
   "outputs": [
    {
     "name": "stdout",
     "output_type": "stream",
     "text": [
      "(15, 698, 47081601, '11:05:00', '2019-10-31')\n"
     ]
    }
   ],
   "source": [
    "i = 0\n",
    "# group siri by trip:\n",
    "for ids, grp in siri_data.groupby(['agency_id', 'route_id', 'bus_id', 'planned_start_time', 'planned_start_date']):\n",
    "    if i == 10:\n",
    "        break\n",
    "    i += 1\n",
    "print(ids)\n",
    "ogrp = grp.sort_values('time_recorded')"
   ]
  },
  {
   "cell_type": "code",
   "execution_count": 125,
   "metadata": {
    "ExecuteTime": {
     "end_time": "2019-12-23T20:40:10.687813Z",
     "start_time": "2019-12-23T20:40:10.669712Z"
    },
    "collapsed": true
   },
   "outputs": [
    {
     "data": {
      "text/html": [
       "<div>\n",
       "<style scoped>\n",
       "    .dataframe tbody tr th:only-of-type {\n",
       "        vertical-align: middle;\n",
       "    }\n",
       "\n",
       "    .dataframe tbody tr th {\n",
       "        vertical-align: top;\n",
       "    }\n",
       "\n",
       "    .dataframe thead th {\n",
       "        text-align: right;\n",
       "    }\n",
       "</style>\n",
       "<table border=\"1\" class=\"dataframe\">\n",
       "  <thead>\n",
       "    <tr style=\"text-align: right;\">\n",
       "      <th></th>\n",
       "      <th>timestamp</th>\n",
       "      <th>agency_id</th>\n",
       "      <th>route_id</th>\n",
       "      <th>route_short_name</th>\n",
       "      <th>service_id</th>\n",
       "      <th>planned_start_time</th>\n",
       "      <th>planned_start_date</th>\n",
       "      <th>bus_id</th>\n",
       "      <th>predicted_end_time</th>\n",
       "      <th>time_recorded</th>\n",
       "      <th>date_recorded</th>\n",
       "      <th>lat</th>\n",
       "      <th>lon</th>\n",
       "    </tr>\n",
       "  </thead>\n",
       "  <tbody>\n",
       "    <tr>\n",
       "      <td>3259</td>\n",
       "      <td>2019-10-31T10:16:41</td>\n",
       "      <td>15</td>\n",
       "      <td>698</td>\n",
       "      <td>601</td>\n",
       "      <td>42325786</td>\n",
       "      <td>11:05:00</td>\n",
       "      <td>2019-10-31</td>\n",
       "      <td>47081601</td>\n",
       "      <td>12:08:00</td>\n",
       "      <td>10:16:01</td>\n",
       "      <td>2019-10-31</td>\n",
       "      <td>0.00000</td>\n",
       "      <td>0.000000</td>\n",
       "    </tr>\n",
       "    <tr>\n",
       "      <td>3054</td>\n",
       "      <td>2019-10-31T10:41:41</td>\n",
       "      <td>15</td>\n",
       "      <td>698</td>\n",
       "      <td>601</td>\n",
       "      <td>42325786</td>\n",
       "      <td>11:05:00</td>\n",
       "      <td>2019-10-31</td>\n",
       "      <td>47081601</td>\n",
       "      <td>12:05:00</td>\n",
       "      <td>10:16:01</td>\n",
       "      <td>2019-10-31</td>\n",
       "      <td>0.00000</td>\n",
       "      <td>0.000000</td>\n",
       "    </tr>\n",
       "    <tr>\n",
       "      <td>3046</td>\n",
       "      <td>2019-10-31T10:42:41</td>\n",
       "      <td>15</td>\n",
       "      <td>698</td>\n",
       "      <td>601</td>\n",
       "      <td>42325786</td>\n",
       "      <td>11:05:00</td>\n",
       "      <td>2019-10-31</td>\n",
       "      <td>47081601</td>\n",
       "      <td>12:05:00</td>\n",
       "      <td>10:16:01</td>\n",
       "      <td>2019-10-31</td>\n",
       "      <td>0.00000</td>\n",
       "      <td>0.000000</td>\n",
       "    </tr>\n",
       "    <tr>\n",
       "      <td>3039</td>\n",
       "      <td>2019-10-31T10:43:41</td>\n",
       "      <td>15</td>\n",
       "      <td>698</td>\n",
       "      <td>601</td>\n",
       "      <td>42325786</td>\n",
       "      <td>11:05:00</td>\n",
       "      <td>2019-10-31</td>\n",
       "      <td>47081601</td>\n",
       "      <td>12:05:00</td>\n",
       "      <td>10:16:01</td>\n",
       "      <td>2019-10-31</td>\n",
       "      <td>0.00000</td>\n",
       "      <td>0.000000</td>\n",
       "    </tr>\n",
       "    <tr>\n",
       "      <td>3032</td>\n",
       "      <td>2019-10-31T10:44:41</td>\n",
       "      <td>15</td>\n",
       "      <td>698</td>\n",
       "      <td>601</td>\n",
       "      <td>42325786</td>\n",
       "      <td>11:05:00</td>\n",
       "      <td>2019-10-31</td>\n",
       "      <td>47081601</td>\n",
       "      <td>12:04:00</td>\n",
       "      <td>10:16:01</td>\n",
       "      <td>2019-10-31</td>\n",
       "      <td>0.00000</td>\n",
       "      <td>0.000000</td>\n",
       "    </tr>\n",
       "    <tr>\n",
       "      <td>...</td>\n",
       "      <td>...</td>\n",
       "      <td>...</td>\n",
       "      <td>...</td>\n",
       "      <td>...</td>\n",
       "      <td>...</td>\n",
       "      <td>...</td>\n",
       "      <td>...</td>\n",
       "      <td>...</td>\n",
       "      <td>...</td>\n",
       "      <td>...</td>\n",
       "      <td>...</td>\n",
       "      <td>...</td>\n",
       "      <td>...</td>\n",
       "    </tr>\n",
       "    <tr>\n",
       "      <td>2395</td>\n",
       "      <td>2019-10-31T12:11:42</td>\n",
       "      <td>15</td>\n",
       "      <td>698</td>\n",
       "      <td>601</td>\n",
       "      <td>42325786</td>\n",
       "      <td>11:05:00</td>\n",
       "      <td>2019-10-31</td>\n",
       "      <td>47081601</td>\n",
       "      <td>12:12:00</td>\n",
       "      <td>12:06:35</td>\n",
       "      <td>2019-10-31</td>\n",
       "      <td>32.07637</td>\n",
       "      <td>34.791847</td>\n",
       "    </tr>\n",
       "    <tr>\n",
       "      <td>2389</td>\n",
       "      <td>2019-10-31T12:12:42</td>\n",
       "      <td>15</td>\n",
       "      <td>698</td>\n",
       "      <td>601</td>\n",
       "      <td>42325786</td>\n",
       "      <td>11:05:00</td>\n",
       "      <td>2019-10-31</td>\n",
       "      <td>47081601</td>\n",
       "      <td>12:13:00</td>\n",
       "      <td>12:06:35</td>\n",
       "      <td>2019-10-31</td>\n",
       "      <td>32.07637</td>\n",
       "      <td>34.791847</td>\n",
       "    </tr>\n",
       "    <tr>\n",
       "      <td>2383</td>\n",
       "      <td>2019-10-31T12:13:48</td>\n",
       "      <td>15</td>\n",
       "      <td>698</td>\n",
       "      <td>601</td>\n",
       "      <td>42325786</td>\n",
       "      <td>11:05:00</td>\n",
       "      <td>2019-10-31</td>\n",
       "      <td>47081601</td>\n",
       "      <td>12:14:00</td>\n",
       "      <td>12:06:35</td>\n",
       "      <td>2019-10-31</td>\n",
       "      <td>32.07637</td>\n",
       "      <td>34.791847</td>\n",
       "    </tr>\n",
       "    <tr>\n",
       "      <td>2377</td>\n",
       "      <td>2019-10-31T12:14:43</td>\n",
       "      <td>15</td>\n",
       "      <td>698</td>\n",
       "      <td>601</td>\n",
       "      <td>42325786</td>\n",
       "      <td>11:05:00</td>\n",
       "      <td>2019-10-31</td>\n",
       "      <td>47081601</td>\n",
       "      <td>12:15:00</td>\n",
       "      <td>12:06:35</td>\n",
       "      <td>2019-10-31</td>\n",
       "      <td>32.07637</td>\n",
       "      <td>34.791847</td>\n",
       "    </tr>\n",
       "    <tr>\n",
       "      <td>2370</td>\n",
       "      <td>2019-10-31T12:15:44</td>\n",
       "      <td>15</td>\n",
       "      <td>698</td>\n",
       "      <td>601</td>\n",
       "      <td>42325786</td>\n",
       "      <td>11:05:00</td>\n",
       "      <td>2019-10-31</td>\n",
       "      <td>47081601</td>\n",
       "      <td>12:16:00</td>\n",
       "      <td>12:06:35</td>\n",
       "      <td>2019-10-31</td>\n",
       "      <td>32.07637</td>\n",
       "      <td>34.791847</td>\n",
       "    </tr>\n",
       "  </tbody>\n",
       "</table>\n",
       "<p>114 rows × 13 columns</p>\n",
       "</div>"
      ],
      "text/plain": [
       "                timestamp  agency_id  route_id  route_short_name  service_id  \\\n",
       "3259  2019-10-31T10:16:41         15       698               601    42325786   \n",
       "3054  2019-10-31T10:41:41         15       698               601    42325786   \n",
       "3046  2019-10-31T10:42:41         15       698               601    42325786   \n",
       "3039  2019-10-31T10:43:41         15       698               601    42325786   \n",
       "3032  2019-10-31T10:44:41         15       698               601    42325786   \n",
       "...                   ...        ...       ...               ...         ...   \n",
       "2395  2019-10-31T12:11:42         15       698               601    42325786   \n",
       "2389  2019-10-31T12:12:42         15       698               601    42325786   \n",
       "2383  2019-10-31T12:13:48         15       698               601    42325786   \n",
       "2377  2019-10-31T12:14:43         15       698               601    42325786   \n",
       "2370  2019-10-31T12:15:44         15       698               601    42325786   \n",
       "\n",
       "     planned_start_time planned_start_date    bus_id predicted_end_time  \\\n",
       "3259           11:05:00         2019-10-31  47081601           12:08:00   \n",
       "3054           11:05:00         2019-10-31  47081601           12:05:00   \n",
       "3046           11:05:00         2019-10-31  47081601           12:05:00   \n",
       "3039           11:05:00         2019-10-31  47081601           12:05:00   \n",
       "3032           11:05:00         2019-10-31  47081601           12:04:00   \n",
       "...                 ...                ...       ...                ...   \n",
       "2395           11:05:00         2019-10-31  47081601           12:12:00   \n",
       "2389           11:05:00         2019-10-31  47081601           12:13:00   \n",
       "2383           11:05:00         2019-10-31  47081601           12:14:00   \n",
       "2377           11:05:00         2019-10-31  47081601           12:15:00   \n",
       "2370           11:05:00         2019-10-31  47081601           12:16:00   \n",
       "\n",
       "     time_recorded date_recorded       lat        lon  \n",
       "3259      10:16:01    2019-10-31   0.00000   0.000000  \n",
       "3054      10:16:01    2019-10-31   0.00000   0.000000  \n",
       "3046      10:16:01    2019-10-31   0.00000   0.000000  \n",
       "3039      10:16:01    2019-10-31   0.00000   0.000000  \n",
       "3032      10:16:01    2019-10-31   0.00000   0.000000  \n",
       "...            ...           ...       ...        ...  \n",
       "2395      12:06:35    2019-10-31  32.07637  34.791847  \n",
       "2389      12:06:35    2019-10-31  32.07637  34.791847  \n",
       "2383      12:06:35    2019-10-31  32.07637  34.791847  \n",
       "2377      12:06:35    2019-10-31  32.07637  34.791847  \n",
       "2370      12:06:35    2019-10-31  32.07637  34.791847  \n",
       "\n",
       "[114 rows x 13 columns]"
      ]
     },
     "execution_count": 125,
     "metadata": {},
     "output_type": "execute_result"
    }
   ],
   "source": [
    "ogrp"
   ]
  },
  {
   "cell_type": "code",
   "execution_count": 126,
   "metadata": {
    "ExecuteTime": {
     "end_time": "2019-12-23T20:40:19.305337Z",
     "start_time": "2019-12-23T20:40:19.297805Z"
    }
   },
   "outputs": [],
   "source": [
    "### GPS for a specific stop! TODO - insert to a function and apply to 2nd and last stops.\n",
    "stop_ind = 1\n",
    "stop_latlon = stops_data2[(stops_data2.route_id == ogrp.route_id.iloc[0]) & \n",
    "                          (stops_data2.date == ogrp.date_recorded.iloc[0]) &\n",
    "                          (stops_data2.stop_order == stop_ind)\n",
    "                         ].stop_latlon.values[0]\n",
    "stop_lat, stop_lon = [float(x) for x in stop_latlon.split(',')]\n",
    "# stop_pnt = Point(float(cur_lon), float(cur_lat))"
   ]
  },
  {
   "cell_type": "code",
   "execution_count": 127,
   "metadata": {
    "ExecuteTime": {
     "end_time": "2019-12-23T20:40:21.644622Z",
     "start_time": "2019-12-23T20:40:21.478078Z"
    }
   },
   "outputs": [
    {
     "data": {
      "image/png": "[encoded data removed]",
      "text/plain": [
       "<Figure size 432x288 with 1 Axes>"
      ]
     },
     "metadata": {
      "needs_background": "light"
     },
     "output_type": "display_data"
    }
   ],
   "source": [
    "ax = ogrp[ogrp.lat > 0].plot.scatter('lon', 'lat')\n",
    "# ax.scatter(stop_lon, stop_lat, color='r', marker='x', alpha=0.5)\n",
    "ax.scatter(stops_data2.lon, stops_data2.lat, color='r', marker='x', alpha=0.5)\n",
    "ax.axis('equal')\n",
    "plt.show()"
   ]
  },
  {
   "cell_type": "code",
   "execution_count": 93,
   "metadata": {
    "ExecuteTime": {
     "end_time": "2019-12-23T20:15:18.518561Z",
     "start_time": "2019-12-23T20:15:18.393409Z"
    }
   },
   "outputs": [
    {
     "data": {
      "image/png": "[encoded data removed]",
      "text/plain": [
       "<Figure size 432x288 with 1 Axes>"
      ]
     },
     "metadata": {
      "needs_background": "light"
     },
     "output_type": "display_data"
    }
   ],
   "source": [
    "# sanity check - entries by \"time recorded\"\n",
    "dt_recorded = pd.to_datetime(ogrp.date_recorded + 'T' + ogrp.time_recorded)\n",
    "plt.plot(dt_recorded.reset_index(drop=True), marker='.', ls='')\n",
    "plt.show()"
   ]
  },
  {
   "cell_type": "markdown",
   "metadata": {
    "heading_collapsed": true
   },
   "source": [
    "## appendix - plot GPS"
   ]
  },
  {
   "cell_type": "code",
   "execution_count": 72,
   "metadata": {
    "ExecuteTime": {
     "end_time": "2019-12-23T19:39:30.877668Z",
     "start_time": "2019-12-23T19:39:30.774327Z"
    },
    "hidden": true
   },
   "outputs": [],
   "source": [
    "import geopandas\n",
    "from shapely.geometry import Point"
   ]
  },
  {
   "cell_type": "code",
   "execution_count": 91,
   "metadata": {
    "ExecuteTime": {
     "end_time": "2019-12-23T19:52:39.309736Z",
     "start_time": "2019-12-23T19:52:39.304150Z"
    },
    "hidden": true
   },
   "outputs": [],
   "source": [
    "def plot_gps(df):\n",
    "    \"\"\" df with columns 'lat' and 'lon'\"\"\"\n",
    "    data = df[df.lat > 0]\n",
    "    coord = pd.Series(list(zip(data.lon, data.lat))).rename('Coordinates').apply(Point).to_frame()\n",
    "    gdata = geopandas.GeoDataFrame(coord, geometry='Coordinates')\n",
    "    ax = gdata.plot()\n",
    "    return ax\n",
    "    "
   ]
  },
  {
   "cell_type": "code",
   "execution_count": 94,
   "metadata": {
    "ExecuteTime": {
     "end_time": "2019-12-23T20:15:42.610770Z",
     "start_time": "2019-12-23T20:15:42.459062Z"
    },
    "hidden": true
   },
   "outputs": [
    {
     "data": {
      "image/png": "[encoded data removed]",
      "text/plain": [
       "<Figure size 432x288 with 1 Axes>"
      ]
     },
     "metadata": {
      "needs_background": "light"
     },
     "output_type": "display_data"
    }
   ],
   "source": [
    "# sanity check - GPS points\n",
    "ax = plot_gps(ogrp)\n",
    "\n",
    "plt.show()"
   ]
  },
  {
   "cell_type": "markdown",
   "metadata": {},
   "source": [
    "## TODO - Pick the 2nd and last stops for each route id and date, estimate the time in these stops using SIRI data, and claculate the time difference."
   ]
  },
  {
   "cell_type": "markdown",
   "metadata": {},
   "source": [
    "# TODO - run on larger scale - to get statistics."
   ]
  },
  {
   "cell_type": "markdown",
   "metadata": {},
   "source": [
    "## TODO - convert the important code parts to a generic module"
   ]
  },
  {
   "cell_type": "code",
   "execution_count": null,
   "metadata": {},
   "outputs": [],
   "source": []
  }
 ],
 "metadata": {
  "kernelspec": {
   "display_name": "Python (OpenBus20190909)",
   "language": "python",
   "name": "openbus20190909"
  },
  "language_info": {
   "codemirror_mode": {
    "name": "ipython",
    "version": 3
   },
   "file_extension": ".py",
   "mimetype": "text/x-python",
   "name": "python",
   "nbconvert_exporter": "python",
   "pygments_lexer": "ipython3",
   "version": "3.7.4"
  },
  "toc": {
   "base_numbering": 1,
   "nav_menu": {},
   "number_sections": true,
   "sideBar": true,
   "skip_h1_title": false,
   "title_cell": "Table of Contents",
   "title_sidebar": "Contents",
   "toc_cell": false,
   "toc_position": {
    "height": "calc(100% - 180px)",
    "left": "10px",
    "top": "150px",
    "width": "186px"
   },
   "toc_section_display": true,
   "toc_window_display": true
  }
 },
 "nbformat": 4,
 "nbformat_minor": 2
}
