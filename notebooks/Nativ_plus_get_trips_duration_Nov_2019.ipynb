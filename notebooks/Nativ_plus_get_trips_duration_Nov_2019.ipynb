{
 "cells": [
  {
   "cell_type": "markdown",
   "metadata": {},
   "source": [
    "Adi Watzman\n",
    "Nov. 2019\n",
    "The goal of this notebook is to develop tools to measure trip time end-to-end.\n",
    "The specific usecase now is to compare trip durations before and after \"Nativ +\" initiative and analyze the differences (if any).\n",
    "\n",
    "\n",
    "The main steps:\n",
    "1. Pick route ids and dates.  \n",
    "* Query the \"Open Bus\" splunk database and retrieve siri real time data for these routes in the chosen dates.  \n",
    "* Query the \"Open Bus\" splunk database and retrieve GTFS stops locations for these routes.  \n",
    "* Estimate the time the bus passed in the second** stop and the time it arrived to the last stop, and report their   difference as the trip approximate duration.  \n",
    "\n",
    "** We use the second stop because it is easier to estimate when a bus passes a stop than estimate the time a bus started its trip. For the first stop there can be many cases such as - bus is very late and drives towards the first stop at the time it was suppose to depart, which can cause false departure time estimation.\n",
    "\n",
    "\n",
    "In order to retrieve data from our splunk database, I use the [splunk utils](https://github.com/hasadna/open-bus/tree/master/splunk/SplunkUtills) module"
   ]
  },
  {
   "cell_type": "markdown",
   "metadata": {},
   "source": [
    "# Imports and setup"
   ]
  },
  {
   "cell_type": "code",
   "execution_count": 1,
   "metadata": {},
   "outputs": [],
   "source": [
    "import getpass\n",
    "import json\n",
    "import pandas as pd\n",
    "import numpy as np\n",
    "import sys\n",
    "\n",
    "relative_splunk_utils_path = \"../splunk/SplunkUtills\"\n",
    "if relative_splunk_utils_path not in sys.path:\n",
    "    sys.path.append(relative_splunk_utils_path)\n",
    "\n",
    "from SplunkUtills import splunk_query_builder, read_splunk"
   ]
  },
  {
   "cell_type": "markdown",
   "metadata": {
    "heading_collapsed": true
   },
   "source": [
    "## credentials"
   ]
  },
  {
   "cell_type": "code",
   "execution_count": 2,
   "metadata": {
    "hidden": true
   },
   "outputs": [],
   "source": [
    "with open('/Users/awatzman/Documents/OpenBusDocuments/__credentials.json', 'r') as f:\n",
    "    credentials = json.load(f)\n",
    "    \n",
    "HOST = credentials['host']\n",
    "PORT = credentials['port']\n",
    "USERNAME = credentials['username']"
   ]
  },
  {
   "cell_type": "code",
   "execution_count": 3,
   "metadata": {
    "hidden": true
   },
   "outputs": [
    {
     "name": "stdout",
     "output_type": "stream",
     "text": [
      "········\n"
     ]
    }
   ],
   "source": [
    "# avoid saving the password in a file:\n",
    "PASSWORD = getpass.getpass()"
   ]
  },
  {
   "cell_type": "markdown",
   "metadata": {
    "heading_collapsed": true
   },
   "source": [
    "# Templates - Splunk query demo - used for query templates"
   ]
  },
  {
   "cell_type": "code",
   "execution_count": 4,
   "metadata": {
    "hidden": true
   },
   "outputs": [
    {
     "name": "stdout",
     "output_type": "stream",
     "text": [
      "start..\n",
      "\n",
      "your query:\n",
      " search index=route_stats earliest=-20d latest=-10d route_id=5189|\n",
      "\n",
      "        fields agency_id, route_short_name, route_id, date, all_start_time |\n",
      " \n",
      "\n",
      "connection succeed\n",
      "\n",
      "query status: 100.0%   66 scanned   10 matched   10 results\n",
      "\n",
      "Done!\n",
      "\n",
      "query succeed\n",
      "\n",
      "read results succeed\n",
      "\n",
      "job finished and canceled\n",
      "\n",
      "finished! number of rows: 10\n",
      "\n"
     ]
    }
   ],
   "source": [
    "query = '''search index=route_stats earliest=-20d latest=-10d route_id=5189|\n",
    "        fields agency_id, route_short_name, route_id, date, all_start_time | '''\n",
    "\n",
    "GTFS_data = read_splunk(query,\n",
    "          host =  HOST, port = PORT, username = USERNAME, password = PASSWORD)\n"
   ]
  },
  {
   "cell_type": "code",
   "execution_count": 11,
   "metadata": {
    "collapsed": true,
    "hidden": true
   },
   "outputs": [
    {
     "data": {
      "text/html": [
       "<div>\n",
       "<style scoped>\n",
       "    .dataframe tbody tr th:only-of-type {\n",
       "        vertical-align: middle;\n",
       "    }\n",
       "\n",
       "    .dataframe tbody tr th {\n",
       "        vertical-align: top;\n",
       "    }\n",
       "\n",
       "    .dataframe thead th {\n",
       "        text-align: right;\n",
       "    }\n",
       "</style>\n",
       "<table border=\"1\" class=\"dataframe\">\n",
       "  <thead>\n",
       "    <tr style=\"text-align: right;\">\n",
       "      <th></th>\n",
       "      <th>agency_id</th>\n",
       "      <th>route_short_name</th>\n",
       "      <th>route_id</th>\n",
       "      <th>date</th>\n",
       "      <th>all_start_time</th>\n",
       "    </tr>\n",
       "  </thead>\n",
       "  <tbody>\n",
       "    <tr>\n",
       "      <td>0</td>\n",
       "      <td>15</td>\n",
       "      <td>501</td>\n",
       "      <td>5189</td>\n",
       "      <td>2019-10-30</td>\n",
       "      <td>05:00:00;05:15:00;05:45:00;06:05:00;06:23:00;0...</td>\n",
       "    </tr>\n",
       "    <tr>\n",
       "      <td>1</td>\n",
       "      <td>15</td>\n",
       "      <td>501</td>\n",
       "      <td>5189</td>\n",
       "      <td>2019-10-29</td>\n",
       "      <td>05:00:00;05:15:00;05:45:00;06:05:00;06:23:00;0...</td>\n",
       "    </tr>\n",
       "    <tr>\n",
       "      <td>2</td>\n",
       "      <td>15</td>\n",
       "      <td>501</td>\n",
       "      <td>5189</td>\n",
       "      <td>2019-10-28</td>\n",
       "      <td>05:00:00;05:15:00;05:45:00;06:05:00;06:23:00;0...</td>\n",
       "    </tr>\n",
       "    <tr>\n",
       "      <td>3</td>\n",
       "      <td>15</td>\n",
       "      <td>501</td>\n",
       "      <td>5189</td>\n",
       "      <td>2019-10-27</td>\n",
       "      <td>05:00:00;05:15:00;05:45:00;06:05:00;06:23:00;0...</td>\n",
       "    </tr>\n",
       "    <tr>\n",
       "      <td>4</td>\n",
       "      <td>15</td>\n",
       "      <td>501</td>\n",
       "      <td>5189</td>\n",
       "      <td>2019-10-26</td>\n",
       "      <td>20:00:00;20:01:00;20:15:00;20:30:00;20:45:00;2...</td>\n",
       "    </tr>\n",
       "    <tr>\n",
       "      <td>5</td>\n",
       "      <td>15</td>\n",
       "      <td>501</td>\n",
       "      <td>5189</td>\n",
       "      <td>2019-10-25</td>\n",
       "      <td>05:00:00;05:30:00;05:45:00;06:00:00;06:15:00;0...</td>\n",
       "    </tr>\n",
       "    <tr>\n",
       "      <td>6</td>\n",
       "      <td>3</td>\n",
       "      <td>501</td>\n",
       "      <td>5189</td>\n",
       "      <td>2019-10-24</td>\n",
       "      <td>05:15:00;05:30:00;05:45:00;05:55:00;06:03:00;0...</td>\n",
       "    </tr>\n",
       "    <tr>\n",
       "      <td>7</td>\n",
       "      <td>3</td>\n",
       "      <td>501</td>\n",
       "      <td>5189</td>\n",
       "      <td>2019-10-23</td>\n",
       "      <td>05:15:00;05:30:00;05:45:00;05:55:00;06:03:00;0...</td>\n",
       "    </tr>\n",
       "  </tbody>\n",
       "</table>\n",
       "</div>"
      ],
      "text/plain": [
       "   agency_id  route_short_name  route_id        date  \\\n",
       "0         15               501      5189  2019-10-30   \n",
       "1         15               501      5189  2019-10-29   \n",
       "2         15               501      5189  2019-10-28   \n",
       "3         15               501      5189  2019-10-27   \n",
       "4         15               501      5189  2019-10-26   \n",
       "5         15               501      5189  2019-10-25   \n",
       "6          3               501      5189  2019-10-24   \n",
       "7          3               501      5189  2019-10-23   \n",
       "\n",
       "                                      all_start_time  \n",
       "0  05:00:00;05:15:00;05:45:00;06:05:00;06:23:00;0...  \n",
       "1  05:00:00;05:15:00;05:45:00;06:05:00;06:23:00;0...  \n",
       "2  05:00:00;05:15:00;05:45:00;06:05:00;06:23:00;0...  \n",
       "3  05:00:00;05:15:00;05:45:00;06:05:00;06:23:00;0...  \n",
       "4  20:00:00;20:01:00;20:15:00;20:30:00;20:45:00;2...  \n",
       "5  05:00:00;05:30:00;05:45:00;06:00:00;06:15:00;0...  \n",
       "6  05:15:00;05:30:00;05:45:00;05:55:00;06:03:00;0...  \n",
       "7  05:15:00;05:30:00;05:45:00;05:55:00;06:03:00;0...  "
      ]
     },
     "execution_count": 11,
     "metadata": {},
     "output_type": "execute_result"
    }
   ],
   "source": [
    "GTFS_data"
   ]
  },
  {
   "cell_type": "code",
   "execution_count": 12,
   "metadata": {
    "collapsed": true,
    "hidden": true
   },
   "outputs": [
    {
     "name": "stdout",
     "output_type": "stream",
     "text": [
      "start..\n",
      "\n",
      "your query:\n",
      " search index=siri earliest=-10d latest=-7d route_short_name=501 route_id=5189 planned_start_time=22:00:00 |\n",
      " fields timestamp, agency_id, route_id, route_short_name, service_id, planned_start_time, bus_id, predicted_end_time, time_recorded, lat, lon |\n",
      "\n",
      "\n",
      "connection succeed\n",
      "\n",
      "query status: 100.0%   1769 scanned   87 matched   87 results\n",
      "\n",
      "Done!\n",
      "\n",
      "query succeed\n",
      "\n",
      "read results succeed\n",
      "\n",
      "job finished and canceled\n",
      "\n",
      "finished! number of rows: 87\n",
      "\n"
     ]
    }
   ],
   "source": [
    "query_kwargs = {\n",
    "                'index': 'siri',\n",
    "                'earliest': '-10d', #=last 10 days\n",
    "                'latest': '-7d',\n",
    "                #'agency_id': 3,\n",
    "                'route_short_name': 501,\n",
    "                'route_id': 5189,\n",
    "                'planned_start_time': '22:00:00',\n",
    "               #'max_columns': 100000,\n",
    "               'columns': ['timestamp','agency_id','route_id','route_short_name','service_id','planned_start_time',\n",
    "                        'bus_id','predicted_end_time','time_recorded','lat','lon']\n",
    "                }\n",
    "\n",
    "SIRI_data = read_splunk(splunk_query_builder(**query_kwargs),\n",
    "          host =  HOST, port = PORT, username = USERNAME, password = PASSWORD)\n"
   ]
  },
  {
   "cell_type": "code",
   "execution_count": 13,
   "metadata": {
    "collapsed": true,
    "hidden": true
   },
   "outputs": [
    {
     "data": {
      "text/html": [
       "<div>\n",
       "<style scoped>\n",
       "    .dataframe tbody tr th:only-of-type {\n",
       "        vertical-align: middle;\n",
       "    }\n",
       "\n",
       "    .dataframe tbody tr th {\n",
       "        vertical-align: top;\n",
       "    }\n",
       "\n",
       "    .dataframe thead th {\n",
       "        text-align: right;\n",
       "    }\n",
       "</style>\n",
       "<table border=\"1\" class=\"dataframe\">\n",
       "  <thead>\n",
       "    <tr style=\"text-align: right;\">\n",
       "      <th></th>\n",
       "      <th>timestamp</th>\n",
       "      <th>agency_id</th>\n",
       "      <th>route_id</th>\n",
       "      <th>route_short_name</th>\n",
       "      <th>service_id</th>\n",
       "      <th>planned_start_time</th>\n",
       "      <th>bus_id</th>\n",
       "      <th>predicted_end_time</th>\n",
       "      <th>time_recorded</th>\n",
       "      <th>lat</th>\n",
       "      <th>lon</th>\n",
       "    </tr>\n",
       "  </thead>\n",
       "  <tbody>\n",
       "    <tr>\n",
       "      <td>0</td>\n",
       "      <td>2019-11-02T22:26:42</td>\n",
       "      <td>15</td>\n",
       "      <td>5189</td>\n",
       "      <td>501</td>\n",
       "      <td>42135488</td>\n",
       "      <td>22:00:00</td>\n",
       "      <td>86343101</td>\n",
       "      <td>22:45:00</td>\n",
       "      <td>22:26:39</td>\n",
       "      <td>32.168880</td>\n",
       "      <td>34.928661</td>\n",
       "    </tr>\n",
       "    <tr>\n",
       "      <td>1</td>\n",
       "      <td>2019-11-02T22:25:42</td>\n",
       "      <td>15</td>\n",
       "      <td>5189</td>\n",
       "      <td>501</td>\n",
       "      <td>42135488</td>\n",
       "      <td>22:00:00</td>\n",
       "      <td>86343101</td>\n",
       "      <td>22:44:00</td>\n",
       "      <td>22:25:34</td>\n",
       "      <td>32.168278</td>\n",
       "      <td>34.928368</td>\n",
       "    </tr>\n",
       "    <tr>\n",
       "      <td>2</td>\n",
       "      <td>2019-11-02T22:24:42</td>\n",
       "      <td>15</td>\n",
       "      <td>5189</td>\n",
       "      <td>501</td>\n",
       "      <td>42135488</td>\n",
       "      <td>22:00:00</td>\n",
       "      <td>86343101</td>\n",
       "      <td>22:43:00</td>\n",
       "      <td>22:24:20</td>\n",
       "      <td>32.167198</td>\n",
       "      <td>34.927765</td>\n",
       "    </tr>\n",
       "    <tr>\n",
       "      <td>3</td>\n",
       "      <td>2019-11-02T22:23:42</td>\n",
       "      <td>15</td>\n",
       "      <td>5189</td>\n",
       "      <td>501</td>\n",
       "      <td>42135488</td>\n",
       "      <td>22:00:00</td>\n",
       "      <td>86343101</td>\n",
       "      <td>22:42:00</td>\n",
       "      <td>22:23:32</td>\n",
       "      <td>32.165466</td>\n",
       "      <td>34.926895</td>\n",
       "    </tr>\n",
       "    <tr>\n",
       "      <td>4</td>\n",
       "      <td>2019-11-02T22:22:42</td>\n",
       "      <td>15</td>\n",
       "      <td>5189</td>\n",
       "      <td>501</td>\n",
       "      <td>42135488</td>\n",
       "      <td>22:00:00</td>\n",
       "      <td>86343101</td>\n",
       "      <td>22:45:00</td>\n",
       "      <td>22:22:10</td>\n",
       "      <td>32.164654</td>\n",
       "      <td>34.924950</td>\n",
       "    </tr>\n",
       "    <tr>\n",
       "      <td>...</td>\n",
       "      <td>...</td>\n",
       "      <td>...</td>\n",
       "      <td>...</td>\n",
       "      <td>...</td>\n",
       "      <td>...</td>\n",
       "      <td>...</td>\n",
       "      <td>...</td>\n",
       "      <td>...</td>\n",
       "      <td>...</td>\n",
       "      <td>...</td>\n",
       "      <td>...</td>\n",
       "    </tr>\n",
       "    <tr>\n",
       "      <td>82</td>\n",
       "      <td>2019-11-02T21:04:42</td>\n",
       "      <td>15</td>\n",
       "      <td>5189</td>\n",
       "      <td>501</td>\n",
       "      <td>42135488</td>\n",
       "      <td>22:00:00</td>\n",
       "      <td>86343101</td>\n",
       "      <td>22:45:00</td>\n",
       "      <td>20:11:31</td>\n",
       "      <td>0.000000</td>\n",
       "      <td>0.000000</td>\n",
       "    </tr>\n",
       "    <tr>\n",
       "      <td>83</td>\n",
       "      <td>2019-11-02T21:03:42</td>\n",
       "      <td>15</td>\n",
       "      <td>5189</td>\n",
       "      <td>501</td>\n",
       "      <td>42135488</td>\n",
       "      <td>22:00:00</td>\n",
       "      <td>86343101</td>\n",
       "      <td>22:45:00</td>\n",
       "      <td>20:11:31</td>\n",
       "      <td>0.000000</td>\n",
       "      <td>0.000000</td>\n",
       "    </tr>\n",
       "    <tr>\n",
       "      <td>84</td>\n",
       "      <td>2019-11-02T21:02:42</td>\n",
       "      <td>15</td>\n",
       "      <td>5189</td>\n",
       "      <td>501</td>\n",
       "      <td>42135488</td>\n",
       "      <td>22:00:00</td>\n",
       "      <td>86343101</td>\n",
       "      <td>22:45:00</td>\n",
       "      <td>20:11:31</td>\n",
       "      <td>0.000000</td>\n",
       "      <td>0.000000</td>\n",
       "    </tr>\n",
       "    <tr>\n",
       "      <td>85</td>\n",
       "      <td>2019-11-02T21:01:42</td>\n",
       "      <td>15</td>\n",
       "      <td>5189</td>\n",
       "      <td>501</td>\n",
       "      <td>42135488</td>\n",
       "      <td>22:00:00</td>\n",
       "      <td>86343101</td>\n",
       "      <td>22:45:00</td>\n",
       "      <td>20:11:31</td>\n",
       "      <td>0.000000</td>\n",
       "      <td>0.000000</td>\n",
       "    </tr>\n",
       "    <tr>\n",
       "      <td>86</td>\n",
       "      <td>2019-11-02T21:00:42</td>\n",
       "      <td>15</td>\n",
       "      <td>5189</td>\n",
       "      <td>501</td>\n",
       "      <td>42135488</td>\n",
       "      <td>22:00:00</td>\n",
       "      <td>86343101</td>\n",
       "      <td>22:45:00</td>\n",
       "      <td>20:11:31</td>\n",
       "      <td>0.000000</td>\n",
       "      <td>0.000000</td>\n",
       "    </tr>\n",
       "  </tbody>\n",
       "</table>\n",
       "<p>87 rows × 11 columns</p>\n",
       "</div>"
      ],
      "text/plain": [
       "              timestamp  agency_id  route_id  route_short_name  service_id  \\\n",
       "0   2019-11-02T22:26:42         15      5189               501    42135488   \n",
       "1   2019-11-02T22:25:42         15      5189               501    42135488   \n",
       "2   2019-11-02T22:24:42         15      5189               501    42135488   \n",
       "3   2019-11-02T22:23:42         15      5189               501    42135488   \n",
       "4   2019-11-02T22:22:42         15      5189               501    42135488   \n",
       "..                  ...        ...       ...               ...         ...   \n",
       "82  2019-11-02T21:04:42         15      5189               501    42135488   \n",
       "83  2019-11-02T21:03:42         15      5189               501    42135488   \n",
       "84  2019-11-02T21:02:42         15      5189               501    42135488   \n",
       "85  2019-11-02T21:01:42         15      5189               501    42135488   \n",
       "86  2019-11-02T21:00:42         15      5189               501    42135488   \n",
       "\n",
       "   planned_start_time    bus_id predicted_end_time time_recorded        lat  \\\n",
       "0            22:00:00  86343101           22:45:00      22:26:39  32.168880   \n",
       "1            22:00:00  86343101           22:44:00      22:25:34  32.168278   \n",
       "2            22:00:00  86343101           22:43:00      22:24:20  32.167198   \n",
       "3            22:00:00  86343101           22:42:00      22:23:32  32.165466   \n",
       "4            22:00:00  86343101           22:45:00      22:22:10  32.164654   \n",
       "..                ...       ...                ...           ...        ...   \n",
       "82           22:00:00  86343101           22:45:00      20:11:31   0.000000   \n",
       "83           22:00:00  86343101           22:45:00      20:11:31   0.000000   \n",
       "84           22:00:00  86343101           22:45:00      20:11:31   0.000000   \n",
       "85           22:00:00  86343101           22:45:00      20:11:31   0.000000   \n",
       "86           22:00:00  86343101           22:45:00      20:11:31   0.000000   \n",
       "\n",
       "          lon  \n",
       "0   34.928661  \n",
       "1   34.928368  \n",
       "2   34.927765  \n",
       "3   34.926895  \n",
       "4   34.924950  \n",
       "..        ...  \n",
       "82   0.000000  \n",
       "83   0.000000  \n",
       "84   0.000000  \n",
       "85   0.000000  \n",
       "86   0.000000  \n",
       "\n",
       "[87 rows x 11 columns]"
      ]
     },
     "execution_count": 13,
     "metadata": {},
     "output_type": "execute_result"
    }
   ],
   "source": [
    "SIRI_data"
   ]
  },
  {
   "cell_type": "markdown",
   "metadata": {},
   "source": [
    "# Get Data"
   ]
  },
  {
   "cell_type": "markdown",
   "metadata": {},
   "source": [
    "## Pick route ids and dates\n",
    "\n",
    "Use the route_stats and trip_stats [docs](https://open-bus-gtfs-utils.readthedocs.io/en/latest/trip_stats.html) to find relevant data fields."
   ]
  },
  {
   "cell_type": "code",
   "execution_count": 8,
   "metadata": {
    "ExecuteTime": {
     "end_time": "2019-12-02T18:02:08.115003Z",
     "start_time": "2019-12-02T18:02:08.112178Z"
    }
   },
   "outputs": [],
   "source": [
    "# human-friendly settings:\n",
    "route_short_name = '601'\n",
    "earliest = \"10/30/2019:00:00:00\"\n",
    "latest = \"10/30/2019:23:59:59\""
   ]
  },
  {
   "cell_type": "code",
   "execution_count": 9,
   "metadata": {
    "ExecuteTime": {
     "end_time": "2019-12-02T18:02:16.136267Z",
     "start_time": "2019-12-02T18:02:11.731132Z"
    }
   },
   "outputs": [
    {
     "name": "stdout",
     "output_type": "stream",
     "text": [
      "start..\n",
      "\n",
      "your query:\n",
      " \n",
      "search \n",
      "    index=route_stats \n",
      "    earliest=\"10/30/2019:00:00:00\"\n",
      "    latest=\"10/30/2019:23:59:59\" \n",
      "    route_short_name=601 |\n",
      "\n",
      "fields \n",
      "    date, \n",
      "    agency_id, \n",
      "    route_short_name, \n",
      "    route_id,\n",
      "    start_stop_city,\n",
      "    start_stop_name,\n",
      "    end_stop_city,\n",
      "    end_stop_name,\n",
      "    all_start_time |\n",
      " \n",
      "\n",
      "\n",
      "connection succeed\n",
      "\n",
      "query status: 100.0%   49 scanned   3 matched   3 results\n",
      "\n",
      "Done!\n",
      "\n",
      "query succeed\n",
      "\n",
      "read results succeed\n",
      "\n",
      "job finished and canceled\n",
      "\n",
      "finished! number of rows: 3\n",
      "\n"
     ]
    }
   ],
   "source": [
    "# find relevant route ids:\n",
    "\n",
    "get_route_ids_q = '''\n",
    "search \n",
    "    index=route_stats \n",
    "    earliest=\"{earliest}\"\n",
    "    latest=\"{latest}\" \n",
    "    route_short_name={route_short_name} |\n",
    "fields \n",
    "    date, \n",
    "    agency_id, \n",
    "    route_short_name, \n",
    "    route_id,\n",
    "    start_stop_city,\n",
    "    start_stop_name,\n",
    "    end_stop_city,\n",
    "    end_stop_name,\n",
    "    all_start_time | \n",
    "'''.format(earliest=earliest, latest=latest, route_short_name=route_short_name)\n",
    "\n",
    "route_ids = read_splunk(get_route_ids_q,\n",
    "                        host=HOST, port=PORT, username=USERNAME, password=PASSWORD)\n"
   ]
  },
  {
   "cell_type": "code",
   "execution_count": 10,
   "metadata": {
    "ExecuteTime": {
     "end_time": "2019-12-02T18:02:25.884895Z",
     "start_time": "2019-12-02T18:02:25.862342Z"
    }
   },
   "outputs": [
    {
     "data": {
      "text/html": [
       "<div>\n",
       "<style scoped>\n",
       "    .dataframe tbody tr th:only-of-type {\n",
       "        vertical-align: middle;\n",
       "    }\n",
       "\n",
       "    .dataframe tbody tr th {\n",
       "        vertical-align: top;\n",
       "    }\n",
       "\n",
       "    .dataframe thead th {\n",
       "        text-align: right;\n",
       "    }\n",
       "</style>\n",
       "<table border=\"1\" class=\"dataframe\">\n",
       "  <thead>\n",
       "    <tr style=\"text-align: right;\">\n",
       "      <th></th>\n",
       "      <th>date</th>\n",
       "      <th>agency_id</th>\n",
       "      <th>route_short_name</th>\n",
       "      <th>route_id</th>\n",
       "      <th>start_stop_city</th>\n",
       "      <th>start_stop_name</th>\n",
       "      <th>end_stop_city</th>\n",
       "      <th>end_stop_name</th>\n",
       "      <th>all_start_time</th>\n",
       "    </tr>\n",
       "  </thead>\n",
       "  <tbody>\n",
       "    <tr>\n",
       "      <td>0</td>\n",
       "      <td>2019-10-30</td>\n",
       "      <td>15</td>\n",
       "      <td>601</td>\n",
       "      <td>18077</td>\n",
       "      <td>תל אביב יפו</td>\n",
       "      <td>ת.מרכזית ת''א ק.6/רציפים</td>\n",
       "      <td>נתניה</td>\n",
       "      <td>ת. רכבת נתניה</td>\n",
       "      <td>19:35:00;20:05:00;20:40:00;21:20:00;21:35:00;2...</td>\n",
       "    </tr>\n",
       "    <tr>\n",
       "      <td>1</td>\n",
       "      <td>2019-10-30</td>\n",
       "      <td>15</td>\n",
       "      <td>601</td>\n",
       "      <td>700</td>\n",
       "      <td>תל אביב יפו</td>\n",
       "      <td>ת.מרכזית ת''א ק.6/רציפים</td>\n",
       "      <td>נתניה</td>\n",
       "      <td>ת. רכבת נתניה</td>\n",
       "      <td>05:40:00;06:00:00;06:15:00;06:30:00;06:40:00;0...</td>\n",
       "    </tr>\n",
       "    <tr>\n",
       "      <td>2</td>\n",
       "      <td>2019-10-30</td>\n",
       "      <td>15</td>\n",
       "      <td>601</td>\n",
       "      <td>698</td>\n",
       "      <td>נתניה</td>\n",
       "      <td>ת. רכבת נתניה</td>\n",
       "      <td>תל אביב יפו</td>\n",
       "      <td>ת. מרכזית ת''א ק. 6/הורדה</td>\n",
       "      <td>05:30:00;06:00:00;06:20:00;06:40:00;06:50:00;0...</td>\n",
       "    </tr>\n",
       "  </tbody>\n",
       "</table>\n",
       "</div>"
      ],
      "text/plain": [
       "         date  agency_id  route_short_name  route_id start_stop_city  \\\n",
       "0  2019-10-30         15               601     18077     תל אביב יפו   \n",
       "1  2019-10-30         15               601       700     תל אביב יפו   \n",
       "2  2019-10-30         15               601       698           נתניה   \n",
       "\n",
       "            start_stop_name end_stop_city              end_stop_name  \\\n",
       "0  ת.מרכזית ת''א ק.6/רציפים         נתניה              ת. רכבת נתניה   \n",
       "1  ת.מרכזית ת''א ק.6/רציפים         נתניה              ת. רכבת נתניה   \n",
       "2             ת. רכבת נתניה   תל אביב יפו  ת. מרכזית ת''א ק. 6/הורדה   \n",
       "\n",
       "                                      all_start_time  \n",
       "0  19:35:00;20:05:00;20:40:00;21:20:00;21:35:00;2...  \n",
       "1  05:40:00;06:00:00;06:15:00;06:30:00;06:40:00;0...  \n",
       "2  05:30:00;06:00:00;06:20:00;06:40:00;06:50:00;0...  "
      ]
     },
     "execution_count": 10,
     "metadata": {},
     "output_type": "execute_result"
    }
   ],
   "source": [
    "route_ids"
   ]
  },
  {
   "cell_type": "code",
   "execution_count": 17,
   "metadata": {
    "collapsed": true
   },
   "outputs": [
    {
     "data": {
      "text/plain": [
       "array([list(['19:35:00', '20:05:00', '20:40:00', '21:20:00', '21:35:00', '21:50:00', '22:10:00', '22:30:00', '22:50:00', '23:10:00', '23:35:00']),\n",
       "       list(['05:40:00', '06:00:00', '06:15:00', '06:30:00', '06:40:00', '06:50:00', '07:00:00', '07:10:00', '07:20:00', '07:40:00', '07:50:00', '08:00:00', '08:12:00', '08:24:00', '08:36:00', '08:50:00', '09:00:00', '09:10:00', '09:20:00', '09:30:00', '09:45:00', '10:00:00', '10:20:00', '10:40:00', '11:00:00', '11:20:00', '11:40:00', '12:00:00', '12:35:00', '13:00:00', '13:30:00', '14:00:00', '14:30:00', '14:45:00', '15:00:00', '15:20:00', '15:40:00', '16:00:00', '16:20:00', '16:40:00', '17:00:00', '17:25:00', '17:45:00', '18:00:00', '18:25:00', '18:45:00', '19:00:00']),\n",
       "       list(['05:30:00', '06:00:00', '06:20:00', '06:40:00', '06:50:00', '07:00:00', '07:10:00', '07:20:00', '07:30:00', '07:40:00', '07:50:00', '08:00:00', '08:20:00', '08:40:00', '09:00:00', '09:15:00', '09:30:00', '09:45:00', '10:05:00', '10:25:00', '10:45:00', '11:05:00', '11:35:00', '11:50:00', '12:05:00', '12:35:00', '13:05:00', '13:35:00', '14:05:00', '14:35:00', '14:50:00', '15:05:00', '15:35:00', '15:50:00', '16:05:00', '16:25:00', '16:45:00', '17:05:00', '17:35:00', '17:50:00', '18:10:00', '18:50:00', '19:20:00', '19:40:00', '20:00:00', '20:30:00', '21:00:00', '21:30:00', '22:05:00', '22:35:00'])],\n",
       "      dtype=object)"
      ]
     },
     "execution_count": 17,
     "metadata": {},
     "output_type": "execute_result"
    }
   ],
   "source": [
    "#route_ids.all_start_time.str.split(';').apply(lambda x: sorted(x)).values"
   ]
  },
  {
   "cell_type": "markdown",
   "metadata": {},
   "source": [
    "Choose the relevat route id and continue:"
   ]
  },
  {
   "cell_type": "code",
   "execution_count": 11,
   "metadata": {
    "ExecuteTime": {
     "end_time": "2019-12-02T18:02:32.942731Z",
     "start_time": "2019-12-02T18:02:32.939797Z"
    }
   },
   "outputs": [],
   "source": [
    "route_id = '698' # Netanya -> TLV"
   ]
  },
  {
   "cell_type": "markdown",
   "metadata": {},
   "source": [
    "## Retreive SIRI data"
   ]
  },
  {
   "cell_type": "code",
   "execution_count": 12,
   "metadata": {
    "ExecuteTime": {
     "end_time": "2019-12-02T18:03:16.401350Z",
     "start_time": "2019-12-02T18:02:50.945897Z"
    }
   },
   "outputs": [
    {
     "name": "stdout",
     "output_type": "stream",
     "text": [
      "start..\n",
      "\n",
      "your query:\n",
      " search index=siri earliest=10/30/2019:00:00:00 latest=10/30/2019:23:59:59 route_id=698 |\n",
      " fields timestamp, agency_id, route_id, route_short_name, service_id, planned_start_time, bus_id, predicted_end_time, time_recorded, lat, lon |\n",
      "\n",
      "\n",
      "connection succeed\n",
      "\n",
      "query status: 100.0%   7065 scanned   6391 matched   6391 results\n",
      "\n",
      "Done!\n",
      "\n",
      "query succeed\n",
      "\n",
      "read results succeed\n",
      "\n",
      "job finished and canceled\n",
      "\n",
      "finished! number of rows: 6391\n",
      "\n"
     ]
    }
   ],
   "source": [
    "siri_cols = ['timestamp','agency_id','route_id','route_short_name','service_id','planned_start_time',\n",
    "             'bus_id','predicted_end_time','time_recorded','lat','lon']\n",
    "query_kwargs = {\n",
    "                'index': 'siri',\n",
    "                'earliest': earliest, \n",
    "                'latest': latest,\n",
    "                'route_id': route_id,\n",
    "                'columns': siri_cols\n",
    "                }\n",
    "\n",
    "siri_data = read_splunk(splunk_query_builder(**query_kwargs),\n",
    "                        host=HOST, port=PORT, username=USERNAME, password=PASSWORD)"
   ]
  },
  {
   "cell_type": "code",
   "execution_count": 13,
   "metadata": {
    "ExecuteTime": {
     "end_time": "2019-12-02T18:05:22.068371Z",
     "start_time": "2019-12-02T18:05:22.049960Z"
    },
    "scrolled": true
   },
   "outputs": [
    {
     "name": "stdout",
     "output_type": "stream",
     "text": [
      "(6391, 11)\n"
     ]
    },
    {
     "data": {
      "text/html": [
       "<div>\n",
       "<style scoped>\n",
       "    .dataframe tbody tr th:only-of-type {\n",
       "        vertical-align: middle;\n",
       "    }\n",
       "\n",
       "    .dataframe tbody tr th {\n",
       "        vertical-align: top;\n",
       "    }\n",
       "\n",
       "    .dataframe thead th {\n",
       "        text-align: right;\n",
       "    }\n",
       "</style>\n",
       "<table border=\"1\" class=\"dataframe\">\n",
       "  <thead>\n",
       "    <tr style=\"text-align: right;\">\n",
       "      <th></th>\n",
       "      <th>timestamp</th>\n",
       "      <th>agency_id</th>\n",
       "      <th>route_id</th>\n",
       "      <th>route_short_name</th>\n",
       "      <th>service_id</th>\n",
       "      <th>planned_start_time</th>\n",
       "      <th>bus_id</th>\n",
       "      <th>predicted_end_time</th>\n",
       "      <th>time_recorded</th>\n",
       "      <th>lat</th>\n",
       "      <th>lon</th>\n",
       "    </tr>\n",
       "  </thead>\n",
       "  <tbody>\n",
       "    <tr>\n",
       "      <td>0</td>\n",
       "      <td>2019-10-30T23:41:03</td>\n",
       "      <td>15</td>\n",
       "      <td>698</td>\n",
       "      <td>601</td>\n",
       "      <td>42325925</td>\n",
       "      <td>22:35:00</td>\n",
       "      <td>47091901</td>\n",
       "      <td>23:42:00</td>\n",
       "      <td>23:41:06</td>\n",
       "      <td>32.061081</td>\n",
       "      <td>34.784721</td>\n",
       "    </tr>\n",
       "    <tr>\n",
       "      <td>1</td>\n",
       "      <td>2019-10-30T23:40:03</td>\n",
       "      <td>15</td>\n",
       "      <td>698</td>\n",
       "      <td>601</td>\n",
       "      <td>42325925</td>\n",
       "      <td>22:35:00</td>\n",
       "      <td>47091901</td>\n",
       "      <td>23:41:00</td>\n",
       "      <td>23:40:05</td>\n",
       "      <td>32.063702</td>\n",
       "      <td>34.785473</td>\n",
       "    </tr>\n",
       "    <tr>\n",
       "      <td>2</td>\n",
       "      <td>2019-10-30T23:39:03</td>\n",
       "      <td>15</td>\n",
       "      <td>698</td>\n",
       "      <td>601</td>\n",
       "      <td>42325925</td>\n",
       "      <td>22:35:00</td>\n",
       "      <td>47091901</td>\n",
       "      <td>23:41:00</td>\n",
       "      <td>23:39:08</td>\n",
       "      <td>32.065762</td>\n",
       "      <td>34.786610</td>\n",
       "    </tr>\n",
       "    <tr>\n",
       "      <td>3</td>\n",
       "      <td>2019-10-30T23:38:03</td>\n",
       "      <td>15</td>\n",
       "      <td>698</td>\n",
       "      <td>601</td>\n",
       "      <td>42325925</td>\n",
       "      <td>22:35:00</td>\n",
       "      <td>47091901</td>\n",
       "      <td>23:41:00</td>\n",
       "      <td>23:38:08</td>\n",
       "      <td>32.071716</td>\n",
       "      <td>34.790062</td>\n",
       "    </tr>\n",
       "    <tr>\n",
       "      <td>4</td>\n",
       "      <td>2019-10-30T23:37:03</td>\n",
       "      <td>15</td>\n",
       "      <td>698</td>\n",
       "      <td>601</td>\n",
       "      <td>42325925</td>\n",
       "      <td>22:35:00</td>\n",
       "      <td>47091901</td>\n",
       "      <td>23:40:00</td>\n",
       "      <td>23:36:48</td>\n",
       "      <td>32.074947</td>\n",
       "      <td>34.790810</td>\n",
       "    </tr>\n",
       "  </tbody>\n",
       "</table>\n",
       "</div>"
      ],
      "text/plain": [
       "             timestamp  agency_id  route_id  route_short_name  service_id  \\\n",
       "0  2019-10-30T23:41:03         15       698               601    42325925   \n",
       "1  2019-10-30T23:40:03         15       698               601    42325925   \n",
       "2  2019-10-30T23:39:03         15       698               601    42325925   \n",
       "3  2019-10-30T23:38:03         15       698               601    42325925   \n",
       "4  2019-10-30T23:37:03         15       698               601    42325925   \n",
       "\n",
       "  planned_start_time    bus_id predicted_end_time time_recorded        lat  \\\n",
       "0           22:35:00  47091901           23:42:00      23:41:06  32.061081   \n",
       "1           22:35:00  47091901           23:41:00      23:40:05  32.063702   \n",
       "2           22:35:00  47091901           23:41:00      23:39:08  32.065762   \n",
       "3           22:35:00  47091901           23:41:00      23:38:08  32.071716   \n",
       "4           22:35:00  47091901           23:40:00      23:36:48  32.074947   \n",
       "\n",
       "         lon  \n",
       "0  34.784721  \n",
       "1  34.785473  \n",
       "2  34.786610  \n",
       "3  34.790062  \n",
       "4  34.790810  "
      ]
     },
     "execution_count": 13,
     "metadata": {},
     "output_type": "execute_result"
    }
   ],
   "source": [
    "print(siri_data.shape)\n",
    "siri_data.head()"
   ]
  },
  {
   "cell_type": "markdown",
   "metadata": {},
   "source": [
    "## Retreive stops locations (GTFS)\n",
    "\n",
    "Continue from here - get the all_stop_latlon from route_stats of the relevant route!.   \n",
    "https://open-bus-gtfs-utils.readthedocs.io/en/latest/index.html"
   ]
  },
  {
   "cell_type": "code",
   "execution_count": 27,
   "metadata": {
    "ExecuteTime": {
     "end_time": "2019-12-02T18:58:15.614652Z",
     "start_time": "2019-12-02T18:58:11.884816Z"
    },
    "collapsed": true
   },
   "outputs": [
    {
     "name": "stdout",
     "output_type": "stream",
     "text": [
      "start..\n",
      "\n",
      "your query:\n",
      " search index=route_stats earliest=10/30/2019:00:00:00 latest=10/31/2019:23:59:59 route_id=698 |\n",
      " fields route_id, date, all_stop_id, all_stop_code, all_stop_latlon |\n",
      "\n",
      "\n",
      "connection succeed\n",
      "\n",
      "query status: 100.0%   24 scanned   2 matched   2 results\n",
      "\n",
      "Done!\n",
      "\n",
      "query succeed\n",
      "\n",
      "read results succeed\n",
      "\n",
      "job finished and canceled\n",
      "\n",
      "finished! number of rows: 2\n",
      "\n"
     ]
    }
   ],
   "source": [
    "stops_cols = ['route_id', 'date', 'all_stop_id', 'all_stop_code',  'all_stop_latlon']\n",
    "stops_query_kwargs = {\n",
    "                      'index': 'route_stats',\n",
    "                      'earliest': earliest, \n",
    "#                       'latest': latest,\n",
    "                      'latest': \"10/31/2019:23:59:59\",\n",
    "                      'route_id': route_id,\n",
    "                      'columns': stops_cols\n",
    "                      }\n",
    "\n",
    "stops_data = read_splunk(splunk_query_builder(**stops_query_kwargs),\n",
    "                         host=HOST, port=PORT, username=USERNAME, password=PASSWORD)"
   ]
  },
  {
   "cell_type": "code",
   "execution_count": 31,
   "metadata": {
    "ExecuteTime": {
     "end_time": "2019-12-02T19:01:15.294388Z",
     "start_time": "2019-12-02T19:01:15.282946Z"
    }
   },
   "outputs": [
    {
     "data": {
      "text/html": [
       "<div>\n",
       "<style scoped>\n",
       "    .dataframe tbody tr th:only-of-type {\n",
       "        vertical-align: middle;\n",
       "    }\n",
       "\n",
       "    .dataframe tbody tr th {\n",
       "        vertical-align: top;\n",
       "    }\n",
       "\n",
       "    .dataframe thead th {\n",
       "        text-align: right;\n",
       "    }\n",
       "</style>\n",
       "<table border=\"1\" class=\"dataframe\">\n",
       "  <thead>\n",
       "    <tr style=\"text-align: right;\">\n",
       "      <th></th>\n",
       "      <th>route_id</th>\n",
       "      <th>date</th>\n",
       "      <th>all_stop_id</th>\n",
       "      <th>all_stop_code</th>\n",
       "      <th>all_stop_latlon</th>\n",
       "    </tr>\n",
       "  </thead>\n",
       "  <tbody>\n",
       "    <tr>\n",
       "      <td>0</td>\n",
       "      <td>698</td>\n",
       "      <td>2019-10-31</td>\n",
       "      <td>24323;333;358;42546;324;320;309;307;302;291;28...</td>\n",
       "      <td>36875;39247;39273;32196;39237;39233;39222;3922...</td>\n",
       "      <td>32.319671,34.868105;32.325694,34.864841;32.326...</td>\n",
       "    </tr>\n",
       "    <tr>\n",
       "      <td>1</td>\n",
       "      <td>698</td>\n",
       "      <td>2019-10-30</td>\n",
       "      <td>24323;333;358;42546;324;320;309;307;302;291;28...</td>\n",
       "      <td>36875;39247;39273;32196;39237;39233;39222;3922...</td>\n",
       "      <td>32.319671,34.868105;32.325694,34.864841;32.326...</td>\n",
       "    </tr>\n",
       "  </tbody>\n",
       "</table>\n",
       "</div>"
      ],
      "text/plain": [
       "   route_id        date                                        all_stop_id  \\\n",
       "0       698  2019-10-31  24323;333;358;42546;324;320;309;307;302;291;28...   \n",
       "1       698  2019-10-30  24323;333;358;42546;324;320;309;307;302;291;28...   \n",
       "\n",
       "                                       all_stop_code  \\\n",
       "0  36875;39247;39273;32196;39237;39233;39222;3922...   \n",
       "1  36875;39247;39273;32196;39237;39233;39222;3922...   \n",
       "\n",
       "                                     all_stop_latlon  \n",
       "0  32.319671,34.868105;32.325694,34.864841;32.326...  \n",
       "1  32.319671,34.868105;32.325694,34.864841;32.326...  "
      ]
     },
     "execution_count": 31,
     "metadata": {},
     "output_type": "execute_result"
    }
   ],
   "source": [
    "stops_data # one row per route id and date"
   ]
  },
  {
   "cell_type": "code",
   "execution_count": 57,
   "metadata": {
    "ExecuteTime": {
     "end_time": "2019-12-02T19:26:28.649928Z",
     "start_time": "2019-12-02T19:26:28.645402Z"
    }
   },
   "outputs": [],
   "source": [
    "def get_stops_df_per_route_date(row, stops_seq_cols=['all_stop_id', 'all_stop_code', 'all_stop_latlon']):\n",
    "    \"\"\" Create dataframe with a row for each stop\n",
    "    Input: row - a row of a df generated by the above splunk stops query.\n",
    "    \"\"\"\n",
    "    stops_dict = row.to_dict()\n",
    "    \n",
    "    # split each cell with stops sequence:\n",
    "    for col in stops_seq_cols:\n",
    "        stops_dict[col] = stops_dict[col].split(';')\n",
    "    \n",
    "    # enumerate the stops in the sequence:\n",
    "    seq_len = len(stops_dict[stops_seq_cols[0]])\n",
    "    stops_dict['stop_order'] = list(range(seq_len))\n",
    "    \n",
    "    return pd.DataFrame(stops_dict)"
   ]
  },
  {
   "cell_type": "code",
   "execution_count": 58,
   "metadata": {
    "ExecuteTime": {
     "end_time": "2019-12-02T19:26:30.969221Z",
     "start_time": "2019-12-02T19:26:30.948365Z"
    }
   },
   "outputs": [
    {
     "data": {
      "text/html": [
       "<div>\n",
       "<style scoped>\n",
       "    .dataframe tbody tr th:only-of-type {\n",
       "        vertical-align: middle;\n",
       "    }\n",
       "\n",
       "    .dataframe tbody tr th {\n",
       "        vertical-align: top;\n",
       "    }\n",
       "\n",
       "    .dataframe thead th {\n",
       "        text-align: right;\n",
       "    }\n",
       "</style>\n",
       "<table border=\"1\" class=\"dataframe\">\n",
       "  <thead>\n",
       "    <tr style=\"text-align: right;\">\n",
       "      <th></th>\n",
       "      <th>route_id</th>\n",
       "      <th>date</th>\n",
       "      <th>all_stop_id</th>\n",
       "      <th>all_stop_code</th>\n",
       "      <th>all_stop_latlon</th>\n",
       "      <th>stop_order</th>\n",
       "    </tr>\n",
       "  </thead>\n",
       "  <tbody>\n",
       "    <tr>\n",
       "      <td>0</td>\n",
       "      <td>698</td>\n",
       "      <td>2019-10-31</td>\n",
       "      <td>24323</td>\n",
       "      <td>36875</td>\n",
       "      <td>32.319671,34.868105</td>\n",
       "      <td>0</td>\n",
       "    </tr>\n",
       "    <tr>\n",
       "      <td>1</td>\n",
       "      <td>698</td>\n",
       "      <td>2019-10-31</td>\n",
       "      <td>333</td>\n",
       "      <td>39247</td>\n",
       "      <td>32.325694,34.864841</td>\n",
       "      <td>1</td>\n",
       "    </tr>\n",
       "    <tr>\n",
       "      <td>2</td>\n",
       "      <td>698</td>\n",
       "      <td>2019-10-31</td>\n",
       "      <td>358</td>\n",
       "      <td>39273</td>\n",
       "      <td>32.326819,34.862473</td>\n",
       "      <td>2</td>\n",
       "    </tr>\n",
       "    <tr>\n",
       "      <td>3</td>\n",
       "      <td>698</td>\n",
       "      <td>2019-10-31</td>\n",
       "      <td>42546</td>\n",
       "      <td>32196</td>\n",
       "      <td>32.326629,34.857538</td>\n",
       "      <td>3</td>\n",
       "    </tr>\n",
       "    <tr>\n",
       "      <td>4</td>\n",
       "      <td>698</td>\n",
       "      <td>2019-10-31</td>\n",
       "      <td>324</td>\n",
       "      <td>39237</td>\n",
       "      <td>32.324201,34.856548</td>\n",
       "      <td>4</td>\n",
       "    </tr>\n",
       "    <tr>\n",
       "      <td>...</td>\n",
       "      <td>...</td>\n",
       "      <td>...</td>\n",
       "      <td>...</td>\n",
       "      <td>...</td>\n",
       "      <td>...</td>\n",
       "      <td>...</td>\n",
       "    </tr>\n",
       "    <tr>\n",
       "      <td>42</td>\n",
       "      <td>698</td>\n",
       "      <td>2019-10-30</td>\n",
       "      <td>13103</td>\n",
       "      <td>21472</td>\n",
       "      <td>32.074914,34.790734</td>\n",
       "      <td>42</td>\n",
       "    </tr>\n",
       "    <tr>\n",
       "      <td>43</td>\n",
       "      <td>698</td>\n",
       "      <td>2019-10-30</td>\n",
       "      <td>13206</td>\n",
       "      <td>21675</td>\n",
       "      <td>32.07189,34.789291</td>\n",
       "      <td>43</td>\n",
       "    </tr>\n",
       "    <tr>\n",
       "      <td>44</td>\n",
       "      <td>698</td>\n",
       "      <td>2019-10-30</td>\n",
       "      <td>39960</td>\n",
       "      <td>20143</td>\n",
       "      <td>32.066005,34.786424</td>\n",
       "      <td>44</td>\n",
       "    </tr>\n",
       "    <tr>\n",
       "      <td>45</td>\n",
       "      <td>698</td>\n",
       "      <td>2019-10-30</td>\n",
       "      <td>13277</td>\n",
       "      <td>22947</td>\n",
       "      <td>32.061357,34.78463</td>\n",
       "      <td>45</td>\n",
       "    </tr>\n",
       "    <tr>\n",
       "      <td>46</td>\n",
       "      <td>698</td>\n",
       "      <td>2019-10-30</td>\n",
       "      <td>14595</td>\n",
       "      <td>28627</td>\n",
       "      <td>32.055512,34.780335</td>\n",
       "      <td>46</td>\n",
       "    </tr>\n",
       "  </tbody>\n",
       "</table>\n",
       "<p>94 rows × 6 columns</p>\n",
       "</div>"
      ],
      "text/plain": [
       "    route_id        date all_stop_id all_stop_code      all_stop_latlon  \\\n",
       "0        698  2019-10-31       24323         36875  32.319671,34.868105   \n",
       "1        698  2019-10-31         333         39247  32.325694,34.864841   \n",
       "2        698  2019-10-31         358         39273  32.326819,34.862473   \n",
       "3        698  2019-10-31       42546         32196  32.326629,34.857538   \n",
       "4        698  2019-10-31         324         39237  32.324201,34.856548   \n",
       "..       ...         ...         ...           ...                  ...   \n",
       "42       698  2019-10-30       13103         21472  32.074914,34.790734   \n",
       "43       698  2019-10-30       13206         21675   32.07189,34.789291   \n",
       "44       698  2019-10-30       39960         20143  32.066005,34.786424   \n",
       "45       698  2019-10-30       13277         22947   32.061357,34.78463   \n",
       "46       698  2019-10-30       14595         28627  32.055512,34.780335   \n",
       "\n",
       "    stop_order  \n",
       "0            0  \n",
       "1            1  \n",
       "2            2  \n",
       "3            3  \n",
       "4            4  \n",
       "..         ...  \n",
       "42          42  \n",
       "43          43  \n",
       "44          44  \n",
       "45          45  \n",
       "46          46  \n",
       "\n",
       "[94 rows x 6 columns]"
      ]
     },
     "execution_count": 58,
     "metadata": {},
     "output_type": "execute_result"
    }
   ],
   "source": [
    "# reshape the stops_data df to have one row per route_id, date and stop:\n",
    "stops_data2 = pd.concat([get_stops_df_per_route_date(row) for ind, row in stops_data.iterrows()], axis=0)\n",
    "stop_data"
   ]
  },
  {
   "cell_type": "markdown",
   "metadata": {},
   "source": [
    "## TODO - Pick the 2nd and last stops for each route id and date, estimate the time in these stops using SIRI data, and claculate the time difference."
   ]
  },
  {
   "cell_type": "markdown",
   "metadata": {},
   "source": [
    "## TODO - run on larger scale - to get statistics."
   ]
  },
  {
   "cell_type": "markdown",
   "metadata": {},
   "source": [
    "## TODO - convert the important code parts to a generic module"
   ]
  },
  {
   "cell_type": "code",
   "execution_count": null,
   "metadata": {},
   "outputs": [],
   "source": []
  }
 ],
 "metadata": {
  "kernelspec": {
   "display_name": "Python (OpenBus20190909)",
   "language": "python",
   "name": "openbus20190909"
  },
  "language_info": {
   "codemirror_mode": {
    "name": "ipython",
    "version": 3
   },
   "file_extension": ".py",
   "mimetype": "text/x-python",
   "name": "python",
   "nbconvert_exporter": "python",
   "pygments_lexer": "ipython3",
   "version": "3.7.4"
  },
  "toc": {
   "base_numbering": 1,
   "nav_menu": {},
   "number_sections": true,
   "sideBar": true,
   "skip_h1_title": false,
   "title_cell": "Table of Contents",
   "title_sidebar": "Contents",
   "toc_cell": false,
   "toc_position": {
    "height": "calc(100% - 180px)",
    "left": "10px",
    "top": "150px",
    "width": "186px"
   },
   "toc_section_display": true,
   "toc_window_display": true
  }
 },
 "nbformat": 4,
 "nbformat_minor": 2
}
