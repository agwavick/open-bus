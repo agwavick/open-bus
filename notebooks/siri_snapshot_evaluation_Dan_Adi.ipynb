{
 "cells": [
  {
   "cell_type": "markdown",
   "metadata": {},
   "source": [
    "Oct-Nov 2020, Adi Watzman. Based on a code by Dan Bareket. \n",
    "Parse 1 day of data to compare Siri 2.7 to 2.8 versions.  \n",
    "2.7 is the current \"production\" version for us, base on siri_retreiver Java code that queries MoT's servers for all last stops.   \n",
    "2.8 is a new version, that allows MUCH simpler query, and get all currently driving buses without any quering hack.   \n",
    "However, we want to make sure we get the same data with both versions before we switch to 2.8 for \"production\".\n",
    "\n",
    "In preliminary check, dan found differences.\n",
    "\n",
    "In the following analysis, for one day of data (Sep. 15, 2020) we also see that 2.7 has more rides and points than 2.8.  \n",
    "\n",
    "The data was manually downloaded from our S3 server.\n",
    "\n"
   ]
  },
  {
   "cell_type": "code",
   "execution_count": 1,
   "metadata": {
    "ExecuteTime": {
     "end_time": "2020-11-02T17:13:31.533858Z",
     "start_time": "2020-11-02T17:13:31.519696Z"
    }
   },
   "outputs": [],
   "source": [
    "%load_ext autoreload\n",
    "%autoreload 2"
   ]
  },
  {
   "cell_type": "code",
   "execution_count": 2,
   "metadata": {
    "ExecuteTime": {
     "end_time": "2020-11-02T17:13:33.954057Z",
     "start_time": "2020-11-02T17:13:32.046821Z"
    },
    "colab": {
     "base_uri": "https://localhost:8080/",
     "height": 71
    },
    "colab_type": "code",
    "id": "ZqtCsciJ4IUX",
    "outputId": "95cc64ba-73ee-435b-92db-6d105903da06"
   },
   "outputs": [],
   "source": [
    "import gzip\n",
    "import json\n",
    "import matplotlib.pyplot as plt\n",
    "import numpy as np\n",
    "from os.path import join\n",
    "import pandas as pd\n",
    "import seaborn as sns\n",
    "\n",
    "sns.set_context('notebook')\n",
    "sns.set_style('white')"
   ]
  },
  {
   "cell_type": "code",
   "execution_count": 3,
   "metadata": {
    "ExecuteTime": {
     "end_time": "2020-11-02T17:13:33.975367Z",
     "start_time": "2020-11-02T17:13:33.955655Z"
    }
   },
   "outputs": [],
   "source": [
    "import datetime as dt"
   ]
  },
  {
   "cell_type": "code",
   "execution_count": 4,
   "metadata": {
    "ExecuteTime": {
     "end_time": "2020-11-02T17:13:33.996710Z",
     "start_time": "2020-11-02T17:13:33.977033Z"
    }
   },
   "outputs": [],
   "source": [
    "data_dir = '/Users/awatzman/Documents/OpenBusDocuments/data/' \\\n",
    "           '2020-10-12_compare_siri_2.7_2.8'\n",
    "siri_27_dir = join(data_dir, 'siri_27_2020-09-15') # 14 csv.gz files\n",
    "siri_28_dir = join(data_dir, 'siri_28_2020-09-15') #  json.gz files (~120 per hour)\n"
   ]
  },
  {
   "cell_type": "markdown",
   "metadata": {},
   "source": [
    "# Read 2.8 files"
   ]
  },
  {
   "cell_type": "code",
   "execution_count": 5,
   "metadata": {
    "ExecuteTime": {
     "end_time": "2020-11-02T17:13:35.574249Z",
     "start_time": "2020-11-02T17:13:35.556099Z"
    }
   },
   "outputs": [],
   "source": [
    "from siri_parser import read_siri28_file, read_siri28_files"
   ]
  },
  {
   "cell_type": "code",
   "execution_count": 6,
   "metadata": {
    "ExecuteTime": {
     "end_time": "2020-11-02T17:13:58.114215Z",
     "start_time": "2020-11-02T17:13:58.095206Z"
    }
   },
   "outputs": [],
   "source": [
    "path1 = join(siri_28_dir, 'siri_snap_normal_2020-09-15T000001.json.gz')"
   ]
  },
  {
   "cell_type": "code",
   "execution_count": 7,
   "metadata": {
    "ExecuteTime": {
     "end_time": "2020-11-02T17:14:03.189130Z",
     "start_time": "2020-11-02T17:14:03.067712Z"
    }
   },
   "outputs": [],
   "source": [
    "df = read_siri28_file(path1)"
   ]
  },
  {
   "cell_type": "code",
   "execution_count": 8,
   "metadata": {
    "ExecuteTime": {
     "end_time": "2020-11-02T17:14:03.910482Z",
     "start_time": "2020-11-02T17:14:03.888828Z"
    }
   },
   "outputs": [
    {
     "data": {
      "text/plain": [
       "(817, 26)"
      ]
     },
     "execution_count": 8,
     "metadata": {},
     "output_type": "execute_result"
    }
   ],
   "source": [
    "df.shape"
   ]
  },
  {
   "cell_type": "code",
   "execution_count": 9,
   "metadata": {
    "ExecuteTime": {
     "end_time": "2020-11-02T17:14:57.291477Z",
     "start_time": "2020-11-02T17:14:57.271938Z"
    }
   },
   "outputs": [],
   "source": [
    "from pathlib import Path"
   ]
  },
  {
   "cell_type": "code",
   "execution_count": 10,
   "metadata": {
    "ExecuteTime": {
     "end_time": "2020-11-02T17:14:58.382745Z",
     "start_time": "2020-11-02T17:14:58.327440Z"
    }
   },
   "outputs": [
    {
     "data": {
      "text/plain": [
       "2596"
      ]
     },
     "execution_count": 10,
     "metadata": {},
     "output_type": "execute_result"
    }
   ],
   "source": [
    "files = Path(siri_28_dir).rglob('*.json.gz')  # recursive search\n",
    "files = [x for x in files]\n",
    "len(files)"
   ]
  },
  {
   "cell_type": "code",
   "execution_count": 48,
   "metadata": {
    "ExecuteTime": {
     "end_time": "2020-11-02T18:28:16.450199Z",
     "start_time": "2020-11-02T18:02:12.043540Z"
    },
    "scrolled": true
   },
   "outputs": [
    {
     "name": "stdout",
     "output_type": "stream",
     "text": [
      "/Users/awatzman/Documents/OpenBusDocuments/data/2020-10-12_compare_siri_2.7_2.8/siri_28_2020-09-15/siri_snap_normal_2020-09-15T163631.json.gz Expecting value: line 1 column 1 (char 0)\n",
      "CPU times: user 24min 56s, sys: 58.1 s, total: 25min 54s\n",
      "Wall time: 26min 4s\n"
     ]
    }
   ],
   "source": [
    "%%time\n",
    "df_28_day = read_siri28_files(siri_28_dir, max_files=None)"
   ]
  },
  {
   "cell_type": "code",
   "execution_count": 49,
   "metadata": {
    "ExecuteTime": {
     "end_time": "2020-11-02T18:28:16.517498Z",
     "start_time": "2020-11-02T18:28:16.453072Z"
    }
   },
   "outputs": [
    {
     "data": {
      "text/plain": [
       "(11493501, 26)"
      ]
     },
     "execution_count": 49,
     "metadata": {},
     "output_type": "execute_result"
    }
   ],
   "source": [
    "df_28_day.shape"
   ]
  },
  {
   "cell_type": "code",
   "execution_count": 50,
   "metadata": {
    "ExecuteTime": {
     "end_time": "2020-11-02T18:28:43.267687Z",
     "start_time": "2020-11-02T18:28:25.099057Z"
    }
   },
   "outputs": [],
   "source": [
    "## TODO - check why in the original flow \n",
    "df_28_day['origin_aimed_departure_time'] = pd.to_datetime(df_28_day['origin_aimed_departure_time'], utc=True)"
   ]
  },
  {
   "cell_type": "code",
   "execution_count": 51,
   "metadata": {
    "ExecuteTime": {
     "end_time": "2020-11-02T18:28:43.295203Z",
     "start_time": "2020-11-02T18:28:43.269726Z"
    },
    "collapsed": true
   },
   "outputs": [
    {
     "data": {
      "text/plain": [
       "recorded_at_time               datetime64[ns, pytz.FixedOffset(180)]\n",
       "item_identifier                                                int64\n",
       "monitoring_ref                                                 int64\n",
       "line_ref                                                       int64\n",
       "direction_ref                                                  int64\n",
       "data_frame_ref                                                object\n",
       "dated_vehicle_journey_ref                                      int64\n",
       "published_line_name                                           object\n",
       "operator_ref                                                category\n",
       "destination_ref                                                int64\n",
       "origin_aimed_departure_time                      datetime64[ns, UTC]\n",
       "longitude                                                    float32\n",
       "latitude                                                     float32\n",
       "bearing                                                        int64\n",
       "velocity                                                       int64\n",
       "vehicle_ref                                                    int64\n",
       "stop_point_ref                                                 int64\n",
       "order                                                          int64\n",
       "aimed_arrival_time             datetime64[ns, pytz.FixedOffset(180)]\n",
       "expected_arrival_time          datetime64[ns, pytz.FixedOffset(180)]\n",
       "distance_from_stop                                             int64\n",
       "arrival_status                                              category\n",
       "arrival_platform_name                                        float64\n",
       "_version                                                    category\n",
       "response_timestamp             datetime64[ns, pytz.FixedOffset(180)]\n",
       "status                                                          bool\n",
       "dtype: object"
      ]
     },
     "execution_count": 51,
     "metadata": {},
     "output_type": "execute_result"
    }
   ],
   "source": [
    "df_28_day.dtypes"
   ]
  },
  {
   "cell_type": "code",
   "execution_count": 52,
   "metadata": {
    "ExecuteTime": {
     "end_time": "2020-11-02T18:28:53.636228Z",
     "start_time": "2020-11-02T18:28:49.377488Z"
    }
   },
   "outputs": [],
   "source": [
    "df_28_day.to_feather('df_28_day_50.feather')"
   ]
  },
  {
   "cell_type": "code",
   "execution_count": 54,
   "metadata": {
    "ExecuteTime": {
     "end_time": "2020-11-02T18:29:11.145041Z",
     "start_time": "2020-11-02T18:29:06.571399Z"
    }
   },
   "outputs": [
    {
     "data": {
      "text/plain": [
       "(11493501, 26)"
      ]
     },
     "execution_count": 54,
     "metadata": {},
     "output_type": "execute_result"
    }
   ],
   "source": [
    "df_28_day2 = pd.read_feather('df_28_day_50.feather')\n",
    "df_28_day2.shape"
   ]
  },
  {
   "cell_type": "code",
   "execution_count": 84,
   "metadata": {
    "ExecuteTime": {
     "end_time": "2020-10-26T20:03:50.885066Z",
     "start_time": "2020-10-26T20:03:50.864872Z"
    }
   },
   "outputs": [
    {
     "data": {
      "text/plain": [
       "(11493501, 26)"
      ]
     },
     "execution_count": 84,
     "metadata": {},
     "output_type": "execute_result"
    }
   ],
   "source": [
    "df_28_day.shape"
   ]
  },
  {
   "cell_type": "code",
   "execution_count": 55,
   "metadata": {
    "ExecuteTime": {
     "end_time": "2020-11-02T18:39:52.311751Z",
     "start_time": "2020-11-02T18:39:51.137507Z"
    }
   },
   "outputs": [
    {
     "data": {
      "text/plain": [
       "(73057, 26)"
      ]
     },
     "execution_count": 55,
     "metadata": {},
     "output_type": "execute_result"
    }
   ],
   "source": [
    "# number of rides:\n",
    "# By: agency, route, bus, start_time\n",
    "df_28_day2.drop_duplicates([\n",
    "    'operator_ref', 'line_ref', 'vehicle_ref', \n",
    "    'origin_aimed_departure_time'], keep='first').shape"
   ]
  },
  {
   "cell_type": "code",
   "execution_count": 134,
   "metadata": {
    "ExecuteTime": {
     "end_time": "2020-11-02T20:24:45.351829Z",
     "start_time": "2020-11-02T20:24:42.398301Z"
    }
   },
   "outputs": [
    {
     "data": {
      "text/plain": [
       "(73057,)"
      ]
     },
     "execution_count": 134,
     "metadata": {},
     "output_type": "execute_result"
    }
   ],
   "source": [
    "# number of rides without 0:\n",
    "# By: agency, route, bus, start_time\n",
    "df_28_rides = df_28_day2[df_28_day2.latitude != 0].groupby([\n",
    "    'operator_ref', 'line_ref', 'vehicle_ref', \n",
    "    'origin_aimed_departure_time']).size()\n",
    "\n",
    "# df_28_rides = df_28_day2[df_28_day2.latitude != 0].drop_duplicates([\n",
    "#     'operator_ref', 'line_ref', 'vehicle_ref', \n",
    "#     'origin_aimed_departure_time'], keep='first')\n",
    "df_28_rides.shape"
   ]
  },
  {
   "cell_type": "markdown",
   "metadata": {},
   "source": [
    "2.8 does not have entire 0 rides."
   ]
  },
  {
   "cell_type": "code",
   "execution_count": 97,
   "metadata": {
    "ExecuteTime": {
     "end_time": "2020-11-02T19:26:36.711221Z",
     "start_time": "2020-11-02T19:26:30.369007Z"
    }
   },
   "outputs": [
    {
     "data": {
      "text/plain": [
       "(2169148, 26)"
      ]
     },
     "execution_count": 97,
     "metadata": {},
     "output_type": "execute_result"
    }
   ],
   "source": [
    "# number of responses deduped (GPS points) without 0:\n",
    "# By: agency, route, bus, start_time, recorded_at_time\n",
    "df_28_day_dedup = df_28_day2[df_28_day2.latitude != 0].drop_duplicates([\n",
    "    'operator_ref', 'line_ref', 'vehicle_ref', \n",
    "    'origin_aimed_departure_time', 'recorded_at_time'], \n",
    "    keep='first')\n",
    "df_28_day_dedup.shape"
   ]
  },
  {
   "cell_type": "markdown",
   "metadata": {},
   "source": [
    "# Read 2.7 files"
   ]
  },
  {
   "cell_type": "code",
   "execution_count": 60,
   "metadata": {
    "ExecuteTime": {
     "end_time": "2020-11-02T19:08:29.197918Z",
     "start_time": "2020-11-02T19:08:29.175138Z"
    }
   },
   "outputs": [],
   "source": [
    "from siri_parser import read_siri27_files"
   ]
  },
  {
   "cell_type": "code",
   "execution_count": 62,
   "metadata": {
    "ExecuteTime": {
     "end_time": "2020-11-02T19:08:51.914414Z",
     "start_time": "2020-11-02T19:08:35.711186Z"
    }
   },
   "outputs": [
    {
     "name": "stdout",
     "output_type": "stream",
     "text": [
      "CPU times: user 23 s, sys: 2.09 s, total: 25 s\n",
      "Wall time: 16.2 s\n"
     ]
    }
   ],
   "source": [
    "%%time\n",
    "df_27_day = read_siri27_files(siri_27_dir, max_files=None)"
   ]
  },
  {
   "cell_type": "code",
   "execution_count": 63,
   "metadata": {
    "ExecuteTime": {
     "end_time": "2020-11-02T19:09:02.951811Z",
     "start_time": "2020-11-02T19:09:02.925594Z"
    }
   },
   "outputs": [
    {
     "data": {
      "text/plain": [
       "(3550684, 14)"
      ]
     },
     "execution_count": 63,
     "metadata": {},
     "output_type": "execute_result"
    }
   ],
   "source": [
    "df_27_day.shape"
   ]
  },
  {
   "cell_type": "code",
   "execution_count": 64,
   "metadata": {
    "ExecuteTime": {
     "end_time": "2020-11-02T19:09:17.552771Z",
     "start_time": "2020-11-02T19:09:17.527484Z"
    }
   },
   "outputs": [
    {
     "data": {
      "text/plain": [
       "Index(['planned_start_dt', 'predicted_end_dt', 'dt_recorded', 'timestamp',\n",
       "       'agency_id', 'route_id', 'route_short_name', 'service_id', 'bus_id',\n",
       "       'lat', 'lon', 'stop_point_ref', 'date', 'num_duplicates'],\n",
       "      dtype='object')"
      ]
     },
     "execution_count": 64,
     "metadata": {},
     "output_type": "execute_result"
    }
   ],
   "source": [
    "df_27_day.columns"
   ]
  },
  {
   "cell_type": "code",
   "execution_count": 65,
   "metadata": {
    "ExecuteTime": {
     "end_time": "2020-11-02T19:10:27.654599Z",
     "start_time": "2020-11-02T19:10:26.523210Z"
    }
   },
   "outputs": [
    {
     "data": {
      "text/plain": [
       "(118477, 14)"
      ]
     },
     "execution_count": 65,
     "metadata": {},
     "output_type": "execute_result"
    }
   ],
   "source": [
    "# number of rides:\n",
    "# By: agency, route, bus, start_time\n",
    "df_27_day.drop_duplicates([\n",
    "    'agency_id', 'route_id', 'bus_id', \n",
    "    'planned_start_dt'], keep='first').shape"
   ]
  },
  {
   "cell_type": "code",
   "execution_count": 137,
   "metadata": {
    "ExecuteTime": {
     "end_time": "2020-11-02T20:25:55.834623Z",
     "start_time": "2020-11-02T20:25:55.172053Z"
    }
   },
   "outputs": [
    {
     "data": {
      "text/plain": [
       "(102147,)"
      ]
     },
     "execution_count": 137,
     "metadata": {},
     "output_type": "execute_result"
    }
   ],
   "source": [
    "# number of rides without 0:\n",
    "# By: agency, route, bus, start_time\n",
    "\n",
    "df_27_rides = df_27_day[df_27_day.lat != 0].groupby([\n",
    "    'agency_id', 'route_id', 'bus_id', \n",
    "    'planned_start_dt']).size()\n",
    "\n",
    "# df_27_rides = df_27_day[df_27_day.lat != 0].drop_duplicates([\n",
    "#     'agency_id', 'route_id', 'bus_id', \n",
    "#     'planned_start_dt'], keep='first')\n",
    "df_27_rides.shape"
   ]
  },
  {
   "cell_type": "code",
   "execution_count": 96,
   "metadata": {
    "ExecuteTime": {
     "end_time": "2020-11-02T19:26:12.421415Z",
     "start_time": "2020-11-02T19:26:10.761048Z"
    }
   },
   "outputs": [
    {
     "data": {
      "text/plain": [
       "(3091346, 14)"
      ]
     },
     "execution_count": 96,
     "metadata": {},
     "output_type": "execute_result"
    }
   ],
   "source": [
    "# number of responses deduped (GPS points), without 0:\n",
    "# By: agency, route, bus, start_time, recorded_at_time\n",
    "df_27_day_dedup = df_27_day[df_27_day.lat != 0].drop_duplicates([\n",
    "    'agency_id', 'route_id', 'bus_id', \n",
    "    'planned_start_dt', 'dt_recorded'], \n",
    "    keep='first')\n",
    "df_27_day_dedup.shape"
   ]
  },
  {
   "cell_type": "markdown",
   "metadata": {},
   "source": [
    "# Compare versions"
   ]
  },
  {
   "cell_type": "markdown",
   "metadata": {
    "heading_collapsed": true
   },
   "source": [
    "## GPS points comparison"
   ]
  },
  {
   "cell_type": "markdown",
   "metadata": {
    "hidden": true
   },
   "source": [
    "2.8 data availability check:"
   ]
  },
  {
   "cell_type": "code",
   "execution_count": 117,
   "metadata": {
    "ExecuteTime": {
     "end_time": "2020-11-02T19:45:42.452405Z",
     "start_time": "2020-11-02T19:45:42.430007Z"
    },
    "hidden": true
   },
   "outputs": [],
   "source": [
    "import os.path"
   ]
  },
  {
   "cell_type": "code",
   "execution_count": 124,
   "metadata": {
    "ExecuteTime": {
     "end_time": "2020-11-02T19:49:44.686722Z",
     "start_time": "2020-11-02T19:49:44.415601Z"
    },
    "hidden": true
   },
   "outputs": [
    {
     "name": "stdout",
     "output_type": "stream",
     "text": [
      "2596\n"
     ]
    },
    {
     "data": {
      "image/png": "[encoded data removed]",
      "text/plain": [
       "<Figure size 432x288 with 1 Axes>"
      ]
     },
     "metadata": {
      "needs_background": "light"
     },
     "output_type": "display_data"
    }
   ],
   "source": [
    "# plot number of files per hour in 2.8\n",
    "files_28 = [os.path.basename(x) for x in Path(siri_28_dir).rglob('*.json.gz')]  # recursive search\n",
    "print(len(files_28))\n",
    "\n",
    "files_hour_28 = [x.split('-15T')[1].split('.')[0][:2] for x in files_28]\n",
    "pd.Series(files_hour_28).value_counts().sort_index().plot.bar()\n",
    "plt.show()\n"
   ]
  },
  {
   "cell_type": "markdown",
   "metadata": {
    "hidden": true
   },
   "source": [
    "We see that we have data issues for hours 00, 04, 14. We expect to have 120 files per hour, for a query sent every 30 seconds."
   ]
  },
  {
   "cell_type": "code",
   "execution_count": 98,
   "metadata": {
    "ExecuteTime": {
     "end_time": "2020-11-02T19:27:14.832161Z",
     "start_time": "2020-11-02T19:27:14.679265Z"
    },
    "hidden": true
   },
   "outputs": [],
   "source": [
    "# When grouping by agency\n",
    "agency_27 = df_27_day_dedup.groupby('agency_id').size().rename('agency_27')\n",
    "agency_28 = df_28_day_dedup.groupby('operator_ref').size().rename('agency_28')"
   ]
  },
  {
   "cell_type": "code",
   "execution_count": 99,
   "metadata": {
    "ExecuteTime": {
     "end_time": "2020-11-02T19:27:15.444514Z",
     "start_time": "2020-11-02T19:27:15.042510Z"
    },
    "hidden": true
   },
   "outputs": [
    {
     "data": {
      "image/png": "[encoded data removed]",
      "text/plain": [
       "<Figure size 576x288 with 1 Axes>"
      ]
     },
     "metadata": {
      "needs_background": "light"
     },
     "output_type": "display_data"
    }
   ],
   "source": [
    "agency_27.to_frame().join(agency_28).plot.bar(figsize=(8, 4))\n",
    "plt.show()"
   ]
  },
  {
   "cell_type": "code",
   "execution_count": 100,
   "metadata": {
    "ExecuteTime": {
     "end_time": "2020-11-02T19:27:22.735056Z",
     "start_time": "2020-11-02T19:27:22.345972Z"
    },
    "hidden": true
   },
   "outputs": [],
   "source": [
    "# When grouping by hour\n",
    "hour_27 = df_27_day_dedup.groupby(df_27_day_dedup.dt_recorded.dt.hour).size().rename('hour_27')\n",
    "hour_28 = df_28_day_dedup.groupby(df_28_day_dedup.recorded_at_time.dt.hour).size().rename('hour_28')"
   ]
  },
  {
   "cell_type": "code",
   "execution_count": 101,
   "metadata": {
    "ExecuteTime": {
     "end_time": "2020-11-02T19:27:23.315685Z",
     "start_time": "2020-11-02T19:27:22.895199Z"
    },
    "hidden": true
   },
   "outputs": [
    {
     "data": {
      "image/png": "[encoded data removed]",
      "text/plain": [
       "<Figure size 576x288 with 1 Axes>"
      ]
     },
     "metadata": {
      "needs_background": "light"
     },
     "output_type": "display_data"
    }
   ],
   "source": [
    "hour_27.to_frame().join(hour_28).plot.bar(figsize=(8, 4))\n",
    "plt.show()"
   ]
  },
  {
   "cell_type": "markdown",
   "metadata": {
    "hidden": true
   },
   "source": [
    "We see data is missing between 2.7 and 2.8 not only when we expect issues because of 2.8 data availability issues (see above)."
   ]
  },
  {
   "cell_type": "markdown",
   "metadata": {},
   "source": [
    "## Rides comparison"
   ]
  },
  {
   "cell_type": "code",
   "execution_count": 153,
   "metadata": {
    "ExecuteTime": {
     "end_time": "2020-11-02T20:33:31.986928Z",
     "start_time": "2020-11-02T20:33:31.709497Z"
    }
   },
   "outputs": [
    {
     "data": {
      "image/png": "[encoded data removed]",
      "text/plain": [
       "<Figure size 432x288 with 1 Axes>"
      ]
     },
     "metadata": {
      "needs_background": "light"
     },
     "output_type": "display_data"
    }
   ],
   "source": [
    "# Number of points per ride:\n",
    "fig, ax = plt.subplots(1,1)\n",
    "bins=[0, 10, 20, 30, 40, 50, 60, 70, 80, 90, 100, 200]\n",
    "df_28_rides.plot.hist(bins=bins, ax=ax, label='2.8', alpha=0.5, density=True)\n",
    "df_27_rides.plot.hist(bins=bins, ax=ax, label='2.7', alpha=0.5, density=True)\n",
    "plt.legend()\n",
    "plt.title(\"points per ride\")\n",
    "plt.show()\n"
   ]
  },
  {
   "cell_type": "code",
   "execution_count": null,
   "metadata": {},
   "outputs": [],
   "source": []
  },
  {
   "cell_type": "code",
   "execution_count": null,
   "metadata": {},
   "outputs": [],
   "source": []
  },
  {
   "cell_type": "code",
   "execution_count": null,
   "metadata": {},
   "outputs": [],
   "source": []
  },
  {
   "cell_type": "code",
   "execution_count": 132,
   "metadata": {
    "ExecuteTime": {
     "end_time": "2020-11-02T20:22:57.967369Z",
     "start_time": "2020-11-02T20:22:57.930427Z"
    },
    "collapsed": true
   },
   "outputs": [
    {
     "data": {
      "text/html": [
       "<div>\n",
       "<style scoped>\n",
       "    .dataframe tbody tr th:only-of-type {\n",
       "        vertical-align: middle;\n",
       "    }\n",
       "\n",
       "    .dataframe tbody tr th {\n",
       "        vertical-align: top;\n",
       "    }\n",
       "\n",
       "    .dataframe thead th {\n",
       "        text-align: right;\n",
       "    }\n",
       "</style>\n",
       "<table border=\"1\" class=\"dataframe\">\n",
       "  <thead>\n",
       "    <tr style=\"text-align: right;\">\n",
       "      <th></th>\n",
       "      <th>agency_id</th>\n",
       "      <th>route_id</th>\n",
       "      <th>bus_id</th>\n",
       "      <th>planned_start_dt</th>\n",
       "    </tr>\n",
       "  </thead>\n",
       "  <tbody>\n",
       "    <tr>\n",
       "      <td>552975</td>\n",
       "      <td>3</td>\n",
       "      <td>28214</td>\n",
       "      <td>8771101</td>\n",
       "      <td>2020-09-13 10:10:00</td>\n",
       "    </tr>\n",
       "    <tr>\n",
       "      <td>554369</td>\n",
       "      <td>3</td>\n",
       "      <td>28210</td>\n",
       "      <td>7794069</td>\n",
       "      <td>2020-09-13 11:57:00</td>\n",
       "    </tr>\n",
       "    <tr>\n",
       "      <td>552976</td>\n",
       "      <td>3</td>\n",
       "      <td>28214</td>\n",
       "      <td>8758001</td>\n",
       "      <td>2020-09-13 13:20:00</td>\n",
       "    </tr>\n",
       "    <tr>\n",
       "      <td>569500</td>\n",
       "      <td>3</td>\n",
       "      <td>6702</td>\n",
       "      <td>7663069</td>\n",
       "      <td>2020-09-13 17:30:00</td>\n",
       "    </tr>\n",
       "    <tr>\n",
       "      <td>552977</td>\n",
       "      <td>3</td>\n",
       "      <td>28214</td>\n",
       "      <td>7714969</td>\n",
       "      <td>2020-09-13 21:10:00</td>\n",
       "    </tr>\n",
       "    <tr>\n",
       "      <td>...</td>\n",
       "      <td>...</td>\n",
       "      <td>...</td>\n",
       "      <td>...</td>\n",
       "      <td>...</td>\n",
       "    </tr>\n",
       "    <tr>\n",
       "      <td>1040937</td>\n",
       "      <td>7</td>\n",
       "      <td>18881</td>\n",
       "      <td>37580301</td>\n",
       "      <td>2020-09-16 11:00:00</td>\n",
       "    </tr>\n",
       "    <tr>\n",
       "      <td>2758870</td>\n",
       "      <td>7</td>\n",
       "      <td>17407</td>\n",
       "      <td>37580301</td>\n",
       "      <td>2020-09-16 12:50:00</td>\n",
       "    </tr>\n",
       "    <tr>\n",
       "      <td>1465555</td>\n",
       "      <td>7</td>\n",
       "      <td>17408</td>\n",
       "      <td>37580301</td>\n",
       "      <td>2020-09-16 15:00:00</td>\n",
       "    </tr>\n",
       "    <tr>\n",
       "      <td>1882316</td>\n",
       "      <td>7</td>\n",
       "      <td>17408</td>\n",
       "      <td>37580301</td>\n",
       "      <td>2020-09-16 19:00:00</td>\n",
       "    </tr>\n",
       "    <tr>\n",
       "      <td>753026</td>\n",
       "      <td>7</td>\n",
       "      <td>17407</td>\n",
       "      <td>37580301</td>\n",
       "      <td>2020-09-20 16:52:00</td>\n",
       "    </tr>\n",
       "  </tbody>\n",
       "</table>\n",
       "<p>102147 rows × 4 columns</p>\n",
       "</div>"
      ],
      "text/plain": [
       "         agency_id  route_id    bus_id    planned_start_dt\n",
       "552975           3     28214   8771101 2020-09-13 10:10:00\n",
       "554369           3     28210   7794069 2020-09-13 11:57:00\n",
       "552976           3     28214   8758001 2020-09-13 13:20:00\n",
       "569500           3      6702   7663069 2020-09-13 17:30:00\n",
       "552977           3     28214   7714969 2020-09-13 21:10:00\n",
       "...            ...       ...       ...                 ...\n",
       "1040937          7     18881  37580301 2020-09-16 11:00:00\n",
       "2758870          7     17407  37580301 2020-09-16 12:50:00\n",
       "1465555          7     17408  37580301 2020-09-16 15:00:00\n",
       "1882316          7     17408  37580301 2020-09-16 19:00:00\n",
       "753026           7     17407  37580301 2020-09-20 16:52:00\n",
       "\n",
       "[102147 rows x 4 columns]"
      ]
     },
     "execution_count": 132,
     "metadata": {},
     "output_type": "execute_result"
    }
   ],
   "source": [
    "df_27_rides[['agency_id', 'route_id', 'bus_id', 'planned_start_dt']].sort_values('planned_start_dt')#.head()"
   ]
  },
  {
   "cell_type": "code",
   "execution_count": 131,
   "metadata": {
    "ExecuteTime": {
     "end_time": "2020-11-02T20:22:08.785587Z",
     "start_time": "2020-11-02T20:22:08.746610Z"
    },
    "collapsed": true
   },
   "outputs": [
    {
     "data": {
      "text/html": [
       "<div>\n",
       "<style scoped>\n",
       "    .dataframe tbody tr th:only-of-type {\n",
       "        vertical-align: middle;\n",
       "    }\n",
       "\n",
       "    .dataframe tbody tr th {\n",
       "        vertical-align: top;\n",
       "    }\n",
       "\n",
       "    .dataframe thead th {\n",
       "        text-align: right;\n",
       "    }\n",
       "</style>\n",
       "<table border=\"1\" class=\"dataframe\">\n",
       "  <thead>\n",
       "    <tr style=\"text-align: right;\">\n",
       "      <th></th>\n",
       "      <th>operator_ref</th>\n",
       "      <th>line_ref</th>\n",
       "      <th>vehicle_ref</th>\n",
       "      <th>origin_aimed_departure_time</th>\n",
       "    </tr>\n",
       "  </thead>\n",
       "  <tbody>\n",
       "    <tr>\n",
       "      <td>107868</td>\n",
       "      <td>2</td>\n",
       "      <td>27809</td>\n",
       "      <td>956</td>\n",
       "      <td>1899-12-31 22:00:00+00:00</td>\n",
       "    </tr>\n",
       "    <tr>\n",
       "      <td>1769374</td>\n",
       "      <td>18</td>\n",
       "      <td>10523</td>\n",
       "      <td>7395187</td>\n",
       "      <td>2020-09-14 08:11:11+00:00</td>\n",
       "    </tr>\n",
       "    <tr>\n",
       "      <td>587449</td>\n",
       "      <td>3</td>\n",
       "      <td>10393</td>\n",
       "      <td>8732501</td>\n",
       "      <td>2020-09-14 16:36:00+00:00</td>\n",
       "    </tr>\n",
       "    <tr>\n",
       "      <td>7822598</td>\n",
       "      <td>5</td>\n",
       "      <td>2457</td>\n",
       "      <td>9283901</td>\n",
       "      <td>2020-09-14 18:20:00+00:00</td>\n",
       "    </tr>\n",
       "    <tr>\n",
       "      <td>511321</td>\n",
       "      <td>5</td>\n",
       "      <td>2492</td>\n",
       "      <td>9245801</td>\n",
       "      <td>2020-09-14 18:20:00+00:00</td>\n",
       "    </tr>\n",
       "  </tbody>\n",
       "</table>\n",
       "</div>"
      ],
      "text/plain": [
       "        operator_ref  line_ref  vehicle_ref origin_aimed_departure_time\n",
       "107868             2     27809          956   1899-12-31 22:00:00+00:00\n",
       "1769374           18     10523      7395187   2020-09-14 08:11:11+00:00\n",
       "587449             3     10393      8732501   2020-09-14 16:36:00+00:00\n",
       "7822598            5      2457      9283901   2020-09-14 18:20:00+00:00\n",
       "511321             5      2492      9245801   2020-09-14 18:20:00+00:00"
      ]
     },
     "execution_count": 131,
     "metadata": {},
     "output_type": "execute_result"
    }
   ],
   "source": [
    "df_28_rides[['operator_ref', 'line_ref', 'vehicle_ref', 'origin_aimed_departure_time']]\\\n",
    "    .sort_values('origin_aimed_departure_time').head()"
   ]
  },
  {
   "cell_type": "code",
   "execution_count": 127,
   "metadata": {
    "ExecuteTime": {
     "end_time": "2020-11-02T20:19:36.615442Z",
     "start_time": "2020-11-02T20:19:36.556732Z"
    },
    "collapsed": true
   },
   "outputs": [
    {
     "ename": "ValueError",
     "evalue": "You are trying to merge on datetime64[ns] and datetime64[ns, UTC] columns. If you wish to proceed you should use pd.concat",
     "output_type": "error",
     "traceback": [
      "\u001b[0;31m---------------------------------------------------------------------------\u001b[0m",
      "\u001b[0;31mValueError\u001b[0m                                Traceback (most recent call last)",
      "\u001b[0;32m<ipython-input-127-eaf4949a9e98>\u001b[0m in \u001b[0;36m<module>\u001b[0;34m\u001b[0m\n\u001b[1;32m      2\u001b[0m rides = df_27_rides.merge(df_28_rides, how='outer',\n\u001b[1;32m      3\u001b[0m     \u001b[0mleft_on\u001b[0m\u001b[0;34m=\u001b[0m\u001b[0;34m[\u001b[0m\u001b[0;34m'agency_id'\u001b[0m\u001b[0;34m,\u001b[0m \u001b[0;34m'route_id'\u001b[0m\u001b[0;34m,\u001b[0m \u001b[0;34m'bus_id'\u001b[0m\u001b[0;34m,\u001b[0m \u001b[0;34m'planned_start_dt'\u001b[0m\u001b[0;34m]\u001b[0m\u001b[0;34m,\u001b[0m\u001b[0;34m\u001b[0m\u001b[0;34m\u001b[0m\u001b[0m\n\u001b[0;32m----> 4\u001b[0;31m     \u001b[0mright_on\u001b[0m\u001b[0;34m=\u001b[0m\u001b[0;34m[\u001b[0m\u001b[0;34m'operator_ref'\u001b[0m\u001b[0;34m,\u001b[0m \u001b[0;34m'line_ref'\u001b[0m\u001b[0;34m,\u001b[0m \u001b[0;34m'vehicle_ref'\u001b[0m\u001b[0;34m,\u001b[0m \u001b[0;34m'origin_aimed_departure_time'\u001b[0m\u001b[0;34m]\u001b[0m\u001b[0;34m\u001b[0m\u001b[0;34m\u001b[0m\u001b[0m\n\u001b[0m\u001b[1;32m      5\u001b[0m )\n\u001b[1;32m      6\u001b[0m \u001b[0mprint\u001b[0m\u001b[0;34m(\u001b[0m\u001b[0mdf_27_rides\u001b[0m\u001b[0;34m.\u001b[0m\u001b[0mshape\u001b[0m\u001b[0;34m,\u001b[0m \u001b[0mdf_28_rides\u001b[0m\u001b[0;34m.\u001b[0m\u001b[0mshape\u001b[0m\u001b[0;34m,\u001b[0m \u001b[0mrides\u001b[0m\u001b[0;34m.\u001b[0m\u001b[0mshape\u001b[0m\u001b[0;34m)\u001b[0m\u001b[0;34m\u001b[0m\u001b[0;34m\u001b[0m\u001b[0m\n",
      "\u001b[0;32m/anaconda3/envs/OpenBus20190909/lib/python3.7/site-packages/pandas/core/frame.py\u001b[0m in \u001b[0;36mmerge\u001b[0;34m(self, right, how, on, left_on, right_on, left_index, right_index, sort, suffixes, copy, indicator, validate)\u001b[0m\n\u001b[1;32m   7332\u001b[0m             \u001b[0mcopy\u001b[0m\u001b[0;34m=\u001b[0m\u001b[0mcopy\u001b[0m\u001b[0;34m,\u001b[0m\u001b[0;34m\u001b[0m\u001b[0;34m\u001b[0m\u001b[0m\n\u001b[1;32m   7333\u001b[0m             \u001b[0mindicator\u001b[0m\u001b[0;34m=\u001b[0m\u001b[0mindicator\u001b[0m\u001b[0;34m,\u001b[0m\u001b[0;34m\u001b[0m\u001b[0;34m\u001b[0m\u001b[0m\n\u001b[0;32m-> 7334\u001b[0;31m             \u001b[0mvalidate\u001b[0m\u001b[0;34m=\u001b[0m\u001b[0mvalidate\u001b[0m\u001b[0;34m,\u001b[0m\u001b[0;34m\u001b[0m\u001b[0;34m\u001b[0m\u001b[0m\n\u001b[0m\u001b[1;32m   7335\u001b[0m         )\n\u001b[1;32m   7336\u001b[0m \u001b[0;34m\u001b[0m\u001b[0m\n",
      "\u001b[0;32m/anaconda3/envs/OpenBus20190909/lib/python3.7/site-packages/pandas/core/reshape/merge.py\u001b[0m in \u001b[0;36mmerge\u001b[0;34m(left, right, how, on, left_on, right_on, left_index, right_index, sort, suffixes, copy, indicator, validate)\u001b[0m\n\u001b[1;32m     79\u001b[0m         \u001b[0mcopy\u001b[0m\u001b[0;34m=\u001b[0m\u001b[0mcopy\u001b[0m\u001b[0;34m,\u001b[0m\u001b[0;34m\u001b[0m\u001b[0;34m\u001b[0m\u001b[0m\n\u001b[1;32m     80\u001b[0m         \u001b[0mindicator\u001b[0m\u001b[0;34m=\u001b[0m\u001b[0mindicator\u001b[0m\u001b[0;34m,\u001b[0m\u001b[0;34m\u001b[0m\u001b[0;34m\u001b[0m\u001b[0m\n\u001b[0;32m---> 81\u001b[0;31m         \u001b[0mvalidate\u001b[0m\u001b[0;34m=\u001b[0m\u001b[0mvalidate\u001b[0m\u001b[0;34m,\u001b[0m\u001b[0;34m\u001b[0m\u001b[0;34m\u001b[0m\u001b[0m\n\u001b[0m\u001b[1;32m     82\u001b[0m     )\n\u001b[1;32m     83\u001b[0m     \u001b[0;32mreturn\u001b[0m \u001b[0mop\u001b[0m\u001b[0;34m.\u001b[0m\u001b[0mget_result\u001b[0m\u001b[0;34m(\u001b[0m\u001b[0;34m)\u001b[0m\u001b[0;34m\u001b[0m\u001b[0;34m\u001b[0m\u001b[0m\n",
      "\u001b[0;32m/anaconda3/envs/OpenBus20190909/lib/python3.7/site-packages/pandas/core/reshape/merge.py\u001b[0m in \u001b[0;36m__init__\u001b[0;34m(self, left, right, how, on, left_on, right_on, axis, left_index, right_index, sort, suffixes, copy, indicator, validate)\u001b[0m\n\u001b[1;32m    628\u001b[0m         \u001b[0;31m# validate the merge keys dtypes. We may need to coerce\u001b[0m\u001b[0;34m\u001b[0m\u001b[0;34m\u001b[0m\u001b[0;34m\u001b[0m\u001b[0m\n\u001b[1;32m    629\u001b[0m         \u001b[0;31m# to avoid incompat dtypes\u001b[0m\u001b[0;34m\u001b[0m\u001b[0;34m\u001b[0m\u001b[0;34m\u001b[0m\u001b[0m\n\u001b[0;32m--> 630\u001b[0;31m         \u001b[0mself\u001b[0m\u001b[0;34m.\u001b[0m\u001b[0m_maybe_coerce_merge_keys\u001b[0m\u001b[0;34m(\u001b[0m\u001b[0;34m)\u001b[0m\u001b[0;34m\u001b[0m\u001b[0;34m\u001b[0m\u001b[0m\n\u001b[0m\u001b[1;32m    631\u001b[0m \u001b[0;34m\u001b[0m\u001b[0m\n\u001b[1;32m    632\u001b[0m         \u001b[0;31m# If argument passed to validate,\u001b[0m\u001b[0;34m\u001b[0m\u001b[0;34m\u001b[0m\u001b[0;34m\u001b[0m\u001b[0m\n",
      "\u001b[0;32m/anaconda3/envs/OpenBus20190909/lib/python3.7/site-packages/pandas/core/reshape/merge.py\u001b[0m in \u001b[0;36m_maybe_coerce_merge_keys\u001b[0;34m(self)\u001b[0m\n\u001b[1;32m   1146\u001b[0m                 \u001b[0;32mraise\u001b[0m \u001b[0mValueError\u001b[0m\u001b[0;34m(\u001b[0m\u001b[0mmsg\u001b[0m\u001b[0;34m)\u001b[0m\u001b[0;34m\u001b[0m\u001b[0;34m\u001b[0m\u001b[0m\n\u001b[1;32m   1147\u001b[0m             \u001b[0;32melif\u001b[0m \u001b[0;32mnot\u001b[0m \u001b[0mis_datetime64tz_dtype\u001b[0m\u001b[0;34m(\u001b[0m\u001b[0mlk\u001b[0m\u001b[0;34m)\u001b[0m \u001b[0;32mand\u001b[0m \u001b[0mis_datetime64tz_dtype\u001b[0m\u001b[0;34m(\u001b[0m\u001b[0mrk\u001b[0m\u001b[0;34m)\u001b[0m\u001b[0;34m:\u001b[0m\u001b[0;34m\u001b[0m\u001b[0;34m\u001b[0m\u001b[0m\n\u001b[0;32m-> 1148\u001b[0;31m                 \u001b[0;32mraise\u001b[0m \u001b[0mValueError\u001b[0m\u001b[0;34m(\u001b[0m\u001b[0mmsg\u001b[0m\u001b[0;34m)\u001b[0m\u001b[0;34m\u001b[0m\u001b[0;34m\u001b[0m\u001b[0m\n\u001b[0m\u001b[1;32m   1149\u001b[0m \u001b[0;34m\u001b[0m\u001b[0m\n\u001b[1;32m   1150\u001b[0m             \u001b[0;32melif\u001b[0m \u001b[0mlk_is_object\u001b[0m \u001b[0;32mand\u001b[0m \u001b[0mrk_is_object\u001b[0m\u001b[0;34m:\u001b[0m\u001b[0;34m\u001b[0m\u001b[0;34m\u001b[0m\u001b[0m\n",
      "\u001b[0;31mValueError\u001b[0m: You are trying to merge on datetime64[ns] and datetime64[ns, UTC] columns. If you wish to proceed you should use pd.concat"
     ]
    }
   ],
   "source": [
    "# join rides and look for discrepencies\n",
    "rides = df_27_rides.merge(df_28_rides, how='outer',\n",
    "    left_on=['agency_id', 'route_id', 'bus_id', 'planned_start_dt'],\n",
    "    right_on=['operator_ref', 'line_ref', 'vehicle_ref', 'origin_aimed_departure_time']\n",
    ")\n",
    "print(df_27_rides.shape, df_28_rides.shape, rides.shape)"
   ]
  },
  {
   "cell_type": "code",
   "execution_count": null,
   "metadata": {},
   "outputs": [],
   "source": []
  },
  {
   "cell_type": "code",
   "execution_count": null,
   "metadata": {},
   "outputs": [],
   "source": []
  },
  {
   "cell_type": "code",
   "execution_count": null,
   "metadata": {},
   "outputs": [],
   "source": []
  },
  {
   "cell_type": "markdown",
   "metadata": {
    "heading_collapsed": true
   },
   "source": [
    "# OLD & Tries:"
   ]
  },
  {
   "cell_type": "markdown",
   "metadata": {},
   "source": [
    "# [Appendix] Missing 2.8 files"
   ]
  },
  {
   "cell_type": "code",
   "execution_count": 5,
   "metadata": {
    "ExecuteTime": {
     "end_time": "2020-10-26T17:34:47.622472Z",
     "start_time": "2020-10-26T17:34:47.604316Z"
    }
   },
   "outputs": [],
   "source": [
    "import glob\n",
    "import os.path"
   ]
  },
  {
   "cell_type": "code",
   "execution_count": 98,
   "metadata": {
    "ExecuteTime": {
     "end_time": "2020-10-19T19:13:09.443858Z",
     "start_time": "2020-10-19T19:13:09.293606Z"
    },
    "collapsed": true
   },
   "outputs": [
    {
     "name": "stdout",
     "output_type": "stream",
     "text": [
      "00 39\n",
      "00 [('19', ['01'])]\n",
      "siri_snap_normal_2020-09-15T001931.json.gz\n",
      "01 120\n",
      "02 109\n",
      "02 [('54', ['01'])]\n",
      "siri_snap_normal_2020-09-15T025431.json.gz\n",
      "03 99\n",
      "03 [('49', ['01'])]\n",
      "siri_snap_normal_2020-09-15T034931.json.gz\n",
      "04 39\n",
      "04 [('19', ['01'])]\n",
      "siri_snap_normal_2020-09-15T041931.json.gz\n",
      "05 120\n",
      "06 120\n",
      "07 119\n",
      "07 [('00', ['31'])]\n",
      "siri_snap_normal_2020-09-15T070001.json.gz\n",
      "08 120\n",
      "09 120\n",
      "10 120\n",
      "11 120\n",
      "12 120\n",
      "13 120\n",
      "14 39\n",
      "14 [('19', ['01'])]\n",
      "siri_snap_normal_2020-09-15T141931.json.gz\n",
      "15 119\n",
      "15 [('47', ['01'])]\n",
      "siri_snap_normal_2020-09-15T154731.json.gz\n",
      "16 118\n",
      "16 [('08', ['31']), ('00', ['31'])]\n",
      "siri_snap_normal_2020-09-15T160801.json.gz\n",
      "siri_snap_normal_2020-09-15T160001.json.gz\n",
      "17 120\n",
      "18 120\n",
      "19 120\n",
      "20 120\n",
      "21 117\n",
      "21 [('28', ['31']), ('09', ['01']), ('10', ['01'])]\n",
      "siri_snap_normal_2020-09-15T212801.json.gz\n",
      "siri_snap_normal_2020-09-15T210931.json.gz\n",
      "siri_snap_normal_2020-09-15T211031.json.gz\n",
      "22 118\n",
      "22 [('56', ['31']), ('00', ['32'])]\n",
      "siri_snap_normal_2020-09-15T225601.json.gz\n",
      "siri_snap_normal_2020-09-15T220001.json.gz\n",
      "23 120\n"
     ]
    }
   ],
   "source": [
    "#sanity check to find missing files in siri 2.8:\n",
    "hours = [dt.time(i).strftime('%H') for i in range(24)]\n",
    "\n",
    "for h in hours:\n",
    "    res = glob.glob(join(siri_28_dir, \"*T{}*.json.gz\".format(h)))\n",
    "    print(h, len(res))\n",
    "    res2 = []\n",
    "    for item in res:\n",
    "        t = os.path.basename(item).split('T')[1][:6]\n",
    "        res2.append((t[2:4], t[4:6]))\n",
    "\n",
    "    res3 = dict()\n",
    "    for hr, mn in res2:\n",
    "        if hr not in res3:\n",
    "            res3[hr] = [mn]\n",
    "        else:\n",
    "            res3[hr].append(mn)\n",
    "\n",
    "    missing = [(k, v) for k, v in res3.items() if len(v) < 2]\n",
    "    if missing:\n",
    "        print(h, missing)\n",
    "        for m in missing:\n",
    "            print('siri_snap_normal_2020-09-15T{}{}{}.json.gz'.format(\n",
    "                h, m[0], '01' if m[1][0] in (\"31\", \"32\") else '31'))\n",
    "    "
   ]
  },
  {
   "cell_type": "code",
   "execution_count": 99,
   "metadata": {
    "ExecuteTime": {
     "end_time": "2020-10-19T19:14:36.359229Z",
     "start_time": "2020-10-19T19:14:36.155372Z"
    }
   },
   "outputs": [
    {
     "name": "stdout",
     "output_type": "stream",
     "text": [
      "    2596\r\n"
     ]
    }
   ],
   "source": [
    "!ls $siri_28_dir | wc -l"
   ]
  },
  {
   "cell_type": "code",
   "execution_count": 102,
   "metadata": {
    "ExecuteTime": {
     "end_time": "2020-11-02T19:30:26.367342Z",
     "start_time": "2020-11-02T19:30:25.908655Z"
    }
   },
   "outputs": [
    {
     "name": "stdout",
     "output_type": "stream",
     "text": [
      "      39\r\n"
     ]
    }
   ],
   "source": [
    "!ls $siri_28_dir | grep 2020-09-15T14 | wc -l"
   ]
  },
  {
   "cell_type": "code",
   "execution_count": 103,
   "metadata": {
    "ExecuteTime": {
     "end_time": "2020-11-02T19:30:33.876141Z",
     "start_time": "2020-11-02T19:30:33.605657Z"
    }
   },
   "outputs": [
    {
     "name": "stdout",
     "output_type": "stream",
     "text": [
      "     119\r\n"
     ]
    }
   ],
   "source": [
    "!ls $siri_28_dir | grep 2020-09-15T15 | wc -l"
   ]
  },
  {
   "cell_type": "code",
   "execution_count": 100,
   "metadata": {
    "ExecuteTime": {
     "end_time": "2020-10-19T19:14:46.993222Z",
     "start_time": "2020-10-19T19:14:46.806287Z"
    }
   },
   "outputs": [
    {
     "name": "stdout",
     "output_type": "stream",
     "text": [
      "406M\t/Users/awatzman/Documents/OpenBusDocuments/data/2020-10-12_compare_siri_2.7_2.8/siri_28_2020-09-15\r\n"
     ]
    }
   ],
   "source": [
    "! du -h $siri_28_dir"
   ]
  },
  {
   "cell_type": "markdown",
   "metadata": {},
   "source": [
    "# [Appendix] Inspect single file \n",
    "The result of this inspection is a siri_parser.py module with utilities to parse the raw files."
   ]
  },
  {
   "cell_type": "markdown",
   "metadata": {
    "heading_collapsed": true
   },
   "source": [
    "## Inspect 1 siri 2.8 file"
   ]
  },
  {
   "cell_type": "markdown",
   "metadata": {
    "hidden": true
   },
   "source": [
    "* StopMonitoringDelivery contains many responses per file (496 in this example), in field \"StopMonitoringDelivery\"\n",
    "* Each response has 4 fields: version, timestamp, status, and the response data \"MonitoredStopVisit\"\n",
    "* Response data (MonitoredStopVisit) includes 4 items, the ine that has data is \"MonitoredVehicleJourney\"\n",
    "* Finally, one data point (MonitoredVehicleJourney) has the info: GPS, vehicle, operator..."
   ]
  },
  {
   "cell_type": "code",
   "execution_count": 6,
   "metadata": {
    "ExecuteTime": {
     "end_time": "2020-10-26T17:35:07.145622Z",
     "start_time": "2020-10-26T17:35:07.114326Z"
    },
    "hidden": true
   },
   "outputs": [
    {
     "data": {
      "text/plain": [
       "dict_keys(['Siri'])"
      ]
     },
     "execution_count": 6,
     "metadata": {},
     "output_type": "execute_result"
    }
   ],
   "source": [
    "## inspect one siri 2.8 file\n",
    "# sampath = 'siri_snapshot/2020-06-30/07/siri_snap_normal_2020-06-30T070033.json.gz'\n",
    "sampath = join(siri_28_dir, 'siri_snap_normal_2020-09-15T000001.json.gz')\n",
    "\n",
    "with gzip.GzipFile(sampath, 'r') as fin:\n",
    "    data = json.loads(fin.read().decode('utf-8'))\n",
    "data.keys()"
   ]
  },
  {
   "cell_type": "code",
   "execution_count": 7,
   "metadata": {
    "ExecuteTime": {
     "end_time": "2020-10-26T17:35:08.133927Z",
     "start_time": "2020-10-26T17:35:08.112834Z"
    },
    "hidden": true
   },
   "outputs": [
    {
     "data": {
      "text/plain": [
       "dict_keys(['ServiceDelivery'])"
      ]
     },
     "execution_count": 7,
     "metadata": {},
     "output_type": "execute_result"
    }
   ],
   "source": [
    "data['Siri'].keys()"
   ]
  },
  {
   "cell_type": "code",
   "execution_count": 8,
   "metadata": {
    "ExecuteTime": {
     "end_time": "2020-10-26T17:35:08.488122Z",
     "start_time": "2020-10-26T17:35:08.469202Z"
    },
    "hidden": true
   },
   "outputs": [
    {
     "data": {
      "text/plain": [
       "dict_keys(['ResponseTimestamp', 'ProducerRef', 'ResponseMessageIdentifier', 'RequestMessageRef', 'Status', 'StopMonitoringDelivery'])"
      ]
     },
     "execution_count": 8,
     "metadata": {},
     "output_type": "execute_result"
    }
   ],
   "source": [
    "data['Siri']['ServiceDelivery'].keys()"
   ]
  },
  {
   "cell_type": "code",
   "execution_count": 9,
   "metadata": {
    "ExecuteTime": {
     "end_time": "2020-10-26T17:35:09.064046Z",
     "start_time": "2020-10-26T17:35:09.043630Z"
    },
    "hidden": true
   },
   "outputs": [
    {
     "name": "stdout",
     "output_type": "stream",
     "text": [
      "469\n"
     ]
    },
    {
     "data": {
      "text/plain": [
       "dict_keys(['-version', 'ResponseTimestamp', 'Status', 'MonitoredStopVisit'])"
      ]
     },
     "execution_count": 9,
     "metadata": {},
     "output_type": "execute_result"
    }
   ],
   "source": [
    "print(len(data['Siri']['ServiceDelivery']['StopMonitoringDelivery']))\n",
    "data['Siri']['ServiceDelivery']['StopMonitoringDelivery'][0].keys()"
   ]
  },
  {
   "cell_type": "code",
   "execution_count": 10,
   "metadata": {
    "ExecuteTime": {
     "end_time": "2020-10-26T17:35:09.829048Z",
     "start_time": "2020-10-26T17:35:09.810034Z"
    },
    "hidden": true
   },
   "outputs": [
    {
     "data": {
      "text/plain": [
       "dict_keys(['RecordedAtTime', 'ItemIdentifier', 'MonitoringRef', 'MonitoredVehicleJourney'])"
      ]
     },
     "execution_count": 10,
     "metadata": {},
     "output_type": "execute_result"
    }
   ],
   "source": [
    "data['Siri']['ServiceDelivery']['StopMonitoringDelivery'][0]\\\n",
    "    ['MonitoredStopVisit'][0].keys()"
   ]
  },
  {
   "cell_type": "code",
   "execution_count": 11,
   "metadata": {
    "ExecuteTime": {
     "end_time": "2020-10-26T17:35:11.193446Z",
     "start_time": "2020-10-26T17:35:11.172905Z"
    },
    "hidden": true
   },
   "outputs": [
    {
     "data": {
      "text/plain": [
       "{'LineRef': '32',\n",
       " 'DirectionRef': '2',\n",
       " 'FramedVehicleJourneyRef': {'DataFrameRef': '2020-09-15',\n",
       "  'DatedVehicleJourneyRef': '40080413'},\n",
       " 'PublishedLineName': '37',\n",
       " 'OperatorRef': '25',\n",
       " 'DestinationRef': '32307',\n",
       " 'OriginAimedDepartureTime': '2020-09-15T00:00:00+03:00',\n",
       " 'VehicleLocation': {'Longitude': '34.80669', 'Latitude': '31.909549'},\n",
       " 'Bearing': '98',\n",
       " 'Velocity': '0',\n",
       " 'VehicleRef': '7291752',\n",
       " 'MonitoredCall': {'StopPointRef': '32223',\n",
       "  'Order': '58',\n",
       "  'AimedArrivalTime': '2020-09-15T00:49:00+03:00',\n",
       "  'ExpectedArrivalTime': '2020-09-15T00:49:00+03:00',\n",
       "  'DistanceFromStop': '0'}}"
      ]
     },
     "execution_count": 11,
     "metadata": {},
     "output_type": "execute_result"
    }
   ],
   "source": [
    "data['Siri']['ServiceDelivery']['StopMonitoringDelivery'][0]\\\n",
    "    ['MonitoredStopVisit'][0]['MonitoredVehicleJourney']"
   ]
  },
  {
   "cell_type": "markdown",
   "metadata": {
    "heading_collapsed": true
   },
   "source": [
    "## Flatten one 2.8 json file to pandas df of records"
   ]
  },
  {
   "cell_type": "code",
   "execution_count": 12,
   "metadata": {
    "ExecuteTime": {
     "end_time": "2020-10-26T17:35:19.338833Z",
     "start_time": "2020-10-26T17:35:19.319815Z"
    },
    "hidden": true
   },
   "outputs": [],
   "source": [
    "from pandas.io.json import json_normalize"
   ]
  },
  {
   "cell_type": "code",
   "execution_count": 13,
   "metadata": {
    "ExecuteTime": {
     "end_time": "2020-10-26T17:35:19.727089Z",
     "start_time": "2020-10-26T17:35:19.709090Z"
    },
    "hidden": true
   },
   "outputs": [],
   "source": [
    "records = data['Siri']['ServiceDelivery']['StopMonitoringDelivery']"
   ]
  },
  {
   "cell_type": "code",
   "execution_count": 14,
   "metadata": {
    "ExecuteTime": {
     "end_time": "2020-10-26T17:35:21.844409Z",
     "start_time": "2020-10-26T17:35:21.748019Z"
    },
    "hidden": true,
    "scrolled": true
   },
   "outputs": [
    {
     "data": {
      "text/html": [
       "<div>\n",
       "<style scoped>\n",
       "    .dataframe tbody tr th:only-of-type {\n",
       "        vertical-align: middle;\n",
       "    }\n",
       "\n",
       "    .dataframe tbody tr th {\n",
       "        vertical-align: top;\n",
       "    }\n",
       "\n",
       "    .dataframe thead th {\n",
       "        text-align: right;\n",
       "    }\n",
       "</style>\n",
       "<table border=\"1\" class=\"dataframe\">\n",
       "  <thead>\n",
       "    <tr style=\"text-align: right;\">\n",
       "      <th></th>\n",
       "      <th>0</th>\n",
       "      <th>1</th>\n",
       "      <th>2</th>\n",
       "      <th>3</th>\n",
       "      <th>4</th>\n",
       "    </tr>\n",
       "  </thead>\n",
       "  <tbody>\n",
       "    <tr>\n",
       "      <td>RecordedAtTime</td>\n",
       "      <td>2020-09-14T23:55:00+03:00</td>\n",
       "      <td>2020-09-14T23:58:47+03:00</td>\n",
       "      <td>2020-09-14T23:58:46+03:00</td>\n",
       "      <td>2020-09-14T23:58:42+03:00</td>\n",
       "      <td>2020-09-14T23:58:27+03:00</td>\n",
       "    </tr>\n",
       "    <tr>\n",
       "      <td>ItemIdentifier</td>\n",
       "      <td>135614766</td>\n",
       "      <td>135614767</td>\n",
       "      <td>135614768</td>\n",
       "      <td>135614769</td>\n",
       "      <td>135614770</td>\n",
       "    </tr>\n",
       "    <tr>\n",
       "      <td>MonitoringRef</td>\n",
       "      <td>32223</td>\n",
       "      <td>39280</td>\n",
       "      <td>39280</td>\n",
       "      <td>55605</td>\n",
       "      <td>38118</td>\n",
       "    </tr>\n",
       "    <tr>\n",
       "      <td>LineRef</td>\n",
       "      <td>32</td>\n",
       "      <td>724</td>\n",
       "      <td>724</td>\n",
       "      <td>866</td>\n",
       "      <td>952</td>\n",
       "    </tr>\n",
       "    <tr>\n",
       "      <td>DirectionRef</td>\n",
       "      <td>2</td>\n",
       "      <td>2</td>\n",
       "      <td>2</td>\n",
       "      <td>1</td>\n",
       "      <td>1</td>\n",
       "    </tr>\n",
       "    <tr>\n",
       "      <td>DataFrameRef</td>\n",
       "      <td>2020-09-15</td>\n",
       "      <td>2020-09-14</td>\n",
       "      <td>2020-09-14</td>\n",
       "      <td>2020-09-14</td>\n",
       "      <td>2020-09-14</td>\n",
       "    </tr>\n",
       "    <tr>\n",
       "      <td>DatedVehicleJourneyRef</td>\n",
       "      <td>40080413</td>\n",
       "      <td>50070348</td>\n",
       "      <td>50070349</td>\n",
       "      <td>48617010</td>\n",
       "      <td>50192097</td>\n",
       "    </tr>\n",
       "    <tr>\n",
       "      <td>PublishedLineName</td>\n",
       "      <td>37</td>\n",
       "      <td>613</td>\n",
       "      <td>613</td>\n",
       "      <td>13</td>\n",
       "      <td>1</td>\n",
       "    </tr>\n",
       "    <tr>\n",
       "      <td>OperatorRef</td>\n",
       "      <td>25</td>\n",
       "      <td>15</td>\n",
       "      <td>15</td>\n",
       "      <td>16</td>\n",
       "      <td>18</td>\n",
       "    </tr>\n",
       "    <tr>\n",
       "      <td>DestinationRef</td>\n",
       "      <td>32307</td>\n",
       "      <td>39657</td>\n",
       "      <td>39657</td>\n",
       "      <td>55151</td>\n",
       "      <td>36440</td>\n",
       "    </tr>\n",
       "    <tr>\n",
       "      <td>OriginAimedDepartureTime</td>\n",
       "      <td>2020-09-15T00:00:00+03:00</td>\n",
       "      <td>2020-09-14T23:20:00+03:00</td>\n",
       "      <td>2020-09-14T23:45:00+03:00</td>\n",
       "      <td>2020-09-14T23:55:00+03:00</td>\n",
       "      <td>2020-09-14T23:30:00+03:00</td>\n",
       "    </tr>\n",
       "    <tr>\n",
       "      <td>Longitude</td>\n",
       "      <td>34.80669</td>\n",
       "      <td>34.834903</td>\n",
       "      <td>34.846958</td>\n",
       "      <td>35.288173</td>\n",
       "      <td>34.866481</td>\n",
       "    </tr>\n",
       "    <tr>\n",
       "      <td>Latitude</td>\n",
       "      <td>31.909549</td>\n",
       "      <td>32.247425</td>\n",
       "      <td>32.091388</td>\n",
       "      <td>32.615917</td>\n",
       "      <td>32.030906</td>\n",
       "    </tr>\n",
       "    <tr>\n",
       "      <td>Bearing</td>\n",
       "      <td>98</td>\n",
       "      <td>8</td>\n",
       "      <td>166</td>\n",
       "      <td>2</td>\n",
       "      <td>4</td>\n",
       "    </tr>\n",
       "    <tr>\n",
       "      <td>Velocity</td>\n",
       "      <td>0</td>\n",
       "      <td>104</td>\n",
       "      <td>44</td>\n",
       "      <td>0</td>\n",
       "      <td>32</td>\n",
       "    </tr>\n",
       "    <tr>\n",
       "      <td>VehicleRef</td>\n",
       "      <td>7291752</td>\n",
       "      <td>47088801</td>\n",
       "      <td>47085501</td>\n",
       "      <td>5103662</td>\n",
       "      <td>3193178</td>\n",
       "    </tr>\n",
       "    <tr>\n",
       "      <td>StopPointRef</td>\n",
       "      <td>32223</td>\n",
       "      <td>39280</td>\n",
       "      <td>39280</td>\n",
       "      <td>55605</td>\n",
       "      <td>38118</td>\n",
       "    </tr>\n",
       "    <tr>\n",
       "      <td>Order</td>\n",
       "      <td>58</td>\n",
       "      <td>28</td>\n",
       "      <td>28</td>\n",
       "      <td>44</td>\n",
       "      <td>44</td>\n",
       "    </tr>\n",
       "    <tr>\n",
       "      <td>AimedArrivalTime</td>\n",
       "      <td>2020-09-15T00:49:00+03:00</td>\n",
       "      <td>NaN</td>\n",
       "      <td>NaN</td>\n",
       "      <td>NaN</td>\n",
       "      <td>NaN</td>\n",
       "    </tr>\n",
       "    <tr>\n",
       "      <td>ExpectedArrivalTime</td>\n",
       "      <td>2020-09-15T00:49:00+03:00</td>\n",
       "      <td>2020-09-15T00:17:00+03:00</td>\n",
       "      <td>2020-09-15T00:34:00+03:00</td>\n",
       "      <td>2020-09-15T00:27:00+03:00</td>\n",
       "      <td>2020-09-15T00:18:00+03:00</td>\n",
       "    </tr>\n",
       "    <tr>\n",
       "      <td>DistanceFromStop</td>\n",
       "      <td>0</td>\n",
       "      <td>26397</td>\n",
       "      <td>3789</td>\n",
       "      <td>1518</td>\n",
       "      <td>9930</td>\n",
       "    </tr>\n",
       "    <tr>\n",
       "      <td>ArrivalStatus</td>\n",
       "      <td>NaN</td>\n",
       "      <td>NaN</td>\n",
       "      <td>NaN</td>\n",
       "      <td>NaN</td>\n",
       "      <td>NaN</td>\n",
       "    </tr>\n",
       "    <tr>\n",
       "      <td>ArrivalPlatformName</td>\n",
       "      <td>NaN</td>\n",
       "      <td>NaN</td>\n",
       "      <td>NaN</td>\n",
       "      <td>NaN</td>\n",
       "      <td>NaN</td>\n",
       "    </tr>\n",
       "    <tr>\n",
       "      <td>-version</td>\n",
       "      <td>2.8</td>\n",
       "      <td>2.8</td>\n",
       "      <td>2.8</td>\n",
       "      <td>2.8</td>\n",
       "      <td>2.8</td>\n",
       "    </tr>\n",
       "    <tr>\n",
       "      <td>ResponseTimestamp</td>\n",
       "      <td>2020-09-15T00:00:00+03:00</td>\n",
       "      <td>2020-09-15T00:00:00+03:00</td>\n",
       "      <td>2020-09-15T00:00:00+03:00</td>\n",
       "      <td>2020-09-15T00:00:00+03:00</td>\n",
       "      <td>2020-09-15T00:00:00+03:00</td>\n",
       "    </tr>\n",
       "    <tr>\n",
       "      <td>Status</td>\n",
       "      <td>true</td>\n",
       "      <td>true</td>\n",
       "      <td>true</td>\n",
       "      <td>true</td>\n",
       "      <td>true</td>\n",
       "    </tr>\n",
       "  </tbody>\n",
       "</table>\n",
       "</div>"
      ],
      "text/plain": [
       "                                                  0  \\\n",
       "RecordedAtTime            2020-09-14T23:55:00+03:00   \n",
       "ItemIdentifier                            135614766   \n",
       "MonitoringRef                                 32223   \n",
       "LineRef                                          32   \n",
       "DirectionRef                                      2   \n",
       "DataFrameRef                             2020-09-15   \n",
       "DatedVehicleJourneyRef                     40080413   \n",
       "PublishedLineName                                37   \n",
       "OperatorRef                                      25   \n",
       "DestinationRef                                32307   \n",
       "OriginAimedDepartureTime  2020-09-15T00:00:00+03:00   \n",
       "Longitude                                  34.80669   \n",
       "Latitude                                  31.909549   \n",
       "Bearing                                          98   \n",
       "Velocity                                          0   \n",
       "VehicleRef                                  7291752   \n",
       "StopPointRef                                  32223   \n",
       "Order                                            58   \n",
       "AimedArrivalTime          2020-09-15T00:49:00+03:00   \n",
       "ExpectedArrivalTime       2020-09-15T00:49:00+03:00   \n",
       "DistanceFromStop                                  0   \n",
       "ArrivalStatus                                   NaN   \n",
       "ArrivalPlatformName                             NaN   \n",
       "-version                                        2.8   \n",
       "ResponseTimestamp         2020-09-15T00:00:00+03:00   \n",
       "Status                                         true   \n",
       "\n",
       "                                                  1  \\\n",
       "RecordedAtTime            2020-09-14T23:58:47+03:00   \n",
       "ItemIdentifier                            135614767   \n",
       "MonitoringRef                                 39280   \n",
       "LineRef                                         724   \n",
       "DirectionRef                                      2   \n",
       "DataFrameRef                             2020-09-14   \n",
       "DatedVehicleJourneyRef                     50070348   \n",
       "PublishedLineName                               613   \n",
       "OperatorRef                                      15   \n",
       "DestinationRef                                39657   \n",
       "OriginAimedDepartureTime  2020-09-14T23:20:00+03:00   \n",
       "Longitude                                 34.834903   \n",
       "Latitude                                  32.247425   \n",
       "Bearing                                           8   \n",
       "Velocity                                        104   \n",
       "VehicleRef                                 47088801   \n",
       "StopPointRef                                  39280   \n",
       "Order                                            28   \n",
       "AimedArrivalTime                                NaN   \n",
       "ExpectedArrivalTime       2020-09-15T00:17:00+03:00   \n",
       "DistanceFromStop                              26397   \n",
       "ArrivalStatus                                   NaN   \n",
       "ArrivalPlatformName                             NaN   \n",
       "-version                                        2.8   \n",
       "ResponseTimestamp         2020-09-15T00:00:00+03:00   \n",
       "Status                                         true   \n",
       "\n",
       "                                                  2  \\\n",
       "RecordedAtTime            2020-09-14T23:58:46+03:00   \n",
       "ItemIdentifier                            135614768   \n",
       "MonitoringRef                                 39280   \n",
       "LineRef                                         724   \n",
       "DirectionRef                                      2   \n",
       "DataFrameRef                             2020-09-14   \n",
       "DatedVehicleJourneyRef                     50070349   \n",
       "PublishedLineName                               613   \n",
       "OperatorRef                                      15   \n",
       "DestinationRef                                39657   \n",
       "OriginAimedDepartureTime  2020-09-14T23:45:00+03:00   \n",
       "Longitude                                 34.846958   \n",
       "Latitude                                  32.091388   \n",
       "Bearing                                         166   \n",
       "Velocity                                         44   \n",
       "VehicleRef                                 47085501   \n",
       "StopPointRef                                  39280   \n",
       "Order                                            28   \n",
       "AimedArrivalTime                                NaN   \n",
       "ExpectedArrivalTime       2020-09-15T00:34:00+03:00   \n",
       "DistanceFromStop                               3789   \n",
       "ArrivalStatus                                   NaN   \n",
       "ArrivalPlatformName                             NaN   \n",
       "-version                                        2.8   \n",
       "ResponseTimestamp         2020-09-15T00:00:00+03:00   \n",
       "Status                                         true   \n",
       "\n",
       "                                                  3                          4  \n",
       "RecordedAtTime            2020-09-14T23:58:42+03:00  2020-09-14T23:58:27+03:00  \n",
       "ItemIdentifier                            135614769                  135614770  \n",
       "MonitoringRef                                 55605                      38118  \n",
       "LineRef                                         866                        952  \n",
       "DirectionRef                                      1                          1  \n",
       "DataFrameRef                             2020-09-14                 2020-09-14  \n",
       "DatedVehicleJourneyRef                     48617010                   50192097  \n",
       "PublishedLineName                                13                          1  \n",
       "OperatorRef                                      16                         18  \n",
       "DestinationRef                                55151                      36440  \n",
       "OriginAimedDepartureTime  2020-09-14T23:55:00+03:00  2020-09-14T23:30:00+03:00  \n",
       "Longitude                                 35.288173                  34.866481  \n",
       "Latitude                                  32.615917                  32.030906  \n",
       "Bearing                                           2                          4  \n",
       "Velocity                                          0                         32  \n",
       "VehicleRef                                  5103662                    3193178  \n",
       "StopPointRef                                  55605                      38118  \n",
       "Order                                            44                         44  \n",
       "AimedArrivalTime                                NaN                        NaN  \n",
       "ExpectedArrivalTime       2020-09-15T00:27:00+03:00  2020-09-15T00:18:00+03:00  \n",
       "DistanceFromStop                               1518                       9930  \n",
       "ArrivalStatus                                   NaN                        NaN  \n",
       "ArrivalPlatformName                             NaN                        NaN  \n",
       "-version                                        2.8                        2.8  \n",
       "ResponseTimestamp         2020-09-15T00:00:00+03:00  2020-09-15T00:00:00+03:00  \n",
       "Status                                         true                       true  "
      ]
     },
     "execution_count": 14,
     "metadata": {},
     "output_type": "execute_result"
    }
   ],
   "source": [
    "df = json_normalize(\n",
    "    data=records, \n",
    "    record_path=['MonitoredStopVisit'],\n",
    "#     meta=['ResponseTimestamp'],\n",
    "    meta=['-version', 'ResponseTimestamp', 'Status'],\n",
    ")\n",
    "\n",
    "# remove prefixes from column names for simplicity\n",
    "df.columns = [col.split('.')[-1] for col in df.columns]\n",
    "\n",
    "df.head().T"
   ]
  },
  {
   "cell_type": "code",
   "execution_count": 15,
   "metadata": {
    "ExecuteTime": {
     "end_time": "2020-10-26T17:35:23.703440Z",
     "start_time": "2020-10-26T17:35:23.682949Z"
    },
    "hidden": true
   },
   "outputs": [
    {
     "data": {
      "text/plain": [
       "Index(['RecordedAtTime', 'ItemIdentifier', 'MonitoringRef', 'LineRef',\n",
       "       'DirectionRef', 'DataFrameRef', 'DatedVehicleJourneyRef',\n",
       "       'PublishedLineName', 'OperatorRef', 'DestinationRef',\n",
       "       'OriginAimedDepartureTime', 'Longitude', 'Latitude', 'Bearing',\n",
       "       'Velocity', 'VehicleRef', 'StopPointRef', 'Order', 'AimedArrivalTime',\n",
       "       'ExpectedArrivalTime', 'DistanceFromStop', 'ArrivalStatus',\n",
       "       'ArrivalPlatformName', '-version', 'ResponseTimestamp', 'Status'],\n",
       "      dtype='object')"
      ]
     },
     "execution_count": 15,
     "metadata": {},
     "output_type": "execute_result"
    }
   ],
   "source": [
    "df.columns"
   ]
  },
  {
   "cell_type": "markdown",
   "metadata": {
    "heading_collapsed": true
   },
   "source": [
    "## Play with types and castings"
   ]
  },
  {
   "cell_type": "code",
   "execution_count": 16,
   "metadata": {
    "ExecuteTime": {
     "end_time": "2020-10-26T17:35:54.607685Z",
     "start_time": "2020-10-26T17:35:54.544579Z"
    },
    "hidden": true,
    "scrolled": true
   },
   "outputs": [
    {
     "data": {
      "text/html": [
       "<div>\n",
       "<style scoped>\n",
       "    .dataframe tbody tr th:only-of-type {\n",
       "        vertical-align: middle;\n",
       "    }\n",
       "\n",
       "    .dataframe tbody tr th {\n",
       "        vertical-align: top;\n",
       "    }\n",
       "\n",
       "    .dataframe thead th {\n",
       "        text-align: right;\n",
       "    }\n",
       "</style>\n",
       "<table border=\"1\" class=\"dataframe\">\n",
       "  <thead>\n",
       "    <tr style=\"text-align: right;\">\n",
       "      <th></th>\n",
       "      <th>0</th>\n",
       "      <th>1</th>\n",
       "      <th>2</th>\n",
       "      <th>3</th>\n",
       "      <th>4</th>\n",
       "    </tr>\n",
       "  </thead>\n",
       "  <tbody>\n",
       "    <tr>\n",
       "      <td>RecordedAtTime</td>\n",
       "      <td>2020-09-14 23:55:00+03:00</td>\n",
       "      <td>2020-09-14 23:58:47+03:00</td>\n",
       "      <td>2020-09-14 23:58:46+03:00</td>\n",
       "      <td>2020-09-14 23:58:42+03:00</td>\n",
       "      <td>2020-09-14 23:58:27+03:00</td>\n",
       "    </tr>\n",
       "    <tr>\n",
       "      <td>ItemIdentifier</td>\n",
       "      <td>135614766</td>\n",
       "      <td>135614767</td>\n",
       "      <td>135614768</td>\n",
       "      <td>135614769</td>\n",
       "      <td>135614770</td>\n",
       "    </tr>\n",
       "    <tr>\n",
       "      <td>MonitoringRef</td>\n",
       "      <td>32223</td>\n",
       "      <td>39280</td>\n",
       "      <td>39280</td>\n",
       "      <td>55605</td>\n",
       "      <td>38118</td>\n",
       "    </tr>\n",
       "    <tr>\n",
       "      <td>LineRef</td>\n",
       "      <td>32</td>\n",
       "      <td>724</td>\n",
       "      <td>724</td>\n",
       "      <td>866</td>\n",
       "      <td>952</td>\n",
       "    </tr>\n",
       "    <tr>\n",
       "      <td>DirectionRef</td>\n",
       "      <td>2</td>\n",
       "      <td>2</td>\n",
       "      <td>2</td>\n",
       "      <td>1</td>\n",
       "      <td>1</td>\n",
       "    </tr>\n",
       "    <tr>\n",
       "      <td>DataFrameRef</td>\n",
       "      <td>2020-09-15</td>\n",
       "      <td>2020-09-14</td>\n",
       "      <td>2020-09-14</td>\n",
       "      <td>2020-09-14</td>\n",
       "      <td>2020-09-14</td>\n",
       "    </tr>\n",
       "    <tr>\n",
       "      <td>DatedVehicleJourneyRef</td>\n",
       "      <td>40080413</td>\n",
       "      <td>50070348</td>\n",
       "      <td>50070349</td>\n",
       "      <td>48617010</td>\n",
       "      <td>50192097</td>\n",
       "    </tr>\n",
       "    <tr>\n",
       "      <td>PublishedLineName</td>\n",
       "      <td>37</td>\n",
       "      <td>613</td>\n",
       "      <td>613</td>\n",
       "      <td>13</td>\n",
       "      <td>1</td>\n",
       "    </tr>\n",
       "    <tr>\n",
       "      <td>OperatorRef</td>\n",
       "      <td>25</td>\n",
       "      <td>15</td>\n",
       "      <td>15</td>\n",
       "      <td>16</td>\n",
       "      <td>18</td>\n",
       "    </tr>\n",
       "    <tr>\n",
       "      <td>DestinationRef</td>\n",
       "      <td>32307</td>\n",
       "      <td>39657</td>\n",
       "      <td>39657</td>\n",
       "      <td>55151</td>\n",
       "      <td>36440</td>\n",
       "    </tr>\n",
       "    <tr>\n",
       "      <td>OriginAimedDepartureTime</td>\n",
       "      <td>2020-09-15 00:00:00+03:00</td>\n",
       "      <td>2020-09-14 23:20:00+03:00</td>\n",
       "      <td>2020-09-14 23:45:00+03:00</td>\n",
       "      <td>2020-09-14 23:55:00+03:00</td>\n",
       "      <td>2020-09-14 23:30:00+03:00</td>\n",
       "    </tr>\n",
       "    <tr>\n",
       "      <td>Longitude</td>\n",
       "      <td>34.8067</td>\n",
       "      <td>34.8349</td>\n",
       "      <td>34.847</td>\n",
       "      <td>35.2882</td>\n",
       "      <td>34.8665</td>\n",
       "    </tr>\n",
       "    <tr>\n",
       "      <td>Latitude</td>\n",
       "      <td>31.9095</td>\n",
       "      <td>32.2474</td>\n",
       "      <td>32.0914</td>\n",
       "      <td>32.6159</td>\n",
       "      <td>32.0309</td>\n",
       "    </tr>\n",
       "    <tr>\n",
       "      <td>Bearing</td>\n",
       "      <td>98</td>\n",
       "      <td>8</td>\n",
       "      <td>166</td>\n",
       "      <td>2</td>\n",
       "      <td>4</td>\n",
       "    </tr>\n",
       "    <tr>\n",
       "      <td>Velocity</td>\n",
       "      <td>0</td>\n",
       "      <td>104</td>\n",
       "      <td>44</td>\n",
       "      <td>0</td>\n",
       "      <td>32</td>\n",
       "    </tr>\n",
       "    <tr>\n",
       "      <td>VehicleRef</td>\n",
       "      <td>7291752</td>\n",
       "      <td>47088801</td>\n",
       "      <td>47085501</td>\n",
       "      <td>5103662</td>\n",
       "      <td>3193178</td>\n",
       "    </tr>\n",
       "    <tr>\n",
       "      <td>StopPointRef</td>\n",
       "      <td>32223</td>\n",
       "      <td>39280</td>\n",
       "      <td>39280</td>\n",
       "      <td>55605</td>\n",
       "      <td>38118</td>\n",
       "    </tr>\n",
       "    <tr>\n",
       "      <td>Order</td>\n",
       "      <td>58</td>\n",
       "      <td>28</td>\n",
       "      <td>28</td>\n",
       "      <td>44</td>\n",
       "      <td>44</td>\n",
       "    </tr>\n",
       "    <tr>\n",
       "      <td>AimedArrivalTime</td>\n",
       "      <td>2020-09-15 00:49:00+03:00</td>\n",
       "      <td>NaT</td>\n",
       "      <td>NaT</td>\n",
       "      <td>NaT</td>\n",
       "      <td>NaT</td>\n",
       "    </tr>\n",
       "    <tr>\n",
       "      <td>ExpectedArrivalTime</td>\n",
       "      <td>2020-09-15 00:49:00+03:00</td>\n",
       "      <td>2020-09-15 00:17:00+03:00</td>\n",
       "      <td>2020-09-15 00:34:00+03:00</td>\n",
       "      <td>2020-09-15 00:27:00+03:00</td>\n",
       "      <td>2020-09-15 00:18:00+03:00</td>\n",
       "    </tr>\n",
       "    <tr>\n",
       "      <td>DistanceFromStop</td>\n",
       "      <td>0</td>\n",
       "      <td>26397</td>\n",
       "      <td>3789</td>\n",
       "      <td>1518</td>\n",
       "      <td>9930</td>\n",
       "    </tr>\n",
       "    <tr>\n",
       "      <td>ArrivalStatus</td>\n",
       "      <td>nan</td>\n",
       "      <td>nan</td>\n",
       "      <td>nan</td>\n",
       "      <td>nan</td>\n",
       "      <td>nan</td>\n",
       "    </tr>\n",
       "    <tr>\n",
       "      <td>ArrivalPlatformName</td>\n",
       "      <td>-1</td>\n",
       "      <td>-1</td>\n",
       "      <td>-1</td>\n",
       "      <td>-1</td>\n",
       "      <td>-1</td>\n",
       "    </tr>\n",
       "    <tr>\n",
       "      <td>-version</td>\n",
       "      <td>2.8</td>\n",
       "      <td>2.8</td>\n",
       "      <td>2.8</td>\n",
       "      <td>2.8</td>\n",
       "      <td>2.8</td>\n",
       "    </tr>\n",
       "    <tr>\n",
       "      <td>ResponseTimestamp</td>\n",
       "      <td>2020-09-15 00:00:00+03:00</td>\n",
       "      <td>2020-09-15 00:00:00+03:00</td>\n",
       "      <td>2020-09-15 00:00:00+03:00</td>\n",
       "      <td>2020-09-15 00:00:00+03:00</td>\n",
       "      <td>2020-09-15 00:00:00+03:00</td>\n",
       "    </tr>\n",
       "    <tr>\n",
       "      <td>Status</td>\n",
       "      <td>True</td>\n",
       "      <td>True</td>\n",
       "      <td>True</td>\n",
       "      <td>True</td>\n",
       "      <td>True</td>\n",
       "    </tr>\n",
       "  </tbody>\n",
       "</table>\n",
       "</div>"
      ],
      "text/plain": [
       "                                                  0  \\\n",
       "RecordedAtTime            2020-09-14 23:55:00+03:00   \n",
       "ItemIdentifier                            135614766   \n",
       "MonitoringRef                                 32223   \n",
       "LineRef                                          32   \n",
       "DirectionRef                                      2   \n",
       "DataFrameRef                             2020-09-15   \n",
       "DatedVehicleJourneyRef                     40080413   \n",
       "PublishedLineName                                37   \n",
       "OperatorRef                                      25   \n",
       "DestinationRef                                32307   \n",
       "OriginAimedDepartureTime  2020-09-15 00:00:00+03:00   \n",
       "Longitude                                   34.8067   \n",
       "Latitude                                    31.9095   \n",
       "Bearing                                          98   \n",
       "Velocity                                          0   \n",
       "VehicleRef                                  7291752   \n",
       "StopPointRef                                  32223   \n",
       "Order                                            58   \n",
       "AimedArrivalTime          2020-09-15 00:49:00+03:00   \n",
       "ExpectedArrivalTime       2020-09-15 00:49:00+03:00   \n",
       "DistanceFromStop                                  0   \n",
       "ArrivalStatus                                   nan   \n",
       "ArrivalPlatformName                              -1   \n",
       "-version                                        2.8   \n",
       "ResponseTimestamp         2020-09-15 00:00:00+03:00   \n",
       "Status                                         True   \n",
       "\n",
       "                                                  1  \\\n",
       "RecordedAtTime            2020-09-14 23:58:47+03:00   \n",
       "ItemIdentifier                            135614767   \n",
       "MonitoringRef                                 39280   \n",
       "LineRef                                         724   \n",
       "DirectionRef                                      2   \n",
       "DataFrameRef                             2020-09-14   \n",
       "DatedVehicleJourneyRef                     50070348   \n",
       "PublishedLineName                               613   \n",
       "OperatorRef                                      15   \n",
       "DestinationRef                                39657   \n",
       "OriginAimedDepartureTime  2020-09-14 23:20:00+03:00   \n",
       "Longitude                                   34.8349   \n",
       "Latitude                                    32.2474   \n",
       "Bearing                                           8   \n",
       "Velocity                                        104   \n",
       "VehicleRef                                 47088801   \n",
       "StopPointRef                                  39280   \n",
       "Order                                            28   \n",
       "AimedArrivalTime                                NaT   \n",
       "ExpectedArrivalTime       2020-09-15 00:17:00+03:00   \n",
       "DistanceFromStop                              26397   \n",
       "ArrivalStatus                                   nan   \n",
       "ArrivalPlatformName                              -1   \n",
       "-version                                        2.8   \n",
       "ResponseTimestamp         2020-09-15 00:00:00+03:00   \n",
       "Status                                         True   \n",
       "\n",
       "                                                  2  \\\n",
       "RecordedAtTime            2020-09-14 23:58:46+03:00   \n",
       "ItemIdentifier                            135614768   \n",
       "MonitoringRef                                 39280   \n",
       "LineRef                                         724   \n",
       "DirectionRef                                      2   \n",
       "DataFrameRef                             2020-09-14   \n",
       "DatedVehicleJourneyRef                     50070349   \n",
       "PublishedLineName                               613   \n",
       "OperatorRef                                      15   \n",
       "DestinationRef                                39657   \n",
       "OriginAimedDepartureTime  2020-09-14 23:45:00+03:00   \n",
       "Longitude                                    34.847   \n",
       "Latitude                                    32.0914   \n",
       "Bearing                                         166   \n",
       "Velocity                                         44   \n",
       "VehicleRef                                 47085501   \n",
       "StopPointRef                                  39280   \n",
       "Order                                            28   \n",
       "AimedArrivalTime                                NaT   \n",
       "ExpectedArrivalTime       2020-09-15 00:34:00+03:00   \n",
       "DistanceFromStop                               3789   \n",
       "ArrivalStatus                                   nan   \n",
       "ArrivalPlatformName                              -1   \n",
       "-version                                        2.8   \n",
       "ResponseTimestamp         2020-09-15 00:00:00+03:00   \n",
       "Status                                         True   \n",
       "\n",
       "                                                  3                          4  \n",
       "RecordedAtTime            2020-09-14 23:58:42+03:00  2020-09-14 23:58:27+03:00  \n",
       "ItemIdentifier                            135614769                  135614770  \n",
       "MonitoringRef                                 55605                      38118  \n",
       "LineRef                                         866                        952  \n",
       "DirectionRef                                      1                          1  \n",
       "DataFrameRef                             2020-09-14                 2020-09-14  \n",
       "DatedVehicleJourneyRef                     48617010                   50192097  \n",
       "PublishedLineName                                13                          1  \n",
       "OperatorRef                                      16                         18  \n",
       "DestinationRef                                55151                      36440  \n",
       "OriginAimedDepartureTime  2020-09-14 23:55:00+03:00  2020-09-14 23:30:00+03:00  \n",
       "Longitude                                   35.2882                    34.8665  \n",
       "Latitude                                    32.6159                    32.0309  \n",
       "Bearing                                           2                          4  \n",
       "Velocity                                          0                         32  \n",
       "VehicleRef                                  5103662                    3193178  \n",
       "StopPointRef                                  55605                      38118  \n",
       "Order                                            44                         44  \n",
       "AimedArrivalTime                                NaT                        NaT  \n",
       "ExpectedArrivalTime       2020-09-15 00:27:00+03:00  2020-09-15 00:18:00+03:00  \n",
       "DistanceFromStop                               1518                       9930  \n",
       "ArrivalStatus                                   nan                        nan  \n",
       "ArrivalPlatformName                              -1                         -1  \n",
       "-version                                        2.8                        2.8  \n",
       "ResponseTimestamp         2020-09-15 00:00:00+03:00  2020-09-15 00:00:00+03:00  \n",
       "Status                                         True                       True  "
      ]
     },
     "execution_count": 16,
     "metadata": {},
     "output_type": "execute_result"
    }
   ],
   "source": [
    "field_types = {\n",
    "    '-version': float, \n",
    "    'ResponseTimestamp': 'dt', \n",
    "    'Status': bool,\n",
    "    'RecordedAtTime': 'dt', \n",
    "    'ItemIdentifier': int, \n",
    "    'MonitoringRef': int,\n",
    "    'LineRef': int,\n",
    "    'DirectionRef': int,\n",
    "    'DataFrameRef': 'date',\n",
    "    'DatedVehicleJourneyRef': int,\n",
    "    'PublishedLineName': str,\n",
    "    'OperatorRef': int,\n",
    "    'DestinationRef': int,\n",
    "    'OriginAimedDepartureTime': 'dt',\n",
    "    'Bearing': int,\n",
    "    'Velocity': int,\n",
    "    'VehicleRef': int,\n",
    "    'StopPointRef': int,\n",
    "    'Order': int,\n",
    "    'AimedArrivalTime': 'dt',\n",
    "    'ExpectedArrivalTime': 'dt',\n",
    "    'DistanceFromStop': int,\n",
    "    'Longitude': float,\n",
    "    'Latitude': float,\n",
    "    'ArrivalStatus': str,\n",
    "    'ArrivalPlatformName': int,\n",
    "}\n",
    "int_cols = [f for f,v in field_types.items() if v is int]\n",
    "\n",
    "df1 = df.copy()\n",
    "df1[int_cols] = df1[int_cols].fillna(-1)\n",
    "\n",
    "\n",
    "df1 = df1.astype({k: v for k, v in field_types.items() if type(v)!=str})\n",
    "\n",
    "for f, v in field_types.items():\n",
    "    if v=='dt':\n",
    "        df1[f] = pd.to_datetime(df1[f])\n",
    "        \n",
    "\n",
    "df1.head().T"
   ]
  },
  {
   "cell_type": "code",
   "execution_count": 17,
   "metadata": {
    "ExecuteTime": {
     "end_time": "2020-10-26T17:36:04.959938Z",
     "start_time": "2020-10-26T17:36:04.937976Z"
    },
    "hidden": true,
    "scrolled": true
   },
   "outputs": [
    {
     "data": {
      "text/plain": [
       "RecordedAtTime              datetime64[ns, pytz.FixedOffset(180)]\n",
       "ItemIdentifier                                              int64\n",
       "MonitoringRef                                               int64\n",
       "LineRef                                                     int64\n",
       "DirectionRef                                                int64\n",
       "DataFrameRef                                               object\n",
       "DatedVehicleJourneyRef                                      int64\n",
       "PublishedLineName                                          object\n",
       "OperatorRef                                                 int64\n",
       "DestinationRef                                              int64\n",
       "OriginAimedDepartureTime    datetime64[ns, pytz.FixedOffset(180)]\n",
       "Longitude                                                 float64\n",
       "Latitude                                                  float64\n",
       "Bearing                                                     int64\n",
       "Velocity                                                    int64\n",
       "VehicleRef                                                  int64\n",
       "StopPointRef                                                int64\n",
       "Order                                                       int64\n",
       "AimedArrivalTime            datetime64[ns, pytz.FixedOffset(180)]\n",
       "ExpectedArrivalTime         datetime64[ns, pytz.FixedOffset(180)]\n",
       "DistanceFromStop                                            int64\n",
       "ArrivalStatus                                              object\n",
       "ArrivalPlatformName                                         int64\n",
       "-version                                                  float64\n",
       "ResponseTimestamp           datetime64[ns, pytz.FixedOffset(180)]\n",
       "Status                                                       bool\n",
       "dtype: object"
      ]
     },
     "execution_count": 17,
     "metadata": {},
     "output_type": "execute_result"
    }
   ],
   "source": [
    "df1.dtypes"
   ]
  },
  {
   "cell_type": "code",
   "execution_count": 191,
   "metadata": {
    "collapsed": true,
    "hidden": true
   },
   "outputs": [
    {
     "data": {
      "text/html": [
       "<div>\n",
       "<style scoped>\n",
       "    .dataframe tbody tr th:only-of-type {\n",
       "        vertical-align: middle;\n",
       "    }\n",
       "\n",
       "    .dataframe tbody tr th {\n",
       "        vertical-align: top;\n",
       "    }\n",
       "\n",
       "    .dataframe thead th {\n",
       "        text-align: right;\n",
       "    }\n",
       "</style>\n",
       "<table border=\"1\" class=\"dataframe\">\n",
       "  <thead>\n",
       "    <tr style=\"text-align: right;\">\n",
       "      <th></th>\n",
       "      <th>_version</th>\n",
       "      <th>response_timestamp</th>\n",
       "      <th>status</th>\n",
       "      <th>recorded_at_time</th>\n",
       "      <th>item_identifier</th>\n",
       "      <th>monitoring_ref</th>\n",
       "      <th>line_ref</th>\n",
       "      <th>direction_ref</th>\n",
       "      <th>data_frame_ref</th>\n",
       "      <th>dated_vehicle_journey_ref</th>\n",
       "      <th>...</th>\n",
       "      <th>vehicle_ref</th>\n",
       "      <th>stop_point_ref</th>\n",
       "      <th>order</th>\n",
       "      <th>aimed_arrival_time</th>\n",
       "      <th>expected_arrival_time</th>\n",
       "      <th>distance_from_stop</th>\n",
       "      <th>longitude</th>\n",
       "      <th>latitude</th>\n",
       "      <th>arrival_status</th>\n",
       "      <th>arrival_platform_name</th>\n",
       "    </tr>\n",
       "  </thead>\n",
       "  <tbody>\n",
       "    <tr>\n",
       "      <td>0</td>\n",
       "      <td>2.8</td>\n",
       "      <td>2020-06-30 07:01:00+03:00</td>\n",
       "      <td>True</td>\n",
       "      <td>2020-06-30 06:12:29+03:00</td>\n",
       "      <td>235508444</td>\n",
       "      <td>32509</td>\n",
       "      <td>5</td>\n",
       "      <td>2</td>\n",
       "      <td>2020-06-30</td>\n",
       "      <td>27659201</td>\n",
       "      <td>...</td>\n",
       "      <td>6694932</td>\n",
       "      <td>32509</td>\n",
       "      <td>17</td>\n",
       "      <td>2020-06-30 07:19:00+03:00</td>\n",
       "      <td>2020-06-30 07:19:00+03:00</td>\n",
       "      <td>0</td>\n",
       "      <td>NaN</td>\n",
       "      <td>NaN</td>\n",
       "      <td>nan</td>\n",
       "      <td>-1</td>\n",
       "    </tr>\n",
       "    <tr>\n",
       "      <td>1</td>\n",
       "      <td>2.8</td>\n",
       "      <td>2020-06-30 07:01:00+03:00</td>\n",
       "      <td>True</td>\n",
       "      <td>2020-06-30 04:03:50+03:00</td>\n",
       "      <td>235508445</td>\n",
       "      <td>31529</td>\n",
       "      <td>7</td>\n",
       "      <td>1</td>\n",
       "      <td>2020-06-30</td>\n",
       "      <td>38240354</td>\n",
       "      <td>...</td>\n",
       "      <td>56266901</td>\n",
       "      <td>31529</td>\n",
       "      <td>11</td>\n",
       "      <td>2020-06-30 07:14:00+03:00</td>\n",
       "      <td>2020-06-30 07:14:00+03:00</td>\n",
       "      <td>0</td>\n",
       "      <td>NaN</td>\n",
       "      <td>NaN</td>\n",
       "      <td>nan</td>\n",
       "      <td>-1</td>\n",
       "    </tr>\n",
       "    <tr>\n",
       "      <td>2</td>\n",
       "      <td>2.8</td>\n",
       "      <td>2020-06-30 07:01:00+03:00</td>\n",
       "      <td>True</td>\n",
       "      <td>2020-06-30 06:55:00+03:00</td>\n",
       "      <td>235508446</td>\n",
       "      <td>32221</td>\n",
       "      <td>8</td>\n",
       "      <td>2</td>\n",
       "      <td>2020-06-30</td>\n",
       "      <td>41197870</td>\n",
       "      <td>...</td>\n",
       "      <td>56268701</td>\n",
       "      <td>32221</td>\n",
       "      <td>27</td>\n",
       "      <td>NaT</td>\n",
       "      <td>2020-06-30 07:23:00+03:00</td>\n",
       "      <td>0</td>\n",
       "      <td>34.744201</td>\n",
       "      <td>31.862188</td>\n",
       "      <td>nan</td>\n",
       "      <td>-1</td>\n",
       "    </tr>\n",
       "    <tr>\n",
       "      <td>3</td>\n",
       "      <td>2.8</td>\n",
       "      <td>2020-06-30 07:01:00+03:00</td>\n",
       "      <td>True</td>\n",
       "      <td>2020-06-30 06:59:15+03:00</td>\n",
       "      <td>235508447</td>\n",
       "      <td>32218</td>\n",
       "      <td>26</td>\n",
       "      <td>2</td>\n",
       "      <td>2020-06-30</td>\n",
       "      <td>43568386</td>\n",
       "      <td>...</td>\n",
       "      <td>7297452</td>\n",
       "      <td>32218</td>\n",
       "      <td>37</td>\n",
       "      <td>NaT</td>\n",
       "      <td>2020-06-30 07:43:00+03:00</td>\n",
       "      <td>3340</td>\n",
       "      <td>34.800987</td>\n",
       "      <td>31.807815</td>\n",
       "      <td>nan</td>\n",
       "      <td>-1</td>\n",
       "    </tr>\n",
       "    <tr>\n",
       "      <td>4</td>\n",
       "      <td>2.8</td>\n",
       "      <td>2020-06-30 07:01:00+03:00</td>\n",
       "      <td>True</td>\n",
       "      <td>2020-06-30 06:59:17+03:00</td>\n",
       "      <td>235508448</td>\n",
       "      <td>31247</td>\n",
       "      <td>35</td>\n",
       "      <td>1</td>\n",
       "      <td>2020-06-30</td>\n",
       "      <td>26639414</td>\n",
       "      <td>...</td>\n",
       "      <td>7298452</td>\n",
       "      <td>31247</td>\n",
       "      <td>29</td>\n",
       "      <td>NaT</td>\n",
       "      <td>2020-06-30 07:26:00+03:00</td>\n",
       "      <td>3360</td>\n",
       "      <td>34.738063</td>\n",
       "      <td>31.872211</td>\n",
       "      <td>nan</td>\n",
       "      <td>-1</td>\n",
       "    </tr>\n",
       "    <tr>\n",
       "      <td>...</td>\n",
       "      <td>...</td>\n",
       "      <td>...</td>\n",
       "      <td>...</td>\n",
       "      <td>...</td>\n",
       "      <td>...</td>\n",
       "      <td>...</td>\n",
       "      <td>...</td>\n",
       "      <td>...</td>\n",
       "      <td>...</td>\n",
       "      <td>...</td>\n",
       "      <td>...</td>\n",
       "      <td>...</td>\n",
       "      <td>...</td>\n",
       "      <td>...</td>\n",
       "      <td>...</td>\n",
       "      <td>...</td>\n",
       "      <td>...</td>\n",
       "      <td>...</td>\n",
       "      <td>...</td>\n",
       "      <td>...</td>\n",
       "      <td>...</td>\n",
       "    </tr>\n",
       "    <tr>\n",
       "      <td>2134</td>\n",
       "      <td>2.8</td>\n",
       "      <td>2020-06-30 07:01:00+03:00</td>\n",
       "      <td>True</td>\n",
       "      <td>2020-06-30 07:00:03+03:00</td>\n",
       "      <td>235512833</td>\n",
       "      <td>17038</td>\n",
       "      <td>27803</td>\n",
       "      <td>1</td>\n",
       "      <td>2020-06-30</td>\n",
       "      <td>47880724</td>\n",
       "      <td>...</td>\n",
       "      <td>609</td>\n",
       "      <td>17038</td>\n",
       "      <td>6</td>\n",
       "      <td>2020-06-30 07:34:00+03:00</td>\n",
       "      <td>2020-06-30 07:34:00+03:00</td>\n",
       "      <td>0</td>\n",
       "      <td>NaN</td>\n",
       "      <td>NaN</td>\n",
       "      <td>onTime</td>\n",
       "      <td>6</td>\n",
       "    </tr>\n",
       "    <tr>\n",
       "      <td>2135</td>\n",
       "      <td>2.8</td>\n",
       "      <td>2020-06-30 07:01:00+03:00</td>\n",
       "      <td>True</td>\n",
       "      <td>2020-06-30 07:00:03+03:00</td>\n",
       "      <td>235512834</td>\n",
       "      <td>17040</td>\n",
       "      <td>27804</td>\n",
       "      <td>2</td>\n",
       "      <td>2020-06-30</td>\n",
       "      <td>47880834</td>\n",
       "      <td>...</td>\n",
       "      <td>604</td>\n",
       "      <td>17040</td>\n",
       "      <td>18</td>\n",
       "      <td>NaT</td>\n",
       "      <td>2020-06-30 07:33:00+03:00</td>\n",
       "      <td>0</td>\n",
       "      <td>NaN</td>\n",
       "      <td>NaN</td>\n",
       "      <td>onTime</td>\n",
       "      <td>1</td>\n",
       "    </tr>\n",
       "    <tr>\n",
       "      <td>2136</td>\n",
       "      <td>2.8</td>\n",
       "      <td>2020-06-30 07:01:00+03:00</td>\n",
       "      <td>True</td>\n",
       "      <td>2020-06-30 07:00:03+03:00</td>\n",
       "      <td>235512839</td>\n",
       "      <td>17096</td>\n",
       "      <td>27804</td>\n",
       "      <td>2</td>\n",
       "      <td>2020-06-30</td>\n",
       "      <td>47880844</td>\n",
       "      <td>...</td>\n",
       "      <td>608</td>\n",
       "      <td>17096</td>\n",
       "      <td>8</td>\n",
       "      <td>NaT</td>\n",
       "      <td>2020-06-30 07:42:00+03:00</td>\n",
       "      <td>0</td>\n",
       "      <td>NaN</td>\n",
       "      <td>NaN</td>\n",
       "      <td>onTime</td>\n",
       "      <td>2</td>\n",
       "    </tr>\n",
       "    <tr>\n",
       "      <td>2137</td>\n",
       "      <td>2.8</td>\n",
       "      <td>2020-06-30 07:01:00+03:00</td>\n",
       "      <td>True</td>\n",
       "      <td>2020-06-30 07:00:03+03:00</td>\n",
       "      <td>235512842</td>\n",
       "      <td>17072</td>\n",
       "      <td>27804</td>\n",
       "      <td>2</td>\n",
       "      <td>2020-06-30</td>\n",
       "      <td>47880849</td>\n",
       "      <td>...</td>\n",
       "      <td>610</td>\n",
       "      <td>17072</td>\n",
       "      <td>6</td>\n",
       "      <td>NaT</td>\n",
       "      <td>2020-06-30 07:42:00+03:00</td>\n",
       "      <td>0</td>\n",
       "      <td>NaN</td>\n",
       "      <td>NaN</td>\n",
       "      <td>onTime</td>\n",
       "      <td>3</td>\n",
       "    </tr>\n",
       "    <tr>\n",
       "      <td>2138</td>\n",
       "      <td>2.8</td>\n",
       "      <td>2020-06-30 07:01:00+03:00</td>\n",
       "      <td>True</td>\n",
       "      <td>2020-06-30 07:00:03+03:00</td>\n",
       "      <td>235512844</td>\n",
       "      <td>17109</td>\n",
       "      <td>27804</td>\n",
       "      <td>2</td>\n",
       "      <td>2020-06-30</td>\n",
       "      <td>47880854</td>\n",
       "      <td>...</td>\n",
       "      <td>612</td>\n",
       "      <td>17109</td>\n",
       "      <td>3</td>\n",
       "      <td>2020-06-30 07:39:00+03:00</td>\n",
       "      <td>2020-06-30 07:39:00+03:00</td>\n",
       "      <td>0</td>\n",
       "      <td>NaN</td>\n",
       "      <td>NaN</td>\n",
       "      <td>onTime</td>\n",
       "      <td>1</td>\n",
       "    </tr>\n",
       "  </tbody>\n",
       "</table>\n",
       "<p>2139 rows × 26 columns</p>\n",
       "</div>"
      ],
      "text/plain": [
       "      _version        response_timestamp  status          recorded_at_time  \\\n",
       "0          2.8 2020-06-30 07:01:00+03:00    True 2020-06-30 06:12:29+03:00   \n",
       "1          2.8 2020-06-30 07:01:00+03:00    True 2020-06-30 04:03:50+03:00   \n",
       "2          2.8 2020-06-30 07:01:00+03:00    True 2020-06-30 06:55:00+03:00   \n",
       "3          2.8 2020-06-30 07:01:00+03:00    True 2020-06-30 06:59:15+03:00   \n",
       "4          2.8 2020-06-30 07:01:00+03:00    True 2020-06-30 06:59:17+03:00   \n",
       "...        ...                       ...     ...                       ...   \n",
       "2134       2.8 2020-06-30 07:01:00+03:00    True 2020-06-30 07:00:03+03:00   \n",
       "2135       2.8 2020-06-30 07:01:00+03:00    True 2020-06-30 07:00:03+03:00   \n",
       "2136       2.8 2020-06-30 07:01:00+03:00    True 2020-06-30 07:00:03+03:00   \n",
       "2137       2.8 2020-06-30 07:01:00+03:00    True 2020-06-30 07:00:03+03:00   \n",
       "2138       2.8 2020-06-30 07:01:00+03:00    True 2020-06-30 07:00:03+03:00   \n",
       "\n",
       "      item_identifier  monitoring_ref  line_ref  direction_ref data_frame_ref  \\\n",
       "0           235508444           32509         5              2     2020-06-30   \n",
       "1           235508445           31529         7              1     2020-06-30   \n",
       "2           235508446           32221         8              2     2020-06-30   \n",
       "3           235508447           32218        26              2     2020-06-30   \n",
       "4           235508448           31247        35              1     2020-06-30   \n",
       "...               ...             ...       ...            ...            ...   \n",
       "2134        235512833           17038     27803              1     2020-06-30   \n",
       "2135        235512834           17040     27804              2     2020-06-30   \n",
       "2136        235512839           17096     27804              2     2020-06-30   \n",
       "2137        235512842           17072     27804              2     2020-06-30   \n",
       "2138        235512844           17109     27804              2     2020-06-30   \n",
       "\n",
       "      dated_vehicle_journey_ref  ... vehicle_ref  stop_point_ref  order  \\\n",
       "0                      27659201  ...     6694932           32509     17   \n",
       "1                      38240354  ...    56266901           31529     11   \n",
       "2                      41197870  ...    56268701           32221     27   \n",
       "3                      43568386  ...     7297452           32218     37   \n",
       "4                      26639414  ...     7298452           31247     29   \n",
       "...                         ...  ...         ...             ...    ...   \n",
       "2134                   47880724  ...         609           17038      6   \n",
       "2135                   47880834  ...         604           17040     18   \n",
       "2136                   47880844  ...         608           17096      8   \n",
       "2137                   47880849  ...         610           17072      6   \n",
       "2138                   47880854  ...         612           17109      3   \n",
       "\n",
       "            aimed_arrival_time     expected_arrival_time  distance_from_stop  \\\n",
       "0    2020-06-30 07:19:00+03:00 2020-06-30 07:19:00+03:00                   0   \n",
       "1    2020-06-30 07:14:00+03:00 2020-06-30 07:14:00+03:00                   0   \n",
       "2                          NaT 2020-06-30 07:23:00+03:00                   0   \n",
       "3                          NaT 2020-06-30 07:43:00+03:00                3340   \n",
       "4                          NaT 2020-06-30 07:26:00+03:00                3360   \n",
       "...                        ...                       ...                 ...   \n",
       "2134 2020-06-30 07:34:00+03:00 2020-06-30 07:34:00+03:00                   0   \n",
       "2135                       NaT 2020-06-30 07:33:00+03:00                   0   \n",
       "2136                       NaT 2020-06-30 07:42:00+03:00                   0   \n",
       "2137                       NaT 2020-06-30 07:42:00+03:00                   0   \n",
       "2138 2020-06-30 07:39:00+03:00 2020-06-30 07:39:00+03:00                   0   \n",
       "\n",
       "      longitude   latitude  arrival_status arrival_platform_name  \n",
       "0           NaN        NaN             nan                    -1  \n",
       "1           NaN        NaN             nan                    -1  \n",
       "2     34.744201  31.862188             nan                    -1  \n",
       "3     34.800987  31.807815             nan                    -1  \n",
       "4     34.738063  31.872211             nan                    -1  \n",
       "...         ...        ...             ...                   ...  \n",
       "2134        NaN        NaN          onTime                     6  \n",
       "2135        NaN        NaN          onTime                     1  \n",
       "2136        NaN        NaN          onTime                     2  \n",
       "2137        NaN        NaN          onTime                     3  \n",
       "2138        NaN        NaN          onTime                     1  \n",
       "\n",
       "[2139 rows x 26 columns]"
      ]
     },
     "execution_count": 191,
     "metadata": {},
     "output_type": "execute_result"
    }
   ],
   "source": [
    "import re\n",
    "field_types = {\n",
    "    '-version': float, \n",
    "    'ResponseTimestamp': 'dt', \n",
    "    'Status': bool,\n",
    "    'RecordedAtTime': 'dt', \n",
    "    'ItemIdentifier': int, \n",
    "    'MonitoringRef': int,\n",
    "    'LineRef': int,\n",
    "    'DirectionRef': int,\n",
    "    'DataFrameRef': 'date',\n",
    "    'DatedVehicleJourneyRef': int,\n",
    "    'PublishedLineName': str,\n",
    "    'OperatorRef': int,\n",
    "    'DestinationRef': int,\n",
    "    'OriginAimedDepartureTime': 'dt',\n",
    "    'Bearing': int,\n",
    "    'Velocity': int,\n",
    "    'VehicleRef': int,\n",
    "    'StopPointRef': int,\n",
    "    'Order': int,\n",
    "    'AimedArrivalTime': 'dt',\n",
    "    'ExpectedArrivalTime': 'dt',\n",
    "    'DistanceFromStop': int,\n",
    "    'Longitude': float,\n",
    "    'Latitude': float,\n",
    "    'ArrivalStatus': str,\n",
    "    'ArrivalPlatformName': int,\n",
    "}\n",
    "\n",
    "\n",
    "def camel_to_snake(name):\n",
    "    name = name.replace('-', '_')\n",
    "    name = re.sub('(.)([A-Z][a-z]+)', r'\\1_\\2', name)\n",
    "    return re.sub('([a-z0-9])([A-Z])', r'\\1_\\2', name).lower()\n",
    "    \n",
    "\n",
    "snake_cols = {k: camel_to_snake(k) for k in field_types}\n",
    "int_cols = [f for f,v in field_types.items() if v is int]\n",
    "\n",
    "def read_siri_snap_normal(path):\n",
    "    with gzip.GzipFile(path, 'r') as fin:\n",
    "        data = json.loads(fin.read().decode('utf-8'))\n",
    "\n",
    "    df = json_normalize([{**{k: v for k, v in sr.items() if k!='MonitoredStopVisit'}, **sr['MonitoredStopVisit'][0]} \n",
    "                         for sr in data['Siri']['ServiceDelivery']['StopMonitoringDelivery'] ])\n",
    "    df.columns = [x.split('.')[-1] for x in df.columns]\n",
    "    cur_int_cols = [c for c in int_cols if c in df.columns]\n",
    "    df[cur_int_cols] = df[cur_int_cols].fillna(-1)\n",
    "    df = df.astype({k: v for k, v in field_types.items() if k in df.columns and type(v)!=str})\n",
    "\n",
    "    for f, v in field_types.items():\n",
    "        if f in df.columns and v=='dt':\n",
    "            df[f] = pd.to_datetime(df[f])\n",
    "            \n",
    "    df = df.rename(columns=snake_cols)\n",
    "    return df\n",
    "\n",
    "read_siri_snap_normal(sampath)"
   ]
  },
  {
   "cell_type": "code",
   "execution_count": 192,
   "metadata": {
    "hidden": true,
    "scrolled": true
   },
   "outputs": [
    {
     "data": {
      "text/html": [
       "<div>\n",
       "<style scoped>\n",
       "    .dataframe tbody tr th:only-of-type {\n",
       "        vertical-align: middle;\n",
       "    }\n",
       "\n",
       "    .dataframe tbody tr th {\n",
       "        vertical-align: top;\n",
       "    }\n",
       "\n",
       "    .dataframe thead th {\n",
       "        text-align: right;\n",
       "    }\n",
       "</style>\n",
       "<table border=\"1\" class=\"dataframe\">\n",
       "  <thead>\n",
       "    <tr style=\"text-align: right;\">\n",
       "      <th></th>\n",
       "      <th>_version</th>\n",
       "      <th>response_timestamp</th>\n",
       "      <th>status</th>\n",
       "      <th>recorded_at_time</th>\n",
       "      <th>item_identifier</th>\n",
       "      <th>monitoring_ref</th>\n",
       "      <th>line_ref</th>\n",
       "      <th>direction_ref</th>\n",
       "      <th>data_frame_ref</th>\n",
       "      <th>dated_vehicle_journey_ref</th>\n",
       "      <th>...</th>\n",
       "      <th>origin_aimed_departure_time</th>\n",
       "      <th>longitude</th>\n",
       "      <th>latitude</th>\n",
       "      <th>bearing</th>\n",
       "      <th>velocity</th>\n",
       "      <th>vehicle_ref</th>\n",
       "      <th>stop_point_ref</th>\n",
       "      <th>order</th>\n",
       "      <th>expected_arrival_time</th>\n",
       "      <th>distance_from_stop</th>\n",
       "    </tr>\n",
       "  </thead>\n",
       "  <tbody>\n",
       "    <tr>\n",
       "      <td>0</td>\n",
       "      <td>2.8</td>\n",
       "      <td>2020-06-30 00:25:30+03:00</td>\n",
       "      <td>True</td>\n",
       "      <td>2020-06-30 00:24:21+03:00</td>\n",
       "      <td>1872278026</td>\n",
       "      <td>39163</td>\n",
       "      <td>724</td>\n",
       "      <td>2</td>\n",
       "      <td>2020-06-30</td>\n",
       "      <td>47440672</td>\n",
       "      <td>...</td>\n",
       "      <td>2020-06-30 00:15:00+03:00</td>\n",
       "      <td>34.838794</td>\n",
       "      <td>32.085620</td>\n",
       "      <td>0</td>\n",
       "      <td>0</td>\n",
       "      <td>47085601</td>\n",
       "      <td>39163</td>\n",
       "      <td>18</td>\n",
       "      <td>2020-06-30 00:50:00+03:00</td>\n",
       "      <td>2159</td>\n",
       "    </tr>\n",
       "    <tr>\n",
       "      <td>1</td>\n",
       "      <td>2.8</td>\n",
       "      <td>2020-06-30 00:25:30+03:00</td>\n",
       "      <td>True</td>\n",
       "      <td>2020-06-30 00:20:00+03:00</td>\n",
       "      <td>1872278027</td>\n",
       "      <td>55605</td>\n",
       "      <td>866</td>\n",
       "      <td>1</td>\n",
       "      <td>2020-06-30</td>\n",
       "      <td>47660063</td>\n",
       "      <td>...</td>\n",
       "      <td>2020-06-30 00:25:00+03:00</td>\n",
       "      <td>35.292625</td>\n",
       "      <td>32.608253</td>\n",
       "      <td>0</td>\n",
       "      <td>0</td>\n",
       "      <td>5103762</td>\n",
       "      <td>55605</td>\n",
       "      <td>44</td>\n",
       "      <td>2020-06-30 00:53:00+03:00</td>\n",
       "      <td>0</td>\n",
       "    </tr>\n",
       "    <tr>\n",
       "      <td>2</td>\n",
       "      <td>2.8</td>\n",
       "      <td>2020-06-30 00:25:30+03:00</td>\n",
       "      <td>True</td>\n",
       "      <td>2020-06-30 00:24:20+03:00</td>\n",
       "      <td>1872278028</td>\n",
       "      <td>58926</td>\n",
       "      <td>867</td>\n",
       "      <td>2</td>\n",
       "      <td>2020-06-30</td>\n",
       "      <td>47660597</td>\n",
       "      <td>...</td>\n",
       "      <td>2020-06-30 00:05:00+03:00</td>\n",
       "      <td>35.331241</td>\n",
       "      <td>32.636123</td>\n",
       "      <td>0</td>\n",
       "      <td>0</td>\n",
       "      <td>5101562</td>\n",
       "      <td>58926</td>\n",
       "      <td>73</td>\n",
       "      <td>2020-06-30 00:52:00+03:00</td>\n",
       "      <td>9410</td>\n",
       "    </tr>\n",
       "    <tr>\n",
       "      <td>3</td>\n",
       "      <td>2.8</td>\n",
       "      <td>2020-06-30 00:25:30+03:00</td>\n",
       "      <td>True</td>\n",
       "      <td>2020-06-30 00:24:10+03:00</td>\n",
       "      <td>1872278029</td>\n",
       "      <td>31051</td>\n",
       "      <td>979</td>\n",
       "      <td>1</td>\n",
       "      <td>2020-06-29</td>\n",
       "      <td>47850298</td>\n",
       "      <td>...</td>\n",
       "      <td>2020-06-29 23:40:00+03:00</td>\n",
       "      <td>34.882633</td>\n",
       "      <td>32.041503</td>\n",
       "      <td>0</td>\n",
       "      <td>0</td>\n",
       "      <td>8130984</td>\n",
       "      <td>31051</td>\n",
       "      <td>43</td>\n",
       "      <td>2020-06-30 00:29:00+03:00</td>\n",
       "      <td>18510</td>\n",
       "    </tr>\n",
       "    <tr>\n",
       "      <td>4</td>\n",
       "      <td>2.8</td>\n",
       "      <td>2020-06-30 00:25:30+03:00</td>\n",
       "      <td>True</td>\n",
       "      <td>2020-06-30 00:22:31+03:00</td>\n",
       "      <td>1872278030</td>\n",
       "      <td>31687</td>\n",
       "      <td>1126</td>\n",
       "      <td>2</td>\n",
       "      <td>2020-06-29</td>\n",
       "      <td>39803463</td>\n",
       "      <td>...</td>\n",
       "      <td>2020-06-29 23:20:00+03:00</td>\n",
       "      <td>34.851936</td>\n",
       "      <td>32.096805</td>\n",
       "      <td>0</td>\n",
       "      <td>0</td>\n",
       "      <td>3181839</td>\n",
       "      <td>31687</td>\n",
       "      <td>33</td>\n",
       "      <td>2020-06-30 00:40:00+03:00</td>\n",
       "      <td>18250</td>\n",
       "    </tr>\n",
       "    <tr>\n",
       "      <td>...</td>\n",
       "      <td>...</td>\n",
       "      <td>...</td>\n",
       "      <td>...</td>\n",
       "      <td>...</td>\n",
       "      <td>...</td>\n",
       "      <td>...</td>\n",
       "      <td>...</td>\n",
       "      <td>...</td>\n",
       "      <td>...</td>\n",
       "      <td>...</td>\n",
       "      <td>...</td>\n",
       "      <td>...</td>\n",
       "      <td>...</td>\n",
       "      <td>...</td>\n",
       "      <td>...</td>\n",
       "      <td>...</td>\n",
       "      <td>...</td>\n",
       "      <td>...</td>\n",
       "      <td>...</td>\n",
       "      <td>...</td>\n",
       "      <td>...</td>\n",
       "    </tr>\n",
       "    <tr>\n",
       "      <td>219</td>\n",
       "      <td>2.8</td>\n",
       "      <td>2020-06-30 00:25:30+03:00</td>\n",
       "      <td>True</td>\n",
       "      <td>2020-06-30 00:24:18+03:00</td>\n",
       "      <td>1872278355</td>\n",
       "      <td>21109</td>\n",
       "      <td>23378</td>\n",
       "      <td>2</td>\n",
       "      <td>2020-06-30</td>\n",
       "      <td>33629231</td>\n",
       "      <td>...</td>\n",
       "      <td>2020-06-30 00:20:00+03:00</td>\n",
       "      <td>34.776943</td>\n",
       "      <td>32.065422</td>\n",
       "      <td>0</td>\n",
       "      <td>0</td>\n",
       "      <td>8915033</td>\n",
       "      <td>21109</td>\n",
       "      <td>21</td>\n",
       "      <td>2020-06-30 00:38:00+03:00</td>\n",
       "      <td>1939</td>\n",
       "    </tr>\n",
       "    <tr>\n",
       "      <td>220</td>\n",
       "      <td>2.8</td>\n",
       "      <td>2020-06-30 00:25:30+03:00</td>\n",
       "      <td>True</td>\n",
       "      <td>2020-06-30 00:24:05+03:00</td>\n",
       "      <td>1872278356</td>\n",
       "      <td>21450</td>\n",
       "      <td>24799</td>\n",
       "      <td>2</td>\n",
       "      <td>2020-06-30</td>\n",
       "      <td>47699727</td>\n",
       "      <td>...</td>\n",
       "      <td>2020-06-30 00:05:00+03:00</td>\n",
       "      <td>34.840588</td>\n",
       "      <td>32.075520</td>\n",
       "      <td>0</td>\n",
       "      <td>0</td>\n",
       "      <td>9228301</td>\n",
       "      <td>21450</td>\n",
       "      <td>32</td>\n",
       "      <td>2020-06-30 00:42:00+03:00</td>\n",
       "      <td>8247</td>\n",
       "    </tr>\n",
       "    <tr>\n",
       "      <td>221</td>\n",
       "      <td>2.8</td>\n",
       "      <td>2020-06-30 00:25:30+03:00</td>\n",
       "      <td>True</td>\n",
       "      <td>2020-06-30 00:24:04+03:00</td>\n",
       "      <td>1872278357</td>\n",
       "      <td>20036</td>\n",
       "      <td>25958</td>\n",
       "      <td>2</td>\n",
       "      <td>2020-06-30</td>\n",
       "      <td>47708429</td>\n",
       "      <td>...</td>\n",
       "      <td>2020-06-30 00:20:00+03:00</td>\n",
       "      <td>34.834072</td>\n",
       "      <td>32.075706</td>\n",
       "      <td>0</td>\n",
       "      <td>0</td>\n",
       "      <td>9245601</td>\n",
       "      <td>20036</td>\n",
       "      <td>15</td>\n",
       "      <td>2020-06-30 00:34:00+03:00</td>\n",
       "      <td>1422</td>\n",
       "    </tr>\n",
       "    <tr>\n",
       "      <td>222</td>\n",
       "      <td>2.8</td>\n",
       "      <td>2020-06-30 00:25:30+03:00</td>\n",
       "      <td>True</td>\n",
       "      <td>2020-06-30 00:24:22+03:00</td>\n",
       "      <td>1872278358</td>\n",
       "      <td>60095</td>\n",
       "      <td>26285</td>\n",
       "      <td>2</td>\n",
       "      <td>2020-06-30</td>\n",
       "      <td>41191788</td>\n",
       "      <td>...</td>\n",
       "      <td>2020-06-30 00:00:00+03:00</td>\n",
       "      <td>35.158542</td>\n",
       "      <td>31.704923</td>\n",
       "      <td>0</td>\n",
       "      <td>0</td>\n",
       "      <td>5746687</td>\n",
       "      <td>60095</td>\n",
       "      <td>21</td>\n",
       "      <td>2020-06-30 00:31:00+03:00</td>\n",
       "      <td>17779</td>\n",
       "    </tr>\n",
       "    <tr>\n",
       "      <td>223</td>\n",
       "      <td>2.8</td>\n",
       "      <td>2020-06-30 00:25:30+03:00</td>\n",
       "      <td>True</td>\n",
       "      <td>2020-06-30 00:24:15+03:00</td>\n",
       "      <td>1872278360</td>\n",
       "      <td>3375</td>\n",
       "      <td>26285</td>\n",
       "      <td>2</td>\n",
       "      <td>2020-06-30</td>\n",
       "      <td>41191789</td>\n",
       "      <td>...</td>\n",
       "      <td>2020-06-30 00:20:00+03:00</td>\n",
       "      <td>35.221969</td>\n",
       "      <td>31.793426</td>\n",
       "      <td>0</td>\n",
       "      <td>0</td>\n",
       "      <td>5591287</td>\n",
       "      <td>3375</td>\n",
       "      <td>13</td>\n",
       "      <td>2020-06-30 00:32:00+03:00</td>\n",
       "      <td>1570</td>\n",
       "    </tr>\n",
       "  </tbody>\n",
       "</table>\n",
       "<p>224 rows × 23 columns</p>\n",
       "</div>"
      ],
      "text/plain": [
       "     _version        response_timestamp  status          recorded_at_time  \\\n",
       "0         2.8 2020-06-30 00:25:30+03:00    True 2020-06-30 00:24:21+03:00   \n",
       "1         2.8 2020-06-30 00:25:30+03:00    True 2020-06-30 00:20:00+03:00   \n",
       "2         2.8 2020-06-30 00:25:30+03:00    True 2020-06-30 00:24:20+03:00   \n",
       "3         2.8 2020-06-30 00:25:30+03:00    True 2020-06-30 00:24:10+03:00   \n",
       "4         2.8 2020-06-30 00:25:30+03:00    True 2020-06-30 00:22:31+03:00   \n",
       "..        ...                       ...     ...                       ...   \n",
       "219       2.8 2020-06-30 00:25:30+03:00    True 2020-06-30 00:24:18+03:00   \n",
       "220       2.8 2020-06-30 00:25:30+03:00    True 2020-06-30 00:24:05+03:00   \n",
       "221       2.8 2020-06-30 00:25:30+03:00    True 2020-06-30 00:24:04+03:00   \n",
       "222       2.8 2020-06-30 00:25:30+03:00    True 2020-06-30 00:24:22+03:00   \n",
       "223       2.8 2020-06-30 00:25:30+03:00    True 2020-06-30 00:24:15+03:00   \n",
       "\n",
       "     item_identifier  monitoring_ref  line_ref  direction_ref data_frame_ref  \\\n",
       "0         1872278026           39163       724              2     2020-06-30   \n",
       "1         1872278027           55605       866              1     2020-06-30   \n",
       "2         1872278028           58926       867              2     2020-06-30   \n",
       "3         1872278029           31051       979              1     2020-06-29   \n",
       "4         1872278030           31687      1126              2     2020-06-29   \n",
       "..               ...             ...       ...            ...            ...   \n",
       "219       1872278355           21109     23378              2     2020-06-30   \n",
       "220       1872278356           21450     24799              2     2020-06-30   \n",
       "221       1872278357           20036     25958              2     2020-06-30   \n",
       "222       1872278358           60095     26285              2     2020-06-30   \n",
       "223       1872278360            3375     26285              2     2020-06-30   \n",
       "\n",
       "     dated_vehicle_journey_ref  ... origin_aimed_departure_time  longitude  \\\n",
       "0                     47440672  ...   2020-06-30 00:15:00+03:00  34.838794   \n",
       "1                     47660063  ...   2020-06-30 00:25:00+03:00  35.292625   \n",
       "2                     47660597  ...   2020-06-30 00:05:00+03:00  35.331241   \n",
       "3                     47850298  ...   2020-06-29 23:40:00+03:00  34.882633   \n",
       "4                     39803463  ...   2020-06-29 23:20:00+03:00  34.851936   \n",
       "..                         ...  ...                         ...        ...   \n",
       "219                   33629231  ...   2020-06-30 00:20:00+03:00  34.776943   \n",
       "220                   47699727  ...   2020-06-30 00:05:00+03:00  34.840588   \n",
       "221                   47708429  ...   2020-06-30 00:20:00+03:00  34.834072   \n",
       "222                   41191788  ...   2020-06-30 00:00:00+03:00  35.158542   \n",
       "223                   41191789  ...   2020-06-30 00:20:00+03:00  35.221969   \n",
       "\n",
       "      latitude bearing  velocity  vehicle_ref  stop_point_ref  order  \\\n",
       "0    32.085620       0         0     47085601           39163     18   \n",
       "1    32.608253       0         0      5103762           55605     44   \n",
       "2    32.636123       0         0      5101562           58926     73   \n",
       "3    32.041503       0         0      8130984           31051     43   \n",
       "4    32.096805       0         0      3181839           31687     33   \n",
       "..         ...     ...       ...          ...             ...    ...   \n",
       "219  32.065422       0         0      8915033           21109     21   \n",
       "220  32.075520       0         0      9228301           21450     32   \n",
       "221  32.075706       0         0      9245601           20036     15   \n",
       "222  31.704923       0         0      5746687           60095     21   \n",
       "223  31.793426       0         0      5591287            3375     13   \n",
       "\n",
       "        expected_arrival_time  distance_from_stop  \n",
       "0   2020-06-30 00:50:00+03:00                2159  \n",
       "1   2020-06-30 00:53:00+03:00                   0  \n",
       "2   2020-06-30 00:52:00+03:00                9410  \n",
       "3   2020-06-30 00:29:00+03:00               18510  \n",
       "4   2020-06-30 00:40:00+03:00               18250  \n",
       "..                        ...                 ...  \n",
       "219 2020-06-30 00:38:00+03:00                1939  \n",
       "220 2020-06-30 00:42:00+03:00                8247  \n",
       "221 2020-06-30 00:34:00+03:00                1422  \n",
       "222 2020-06-30 00:31:00+03:00               17779  \n",
       "223 2020-06-30 00:32:00+03:00                1570  \n",
       "\n",
       "[224 rows x 23 columns]"
      ]
     },
     "execution_count": 192,
     "metadata": {},
     "output_type": "execute_result"
    }
   ],
   "source": [
    "read_siri_snap_normal('siri_snapshot/2020-06-30/00\\siri_snap_normal_2020-06-30T002501.json.gz')"
   ]
  },
  {
   "cell_type": "code",
   "execution_count": 216,
   "metadata": {
    "hidden": true
   },
   "outputs": [
    {
     "name": "stdout",
     "output_type": "stream",
     "text": [
      "siri_snapshot/2020-06-30/00\\siri_snap_normal_2020-06-30T000801.json.gz Expecting ',' delimiter: line 11 column 1 (char 420)\n",
      "siri_snapshot/2020-06-30/00\\siri_snap_normal_2020-06-30T000932.json.gz Expecting ',' delimiter: line 11 column 1 (char 420)\n",
      "siri_snapshot/2020-06-30/00\\siri_snap_normal_2020-06-30T001001.json.gz Expecting ',' delimiter: line 11 column 1 (char 420)\n",
      "siri_snapshot/2020-06-30/00\\siri_snap_normal_2020-06-30T001701.json.gz Expecting value: line 1 column 1 (char 0)\n",
      "siri_snapshot/2020-06-30/00\\siri_snap_normal_2020-06-30T001731.json.gz Expecting value: line 1 column 1 (char 0)\n",
      "siri_snapshot/2020-06-30/00\\siri_snap_normal_2020-06-30T001801.json.gz Expecting value: line 1 column 1 (char 0)\n",
      "siri_snapshot/2020-06-30/00\\siri_snap_normal_2020-06-30T001831.json.gz Expecting value: line 1 column 1 (char 0)\n",
      "siri_snapshot/2020-06-30/00\\siri_snap_normal_2020-06-30T001901.json.gz Expecting value: line 1 column 1 (char 0)\n",
      "siri_snapshot/2020-06-30/00\\siri_snap_normal_2020-06-30T001931.json.gz Expecting value: line 1 column 1 (char 0)\n",
      "siri_snapshot/2020-06-30/00\\siri_snap_normal_2020-06-30T002001.json.gz No objects to concatenate\n"
     ]
    },
    {
     "name": "stderr",
     "output_type": "stream",
     "text": [
      "C:\\Users\\dbare\\Anaconda3\\lib\\site-packages\\ipykernel_launcher.py:15: FutureWarning: Sorting because non-concatenation axis is not aligned. A future version\n",
      "of pandas will change to not sort by default.\n",
      "\n",
      "To accept the future behavior, pass 'sort=False'.\n",
      "\n",
      "To retain the current behavior and silence the warning, pass 'sort=True'.\n",
      "\n",
      "  from ipykernel import kernelapp as app\n"
     ]
    },
    {
     "name": "stdout",
     "output_type": "stream",
     "text": [
      "siri_snapshot/2020-06-30/02\\siri_snap_normal_2020-06-30T024232.json.gz No objects to concatenate\n",
      "siri_snapshot/2020-06-30/02\\siri_snap_normal_2020-06-30T024301.json.gz No objects to concatenate\n",
      "siri_snapshot/2020-06-30/02\\siri_snap_normal_2020-06-30T024331.json.gz No objects to concatenate\n",
      "siri_snapshot/2020-06-30/02\\siri_snap_normal_2020-06-30T024401.json.gz No objects to concatenate\n",
      "siri_snapshot/2020-06-30/02\\siri_snap_normal_2020-06-30T024431.json.gz No objects to concatenate\n",
      "siri_snapshot/2020-06-30/02\\siri_snap_normal_2020-06-30T024501.json.gz No objects to concatenate\n",
      "siri_snapshot/2020-06-30/02\\siri_snap_normal_2020-06-30T024532.json.gz No objects to concatenate\n",
      "siri_snapshot/2020-06-30/02\\siri_snap_normal_2020-06-30T024601.json.gz No objects to concatenate\n",
      "siri_snapshot/2020-06-30/02\\siri_snap_normal_2020-06-30T024631.json.gz No objects to concatenate\n",
      "siri_snapshot/2020-06-30/02\\siri_snap_normal_2020-06-30T024701.json.gz No objects to concatenate\n",
      "siri_snapshot/2020-06-30/02\\siri_snap_normal_2020-06-30T024731.json.gz No objects to concatenate\n",
      "siri_snapshot/2020-06-30/02\\siri_snap_normal_2020-06-30T024802.json.gz No objects to concatenate\n",
      "siri_snapshot/2020-06-30/02\\siri_snap_normal_2020-06-30T024832.json.gz No objects to concatenate\n",
      "siri_snapshot/2020-06-30/02\\siri_snap_normal_2020-06-30T024901.json.gz No objects to concatenate\n",
      "siri_snapshot/2020-06-30/02\\siri_snap_normal_2020-06-30T024932.json.gz No objects to concatenate\n",
      "siri_snapshot/2020-06-30/02\\siri_snap_normal_2020-06-30T025001.json.gz No objects to concatenate\n",
      "siri_snapshot/2020-06-30/02\\siri_snap_normal_2020-06-30T025031.json.gz No objects to concatenate\n",
      "siri_snapshot/2020-06-30/02\\siri_snap_normal_2020-06-30T025101.json.gz No objects to concatenate\n",
      "siri_snapshot/2020-06-30/02\\siri_snap_normal_2020-06-30T025131.json.gz No objects to concatenate\n",
      "siri_snapshot/2020-06-30/02\\siri_snap_normal_2020-06-30T025201.json.gz No objects to concatenate\n",
      "siri_snapshot/2020-06-30/02\\siri_snap_normal_2020-06-30T025232.json.gz No objects to concatenate\n",
      "siri_snapshot/2020-06-30/02\\siri_snap_normal_2020-06-30T025301.json.gz No objects to concatenate\n",
      "siri_snapshot/2020-06-30/02\\siri_snap_normal_2020-06-30T025332.json.gz No objects to concatenate\n",
      "siri_snapshot/2020-06-30/02\\siri_snap_normal_2020-06-30T025401.json.gz No objects to concatenate\n",
      "siri_snapshot/2020-06-30/02\\siri_snap_normal_2020-06-30T025431.json.gz No objects to concatenate\n",
      "siri_snapshot/2020-06-30/02\\siri_snap_normal_2020-06-30T025501.json.gz No objects to concatenate\n",
      "siri_snapshot/2020-06-30/02\\siri_snap_normal_2020-06-30T025531.json.gz No objects to concatenate\n",
      "siri_snapshot/2020-06-30/02\\siri_snap_normal_2020-06-30T025601.json.gz No objects to concatenate\n",
      "siri_snapshot/2020-06-30/02\\siri_snap_normal_2020-06-30T025632.json.gz No objects to concatenate\n",
      "siri_snapshot/2020-06-30/02\\siri_snap_normal_2020-06-30T025701.json.gz No objects to concatenate\n",
      "siri_snapshot/2020-06-30/02\\siri_snap_normal_2020-06-30T025731.json.gz No objects to concatenate\n",
      "siri_snapshot/2020-06-30/02\\siri_snap_normal_2020-06-30T025801.json.gz No objects to concatenate\n",
      "siri_snapshot/2020-06-30/02\\siri_snap_normal_2020-06-30T025831.json.gz No objects to concatenate\n",
      "siri_snapshot/2020-06-30/02\\siri_snap_normal_2020-06-30T025901.json.gz No objects to concatenate\n",
      "siri_snapshot/2020-06-30/02\\siri_snap_normal_2020-06-30T025931.json.gz No objects to concatenate\n",
      "siri_snapshot/2020-06-30/03\\siri_snap_normal_2020-06-30T030001.json.gz No objects to concatenate\n",
      "siri_snapshot/2020-06-30/03\\siri_snap_normal_2020-06-30T030032.json.gz No objects to concatenate\n",
      "siri_snapshot/2020-06-30/03\\siri_snap_normal_2020-06-30T030101.json.gz No objects to concatenate\n",
      "siri_snapshot/2020-06-30/03\\siri_snap_normal_2020-06-30T030132.json.gz No objects to concatenate\n",
      "siri_snapshot/2020-06-30/03\\siri_snap_normal_2020-06-30T030201.json.gz No objects to concatenate\n",
      "siri_snapshot/2020-06-30/03\\siri_snap_normal_2020-06-30T030231.json.gz No objects to concatenate\n",
      "siri_snapshot/2020-06-30/03\\siri_snap_normal_2020-06-30T030301.json.gz No objects to concatenate\n",
      "siri_snapshot/2020-06-30/03\\siri_snap_normal_2020-06-30T030332.json.gz No objects to concatenate\n",
      "siri_snapshot/2020-06-30/03\\siri_snap_normal_2020-06-30T030401.json.gz No objects to concatenate\n",
      "siri_snapshot/2020-06-30/03\\siri_snap_normal_2020-06-30T030432.json.gz No objects to concatenate\n",
      "siri_snapshot/2020-06-30/03\\siri_snap_normal_2020-06-30T030501.json.gz No objects to concatenate\n",
      "siri_snapshot/2020-06-30/03\\siri_snap_normal_2020-06-30T030531.json.gz No objects to concatenate\n",
      "siri_snapshot/2020-06-30/03\\siri_snap_normal_2020-06-30T030601.json.gz No objects to concatenate\n",
      "siri_snapshot/2020-06-30/03\\siri_snap_normal_2020-06-30T030631.json.gz No objects to concatenate\n",
      "siri_snapshot/2020-06-30/03\\siri_snap_normal_2020-06-30T030702.json.gz No objects to concatenate\n",
      "siri_snapshot/2020-06-30/03\\siri_snap_normal_2020-06-30T030732.json.gz No objects to concatenate\n",
      "siri_snapshot/2020-06-30/03\\siri_snap_normal_2020-06-30T030801.json.gz No objects to concatenate\n",
      "siri_snapshot/2020-06-30/03\\siri_snap_normal_2020-06-30T030832.json.gz No objects to concatenate\n",
      "siri_snapshot/2020-06-30/03\\siri_snap_normal_2020-06-30T030901.json.gz No objects to concatenate\n",
      "siri_snapshot/2020-06-30/03\\siri_snap_normal_2020-06-30T030931.json.gz No objects to concatenate\n",
      "siri_snapshot/2020-06-30/03\\siri_snap_normal_2020-06-30T031001.json.gz No objects to concatenate\n",
      "siri_snapshot/2020-06-30/03\\siri_snap_normal_2020-06-30T031031.json.gz No objects to concatenate\n",
      "siri_snapshot/2020-06-30/03\\siri_snap_normal_2020-06-30T031101.json.gz No objects to concatenate\n",
      "siri_snapshot/2020-06-30/03\\siri_snap_normal_2020-06-30T031132.json.gz No objects to concatenate\n",
      "siri_snapshot/2020-06-30/03\\siri_snap_normal_2020-06-30T031201.json.gz No objects to concatenate\n",
      "siri_snapshot/2020-06-30/03\\siri_snap_normal_2020-06-30T031231.json.gz No objects to concatenate\n",
      "siri_snapshot/2020-06-30/03\\siri_snap_normal_2020-06-30T031301.json.gz No objects to concatenate\n",
      "siri_snapshot/2020-06-30/03\\siri_snap_normal_2020-06-30T031331.json.gz No objects to concatenate\n",
      "siri_snapshot/2020-06-30/03\\siri_snap_normal_2020-06-30T031402.json.gz No objects to concatenate\n",
      "siri_snapshot/2020-06-30/03\\siri_snap_normal_2020-06-30T031432.json.gz No objects to concatenate\n",
      "siri_snapshot/2020-06-30/03\\siri_snap_normal_2020-06-30T031501.json.gz No objects to concatenate\n",
      "siri_snapshot/2020-06-30/03\\siri_snap_normal_2020-06-30T031532.json.gz No objects to concatenate\n",
      "siri_snapshot/2020-06-30/03\\siri_snap_normal_2020-06-30T031601.json.gz No objects to concatenate\n",
      "siri_snapshot/2020-06-30/03\\siri_snap_normal_2020-06-30T031631.json.gz No objects to concatenate\n",
      "siri_snapshot/2020-06-30/03\\siri_snap_normal_2020-06-30T031701.json.gz No objects to concatenate\n",
      "siri_snapshot/2020-06-30/03\\siri_snap_normal_2020-06-30T031731.json.gz No objects to concatenate\n",
      "siri_snapshot/2020-06-30/03\\siri_snap_normal_2020-06-30T031801.json.gz No objects to concatenate\n",
      "siri_snapshot/2020-06-30/03\\siri_snap_normal_2020-06-30T031832.json.gz No objects to concatenate\n",
      "siri_snapshot/2020-06-30/03\\siri_snap_normal_2020-06-30T031901.json.gz No objects to concatenate\n",
      "siri_snapshot/2020-06-30/03\\siri_snap_normal_2020-06-30T031932.json.gz No objects to concatenate\n",
      "siri_snapshot/2020-06-30/03\\siri_snap_normal_2020-06-30T032001.json.gz No objects to concatenate\n",
      "siri_snapshot/2020-06-30/03\\siri_snap_normal_2020-06-30T032031.json.gz No objects to concatenate\n",
      "siri_snapshot/2020-06-30/03\\siri_snap_normal_2020-06-30T032101.json.gz No objects to concatenate\n",
      "siri_snapshot/2020-06-30/03\\siri_snap_normal_2020-06-30T032131.json.gz No objects to concatenate\n",
      "siri_snapshot/2020-06-30/03\\siri_snap_normal_2020-06-30T032201.json.gz No objects to concatenate\n",
      "siri_snapshot/2020-06-30/03\\siri_snap_normal_2020-06-30T032232.json.gz No objects to concatenate\n",
      "siri_snapshot/2020-06-30/03\\siri_snap_normal_2020-06-30T032301.json.gz No objects to concatenate\n",
      "siri_snapshot/2020-06-30/03\\siri_snap_normal_2020-06-30T032331.json.gz No objects to concatenate\n",
      "siri_snapshot/2020-06-30/03\\siri_snap_normal_2020-06-30T032401.json.gz No objects to concatenate\n",
      "siri_snapshot/2020-06-30/03\\siri_snap_normal_2020-06-30T032431.json.gz No objects to concatenate\n",
      "siri_snapshot/2020-06-30/03\\siri_snap_normal_2020-06-30T032501.json.gz No objects to concatenate\n",
      "siri_snapshot/2020-06-30/03\\siri_snap_normal_2020-06-30T032532.json.gz No objects to concatenate\n",
      "siri_snapshot/2020-06-30/03\\siri_snap_normal_2020-06-30T032601.json.gz No objects to concatenate\n",
      "siri_snapshot/2020-06-30/03\\siri_snap_normal_2020-06-30T032632.json.gz No objects to concatenate\n",
      "siri_snapshot/2020-06-30/03\\siri_snap_normal_2020-06-30T032701.json.gz No objects to concatenate\n",
      "siri_snapshot/2020-06-30/03\\siri_snap_normal_2020-06-30T032731.json.gz No objects to concatenate\n",
      "siri_snapshot/2020-06-30/03\\siri_snap_normal_2020-06-30T032801.json.gz No objects to concatenate\n",
      "siri_snapshot/2020-06-30/03\\siri_snap_normal_2020-06-30T032831.json.gz No objects to concatenate\n",
      "siri_snapshot/2020-06-30/03\\siri_snap_normal_2020-06-30T032901.json.gz No objects to concatenate\n",
      "siri_snapshot/2020-06-30/03\\siri_snap_normal_2020-06-30T032932.json.gz No objects to concatenate\n",
      "siri_snapshot/2020-06-30/03\\siri_snap_normal_2020-06-30T033001.json.gz No objects to concatenate\n",
      "siri_snapshot/2020-06-30/03\\siri_snap_normal_2020-06-30T033032.json.gz No objects to concatenate\n",
      "siri_snapshot/2020-06-30/03\\siri_snap_normal_2020-06-30T033101.json.gz No objects to concatenate\n",
      "siri_snapshot/2020-06-30/03\\siri_snap_normal_2020-06-30T033131.json.gz No objects to concatenate\n",
      "siri_snapshot/2020-06-30/03\\siri_snap_normal_2020-06-30T033201.json.gz No objects to concatenate\n",
      "siri_snapshot/2020-06-30/03\\siri_snap_normal_2020-06-30T033231.json.gz No objects to concatenate\n",
      "siri_snapshot/2020-06-30/03\\siri_snap_normal_2020-06-30T033301.json.gz No objects to concatenate\n",
      "siri_snapshot/2020-06-30/03\\siri_snap_normal_2020-06-30T033332.json.gz No objects to concatenate\n",
      "siri_snapshot/2020-06-30/03\\siri_snap_normal_2020-06-30T033401.json.gz No objects to concatenate\n",
      "siri_snapshot/2020-06-30/03\\siri_snap_normal_2020-06-30T033432.json.gz No objects to concatenate\n",
      "siri_snapshot/2020-06-30/03\\siri_snap_normal_2020-06-30T033501.json.gz No objects to concatenate\n",
      "siri_snapshot/2020-06-30/03\\siri_snap_normal_2020-06-30T033531.json.gz No objects to concatenate\n",
      "siri_snapshot/2020-06-30/03\\siri_snap_normal_2020-06-30T033601.json.gz No objects to concatenate\n",
      "siri_snapshot/2020-06-30/03\\siri_snap_normal_2020-06-30T033631.json.gz No objects to concatenate\n",
      "siri_snapshot/2020-06-30/03\\siri_snap_normal_2020-06-30T033701.json.gz No objects to concatenate\n",
      "siri_snapshot/2020-06-30/03\\siri_snap_normal_2020-06-30T033732.json.gz No objects to concatenate\n",
      "siri_snapshot/2020-06-30/03\\siri_snap_normal_2020-06-30T033801.json.gz No objects to concatenate\n",
      "siri_snapshot/2020-06-30/03\\siri_snap_normal_2020-06-30T033831.json.gz No objects to concatenate\n",
      "siri_snapshot/2020-06-30/03\\siri_snap_normal_2020-06-30T033901.json.gz No objects to concatenate\n",
      "siri_snapshot/2020-06-30/03\\siri_snap_normal_2020-06-30T033931.json.gz No objects to concatenate\n",
      "siri_snapshot/2020-06-30/03\\siri_snap_normal_2020-06-30T034001.json.gz No objects to concatenate\n",
      "siri_snapshot/2020-06-30/03\\siri_snap_normal_2020-06-30T034032.json.gz No objects to concatenate\n",
      "siri_snapshot/2020-06-30/03\\siri_snap_normal_2020-06-30T034101.json.gz No objects to concatenate\n",
      "siri_snapshot/2020-06-30/03\\siri_snap_normal_2020-06-30T034132.json.gz No objects to concatenate\n",
      "siri_snapshot/2020-06-30/03\\siri_snap_normal_2020-06-30T034201.json.gz No objects to concatenate\n",
      "siri_snapshot/2020-06-30/03\\siri_snap_normal_2020-06-30T034231.json.gz No objects to concatenate\n",
      "siri_snapshot/2020-06-30/03\\siri_snap_normal_2020-06-30T034301.json.gz No objects to concatenate\n",
      "siri_snapshot/2020-06-30/03\\siri_snap_normal_2020-06-30T034331.json.gz No objects to concatenate\n",
      "siri_snapshot/2020-06-30/03\\siri_snap_normal_2020-06-30T034401.json.gz No objects to concatenate\n",
      "siri_snapshot/2020-06-30/03\\siri_snap_normal_2020-06-30T034432.json.gz No objects to concatenate\n",
      "siri_snapshot/2020-06-30/03\\siri_snap_normal_2020-06-30T034501.json.gz No objects to concatenate\n",
      "siri_snapshot/2020-06-30/03\\siri_snap_normal_2020-06-30T034531.json.gz No objects to concatenate\n",
      "siri_snapshot/2020-06-30/03\\siri_snap_normal_2020-06-30T034601.json.gz No objects to concatenate\n",
      "siri_snapshot/2020-06-30/03\\siri_snap_normal_2020-06-30T034631.json.gz No objects to concatenate\n",
      "siri_snapshot/2020-06-30/03\\siri_snap_normal_2020-06-30T034701.json.gz No objects to concatenate\n",
      "siri_snapshot/2020-06-30/03\\siri_snap_normal_2020-06-30T034732.json.gz No objects to concatenate\n",
      "siri_snapshot/2020-06-30/03\\siri_snap_normal_2020-06-30T034801.json.gz No objects to concatenate\n",
      "siri_snapshot/2020-06-30/03\\siri_snap_normal_2020-06-30T034832.json.gz No objects to concatenate\n",
      "siri_snapshot/2020-06-30/03\\siri_snap_normal_2020-06-30T034901.json.gz No objects to concatenate\n",
      "siri_snapshot/2020-06-30/03\\siri_snap_normal_2020-06-30T034931.json.gz No objects to concatenate\n",
      "siri_snapshot/2020-06-30/03\\siri_snap_normal_2020-06-30T035001.json.gz No objects to concatenate\n",
      "siri_snapshot/2020-06-30/03\\siri_snap_normal_2020-06-30T035031.json.gz No objects to concatenate\n",
      "siri_snapshot/2020-06-30/03\\siri_snap_normal_2020-06-30T035101.json.gz No objects to concatenate\n",
      "siri_snapshot/2020-06-30/03\\siri_snap_normal_2020-06-30T035132.json.gz No objects to concatenate\n",
      "siri_snapshot/2020-06-30/03\\siri_snap_normal_2020-06-30T035201.json.gz No objects to concatenate\n",
      "siri_snapshot/2020-06-30/03\\siri_snap_normal_2020-06-30T035231.json.gz No objects to concatenate\n",
      "siri_snapshot/2020-06-30/03\\siri_snap_normal_2020-06-30T035301.json.gz No objects to concatenate\n",
      "siri_snapshot/2020-06-30/03\\siri_snap_normal_2020-06-30T035331.json.gz No objects to concatenate\n",
      "siri_snapshot/2020-06-30/03\\siri_snap_normal_2020-06-30T035401.json.gz No objects to concatenate\n",
      "siri_snapshot/2020-06-30/03\\siri_snap_normal_2020-06-30T035432.json.gz No objects to concatenate\n",
      "siri_snapshot/2020-06-30/03\\siri_snap_normal_2020-06-30T035501.json.gz No objects to concatenate\n",
      "siri_snapshot/2020-06-30/03\\siri_snap_normal_2020-06-30T035532.json.gz No objects to concatenate\n",
      "siri_snapshot/2020-06-30/03\\siri_snap_normal_2020-06-30T035601.json.gz No objects to concatenate\n",
      "siri_snapshot/2020-06-30/03\\siri_snap_normal_2020-06-30T035631.json.gz No objects to concatenate\n",
      "siri_snapshot/2020-06-30/03\\siri_snap_normal_2020-06-30T035701.json.gz No objects to concatenate\n",
      "siri_snapshot/2020-06-30/03\\siri_snap_normal_2020-06-30T035731.json.gz No objects to concatenate\n",
      "siri_snapshot/2020-06-30/03\\siri_snap_normal_2020-06-30T035801.json.gz No objects to concatenate\n",
      "siri_snapshot/2020-06-30/03\\siri_snap_normal_2020-06-30T035832.json.gz No objects to concatenate\n",
      "siri_snapshot/2020-06-30/03\\siri_snap_normal_2020-06-30T035901.json.gz No objects to concatenate\n",
      "siri_snapshot/2020-06-30/03\\siri_snap_normal_2020-06-30T035931.json.gz No objects to concatenate\n",
      "No files in 03\n",
      "siri_snapshot/2020-06-30/04\\siri_snap_normal_2020-06-30T040001.json.gz No objects to concatenate\n",
      "siri_snapshot/2020-06-30/04\\siri_snap_normal_2020-06-30T040031.json.gz No objects to concatenate\n",
      "siri_snapshot/2020-06-30/04\\siri_snap_normal_2020-06-30T040101.json.gz No objects to concatenate\n",
      "siri_snapshot/2020-06-30/04\\siri_snap_normal_2020-06-30T040131.json.gz No objects to concatenate\n",
      "siri_snapshot/2020-06-30/04\\siri_snap_normal_2020-06-30T040201.json.gz No objects to concatenate\n",
      "siri_snapshot/2020-06-30/04\\siri_snap_normal_2020-06-30T040232.json.gz No objects to concatenate\n",
      "siri_snapshot/2020-06-30/04\\siri_snap_normal_2020-06-30T040301.json.gz No objects to concatenate\n",
      "siri_snapshot/2020-06-30/04\\siri_snap_normal_2020-06-30T040332.json.gz No objects to concatenate\n",
      "siri_snapshot/2020-06-30/04\\siri_snap_normal_2020-06-30T040401.json.gz No objects to concatenate\n",
      "siri_snapshot/2020-06-30/04\\siri_snap_normal_2020-06-30T040432.json.gz No objects to concatenate\n",
      "siri_snapshot/2020-06-30/04\\siri_snap_normal_2020-06-30T040501.json.gz No objects to concatenate\n",
      "siri_snapshot/2020-06-30/04\\siri_snap_normal_2020-06-30T040531.json.gz No objects to concatenate\n",
      "siri_snapshot/2020-06-30/04\\siri_snap_normal_2020-06-30T040601.json.gz No objects to concatenate\n",
      "siri_snapshot/2020-06-30/04\\siri_snap_normal_2020-06-30T040632.json.gz No objects to concatenate\n",
      "siri_snapshot/2020-06-30/04\\siri_snap_normal_2020-06-30T040701.json.gz No objects to concatenate\n",
      "siri_snapshot/2020-06-30/04\\siri_snap_normal_2020-06-30T040732.json.gz No objects to concatenate\n",
      "siri_snapshot/2020-06-30/04\\siri_snap_normal_2020-06-30T040801.json.gz No objects to concatenate\n",
      "siri_snapshot/2020-06-30/04\\siri_snap_normal_2020-06-30T040831.json.gz No objects to concatenate\n",
      "siri_snapshot/2020-06-30/04\\siri_snap_normal_2020-06-30T040901.json.gz No objects to concatenate\n",
      "siri_snapshot/2020-06-30/04\\siri_snap_normal_2020-06-30T040931.json.gz No objects to concatenate\n",
      "siri_snapshot/2020-06-30/04\\siri_snap_normal_2020-06-30T041001.json.gz No objects to concatenate\n",
      "siri_snapshot/2020-06-30/04\\siri_snap_normal_2020-06-30T041032.json.gz No objects to concatenate\n",
      "siri_snapshot/2020-06-30/04\\siri_snap_normal_2020-06-30T041101.json.gz No objects to concatenate\n",
      "siri_snapshot/2020-06-30/04\\siri_snap_normal_2020-06-30T041131.json.gz No objects to concatenate\n",
      "siri_snapshot/2020-06-30/04\\siri_snap_normal_2020-06-30T041201.json.gz No objects to concatenate\n",
      "siri_snapshot/2020-06-30/04\\siri_snap_normal_2020-06-30T041231.json.gz No objects to concatenate\n",
      "siri_snapshot/2020-06-30/04\\siri_snap_normal_2020-06-30T041301.json.gz No objects to concatenate\n",
      "siri_snapshot/2020-06-30/04\\siri_snap_normal_2020-06-30T041331.json.gz No objects to concatenate\n",
      "siri_snapshot/2020-06-30/23\\siri_snap_normal_2020-06-30T235831.json.gz Expecting value: line 1 column 1 (char 0)\n",
      "siri_snapshot/2020-06-30/23\\siri_snap_normal_2020-06-30T235901.json.gz Expecting value: line 1 column 1 (char 0)\n",
      "siri_snapshot/2020-06-30/23\\siri_snap_normal_2020-06-30T235931.json.gz Expecting value: line 1 column 1 (char 0)\n"
     ]
    },
    {
     "name": "stderr",
     "output_type": "stream",
     "text": [
      "C:\\Users\\dbare\\Anaconda3\\lib\\site-packages\\ipykernel_launcher.py:19: FutureWarning: Sorting because non-concatenation axis is not aligned. A future version\n",
      "of pandas will change to not sort by default.\n",
      "\n",
      "To accept the future behavior, pass 'sort=False'.\n",
      "\n",
      "To retain the current behavior and silence the warning, pass 'sort=True'.\n",
      "\n"
     ]
    },
    {
     "data": {
      "text/html": [
       "<div>\n",
       "<style scoped>\n",
       "    .dataframe tbody tr th:only-of-type {\n",
       "        vertical-align: middle;\n",
       "    }\n",
       "\n",
       "    .dataframe tbody tr th {\n",
       "        vertical-align: top;\n",
       "    }\n",
       "\n",
       "    .dataframe thead th {\n",
       "        text-align: right;\n",
       "    }\n",
       "</style>\n",
       "<table border=\"1\" class=\"dataframe\">\n",
       "  <thead>\n",
       "    <tr style=\"text-align: right;\">\n",
       "      <th></th>\n",
       "      <th>_version</th>\n",
       "      <th>aimed_arrival_time</th>\n",
       "      <th>arrival_platform_name</th>\n",
       "      <th>arrival_status</th>\n",
       "      <th>bearing</th>\n",
       "      <th>data_frame_ref</th>\n",
       "      <th>dated_vehicle_journey_ref</th>\n",
       "      <th>destination_ref</th>\n",
       "      <th>direction_ref</th>\n",
       "      <th>distance_from_stop</th>\n",
       "      <th>...</th>\n",
       "      <th>operator_ref</th>\n",
       "      <th>order</th>\n",
       "      <th>origin_aimed_departure_time</th>\n",
       "      <th>published_line_name</th>\n",
       "      <th>recorded_at_time</th>\n",
       "      <th>response_timestamp</th>\n",
       "      <th>status</th>\n",
       "      <th>stop_point_ref</th>\n",
       "      <th>vehicle_ref</th>\n",
       "      <th>velocity</th>\n",
       "    </tr>\n",
       "  </thead>\n",
       "  <tbody>\n",
       "    <tr>\n",
       "      <td>0</td>\n",
       "      <td>2.8</td>\n",
       "      <td>2020-06-30 00:15:00+03:00</td>\n",
       "      <td>-1.0</td>\n",
       "      <td>nan</td>\n",
       "      <td>0</td>\n",
       "      <td>2020-06-30</td>\n",
       "      <td>47839819</td>\n",
       "      <td>19987</td>\n",
       "      <td>2</td>\n",
       "      <td>0</td>\n",
       "      <td>...</td>\n",
       "      <td>25</td>\n",
       "      <td>7</td>\n",
       "      <td>2020-06-30 00:05:00+03:00</td>\n",
       "      <td>320</td>\n",
       "      <td>2020-06-29 19:15:25+03:00</td>\n",
       "      <td>2020-06-30 00:01:00+03:00</td>\n",
       "      <td>True</td>\n",
       "      <td>37779</td>\n",
       "      <td>7292252</td>\n",
       "      <td>0</td>\n",
       "    </tr>\n",
       "    <tr>\n",
       "      <td>1</td>\n",
       "      <td>2.8</td>\n",
       "      <td>NaT</td>\n",
       "      <td>-1.0</td>\n",
       "      <td>nan</td>\n",
       "      <td>0</td>\n",
       "      <td>2020-06-30</td>\n",
       "      <td>47440551</td>\n",
       "      <td>26475</td>\n",
       "      <td>1</td>\n",
       "      <td>0</td>\n",
       "      <td>...</td>\n",
       "      <td>15</td>\n",
       "      <td>34</td>\n",
       "      <td>2020-06-30 00:00:00+03:00</td>\n",
       "      <td>613</td>\n",
       "      <td>2020-06-29 23:55:00+03:00</td>\n",
       "      <td>2020-06-30 00:01:00+03:00</td>\n",
       "      <td>True</td>\n",
       "      <td>20058</td>\n",
       "      <td>47084701</td>\n",
       "      <td>0</td>\n",
       "    </tr>\n",
       "    <tr>\n",
       "      <td>2</td>\n",
       "      <td>2.8</td>\n",
       "      <td>NaT</td>\n",
       "      <td>-1.0</td>\n",
       "      <td>nan</td>\n",
       "      <td>0</td>\n",
       "      <td>2020-06-29</td>\n",
       "      <td>47440711</td>\n",
       "      <td>39657</td>\n",
       "      <td>2</td>\n",
       "      <td>3128</td>\n",
       "      <td>...</td>\n",
       "      <td>15</td>\n",
       "      <td>20</td>\n",
       "      <td>2020-06-29 23:45:00+03:00</td>\n",
       "      <td>613</td>\n",
       "      <td>2020-06-29 23:59:14+03:00</td>\n",
       "      <td>2020-06-30 00:01:00+03:00</td>\n",
       "      <td>True</td>\n",
       "      <td>39188</td>\n",
       "      <td>47090501</td>\n",
       "      <td>0</td>\n",
       "    </tr>\n",
       "    <tr>\n",
       "      <td>3</td>\n",
       "      <td>2.8</td>\n",
       "      <td>NaT</td>\n",
       "      <td>-1.0</td>\n",
       "      <td>nan</td>\n",
       "      <td>0</td>\n",
       "      <td>2020-06-29</td>\n",
       "      <td>47660058</td>\n",
       "      <td>55151</td>\n",
       "      <td>1</td>\n",
       "      <td>2503</td>\n",
       "      <td>...</td>\n",
       "      <td>16</td>\n",
       "      <td>47</td>\n",
       "      <td>2020-06-29 23:55:00+03:00</td>\n",
       "      <td>13</td>\n",
       "      <td>2020-06-29 23:58:21+03:00</td>\n",
       "      <td>2020-06-30 00:01:00+03:00</td>\n",
       "      <td>True</td>\n",
       "      <td>55141</td>\n",
       "      <td>65854801</td>\n",
       "      <td>0</td>\n",
       "    </tr>\n",
       "    <tr>\n",
       "      <td>4</td>\n",
       "      <td>2.8</td>\n",
       "      <td>2020-06-30 00:29:00+03:00</td>\n",
       "      <td>-1.0</td>\n",
       "      <td>nan</td>\n",
       "      <td>0</td>\n",
       "      <td>2020-06-30</td>\n",
       "      <td>47660597</td>\n",
       "      <td>59556</td>\n",
       "      <td>2</td>\n",
       "      <td>0</td>\n",
       "      <td>...</td>\n",
       "      <td>16</td>\n",
       "      <td>45</td>\n",
       "      <td>2020-06-30 00:05:00+03:00</td>\n",
       "      <td>13</td>\n",
       "      <td>2020-06-29 04:02:18+03:00</td>\n",
       "      <td>2020-06-30 00:01:00+03:00</td>\n",
       "      <td>True</td>\n",
       "      <td>55052</td>\n",
       "      <td>5101562</td>\n",
       "      <td>0</td>\n",
       "    </tr>\n",
       "  </tbody>\n",
       "</table>\n",
       "<p>5 rows × 26 columns</p>\n",
       "</div>"
      ],
      "text/plain": [
       "   _version        aimed_arrival_time  arrival_platform_name arrival_status  \\\n",
       "0       2.8 2020-06-30 00:15:00+03:00                   -1.0            nan   \n",
       "1       2.8                       NaT                   -1.0            nan   \n",
       "2       2.8                       NaT                   -1.0            nan   \n",
       "3       2.8                       NaT                   -1.0            nan   \n",
       "4       2.8 2020-06-30 00:29:00+03:00                   -1.0            nan   \n",
       "\n",
       "   bearing data_frame_ref  dated_vehicle_journey_ref  destination_ref  \\\n",
       "0        0     2020-06-30                   47839819            19987   \n",
       "1        0     2020-06-30                   47440551            26475   \n",
       "2        0     2020-06-29                   47440711            39657   \n",
       "3        0     2020-06-29                   47660058            55151   \n",
       "4        0     2020-06-30                   47660597            59556   \n",
       "\n",
       "   direction_ref  distance_from_stop  ... operator_ref  order  \\\n",
       "0              2                   0  ...           25      7   \n",
       "1              1                   0  ...           15     34   \n",
       "2              2                3128  ...           15     20   \n",
       "3              1                2503  ...           16     47   \n",
       "4              2                   0  ...           16     45   \n",
       "\n",
       "   origin_aimed_departure_time  published_line_name          recorded_at_time  \\\n",
       "0    2020-06-30 00:05:00+03:00                  320 2020-06-29 19:15:25+03:00   \n",
       "1    2020-06-30 00:00:00+03:00                  613 2020-06-29 23:55:00+03:00   \n",
       "2    2020-06-29 23:45:00+03:00                  613 2020-06-29 23:59:14+03:00   \n",
       "3    2020-06-29 23:55:00+03:00                   13 2020-06-29 23:58:21+03:00   \n",
       "4    2020-06-30 00:05:00+03:00                   13 2020-06-29 04:02:18+03:00   \n",
       "\n",
       "         response_timestamp  status  stop_point_ref vehicle_ref velocity  \n",
       "0 2020-06-30 00:01:00+03:00    True           37779     7292252        0  \n",
       "1 2020-06-30 00:01:00+03:00    True           20058    47084701        0  \n",
       "2 2020-06-30 00:01:00+03:00    True           39188    47090501        0  \n",
       "3 2020-06-30 00:01:00+03:00    True           55141    65854801        0  \n",
       "4 2020-06-30 00:01:00+03:00    True           55052     5101562        0  \n",
       "\n",
       "[5 rows x 26 columns]"
      ]
     },
     "execution_count": 216,
     "metadata": {},
     "output_type": "execute_result"
    }
   ],
   "source": [
    "import os\n",
    "dfs = []\n",
    "for folder in os.scandir('siri_snapshot/2020-06-30/'):\n",
    "    if not os.path.isdir(folder):\n",
    "        continue\n",
    "    fold_dfs = []\n",
    "    for file in sorted(os.scandir(folder), key=lambda e: e.name):\n",
    "        if 'normal' in file.name and file.name.endswith('.json.gz'):\n",
    "            try:\n",
    "                fold_dfs.append(read_siri_snap_normal(file.path))\n",
    "            except Exception as e:\n",
    "                print(file.path, e)\n",
    "                \n",
    "    if fold_dfs:\n",
    "        dfs.append(pd.concat(fold_dfs))\n",
    "    else:\n",
    "        print('No files in', folder.name)\n",
    "    \n",
    "df = pd.concat(dfs)\n",
    "df.head()"
   ]
  },
  {
   "cell_type": "code",
   "execution_count": 217,
   "metadata": {
    "hidden": true
   },
   "outputs": [
    {
     "data": {
      "text/plain": [
       "(6487190, 26)"
      ]
     },
     "execution_count": 217,
     "metadata": {},
     "output_type": "execute_result"
    }
   ],
   "source": [
    "df.shape"
   ]
  },
  {
   "cell_type": "code",
   "execution_count": 218,
   "metadata": {
    "hidden": true
   },
   "outputs": [
    {
     "data": {
      "text/plain": [
       "_version                                                     float64\n",
       "aimed_arrival_time             datetime64[ns, pytz.FixedOffset(180)]\n",
       "arrival_platform_name                                        float64\n",
       "arrival_status                                                object\n",
       "bearing                                                        int32\n",
       "data_frame_ref                                                object\n",
       "dated_vehicle_journey_ref                                      int32\n",
       "destination_ref                                                int32\n",
       "direction_ref                                                  int32\n",
       "distance_from_stop                                             int32\n",
       "expected_arrival_time          datetime64[ns, pytz.FixedOffset(180)]\n",
       "item_identifier                                                int32\n",
       "latitude                                                     float64\n",
       "line_ref                                                       int32\n",
       "longitude                                                    float64\n",
       "monitoring_ref                                                 int32\n",
       "operator_ref                                                   int32\n",
       "order                                                          int32\n",
       "origin_aimed_departure_time                                   object\n",
       "published_line_name                                           object\n",
       "recorded_at_time               datetime64[ns, pytz.FixedOffset(180)]\n",
       "response_timestamp             datetime64[ns, pytz.FixedOffset(180)]\n",
       "status                                                          bool\n",
       "stop_point_ref                                                 int32\n",
       "vehicle_ref                                                    int32\n",
       "velocity                                                       int32\n",
       "dtype: object"
      ]
     },
     "execution_count": 218,
     "metadata": {},
     "output_type": "execute_result"
    }
   ],
   "source": [
    "df.dtypes"
   ]
  },
  {
   "cell_type": "code",
   "execution_count": 219,
   "metadata": {
    "hidden": true
   },
   "outputs": [],
   "source": [
    "unsigned = ['item_identifier', 'direction_ref', 'line_ref', 'item_identifier', 'monitoring_ref', \n",
    "            'dated_vehicle_journey_ref', 'operator_ref', 'destination_ref', 'bearing', 'velocity', \n",
    "            'vehicle_ref', 'stop_point_ref', 'order', 'distance_from_stop']\n",
    "downcast = ['longitude', 'latitude', 'arrival_platform_name', '_version']\n",
    "def castings(df):\n",
    "    for c in unsigned:\n",
    "        df[unsigned] = df[unsigned].apply(pd.to_numeric, downcast='unsigned')\n",
    "\n",
    "        df[downcast] = df[downcast].apply(pd.to_numeric, downcast='float')\n",
    "\n",
    "castings(df)"
   ]
  },
  {
   "cell_type": "code",
   "execution_count": 220,
   "metadata": {
    "collapsed": true,
    "hidden": true
   },
   "outputs": [
    {
     "data": {
      "text/plain": [
       "_version                                                     float32\n",
       "aimed_arrival_time             datetime64[ns, pytz.FixedOffset(180)]\n",
       "arrival_platform_name                                        float32\n",
       "arrival_status                                                object\n",
       "bearing                                                       uint16\n",
       "data_frame_ref                                                object\n",
       "dated_vehicle_journey_ref                                     uint32\n",
       "destination_ref                                               uint16\n",
       "direction_ref                                                  uint8\n",
       "distance_from_stop                                            uint32\n",
       "expected_arrival_time          datetime64[ns, pytz.FixedOffset(180)]\n",
       "item_identifier                                               uint32\n",
       "latitude                                                     float32\n",
       "line_ref                                                      uint16\n",
       "longitude                                                    float32\n",
       "monitoring_ref                                                uint16\n",
       "operator_ref                                                   uint8\n",
       "order                                                          uint8\n",
       "origin_aimed_departure_time                                   object\n",
       "published_line_name                                           object\n",
       "recorded_at_time               datetime64[ns, pytz.FixedOffset(180)]\n",
       "response_timestamp             datetime64[ns, pytz.FixedOffset(180)]\n",
       "status                                                          bool\n",
       "stop_point_ref                                                uint16\n",
       "vehicle_ref                                                   uint32\n",
       "velocity                                                       uint8\n",
       "dtype: object"
      ]
     },
     "execution_count": 220,
     "metadata": {},
     "output_type": "execute_result"
    }
   ],
   "source": [
    "df.dtypes"
   ]
  },
  {
   "cell_type": "code",
   "execution_count": 221,
   "metadata": {
    "hidden": true,
    "scrolled": true
   },
   "outputs": [
    {
     "data": {
      "text/plain": [
       "Index                           51897520\n",
       "_version                        25948760\n",
       "aimed_arrival_time              51897520\n",
       "arrival_platform_name           25948760\n",
       "arrival_status                 389117867\n",
       "bearing                         12974380\n",
       "data_frame_ref                 434641730\n",
       "dated_vehicle_journey_ref       25948760\n",
       "destination_ref                 12974380\n",
       "direction_ref                    6487190\n",
       "distance_from_stop              25948760\n",
       "expected_arrival_time           51897520\n",
       "item_identifier                 25948760\n",
       "latitude                        25948760\n",
       "line_ref                        12974380\n",
       "longitude                       25948760\n",
       "monitoring_ref                  12974380\n",
       "operator_ref                     6487190\n",
       "order                            6487190\n",
       "origin_aimed_departure_time    701622320\n",
       "published_line_name            392365282\n",
       "recorded_at_time                51897520\n",
       "response_timestamp              51897520\n",
       "status                           6487190\n",
       "stop_point_ref                  12974380\n",
       "vehicle_ref                     25948760\n",
       "velocity                         6487190\n",
       "dtype: int64"
      ]
     },
     "execution_count": 221,
     "metadata": {},
     "output_type": "execute_result"
    }
   ],
   "source": [
    "df.memory_usage(deep=True)"
   ]
  },
  {
   "cell_type": "markdown",
   "metadata": {
    "heading_collapsed": true
   },
   "source": [
    "## Save files & counts"
   ]
  },
  {
   "cell_type": "raw",
   "metadata": {
    "hidden": true
   },
   "source": [
    "df.to_hdf('siri_snapshot/siri_snap_normal_2020-06-30.hdf', key='normal')"
   ]
  },
  {
   "cell_type": "raw",
   "metadata": {
    "hidden": true
   },
   "source": [
    "df.reset_index(drop=True).to_feather('siri_snapshot/siri_snap_normal_2020-06-30.feather')"
   ]
  },
  {
   "cell_type": "code",
   "execution_count": 222,
   "metadata": {
    "hidden": true
   },
   "outputs": [
    {
     "data": {
      "text/plain": [
       "(73570,)"
      ]
     },
     "execution_count": 222,
     "metadata": {},
     "output_type": "execute_result"
    }
   ],
   "source": [
    "df.groupby(['operator_ref', 'line_ref', \n",
    "            'vehicle_ref', 'origin_aimed_departure_time']).size().shape"
   ]
  },
  {
   "cell_type": "code",
   "execution_count": 223,
   "metadata": {
    "hidden": true
   },
   "outputs": [
    {
     "data": {
      "text/plain": [
       "(2007493,)"
      ]
     },
     "execution_count": 223,
     "metadata": {},
     "output_type": "execute_result"
    }
   ],
   "source": [
    "df.groupby(['operator_ref', 'line_ref', \n",
    "            'vehicle_ref', 'origin_aimed_departure_time', \n",
    "            'recorded_at_time']).size().shape"
   ]
  },
  {
   "cell_type": "code",
   "execution_count": null,
   "metadata": {
    "hidden": true
   },
   "outputs": [],
   "source": [
    "import os\n",
    "unsigned = ['item_identifier', 'direction_ref', 'line_ref', 'item_identifier', 'monitoring_ref', \n",
    "            'dated_vehicle_journey_ref', 'operator_ref', 'destination_ref', 'bearing', 'velocity', \n",
    "            'vehicle_ref', 'stop_point_ref', 'order', 'distance_from_stop']\n",
    "downcast = ['longitude', 'latitude', 'arrival_platform_name', '_version']\n",
    "def castings(df):\n",
    "    for c in unsigned:\n",
    "        df[unsigned] = df[unsigned].apply(pd.to_numeric, downcast='unsigned')\n",
    "\n",
    "        df[downcast] = df[downcast].apply(pd.to_numeric, downcast='float')\n",
    "        \n",
    "def get_snap_df(daily_path):\n",
    "    dfs = []\n",
    "    for folder in os.scandir(daily_path):\n",
    "        if not os.path.isdir(folder):\n",
    "            continue\n",
    "        fold_dfs = []\n",
    "        for file in sorted(os.scandir(folder), key=lambda e: e.name):\n",
    "            if 'normal' in file.name and file.name.endswith('.json.gz'):\n",
    "                try:\n",
    "                    fold_dfs.append(read_siri_snap_normal(file.path))\n",
    "                except Exception as e:\n",
    "                    print(file.path, e)\n",
    "\n",
    "        if fold_dfs:\n",
    "            dfs.append(pd.concat(fold_dfs))\n",
    "        else:\n",
    "            print('No files in', folder.name)\n",
    "    \n",
    "    df = pd.concat(dfs)\n",
    "    castings(df)\n",
    "    return df"
   ]
  },
  {
   "cell_type": "code",
   "execution_count": null,
   "metadata": {
    "hidden": true
   },
   "outputs": [],
   "source": [
    "df2 = get_snap_df('siri_snapshot/2020-07-01/')\n",
    "df2.head()"
   ]
  },
  {
   "cell_type": "code",
   "execution_count": 225,
   "metadata": {
    "collapsed": true,
    "hidden": true
   },
   "outputs": [
    {
     "data": {
      "text/html": [
       "<div>\n",
       "<style scoped>\n",
       "    .dataframe tbody tr th:only-of-type {\n",
       "        vertical-align: middle;\n",
       "    }\n",
       "\n",
       "    .dataframe tbody tr th {\n",
       "        vertical-align: top;\n",
       "    }\n",
       "\n",
       "    .dataframe thead th {\n",
       "        text-align: right;\n",
       "    }\n",
       "</style>\n",
       "<table border=\"1\" class=\"dataframe\">\n",
       "  <thead>\n",
       "    <tr style=\"text-align: right;\">\n",
       "      <th></th>\n",
       "      <th>_version</th>\n",
       "      <th>aimed_arrival_time</th>\n",
       "      <th>arrival_platform_name</th>\n",
       "      <th>arrival_status</th>\n",
       "      <th>bearing</th>\n",
       "      <th>data_frame_ref</th>\n",
       "      <th>dated_vehicle_journey_ref</th>\n",
       "      <th>destination_ref</th>\n",
       "      <th>direction_ref</th>\n",
       "      <th>distance_from_stop</th>\n",
       "      <th>...</th>\n",
       "      <th>operator_ref</th>\n",
       "      <th>order</th>\n",
       "      <th>origin_aimed_departure_time</th>\n",
       "      <th>published_line_name</th>\n",
       "      <th>recorded_at_time</th>\n",
       "      <th>response_timestamp</th>\n",
       "      <th>status</th>\n",
       "      <th>stop_point_ref</th>\n",
       "      <th>vehicle_ref</th>\n",
       "      <th>velocity</th>\n",
       "    </tr>\n",
       "  </thead>\n",
       "  <tbody>\n",
       "    <tr>\n",
       "      <td>0</td>\n",
       "      <td>2.8</td>\n",
       "      <td>2020-06-30 00:15:00+03:00</td>\n",
       "      <td>-1.0</td>\n",
       "      <td>nan</td>\n",
       "      <td>0</td>\n",
       "      <td>2020-06-30</td>\n",
       "      <td>47839819</td>\n",
       "      <td>19987</td>\n",
       "      <td>2</td>\n",
       "      <td>0</td>\n",
       "      <td>...</td>\n",
       "      <td>25</td>\n",
       "      <td>7</td>\n",
       "      <td>2020-06-30 00:05:00+03:00</td>\n",
       "      <td>320</td>\n",
       "      <td>2020-06-29 19:15:25+03:00</td>\n",
       "      <td>2020-06-30 00:01:00+03:00</td>\n",
       "      <td>True</td>\n",
       "      <td>37779</td>\n",
       "      <td>7292252</td>\n",
       "      <td>0</td>\n",
       "    </tr>\n",
       "    <tr>\n",
       "      <td>1</td>\n",
       "      <td>2.8</td>\n",
       "      <td>NaT</td>\n",
       "      <td>-1.0</td>\n",
       "      <td>nan</td>\n",
       "      <td>0</td>\n",
       "      <td>2020-06-30</td>\n",
       "      <td>47440551</td>\n",
       "      <td>26475</td>\n",
       "      <td>1</td>\n",
       "      <td>0</td>\n",
       "      <td>...</td>\n",
       "      <td>15</td>\n",
       "      <td>34</td>\n",
       "      <td>2020-06-30 00:00:00+03:00</td>\n",
       "      <td>613</td>\n",
       "      <td>2020-06-29 23:55:00+03:00</td>\n",
       "      <td>2020-06-30 00:01:00+03:00</td>\n",
       "      <td>True</td>\n",
       "      <td>20058</td>\n",
       "      <td>47084701</td>\n",
       "      <td>0</td>\n",
       "    </tr>\n",
       "    <tr>\n",
       "      <td>2</td>\n",
       "      <td>2.8</td>\n",
       "      <td>NaT</td>\n",
       "      <td>-1.0</td>\n",
       "      <td>nan</td>\n",
       "      <td>0</td>\n",
       "      <td>2020-06-29</td>\n",
       "      <td>47440711</td>\n",
       "      <td>39657</td>\n",
       "      <td>2</td>\n",
       "      <td>3128</td>\n",
       "      <td>...</td>\n",
       "      <td>15</td>\n",
       "      <td>20</td>\n",
       "      <td>2020-06-29 23:45:00+03:00</td>\n",
       "      <td>613</td>\n",
       "      <td>2020-06-29 23:59:14+03:00</td>\n",
       "      <td>2020-06-30 00:01:00+03:00</td>\n",
       "      <td>True</td>\n",
       "      <td>39188</td>\n",
       "      <td>47090501</td>\n",
       "      <td>0</td>\n",
       "    </tr>\n",
       "    <tr>\n",
       "      <td>3</td>\n",
       "      <td>2.8</td>\n",
       "      <td>NaT</td>\n",
       "      <td>-1.0</td>\n",
       "      <td>nan</td>\n",
       "      <td>0</td>\n",
       "      <td>2020-06-29</td>\n",
       "      <td>47660058</td>\n",
       "      <td>55151</td>\n",
       "      <td>1</td>\n",
       "      <td>2503</td>\n",
       "      <td>...</td>\n",
       "      <td>16</td>\n",
       "      <td>47</td>\n",
       "      <td>2020-06-29 23:55:00+03:00</td>\n",
       "      <td>13</td>\n",
       "      <td>2020-06-29 23:58:21+03:00</td>\n",
       "      <td>2020-06-30 00:01:00+03:00</td>\n",
       "      <td>True</td>\n",
       "      <td>55141</td>\n",
       "      <td>65854801</td>\n",
       "      <td>0</td>\n",
       "    </tr>\n",
       "    <tr>\n",
       "      <td>4</td>\n",
       "      <td>2.8</td>\n",
       "      <td>2020-06-30 00:29:00+03:00</td>\n",
       "      <td>-1.0</td>\n",
       "      <td>nan</td>\n",
       "      <td>0</td>\n",
       "      <td>2020-06-30</td>\n",
       "      <td>47660597</td>\n",
       "      <td>59556</td>\n",
       "      <td>2</td>\n",
       "      <td>0</td>\n",
       "      <td>...</td>\n",
       "      <td>16</td>\n",
       "      <td>45</td>\n",
       "      <td>2020-06-30 00:05:00+03:00</td>\n",
       "      <td>13</td>\n",
       "      <td>2020-06-29 04:02:18+03:00</td>\n",
       "      <td>2020-06-30 00:01:00+03:00</td>\n",
       "      <td>True</td>\n",
       "      <td>55052</td>\n",
       "      <td>5101562</td>\n",
       "      <td>0</td>\n",
       "    </tr>\n",
       "  </tbody>\n",
       "</table>\n",
       "<p>5 rows × 26 columns</p>\n",
       "</div>"
      ],
      "text/plain": [
       "   _version        aimed_arrival_time  arrival_platform_name arrival_status  \\\n",
       "0       2.8 2020-06-30 00:15:00+03:00                   -1.0            nan   \n",
       "1       2.8                       NaT                   -1.0            nan   \n",
       "2       2.8                       NaT                   -1.0            nan   \n",
       "3       2.8                       NaT                   -1.0            nan   \n",
       "4       2.8 2020-06-30 00:29:00+03:00                   -1.0            nan   \n",
       "\n",
       "   bearing data_frame_ref  dated_vehicle_journey_ref  destination_ref  \\\n",
       "0        0     2020-06-30                   47839819            19987   \n",
       "1        0     2020-06-30                   47440551            26475   \n",
       "2        0     2020-06-29                   47440711            39657   \n",
       "3        0     2020-06-29                   47660058            55151   \n",
       "4        0     2020-06-30                   47660597            59556   \n",
       "\n",
       "   direction_ref  distance_from_stop  ... operator_ref  order  \\\n",
       "0              2                   0  ...           25      7   \n",
       "1              1                   0  ...           15     34   \n",
       "2              2                3128  ...           15     20   \n",
       "3              1                2503  ...           16     47   \n",
       "4              2                   0  ...           16     45   \n",
       "\n",
       "   origin_aimed_departure_time  published_line_name          recorded_at_time  \\\n",
       "0    2020-06-30 00:05:00+03:00                  320 2020-06-29 19:15:25+03:00   \n",
       "1    2020-06-30 00:00:00+03:00                  613 2020-06-29 23:55:00+03:00   \n",
       "2    2020-06-29 23:45:00+03:00                  613 2020-06-29 23:59:14+03:00   \n",
       "3    2020-06-29 23:55:00+03:00                   13 2020-06-29 23:58:21+03:00   \n",
       "4    2020-06-30 00:05:00+03:00                   13 2020-06-29 04:02:18+03:00   \n",
       "\n",
       "         response_timestamp  status  stop_point_ref vehicle_ref velocity  \n",
       "0 2020-06-30 00:01:00+03:00    True           37779     7292252        0  \n",
       "1 2020-06-30 00:01:00+03:00    True           20058    47084701        0  \n",
       "2 2020-06-30 00:01:00+03:00    True           39188    47090501        0  \n",
       "3 2020-06-30 00:01:00+03:00    True           55141    65854801        0  \n",
       "4 2020-06-30 00:01:00+03:00    True           55052     5101562        0  \n",
       "\n",
       "[5 rows x 26 columns]"
      ]
     },
     "execution_count": 225,
     "metadata": {},
     "output_type": "execute_result"
    }
   ],
   "source": [
    "df = pd.concat([df, df2])\n",
    "df.head()"
   ]
  },
  {
   "cell_type": "code",
   "execution_count": 226,
   "metadata": {
    "hidden": true
   },
   "outputs": [
    {
     "data": {
      "text/plain": [
       "(6565982, 26)"
      ]
     },
     "execution_count": 226,
     "metadata": {},
     "output_type": "execute_result"
    }
   ],
   "source": [
    "df.shape"
   ]
  },
  {
   "cell_type": "code",
   "execution_count": 227,
   "metadata": {
    "hidden": true
   },
   "outputs": [
    {
     "data": {
      "text/plain": [
       "(6499496, 26)"
      ]
     },
     "execution_count": 227,
     "metadata": {},
     "output_type": "execute_result"
    }
   ],
   "source": [
    "df[(df.recorded_at_time<'2020-07-01 04:00') & (df.recorded_at_time>='2020-06-30 04:00')].shape"
   ]
  },
  {
   "cell_type": "code",
   "execution_count": 228,
   "metadata": {
    "hidden": true
   },
   "outputs": [
    {
     "data": {
      "text/plain": [
       "(73115,)"
      ]
     },
     "execution_count": 228,
     "metadata": {},
     "output_type": "execute_result"
    }
   ],
   "source": [
    "(df[(df.recorded_at_time<'2020-07-01 04:00') & (df.recorded_at_time>='2020-06-30 04:00')]\n",
    " .groupby(['dated_vehicle_journey_ref', 'data_frame_ref', 'line_ref', 'vehicle_ref', 'origin_aimed_departure_time'])\n",
    " .size().shape)"
   ]
  },
  {
   "cell_type": "code",
   "execution_count": null,
   "metadata": {
    "hidden": true
   },
   "outputs": [],
   "source": []
  }
 ],
 "metadata": {
  "kernelspec": {
   "display_name": "Python (OpenBus20190909)",
   "language": "python",
   "name": "openbus20190909"
  },
  "language_info": {
   "codemirror_mode": {
    "name": "ipython",
    "version": 3
   },
   "file_extension": ".py",
   "mimetype": "text/x-python",
   "name": "python",
   "nbconvert_exporter": "python",
   "pygments_lexer": "ipython3",
   "version": "3.7.4"
  },
  "toc": {
   "base_numbering": 1,
   "nav_menu": {},
   "number_sections": true,
   "sideBar": true,
   "skip_h1_title": false,
   "title_cell": "Table of Contents",
   "title_sidebar": "Contents",
   "toc_cell": false,
   "toc_position": {},
   "toc_section_display": true,
   "toc_window_display": false
  }
 },
 "nbformat": 4,
 "nbformat_minor": 4
}
